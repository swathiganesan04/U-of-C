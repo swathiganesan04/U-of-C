{
 "cells": [
  {
   "cell_type": "code",
   "execution_count": 1,
   "id": "8b30de31",
   "metadata": {},
   "outputs": [],
   "source": [
    "import pandas as pd\n",
    "import numpy as np\n",
    "import matplotlib.pyplot as plt\n",
    "import os\n",
    "\n",
    "import seaborn as sns\n",
    "from scipy import stats\n",
    "\n",
    "from sklearn.model_selection import train_test_split, GridSearchCV, RandomizedSearchCV\n",
    "\n",
    "from sklearn.metrics import confusion_matrix, classification_report, roc_auc_score\n",
    "from sklearn.metrics import mean_squared_error,r2_score,explained_variance_score\n",
    "\n",
    "import warnings\n",
    "warnings.simplefilter(action='ignore', category=FutureWarning)\n"
   ]
  },
  {
   "cell_type": "markdown",
   "id": "4ace9772",
   "metadata": {},
   "source": [
    "## 1 Collaborative Filtering"
   ]
  },
  {
   "cell_type": "markdown",
   "id": "2b4316bc",
   "metadata": {},
   "source": [
    "##### Use this user-item matrix to:\n",
    "\n",
    "##### A. Recommend 10 songs to users who have listened to 'u2' and 'pink floyd'. Use item-item collaborative filtering to find songs that are similar using spatial distance with cosine."
   ]
  },
  {
   "cell_type": "code",
   "execution_count": 2,
   "id": "40ba23c8",
   "metadata": {},
   "outputs": [
    {
     "data": {
      "text/plain": [
       "(100, 284)"
      ]
     },
     "execution_count": 2,
     "metadata": {},
     "output_type": "execute_result"
    }
   ],
   "source": [
    "radio_songs = pd.read_csv ('radio_songs.csv', index_col='user')\n",
    "radio_songs.shape"
   ]
  },
  {
   "cell_type": "code",
   "execution_count": 3,
   "id": "5afa7cf5",
   "metadata": {},
   "outputs": [
    {
     "data": {
      "text/html": [
       "<div>\n",
       "<style scoped>\n",
       "    .dataframe tbody tr th:only-of-type {\n",
       "        vertical-align: middle;\n",
       "    }\n",
       "\n",
       "    .dataframe tbody tr th {\n",
       "        vertical-align: top;\n",
       "    }\n",
       "\n",
       "    .dataframe thead th {\n",
       "        text-align: right;\n",
       "    }\n",
       "</style>\n",
       "<table border=\"1\" class=\"dataframe\">\n",
       "  <thead>\n",
       "    <tr style=\"text-align: right;\">\n",
       "      <th></th>\n",
       "      <th>abba</th>\n",
       "      <th>ac/dc</th>\n",
       "      <th>adam green</th>\n",
       "      <th>aerosmith</th>\n",
       "      <th>afi</th>\n",
       "      <th>air</th>\n",
       "      <th>alanis morissette</th>\n",
       "      <th>alexisonfire</th>\n",
       "      <th>alicia keys</th>\n",
       "      <th>all that remains</th>\n",
       "      <th>...</th>\n",
       "      <th>timbaland</th>\n",
       "      <th>tom waits</th>\n",
       "      <th>tool</th>\n",
       "      <th>tori amos</th>\n",
       "      <th>travis</th>\n",
       "      <th>trivium</th>\n",
       "      <th>u2</th>\n",
       "      <th>underoath</th>\n",
       "      <th>volbeat</th>\n",
       "      <th>yann tiersen</th>\n",
       "    </tr>\n",
       "    <tr>\n",
       "      <th>user</th>\n",
       "      <th></th>\n",
       "      <th></th>\n",
       "      <th></th>\n",
       "      <th></th>\n",
       "      <th></th>\n",
       "      <th></th>\n",
       "      <th></th>\n",
       "      <th></th>\n",
       "      <th></th>\n",
       "      <th></th>\n",
       "      <th></th>\n",
       "      <th></th>\n",
       "      <th></th>\n",
       "      <th></th>\n",
       "      <th></th>\n",
       "      <th></th>\n",
       "      <th></th>\n",
       "      <th></th>\n",
       "      <th></th>\n",
       "      <th></th>\n",
       "      <th></th>\n",
       "    </tr>\n",
       "  </thead>\n",
       "  <tbody>\n",
       "    <tr>\n",
       "      <th>852</th>\n",
       "      <td>0</td>\n",
       "      <td>0</td>\n",
       "      <td>0</td>\n",
       "      <td>0</td>\n",
       "      <td>0</td>\n",
       "      <td>1</td>\n",
       "      <td>0</td>\n",
       "      <td>0</td>\n",
       "      <td>0</td>\n",
       "      <td>0</td>\n",
       "      <td>...</td>\n",
       "      <td>0</td>\n",
       "      <td>0</td>\n",
       "      <td>0</td>\n",
       "      <td>0</td>\n",
       "      <td>0</td>\n",
       "      <td>0</td>\n",
       "      <td>0</td>\n",
       "      <td>0</td>\n",
       "      <td>0</td>\n",
       "      <td>0</td>\n",
       "    </tr>\n",
       "    <tr>\n",
       "      <th>914</th>\n",
       "      <td>0</td>\n",
       "      <td>0</td>\n",
       "      <td>0</td>\n",
       "      <td>0</td>\n",
       "      <td>0</td>\n",
       "      <td>0</td>\n",
       "      <td>0</td>\n",
       "      <td>0</td>\n",
       "      <td>0</td>\n",
       "      <td>0</td>\n",
       "      <td>...</td>\n",
       "      <td>0</td>\n",
       "      <td>0</td>\n",
       "      <td>0</td>\n",
       "      <td>0</td>\n",
       "      <td>0</td>\n",
       "      <td>0</td>\n",
       "      <td>0</td>\n",
       "      <td>0</td>\n",
       "      <td>0</td>\n",
       "      <td>0</td>\n",
       "    </tr>\n",
       "    <tr>\n",
       "      <th>42</th>\n",
       "      <td>0</td>\n",
       "      <td>0</td>\n",
       "      <td>0</td>\n",
       "      <td>0</td>\n",
       "      <td>0</td>\n",
       "      <td>0</td>\n",
       "      <td>0</td>\n",
       "      <td>0</td>\n",
       "      <td>0</td>\n",
       "      <td>0</td>\n",
       "      <td>...</td>\n",
       "      <td>0</td>\n",
       "      <td>0</td>\n",
       "      <td>0</td>\n",
       "      <td>0</td>\n",
       "      <td>0</td>\n",
       "      <td>0</td>\n",
       "      <td>0</td>\n",
       "      <td>0</td>\n",
       "      <td>0</td>\n",
       "      <td>0</td>\n",
       "    </tr>\n",
       "  </tbody>\n",
       "</table>\n",
       "<p>3 rows × 284 columns</p>\n",
       "</div>"
      ],
      "text/plain": [
       "      abba  ac/dc  adam green  aerosmith  afi  air  alanis morissette  \\\n",
       "user                                                                    \n",
       "852      0      0           0          0    0    1                  0   \n",
       "914      0      0           0          0    0    0                  0   \n",
       "42       0      0           0          0    0    0                  0   \n",
       "\n",
       "      alexisonfire  alicia keys  all that remains  ...  timbaland  tom waits  \\\n",
       "user                                               ...                         \n",
       "852              0            0                 0  ...          0          0   \n",
       "914              0            0                 0  ...          0          0   \n",
       "42               0            0                 0  ...          0          0   \n",
       "\n",
       "      tool  tori amos  travis  trivium  u2  underoath  volbeat  yann tiersen  \n",
       "user                                                                          \n",
       "852      0          0       0        0   0          0        0             0  \n",
       "914      0          0       0        0   0          0        0             0  \n",
       "42       0          0       0        0   0          0        0             0  \n",
       "\n",
       "[3 rows x 284 columns]"
      ]
     },
     "execution_count": 3,
     "metadata": {},
     "output_type": "execute_result"
    }
   ],
   "source": [
    "radio_songs.sample(3)"
   ]
  },
  {
   "cell_type": "markdown",
   "id": "ba7580df",
   "metadata": {},
   "source": [
    "We can use the <b>pdist and squareform functions</b> to compute the similarity between all pairs of items in a user-item matrix to obtain a similarity matrix in one go"
   ]
  },
  {
   "cell_type": "code",
   "execution_count": 4,
   "id": "7f3dd674",
   "metadata": {},
   "outputs": [
    {
     "name": "stdout",
     "output_type": "stream",
     "text": [
      "The recommended top 10 songs for users who have listened to 'u2' AND 'pink floyd' :\n",
      "\n",
      "['robbie williams', 'johnny cash', 'audioslave', 'foo fighters', 'pearl jam', 'incubus', 'genesis', 'misfits', 'green day', 'depeche mode']\n"
     ]
    }
   ],
   "source": [
    "from scipy.spatial.distance import pdist, squareform\n",
    "\n",
    "# Get the transpose of the user-item matrix\n",
    "item_user_matrix = radio_songs.T\n",
    "\n",
    "# Compute the pairwise cosine similarity between items\n",
    "item_similarity_matrix = 1 - squareform(pdist(item_user_matrix, metric='cosine'))\n",
    "\n",
    "# Convert the similarity matrix to a DataFrame\n",
    "item_similarity_df = pd.DataFrame(item_similarity_matrix, columns=radio_songs.columns, index=radio_songs.columns)\n",
    "\n",
    "u2_pinkfloyd = item_similarity_df[['u2','pink floyd']]\n",
    "\n",
    "# Filter the DataFrame to include only rows with non-zero values for 'u2' and 'pink floyd'\n",
    "filtered_df = u2_pinkfloyd.loc[(u2_pinkfloyd['u2'] > 0) | (u2_pinkfloyd['pink floyd'] > 0)].copy()\n",
    "\n",
    "# Create a new column that sums the values of 'u2' and 'pink floyd' using .loc to avoid warning message\n",
    "filtered_df.loc[:, 'combined_score'] = filtered_df['u2'] + filtered_df['pink floyd']\n",
    "\n",
    "# Sort the DataFrame by the 'combined_score' column in descending order, excluding 'u2' and 'pink floyd'\n",
    "sorted_df = filtered_df.drop(['u2', 'pink floyd']).sort_values(by='combined_score', ascending=False)\n",
    "\n",
    "# Create a boolean mask for entries where both the 'u2' and 'pink floyd' are not zero\n",
    "both_non_zero_mask = (sorted_df['u2'] != 0) & (sorted_df['pink floyd'] != 0)\n",
    "\n",
    "# Create a boolean mask for entries where at least one of the 'u2' or 'pink floyd' is zero\n",
    "at_least_one_zero_mask = ~both_non_zero_mask\n",
    "\n",
    "# Sort the DataFrame by the 'combined_score' column in descending order, excluding 'u2' and 'pink floyd'\n",
    "sorted_df = sorted_df.loc[both_non_zero_mask].sort_values(by='combined_score', ascending=False).append(\n",
    "            sorted_df.loc[at_least_one_zero_mask].sort_values(by='combined_score', ascending=False))\n",
    "\n",
    "\n",
    "# Get the top 10 artists based on the combined score, excluding 'u2' and 'pink floyd'\n",
    "top_artists = sorted_df.index[:10].tolist()\n",
    "\n",
    "# Print the top 10 artists\n",
    "print(f\"The recommended top 10 songs for users who have listened to 'u2' AND 'pink floyd' :\\n\")\n",
    "print(top_artists)\n"
   ]
  },
  {
   "cell_type": "code",
   "execution_count": 5,
   "id": "fd7a751b",
   "metadata": {},
   "outputs": [
    {
     "data": {
      "text/html": [
       "<div>\n",
       "<style scoped>\n",
       "    .dataframe tbody tr th:only-of-type {\n",
       "        vertical-align: middle;\n",
       "    }\n",
       "\n",
       "    .dataframe tbody tr th {\n",
       "        vertical-align: top;\n",
       "    }\n",
       "\n",
       "    .dataframe thead th {\n",
       "        text-align: right;\n",
       "    }\n",
       "</style>\n",
       "<table border=\"1\" class=\"dataframe\">\n",
       "  <thead>\n",
       "    <tr style=\"text-align: right;\">\n",
       "      <th></th>\n",
       "      <th>u2</th>\n",
       "      <th>pink floyd</th>\n",
       "      <th>combined_score</th>\n",
       "    </tr>\n",
       "  </thead>\n",
       "  <tbody>\n",
       "    <tr>\n",
       "      <th>robbie williams</th>\n",
       "      <td>0.500000</td>\n",
       "      <td>0.288675</td>\n",
       "      <td>0.788675</td>\n",
       "    </tr>\n",
       "    <tr>\n",
       "      <th>johnny cash</th>\n",
       "      <td>0.353553</td>\n",
       "      <td>0.204124</td>\n",
       "      <td>0.557678</td>\n",
       "    </tr>\n",
       "    <tr>\n",
       "      <th>audioslave</th>\n",
       "      <td>0.223607</td>\n",
       "      <td>0.258199</td>\n",
       "      <td>0.481806</td>\n",
       "    </tr>\n",
       "    <tr>\n",
       "      <th>foo fighters</th>\n",
       "      <td>0.301511</td>\n",
       "      <td>0.174078</td>\n",
       "      <td>0.475589</td>\n",
       "    </tr>\n",
       "    <tr>\n",
       "      <th>pearl jam</th>\n",
       "      <td>0.204124</td>\n",
       "      <td>0.235702</td>\n",
       "      <td>0.439826</td>\n",
       "    </tr>\n",
       "    <tr>\n",
       "      <th>incubus</th>\n",
       "      <td>0.144338</td>\n",
       "      <td>0.166667</td>\n",
       "      <td>0.311004</td>\n",
       "    </tr>\n",
       "    <tr>\n",
       "      <th>genesis</th>\n",
       "      <td>0.000000</td>\n",
       "      <td>0.577350</td>\n",
       "      <td>0.577350</td>\n",
       "    </tr>\n",
       "    <tr>\n",
       "      <th>misfits</th>\n",
       "      <td>0.500000</td>\n",
       "      <td>0.000000</td>\n",
       "      <td>0.500000</td>\n",
       "    </tr>\n",
       "    <tr>\n",
       "      <th>green day</th>\n",
       "      <td>0.433013</td>\n",
       "      <td>0.000000</td>\n",
       "      <td>0.433013</td>\n",
       "    </tr>\n",
       "    <tr>\n",
       "      <th>depeche mode</th>\n",
       "      <td>0.408248</td>\n",
       "      <td>0.000000</td>\n",
       "      <td>0.408248</td>\n",
       "    </tr>\n",
       "  </tbody>\n",
       "</table>\n",
       "</div>"
      ],
      "text/plain": [
       "                       u2  pink floyd  combined_score\n",
       "robbie williams  0.500000    0.288675        0.788675\n",
       "johnny cash      0.353553    0.204124        0.557678\n",
       "audioslave       0.223607    0.258199        0.481806\n",
       "foo fighters     0.301511    0.174078        0.475589\n",
       "pearl jam        0.204124    0.235702        0.439826\n",
       "incubus          0.144338    0.166667        0.311004\n",
       "genesis          0.000000    0.577350        0.577350\n",
       "misfits          0.500000    0.000000        0.500000\n",
       "green day        0.433013    0.000000        0.433013\n",
       "depeche mode     0.408248    0.000000        0.408248"
      ]
     },
     "execution_count": 5,
     "metadata": {},
     "output_type": "execute_result"
    }
   ],
   "source": [
    "sorted_df.head(10)"
   ]
  },
  {
   "cell_type": "markdown",
   "id": "c1e51114",
   "metadata": {},
   "source": [
    "##### Based on combined scores (calculated for users who have listened to u2 OR pink floyd)\n",
    "\n",
    "['robbie williams', 'genesis', 'johnny cash', 'misfits', 'audioslave', 'foo fighters', 'pearl jam', 'green day', 'depeche mode', 'hans zimmer']\n",
    "\n",
    "\n",
    "                           u2\t        pink floyd\t combined_score\n",
    "    robbie williams\t    0.500000\t  0.288675\t   0.788675\n",
    "    genesis\t            0.000000\t  0.577350\t   0.577350\n",
    "    johnny cash\t        0.353553\t  0.204124\t   0.557678\n",
    "    misfits\t            0.500000\t  0.000000\t   0.500000\n",
    "    audioslave\t         0.223607\t  0.258199\t   0.481806\n",
    "    foo fighters\t       0.301511\t  0.174078\t   0.475589\n",
    "    pearl jam\t          0.204124\t  0.235702\t   0.439826\n",
    "    green day\t          0.433013\t  0.000000\t   0.433013\n",
    "    depeche mode\t       0.408248\t  0.000000\t   0.408248\n",
    "    hans zimmer\t        0.000000\t  0.408248\t   0.408248"
   ]
  },
  {
   "cell_type": "markdown",
   "id": "518833ac",
   "metadata": {},
   "source": [
    "##### B. Find user most similar to user 1606. Use user-user collaborative filtering with cosine similarity. List the recommended songs for user 1606 (Hint: find the songs listened to by the most similar user).\n",
    "\n"
   ]
  },
  {
   "cell_type": "code",
   "execution_count": 6,
   "id": "69b38da6",
   "metadata": {},
   "outputs": [
    {
     "name": "stdout",
     "output_type": "stream",
     "text": [
      "The user most similar to user 1606 is user 1144.\n"
     ]
    }
   ],
   "source": [
    "# Compute the pairwise cosine similarity between users\n",
    "user_similarity_matrix = 1 - squareform(pdist(radio_songs, metric='cosine'))\n",
    "\n",
    "# Convert the similarity matrix to a DataFrame\n",
    "user_similarity_df = pd.DataFrame(user_similarity_matrix, columns=radio_songs.index, index=radio_songs.index)\n",
    "\n",
    "# Find the user most similar to user 1606\n",
    "most_similar_user = user_similarity_df[1606].drop(1606).idxmax()\n",
    "\n",
    "print(f\"The user most similar to user 1606 is user {most_similar_user}.\")\n"
   ]
  },
  {
   "cell_type": "markdown",
   "id": "3c820538",
   "metadata": {},
   "source": [
    "Going with the assumption that we would not want to recommend songs that 1606 has already listened to"
   ]
  },
  {
   "cell_type": "code",
   "execution_count": 7,
   "id": "fac359c3",
   "metadata": {},
   "outputs": [
    {
     "name": "stdout",
     "output_type": "stream",
     "text": [
      "The recommended songs for user 1606 based on most similar user 1144 are :\n",
      "\n",
      "['beastie boys', 'bob dylan', 'bob marley & the wailers', 'david bowie', 'eric clapton', 'johnny cash', 'pearl jam', 'pink floyd', 'the doors', 'the rolling stones', 'tom waits']\n"
     ]
    }
   ],
   "source": [
    "# Find the songs listened to by the most similar user\n",
    "most_similar_user_songs = radio_songs.loc[most_similar_user, radio_songs.loc[most_similar_user] == 1].index\n",
    "\n",
    "# Find the songs that the target user (1606) has not listened to\n",
    "target_user_unheard_songs = radio_songs.loc[1606, radio_songs.loc[1606] == 0].index\n",
    "\n",
    "# Find the intersection of the two sets of songs\n",
    "recommended_songs = most_similar_user_songs.intersection(target_user_unheard_songs).tolist()\n",
    "\n",
    "print(f\"The recommended songs for user 1606 based on most similar user {most_similar_user} are :\\n\")\n",
    "print(recommended_songs)\n"
   ]
  },
  {
   "cell_type": "markdown",
   "id": "5b2e7111",
   "metadata": {},
   "source": [
    "##### C. How many of the recommended songs has already been listened to by user 1606?"
   ]
  },
  {
   "cell_type": "code",
   "execution_count": 8,
   "id": "d04a7f67",
   "metadata": {},
   "outputs": [
    {
     "name": "stdout",
     "output_type": "stream",
     "text": [
      "The number of recommended songs already listened to by user 1606 is : 2 \n",
      "\n",
      "They are :\n",
      "{'elvis presley', 'the beatles'}\n"
     ]
    }
   ],
   "source": [
    "print(f\"The number of recommended songs already listened to by user 1606 is : \\\n",
    "{len(most_similar_user_songs) - len(recommended_songs)} \\n\\nThey are :\")\n",
    "\n",
    "print(set(most_similar_user_songs) ^ set(recommended_songs))"
   ]
  },
  {
   "cell_type": "markdown",
   "id": "8e0e351a",
   "metadata": {},
   "source": [
    "##### D. Use a combination of user-item approach to build a recommendation score for each song for each user using the following steps for each user"
   ]
  },
  {
   "cell_type": "markdown",
   "id": "4eeccfde",
   "metadata": {},
   "source": [
    "This code iterates over each user and each song for the user, and for each song, it gets the top 10 similar songs and their similarity scores. It then gets a list of purchases for each of the top 10 similar songs, and calculates a recommendation score for the song based on the purchase history and similarity scores. Finally, it updates the recommendation scores DataFrame with the calculated recommendation score for each song for each user.\n",
    "\n",
    "To get the top 5 song recommendations for user 1606, we simply filter the recommendation scores DataFrame for user 1606 and get the top 5 songs with the highest recommendation scores. These are the songs that are most likely to be of interest to user 1606 based on their purchase history and the purchase history of users who have similar preferences."
   ]
  },
  {
   "cell_type": "code",
   "execution_count": 9,
   "id": "b5d7568f",
   "metadata": {},
   "outputs": [
    {
     "name": "stdout",
     "output_type": "stream",
     "text": [
      "The top 5 song recommendations for user 1606 are:\n",
      "elvis presley (score: 0.2893278354309895)\n",
      "abba (score: 0.23902308185961815)\n",
      "eric clapton (score: 0.20274011674755033)\n",
      "frank sinatra (score: 0.2011393381145825)\n",
      "howard shore (score: 0.17174865637166106)\n"
     ]
    }
   ],
   "source": [
    "# Compute the pairwise cosine similarity between items\n",
    "item_similarity_matrix = 1 - squareform(pdist(radio_songs.T, metric='cosine'))\n",
    "\n",
    "# Convert the similarity matrix to a DataFrame\n",
    "item_similarity_df = pd.DataFrame(item_similarity_matrix, columns=radio_songs.columns, index=radio_songs.columns)\n",
    "\n",
    "# Initialize an empty DataFrame to store the recommendation scores\n",
    "recommendation_scores_df = pd.DataFrame(columns=radio_songs.columns, index=radio_songs.index)\n",
    "\n",
    "# Iterate over each user\n",
    "for user in radio_songs.index:\n",
    "    # Iterate over each song for the user\n",
    "    for song in radio_songs.columns:\n",
    "        # Get the top 10 similar songs and their similarity score\n",
    "        top_10_similar_songs = item_similarity_df[song].drop(song).nlargest(10)\n",
    "        \n",
    "        # Get a list of purchases for each of the top 10 similar songs\n",
    "        purchase_history = []\n",
    "        for similar_song, similarity_score in top_10_similar_songs.iteritems():\n",
    "            if radio_songs.loc[user, similar_song] == 1:\n",
    "                purchase_history.append(similarity_score)\n",
    "        \n",
    "        # Calculate the recommendation score for the song\n",
    "        if len(purchase_history) > 0:\n",
    "            recommendation_score = sum(purchase_history) / sum(top_10_similar_songs)\n",
    "        else:\n",
    "            recommendation_score = 0\n",
    "        \n",
    "        # Update the recommendation scores DataFrame\n",
    "        recommendation_scores_df.loc[user, song] = recommendation_score\n",
    "\n",
    "    \n",
    "# Convert the recommendation scores DataFrame to a numeric data type\n",
    "recommendation_scores_df = recommendation_scores_df.apply(pd.to_numeric)\n",
    "\n",
    "# Print the top 5 song recommendations for user 1606\n",
    "top_recommendations = recommendation_scores_df.loc[1606].nlargest(5)\n",
    "print(f\"The top 5 song recommendations for user 1606 are:\")\n",
    "for song, score in top_recommendations.iteritems():\n",
    "    print(f\"{song} (score: {score})\")"
   ]
  },
  {
   "cell_type": "markdown",
   "id": "d563926d",
   "metadata": {},
   "source": [
    "## 2 Conceptual questions\n",
    "\n",
    "<i>1. Name 2 other similarity measures that you can use instead of cosine similarity above.</i>\n",
    "\n",
    "Two commonly used similarity measures that can be used instead of cosine similarity are \n",
    "* a. Euclidean distance\n",
    "* b. Pearson correlation coefficient\n",
    "\n",
    "<br>\n",
    "\n",
    "<i>2. What is needed to build a Content-Based Recommender system?</i>\n",
    "\n",
    "Content-based filtering uses similarities in products, services, or content features, as well as information accumulated about the user to make recommendations. A content based recommender works with data that the user provides, either explicitly (rating) or implicitly (clicking on a link). Based on that data, a user profile is generated, which is then used to make suggestions to the user. As the user provides more inputs or takes actions on the recommendations, the engine becomes more and more accurate.\n",
    "\n",
    "Building a Content-Based Recommender System involves the following steps :\n",
    "* <b>Defining user profile based on their past interactions or preferences with the items.</b> This can include the items they have previously rated or interacted with.\n",
    "* <b>Computing the similarity between the user profile and the available items.</b> This can be done using a similarity measure such as cosine similarity.\n",
    "* <b>Ranking the recommendations based on their similarity score, and recommend the top items to the user.</b>\n",
    "\n",
    "<br>\n",
    "\n",
    "<i>3. Name 2 methods to evaluate your recommender system.</i>\n",
    "\n",
    "<b>Train/Test Split :</b> The recommender system is trained on the training set, and then tested on the testing set to evaluate its performance. The performance of the recommender system is measured using metrics such as <b>precision, recall, and F1-score.</b>\n",
    "\n",
    "<b>A/B testing:</b> In this method, two or more versions of the recommender system are deployed to different groups of users, and the performance of each version is compared using metrics such as <b>click-through rate, conversion rate, and revenue.</b>"
   ]
  },
  {
   "cell_type": "markdown",
   "id": "6157c865",
   "metadata": {},
   "source": [
    "## 3 Neural Network using numpy:"
   ]
  },
  {
   "cell_type": "markdown",
   "id": "a5494809",
   "metadata": {},
   "source": [
    "##### 1 Redo the example code in the NN using numpy notebook above (part until \"optional extra programming\") and recalculate the delta change in weight b2 for\n",
    "    * different learning rates of 0.0001, 0.01 and 1 \n",
    "    * and for 10 iterations"
   ]
  },
  {
   "cell_type": "code",
   "execution_count": 10,
   "id": "25d3be65",
   "metadata": {},
   "outputs": [
    {
     "data": {
      "text/plain": [
       "array([[-0.40862974, -0.16699276],\n",
       "       [ 0.00635797, -1.04470612]])"
      ]
     },
     "execution_count": 10,
     "metadata": {},
     "output_type": "execute_result"
    }
   ],
   "source": [
    "from sklearn.datasets import make_gaussian_quantiles #Generate isotropic Gaussian and label samples by quantile\n",
    "import matplotlib.pyplot as plt\n",
    "\n",
    "samples = 2\n",
    "def load_extra_datasets(N):  \n",
    "    gaussian_quantiles = make_gaussian_quantiles(mean=None, \n",
    "                                                 cov=0.7, \n",
    "                                                 n_samples=N, \n",
    "                                                 n_features=2, \n",
    "                                                 n_classes=2,  \n",
    "                                                 shuffle=True, \n",
    "                                                 random_state=None)\n",
    "    return  gaussian_quantiles\n",
    "\n",
    "gaussian_quantiles= load_extra_datasets(samples)\n",
    "\n",
    "X, Y = gaussian_quantiles\n",
    "\n",
    "X, Y = X.T, Y.reshape(1, Y.shape[0])\n",
    "\n",
    "X"
   ]
  },
  {
   "cell_type": "code",
   "execution_count": 11,
   "id": "e197ab53",
   "metadata": {},
   "outputs": [
    {
     "data": {
      "image/png": "[encoded data removed]",
      "text/plain": [
       "<Figure size 640x480 with 1 Axes>"
      ]
     },
     "metadata": {},
     "output_type": "display_data"
    }
   ],
   "source": [
    "plt.scatter(X[0, :], X[1, :], c=Y, s=40, cmap=plt.cm.Spectral)\n",
    "plt.show()"
   ]
  },
  {
   "cell_type": "markdown",
   "id": "225bf2e8",
   "metadata": {},
   "source": [
    "#### Logistic Regression"
   ]
  },
  {
   "cell_type": "code",
   "execution_count": 12,
   "id": "f1001cec",
   "metadata": {},
   "outputs": [
    {
     "data": {
      "image/png": "[encoded data removed]",
      "text/plain": [
       "<Figure size 640x480 with 2 Axes>"
      ]
     },
     "metadata": {},
     "output_type": "display_data"
    },
    {
     "name": "stdout",
     "output_type": "stream",
     "text": [
      "Accuracy of logistic regression: 100 % (percentage of correctly labelled datapoints)\n"
     ]
    }
   ],
   "source": [
    "import sklearn\n",
    "from sklearn.linear_model import LogisticRegression\n",
    "\n",
    "xx, yy = np.mgrid[-4:4:.01, -4:4:.01]\n",
    "grid = np.c_[xx.ravel(), yy.ravel()]\n",
    "clf=LogisticRegression()\n",
    "\n",
    "clf.fit(X.T, Y.ravel())\n",
    "\n",
    "probs = clf.predict_proba(grid)[:, 1]\n",
    "probs = probs.reshape(xx.shape)\n",
    "\n",
    "plt.contourf(xx, yy, probs, 25, cmap=\"RdBu\", vmin=0, vmax=1)\n",
    "plt.colorbar()\n",
    "plt.scatter(X[0, :], X[1, :], c=Y, s=20, cmap=plt.cm.Spectral)\n",
    "plt.title(\"Logistic Regression Decision Boundary\")\n",
    "plt.xlabel(\"Feature 1\")\n",
    "plt.ylabel(\"Feature 2\")\n",
    "plt.show()\n",
    "\n",
    "# Print accuracy\n",
    "LR_predictions = clf.predict(X.T)\n",
    "print ('Accuracy of logistic regression: %d ' % float((np.dot(Y,LR_predictions) + np.dot(1-Y,1-LR_predictions))/float(Y.size)*100) +\n",
    "       '% ' + \"(percentage of correctly labelled datapoints)\")\n"
   ]
  },
  {
   "cell_type": "code",
   "execution_count": 13,
   "id": "7fe1a35d",
   "metadata": {},
   "outputs": [
    {
     "name": "stdout",
     "output_type": "stream",
     "text": [
      "2 1\n"
     ]
    }
   ],
   "source": [
    "n_x = X.shape[0] # size of input layer`\n",
    "n_h = 4\n",
    "n_y = Y.shape[0] # size of output layer\n",
    "\n",
    "print(n_x, n_y)"
   ]
  },
  {
   "cell_type": "code",
   "execution_count": 14,
   "id": "c7f51837",
   "metadata": {},
   "outputs": [
    {
     "name": "stdout",
     "output_type": "stream",
     "text": [
      "W1\n",
      " [[-0.0014547  -0.00125074]\n",
      " [ 0.00684161  0.00356426]\n",
      " [ 0.00406047 -0.00042689]\n",
      " [ 0.00070529  0.01353253]]\n",
      "b1\n",
      " [[0.]\n",
      " [0.]\n",
      " [0.]\n",
      " [0.]]\n",
      "W2\n",
      " [[ 0.01648919 -0.01214502 -0.00423423  0.0163539 ]]\n",
      "b2\n",
      " [[0.]]\n"
     ]
    }
   ],
   "source": [
    "import numpy as np\n",
    "\n",
    "W1 = np.random.randn(n_h,n_x) * 0.01 #4x2\n",
    "b1 = np.zeros(shape=(n_h, 1)) #4x1\n",
    "W2 = np.random.randn(n_y,n_h) * 0.01 #1x4\n",
    "b2 = np.zeros(shape=(n_y, 1))#1x1\n",
    "\n",
    "print(\"W1\\n\", W1)\n",
    "print(\"b1\\n\", b1)\n",
    "print(\"W2\\n\", W2)\n",
    "print(\"b2\\n\", b2)"
   ]
  },
  {
   "cell_type": "code",
   "execution_count": 15,
   "id": "e18383ef",
   "metadata": {},
   "outputs": [],
   "source": [
    "def sigmoid(x):\n",
    "    return 1 / (1 + np.e ** -x)\n",
    "\n"
   ]
  },
  {
   "cell_type": "code",
   "execution_count": 16,
   "id": "4928d3d2",
   "metadata": {
    "scrolled": false
   },
   "outputs": [
    {
     "name": "stdout",
     "output_type": "stream",
     "text": [
      "Learning rate: 0.0001\n",
      "\n",
      "Iteration 0: \n",
      "cost= 0.6931958223612041\n",
      "cost delta= 9999.693195822361\n",
      "b2 before= 0.0\n",
      "b2 after= 1.2550198534910796e-09\n",
      "delta change= 1.2550198534910796e-09\n",
      "\n",
      "Iteration 1: \n",
      "cost= 0.6931958159576267\n",
      "cost delta= -6.403577446079112e-09\n",
      "b2 before= 1.2550198534910796e-09\n",
      "b2 after= 2.509730356448081e-09\n",
      "delta change= 1.2547105029570016e-09\n",
      "\n",
      "Iteration 2: \n",
      "cost= 0.6931958095541908\n",
      "cost delta= -6.403435892643472e-09\n",
      "b2 before= 2.509730356448081e-09\n",
      "b2 after= 3.7641315218550634e-09\n",
      "delta change= 1.2544011654069822e-09\n",
      "\n",
      "Iteration 3: \n",
      "cost= 0.6931958031508964\n",
      "cost delta= -6.403294450230135e-09\n",
      "b2 before= 3.7641315218550634e-09\n",
      "b2 after= 5.018223362701635e-09\n",
      "delta change= 1.2540918408465719e-09\n",
      "\n",
      "Iteration 4: \n",
      "cost= 0.6931957967477435\n",
      "cost delta= -6.403152896794495e-09\n",
      "b2 before= 5.018223362701635e-09\n",
      "b2 after= 6.272005891971855e-09\n",
      "delta change= 1.2537825292702196e-09\n",
      "\n",
      "Iteration 5: \n",
      "cost= 0.6931957903447319\n",
      "cost delta= -6.40301156540346e-09\n",
      "b2 before= 6.272005891971855e-09\n",
      "b2 after= 7.525479122649782e-09\n",
      "delta change= 1.253473230677927e-09\n",
      "\n",
      "Iteration 6: \n",
      "cost= 0.6931957839418618\n",
      "cost delta= -6.402870122990123e-09\n",
      "b2 before= 7.525479122649782e-09\n",
      "b2 after= 8.778643067736125e-09\n",
      "delta change= 1.2531639450863435e-09\n",
      "\n",
      "Iteration 7: \n",
      "cost= 0.6931957775391331\n",
      "cost delta= -6.402728680576786e-09\n",
      "b2 before= 8.778643067736125e-09\n",
      "b2 after= 1.0031497740203844e-08\n",
      "delta change= 1.2528546724677182e-09\n",
      "\n",
      "Iteration 8: \n",
      "cost= 0.693195771136546\n",
      "cost delta= -6.402587127141146e-09\n",
      "b2 before= 1.0031497740203844e-08\n",
      "b2 after= 1.1284043153042546e-08\n",
      "delta change= 1.252545412838702e-09\n",
      "\n",
      "Iteration 9: \n",
      "cost= 0.6931957647341\n",
      "cost delta= -6.402445906772414e-09\n",
      "b2 before= 1.1284043153042546e-08\n",
      "b2 after= 1.2536279319230737e-08\n",
      "delta change= 1.2522361661881912e-09\n",
      "***********************************************\n",
      "Learning rate: 0.01\n",
      "\n",
      "Iteration 0: \n",
      "cost= 0.6931957583317958\n",
      "cost delta= 9999.693195758331\n",
      "b2 before= 1.2536279319230737e-08\n",
      "b2 after= 1.3772897257195993e-07\n",
      "delta change= 1.251926932527292e-07\n",
      "\n",
      "Iteration 1: \n",
      "cost= 0.6931951184653125\n",
      "cost delta= -6.398664833540124e-07\n",
      "b2 before= 1.3772897257195993e-07\n",
      "b2 after= 2.59830888531698e-07\n",
      "delta change= 1.2210191595973807e-07\n",
      "\n",
      "Iteration 2: \n",
      "cost= 0.6931944800029612\n",
      "cost delta= -6.384623512101228e-07\n",
      "b2 before= 2.59830888531698e-07\n",
      "b2 after= 3.788549654383688e-07\n",
      "delta change= 1.1902407690667082e-07\n",
      "\n",
      "Iteration 3: \n",
      "cost= 0.6931938429261525\n",
      "cost delta= -6.370768087515799e-07\n",
      "b2 before= 3.788549654383688e-07\n",
      "b2 after= 4.948140319878558e-07\n",
      "delta change= 1.1595906654948694e-07\n",
      "\n",
      "Iteration 4: \n",
      "cost= 0.6931932072163376\n",
      "cost delta= -6.357098149001317e-07\n",
      "b2 before= 4.948140319878558e-07\n",
      "b2 after= 6.077208077688745e-07\n",
      "delta change= 1.1290677578101872e-07\n",
      "\n",
      "Iteration 5: \n",
      "cost= 0.6931925728550083\n",
      "cost delta= -6.343613292436601e-07\n",
      "b2 before= 6.077208077688745e-07\n",
      "b2 after= 7.175879036959598e-07\n",
      "delta change= 1.0986709592708536e-07\n",
      "\n",
      "Iteration 6: \n",
      "cost= 0.6931919398236961\n",
      "cost delta= -6.330313122582254e-07\n",
      "b2 before= 7.175879036959598e-07\n",
      "b2 after= 8.24427822438012e-07\n",
      "delta change= 1.0683991874205215e-07\n",
      "\n",
      "Iteration 7: \n",
      "cost= 0.6931913081039713\n",
      "cost delta= -6.317197247529549e-07\n",
      "b2 before= 8.24427822438012e-07\n",
      "b2 after= 9.282529588468425e-07\n",
      "delta change= 1.0382513640883049e-07\n",
      "\n",
      "Iteration 8: \n",
      "cost= 0.6931906776774428\n",
      "cost delta= -6.304265285361765e-07\n",
      "b2 before= 9.282529588468425e-07\n",
      "b2 after= 1.0290756003801694e-06\n",
      "delta change= 1.0082264153332691e-07\n",
      "\n",
      "Iteration 9: \n",
      "cost= 0.6931900485257576\n",
      "cost delta= -6.291516851941736e-07\n",
      "b2 before= 1.0290756003801694e-06\n",
      "b2 after= 1.126907927519616e-06\n",
      "delta change= 9.78323271394466e-08\n",
      "***********************************************\n",
      "Learning rate: 1\n",
      "\n",
      "Iteration 0: \n",
      "cost= 0.6931894206306002\n",
      "cost delta= 9999.69318942063\n",
      "b2 before= 1.126907927519616e-06\n",
      "b2 after= 1.0612316594540027e-05\n",
      "delta change= 9.485408667020412e-06\n",
      "\n",
      "Iteration 1: \n",
      "cost= 0.693129797135358\n",
      "cost delta= -5.962349524213373e-05\n",
      "b2 before= 1.0612316594540027e-05\n",
      "b2 after= -8.321780901053133e-06\n",
      "delta change= -1.893409749559316e-05\n",
      "\n",
      "Iteration 2: \n",
      "cost= 0.693073574494141\n",
      "cost delta= -5.62226412170741e-05\n",
      "b2 before= -8.321780901053133e-06\n",
      "b2 after= -4.772278125432057e-05\n",
      "delta change= -3.9401000353267435e-05\n",
      "\n",
      "Iteration 3: \n",
      "cost= 0.6930042370971081\n",
      "cost delta= -6.933739703285369e-05\n",
      "b2 before= -4.772278125432057e-05\n",
      "b2 after= -0.00010850202340388178\n",
      "delta change= -6.077924214956121e-05\n",
      "\n",
      "Iteration 4: \n",
      "cost= 0.6929038630823204\n",
      "cost delta= -0.00010037401478768526\n",
      "b2 before= -0.00010850202340388178\n",
      "b2 after= -0.0001988289235029898\n",
      "delta change= -9.032690009910803e-05\n",
      "\n",
      "Iteration 5: \n",
      "cost= 0.6927482379681125\n",
      "cost delta= -0.00015562511420796898\n",
      "b2 before= -0.0001988289235029898\n",
      "b2 after= -0.0003349269996690644\n",
      "delta change= -0.0001360980761660746\n",
      "\n",
      "Iteration 6: \n",
      "cost= 0.6925009120936476\n",
      "cost delta= -0.0002473258744648543\n",
      "b2 before= -0.0003349269996690644\n",
      "b2 after= -0.0005440941330535447\n",
      "delta change= -0.00020916713338448028\n",
      "\n",
      "Iteration 7: \n",
      "cost= 0.6921047376242642\n",
      "cost delta= -0.0003961744693834479\n",
      "b2 before= -0.0005440941330535447\n",
      "b2 after= -0.0008703942551179327\n",
      "delta change= -0.00032630012206438797\n",
      "\n",
      "Iteration 8: \n",
      "cost= 0.6914690395278886\n",
      "cost delta= -0.0006356980963755365\n",
      "b2 before= -0.0008703942551179327\n",
      "b2 after= -0.0013840625898249952\n",
      "delta change= -0.0005136683347070625\n",
      "\n",
      "Iteration 9: \n",
      "cost= 0.6904499206319744\n",
      "cost delta= -0.0010191188959142172\n",
      "b2 before= -0.0013840625898249952\n",
      "b2 after= -0.0021963044370417\n",
      "delta change= -0.000812241847216705\n",
      "***********************************************\n"
     ]
    }
   ],
   "source": [
    "# Set the learning rates\n",
    "learning_rates = [0.0001, 0.01, 1]\n",
    "graph_op = {}\n",
    "delta_op = []\n",
    "\n",
    "# Train the network for each learning rate\n",
    "for learning_rate in learning_rates:\n",
    "    print(f\"Learning rate: {learning_rate}\")\n",
    "    total_cost = -9999\n",
    "    delta_op = []\n",
    "    for i in range(10):\n",
    "        # Implement Forward Propagation to calculate A2 (probabilities)\n",
    "        Z1 = np.dot(W1,X) + b1\n",
    "        A1 = np.tanh(Z1)\n",
    "        Z2 = np.dot(W2,A1) + b2\n",
    "        A2 = sigmoid(Z2) # Final output prediction\n",
    "        \n",
    "        # Compute the cross-entropy cost\n",
    "        samples=2\n",
    "        old_total_cost = total_cost\n",
    "        cost_function = np.multiply(np.log(A2), Y) + np.multiply((1 - Y), np.log(1 - A2)) #J(theta)\n",
    "        total_cost = -np.sum(cost_function) / samples\n",
    "        \n",
    "        \n",
    "        dJdZ2 = A2 - Y\n",
    "        dJdW2 = (1 / samples) * np.dot(dJdZ2, A1.T)\n",
    "        dJdb2 = (1 / samples) * np.sum(dJdZ2, axis=1, keepdims=True)\n",
    "        # since activation function is tanh(Z1) = A1\n",
    "        # first derivative of d/dz tanh(z) = 1 - tanh(z) ^ 2 = 1 - A1 ^ 2\n",
    "        dJdZ1 = np.multiply(np.dot(W2.T, dJdZ2), 1 - np.power(A1, 2))\n",
    "        dJdW1 = (1 / samples) * np.dot(dJdZ1, X.T)\n",
    "        dJdb1 = (1 / samples) * np.sum(dJdZ1, axis=1, keepdims=True)\n",
    "        \n",
    "        b2_old = b2\n",
    "        print(f\"\\nIteration {i}: \")\n",
    "        print(\"cost=\", total_cost)\n",
    "        print(\"cost delta=\", np.subtract(total_cost, old_total_cost))\n",
    "        print(\"b2 before=\", b2_old[0][0])\n",
    "        W1 = W1 - learning_rate * dJdW1\n",
    "        b1 = b1 - learning_rate * dJdb1\n",
    "        W2 = W2 - learning_rate * dJdW2\n",
    "        b2 = b2 - learning_rate * dJdb2\n",
    "\n",
    "        print(\"b2 after=\", b2[0][0])\n",
    "        delta = np.subtract(b2, b2_old)[0][0]\n",
    "        print(\"delta change=\", delta)\n",
    "        delta_op.append(delta)\n",
    "    graph_op[learning_rate] = delta_op    \n",
    "    print(\"***********************************************\")\n"
   ]
  },
  {
   "cell_type": "code",
   "execution_count": 17,
   "id": "efd53c20",
   "metadata": {},
   "outputs": [
    {
     "data": {
      "image/png": "[encoded data removed]",
      "text/plain": [
       "<Figure size 640x480 with 1 Axes>"
      ]
     },
     "metadata": {},
     "output_type": "display_data"
    },
    {
     "data": {
      "image/png": "[encoded data removed]",
      "text/plain": [
       "<Figure size 640x480 with 1 Axes>"
      ]
     },
     "metadata": {},
     "output_type": "display_data"
    },
    {
     "data": {
      "image/png": "[encoded data removed]",
      "text/plain": [
       "<Figure size 640x480 with 1 Axes>"
      ]
     },
     "metadata": {},
     "output_type": "display_data"
    }
   ],
   "source": [
    "#plot and visualise the delta changes\n",
    "for i in list(graph_op.keys()):\n",
    "    # Create a list of iteration indices based on the length of the delta list\n",
    "    iterations = list(range(len(graph_op[i])))\n",
    "\n",
    "    # Plot the graph\n",
    "    plt.plot(iterations, graph_op[i])\n",
    "\n",
    "    # Set the x-label and y-label of the plot\n",
    "    plt.xlabel('Iteration')\n",
    "    plt.ylabel('Delta change in weight b2')\n",
    "    plt.title('Learning Rate : '+ str(i))\n",
    "\n",
    "    # Show the plot\n",
    "    plt.show()\n"
   ]
  },
  {
   "cell_type": "markdown",
   "id": "fc533018",
   "metadata": {},
   "source": [
    "##### 2 What can you conclude about the effect of the learning rate on the delta change in weight b2?"
   ]
  },
  {
   "cell_type": "markdown",
   "id": "58af194c",
   "metadata": {},
   "source": [
    "Learning rate is a hyperparameter in machine learning that controls the step size at each iteration while moving toward a minimum of a loss function. In the above scenario, we have given three different learning rates: 0.0001, 0.01, and 1. For each learning rate, we are giving ten iterations, where we update a parameter b2 at each iteration.\n",
    "\n",
    "* For the first <b>learning rate of 0.0001,</b> we see that the change in b2 at each iteration is very small, on the order of 1e-9. The cost decreases steadily, and the change in the cost between iterations is also small. This suggests that the step size is too small and that the algorithm may take a long time to converge to the minimum of the loss function. \n",
    "\n",
    "* For the second <b>learning rate of 0.01,</b> we see that the change in b2 at each iteration is much larger, on the order of 1e-7. The cost decreases very quickly, with large changes in the cost between iterations, but the algorithm seems to converge.\n",
    "\n",
    "* For the third <b>learning rate of 1,</b> we see that the change in b2 at each iteration is very large, on the order of 1e-5. This suggests that the step size is much too large and that the algorithm is overshooting the optimal point and diverges rather than converge to the minimum of the loss function.\n",
    "\n",
    "Therefore, a larger learning rate allows the algorithm to take larger steps towards the minimum cost, which can result in faster convergence. However, if the learning rate is too large, the algorithm can overshoot the minimum and diverge. In this case, <b>the learning rate of 0.01 seems to be a good choice,</b> as it results in a faster decrease in the cost while avoiding divergence."
   ]
  }
 ],
 "metadata": {
  "kernelspec": {
   "display_name": "Python 3 (ipykernel)",
   "language": "python",
   "name": "python3"
  },
  "language_info": {
   "codemirror_mode": {
    "name": "ipython",
    "version": 3
   },
   "file_extension": ".py",
   "mimetype": "text/x-python",
   "name": "python",
   "nbconvert_exporter": "python",
   "pygments_lexer": "ipython3",
   "version": "3.9.13"
  }
 },
 "nbformat": 4,
 "nbformat_minor": 5
}
