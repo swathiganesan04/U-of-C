{
 "cells": [
  {
   "cell_type": "code",
   "execution_count": 1,
   "id": "5720e4f7",
   "metadata": {},
   "outputs": [],
   "source": [
    "import pandas as pd\n",
    "import numpy as np\n",
    "import matplotlib.pyplot as plt\n",
    "import os\n",
    "\n",
    "import seaborn as sns\n",
    "from scipy import stats\n",
    "\n",
    "from sklearn.model_selection import train_test_split, GridSearchCV, RandomizedSearchCV\n",
    "\n",
    "from sklearn.metrics import confusion_matrix, classification_report, roc_auc_score\n",
    "from sklearn.metrics import mean_squared_error,r2_score,explained_variance_score\n",
    "\n",
    "import warnings\n",
    "warnings.simplefilter(action='ignore', category=FutureWarning)\n"
   ]
  },
  {
   "cell_type": "markdown",
   "id": "3d5d24ec",
   "metadata": {},
   "source": [
    "## 1 Collaborative Filtering"
   ]
  },
  {
   "cell_type": "markdown",
   "id": "2206e79d",
   "metadata": {},
   "source": [
    "##### Use this user-item matrix to:\n",
    "\n",
    "##### A. Recommend 10 songs to users who have listened to 'u2' and 'pink floyd'. Use item-item collaborative filtering to find songs that are similar using spatial distance with cosine."
   ]
  },
  {
   "cell_type": "code",
   "execution_count": 2,
   "id": "62248f26",
   "metadata": {},
   "outputs": [
    {
     "data": {
      "text/plain": [
       "(100, 284)"
      ]
     },
     "execution_count": 2,
     "metadata": {},
     "output_type": "execute_result"
    }
   ],
   "source": [
    "radio_songs = pd.read_csv ('radio_songs.csv', index_col='user')\n",
    "radio_songs.shape"
   ]
  },
  {
   "cell_type": "code",
   "execution_count": 3,
   "id": "9ae2ede0",
   "metadata": {},
   "outputs": [
    {
     "data": {
      "text/html": [
       "<div>\n",
       "<style scoped>\n",
       "    .dataframe tbody tr th:only-of-type {\n",
       "        vertical-align: middle;\n",
       "    }\n",
       "\n",
       "    .dataframe tbody tr th {\n",
       "        vertical-align: top;\n",
       "    }\n",
       "\n",
       "    .dataframe thead th {\n",
       "        text-align: right;\n",
       "    }\n",
       "</style>\n",
       "<table border=\"1\" class=\"dataframe\">\n",
       "  <thead>\n",
       "    <tr style=\"text-align: right;\">\n",
       "      <th></th>\n",
       "      <th>abba</th>\n",
       "      <th>ac/dc</th>\n",
       "      <th>adam green</th>\n",
       "      <th>aerosmith</th>\n",
       "      <th>afi</th>\n",
       "      <th>air</th>\n",
       "      <th>alanis morissette</th>\n",
       "      <th>alexisonfire</th>\n",
       "      <th>alicia keys</th>\n",
       "      <th>all that remains</th>\n",
       "      <th>...</th>\n",
       "      <th>timbaland</th>\n",
       "      <th>tom waits</th>\n",
       "      <th>tool</th>\n",
       "      <th>tori amos</th>\n",
       "      <th>travis</th>\n",
       "      <th>trivium</th>\n",
       "      <th>u2</th>\n",
       "      <th>underoath</th>\n",
       "      <th>volbeat</th>\n",
       "      <th>yann tiersen</th>\n",
       "    </tr>\n",
       "    <tr>\n",
       "      <th>user</th>\n",
       "      <th></th>\n",
       "      <th></th>\n",
       "      <th></th>\n",
       "      <th></th>\n",
       "      <th></th>\n",
       "      <th></th>\n",
       "      <th></th>\n",
       "      <th></th>\n",
       "      <th></th>\n",
       "      <th></th>\n",
       "      <th></th>\n",
       "      <th></th>\n",
       "      <th></th>\n",
       "      <th></th>\n",
       "      <th></th>\n",
       "      <th></th>\n",
       "      <th></th>\n",
       "      <th></th>\n",
       "      <th></th>\n",
       "      <th></th>\n",
       "      <th></th>\n",
       "    </tr>\n",
       "  </thead>\n",
       "  <tbody>\n",
       "    <tr>\n",
       "      <th>422</th>\n",
       "      <td>0</td>\n",
       "      <td>0</td>\n",
       "      <td>0</td>\n",
       "      <td>0</td>\n",
       "      <td>0</td>\n",
       "      <td>0</td>\n",
       "      <td>0</td>\n",
       "      <td>0</td>\n",
       "      <td>0</td>\n",
       "      <td>0</td>\n",
       "      <td>...</td>\n",
       "      <td>0</td>\n",
       "      <td>0</td>\n",
       "      <td>0</td>\n",
       "      <td>0</td>\n",
       "      <td>0</td>\n",
       "      <td>0</td>\n",
       "      <td>0</td>\n",
       "      <td>0</td>\n",
       "      <td>0</td>\n",
       "      <td>0</td>\n",
       "    </tr>\n",
       "    <tr>\n",
       "      <th>1589</th>\n",
       "      <td>0</td>\n",
       "      <td>0</td>\n",
       "      <td>0</td>\n",
       "      <td>0</td>\n",
       "      <td>0</td>\n",
       "      <td>0</td>\n",
       "      <td>0</td>\n",
       "      <td>0</td>\n",
       "      <td>0</td>\n",
       "      <td>0</td>\n",
       "      <td>...</td>\n",
       "      <td>0</td>\n",
       "      <td>0</td>\n",
       "      <td>0</td>\n",
       "      <td>0</td>\n",
       "      <td>0</td>\n",
       "      <td>0</td>\n",
       "      <td>0</td>\n",
       "      <td>0</td>\n",
       "      <td>0</td>\n",
       "      <td>0</td>\n",
       "    </tr>\n",
       "    <tr>\n",
       "      <th>62</th>\n",
       "      <td>0</td>\n",
       "      <td>0</td>\n",
       "      <td>0</td>\n",
       "      <td>0</td>\n",
       "      <td>0</td>\n",
       "      <td>0</td>\n",
       "      <td>0</td>\n",
       "      <td>0</td>\n",
       "      <td>0</td>\n",
       "      <td>0</td>\n",
       "      <td>...</td>\n",
       "      <td>0</td>\n",
       "      <td>0</td>\n",
       "      <td>0</td>\n",
       "      <td>0</td>\n",
       "      <td>0</td>\n",
       "      <td>0</td>\n",
       "      <td>0</td>\n",
       "      <td>0</td>\n",
       "      <td>0</td>\n",
       "      <td>0</td>\n",
       "    </tr>\n",
       "  </tbody>\n",
       "</table>\n",
       "<p>3 rows × 284 columns</p>\n",
       "</div>"
      ],
      "text/plain": [
       "      abba  ac/dc  adam green  aerosmith  afi  air  alanis morissette  \\\n",
       "user                                                                    \n",
       "422      0      0           0          0    0    0                  0   \n",
       "1589     0      0           0          0    0    0                  0   \n",
       "62       0      0           0          0    0    0                  0   \n",
       "\n",
       "      alexisonfire  alicia keys  all that remains  ...  timbaland  tom waits  \\\n",
       "user                                               ...                         \n",
       "422              0            0                 0  ...          0          0   \n",
       "1589             0            0                 0  ...          0          0   \n",
       "62               0            0                 0  ...          0          0   \n",
       "\n",
       "      tool  tori amos  travis  trivium  u2  underoath  volbeat  yann tiersen  \n",
       "user                                                                          \n",
       "422      0          0       0        0   0          0        0             0  \n",
       "1589     0          0       0        0   0          0        0             0  \n",
       "62       0          0       0        0   0          0        0             0  \n",
       "\n",
       "[3 rows x 284 columns]"
      ]
     },
     "execution_count": 3,
     "metadata": {},
     "output_type": "execute_result"
    }
   ],
   "source": [
    "radio_songs.sample(3)"
   ]
  },
  {
   "cell_type": "code",
   "execution_count": 4,
   "id": "33e6fe44",
   "metadata": {},
   "outputs": [],
   "source": [
    "############ REFERENCE\n",
    "import pandas as pd\n",
    "import numpy as np\n",
    "\n",
    "# Create a user-item matrix dataframe\n",
    "user_item_df = radio_songs.copy()\n",
    "\n",
    "# Compute the item-item cosine similarity matrix\n",
    "item_sim_matrix = pd.DataFrame(index=user_item_df.columns[1:], columns=user_item_df.columns[1:])\n",
    "for i in range(len(item_sim_matrix.columns)):\n",
    "    uu = np.sum(user_item_df.iloc[:, i+1]**2)\n",
    "    for j in range(i+1, len(item_sim_matrix.columns)):\n",
    "        uv = np.sum(user_item_df.iloc[:, i+1] * user_item_df.iloc[:, j+1])\n",
    "        vv = np.sum(user_item_df.iloc[:, j+1]**2)\n",
    "        if uu == 0 or vv == 0:\n",
    "            item_sim_matrix.iloc[i, j] = 0\n",
    "        else:\n",
    "            item_sim_matrix.iloc[i, j] = 1 - uv / np.sqrt(uu * vv)\n",
    "        item_sim_matrix.iloc[j, i] = item_sim_matrix.iloc[i, j]\n"
   ]
  },
  {
   "cell_type": "markdown",
   "id": "b29dd1cc",
   "metadata": {},
   "source": [
    "We can use the <b>pdist and squareform functions</b> to compute the similarity between all pairs of items in a user-item matrix to obtain a similarity matrix in one go"
   ]
  },
  {
   "cell_type": "code",
   "execution_count": 8,
   "id": "15b5ef1d",
   "metadata": {},
   "outputs": [
    {
     "name": "stdout",
     "output_type": "stream",
     "text": [
      "The recommended top 10 songs for users who have listened to 'u2' and 'pink floyd' :\n",
      "\n",
      "['robbie williams', 'johnny cash', 'audioslave', 'foo fighters', 'pearl jam', 'incubus', 'genesis', 'misfits', 'green day', 'depeche mode']\n"
     ]
    }
   ],
   "source": [
    "from scipy.spatial.distance import pdist, squareform\n",
    "\n",
    "# Get the transpose of the user-item matrix\n",
    "item_user_matrix = radio_songs.T\n",
    "\n",
    "# Compute the pairwise cosine similarity between items\n",
    "item_similarity_matrix = 1 - squareform(pdist(item_user_matrix, metric='cosine'))\n",
    "\n",
    "# Convert the similarity matrix to a DataFrame\n",
    "item_similarity_df = pd.DataFrame(item_similarity_matrix, columns=radio_songs.columns, index=radio_songs.columns)\n",
    "\n",
    "u2_pinkfloyd = item_similarity_df[['u2','pink floyd']]\n",
    "\n",
    "# Filter the DataFrame to include only rows with non-zero values for 'u2' and 'pink floyd'\n",
    "filtered_df = u2_pinkfloyd.loc[(u2_pinkfloyd['u2'] > 0) | (u2_pinkfloyd['pink floyd'] > 0)].copy()\n",
    "\n",
    "# Create a new column that sums the values of 'u2' and 'pink floyd' using .loc to avoid warning message\n",
    "filtered_df.loc[:, 'combined_score'] = filtered_df['u2'] + filtered_df['pink floyd']\n",
    "\n",
    "# Sort the DataFrame by the 'combined_score' column in descending order, excluding 'u2' and 'pink floyd'\n",
    "sorted_df = filtered_df.drop(['u2', 'pink floyd']).sort_values(by='combined_score', ascending=False)\n",
    "\n",
    "# Create a boolean mask for entries where both the 'u2' and 'pink floyd' are not zero\n",
    "both_non_zero_mask = (sorted_df['u2'] != 0) & (sorted_df['pink floyd'] != 0)\n",
    "\n",
    "# Create a boolean mask for entries where at least one of the 'u2' or 'pink floyd' is zero\n",
    "at_least_one_zero_mask = ~both_non_zero_mask\n",
    "\n",
    "# Sort the DataFrame by the 'combined_score' column in descending order, excluding 'u2' and 'pink floyd'\n",
    "sorted_df = sorted_df.loc[both_non_zero_mask].sort_values(by='combined_score', ascending=False).append(\n",
    "            sorted_df.loc[at_least_one_zero_mask].sort_values(by='combined_score', ascending=False))\n",
    "\n",
    "\n",
    "# Get the top 10 artists based on the combined score, excluding 'u2' and 'pink floyd'\n",
    "top_artists = sorted_df.index[:10].tolist()\n",
    "\n",
    "# Print the top 10 artists\n",
    "print(f\"The recommended top 10 songs for users who have listened to 'u2' and 'pink floyd' :\\n\")\n",
    "print(top_artists)\n"
   ]
  },
  {
   "cell_type": "code",
   "execution_count": 9,
   "id": "8c66d05b",
   "metadata": {},
   "outputs": [
    {
     "data": {
      "text/html": [
       "<div>\n",
       "<style scoped>\n",
       "    .dataframe tbody tr th:only-of-type {\n",
       "        vertical-align: middle;\n",
       "    }\n",
       "\n",
       "    .dataframe tbody tr th {\n",
       "        vertical-align: top;\n",
       "    }\n",
       "\n",
       "    .dataframe thead th {\n",
       "        text-align: right;\n",
       "    }\n",
       "</style>\n",
       "<table border=\"1\" class=\"dataframe\">\n",
       "  <thead>\n",
       "    <tr style=\"text-align: right;\">\n",
       "      <th></th>\n",
       "      <th>u2</th>\n",
       "      <th>pink floyd</th>\n",
       "      <th>combined_score</th>\n",
       "    </tr>\n",
       "  </thead>\n",
       "  <tbody>\n",
       "    <tr>\n",
       "      <th>robbie williams</th>\n",
       "      <td>0.500000</td>\n",
       "      <td>0.288675</td>\n",
       "      <td>0.788675</td>\n",
       "    </tr>\n",
       "    <tr>\n",
       "      <th>johnny cash</th>\n",
       "      <td>0.353553</td>\n",
       "      <td>0.204124</td>\n",
       "      <td>0.557678</td>\n",
       "    </tr>\n",
       "    <tr>\n",
       "      <th>audioslave</th>\n",
       "      <td>0.223607</td>\n",
       "      <td>0.258199</td>\n",
       "      <td>0.481806</td>\n",
       "    </tr>\n",
       "    <tr>\n",
       "      <th>foo fighters</th>\n",
       "      <td>0.301511</td>\n",
       "      <td>0.174078</td>\n",
       "      <td>0.475589</td>\n",
       "    </tr>\n",
       "    <tr>\n",
       "      <th>pearl jam</th>\n",
       "      <td>0.204124</td>\n",
       "      <td>0.235702</td>\n",
       "      <td>0.439826</td>\n",
       "    </tr>\n",
       "    <tr>\n",
       "      <th>incubus</th>\n",
       "      <td>0.144338</td>\n",
       "      <td>0.166667</td>\n",
       "      <td>0.311004</td>\n",
       "    </tr>\n",
       "    <tr>\n",
       "      <th>genesis</th>\n",
       "      <td>0.000000</td>\n",
       "      <td>0.577350</td>\n",
       "      <td>0.577350</td>\n",
       "    </tr>\n",
       "    <tr>\n",
       "      <th>misfits</th>\n",
       "      <td>0.500000</td>\n",
       "      <td>0.000000</td>\n",
       "      <td>0.500000</td>\n",
       "    </tr>\n",
       "    <tr>\n",
       "      <th>green day</th>\n",
       "      <td>0.433013</td>\n",
       "      <td>0.000000</td>\n",
       "      <td>0.433013</td>\n",
       "    </tr>\n",
       "    <tr>\n",
       "      <th>depeche mode</th>\n",
       "      <td>0.408248</td>\n",
       "      <td>0.000000</td>\n",
       "      <td>0.408248</td>\n",
       "    </tr>\n",
       "  </tbody>\n",
       "</table>\n",
       "</div>"
      ],
      "text/plain": [
       "                       u2  pink floyd  combined_score\n",
       "robbie williams  0.500000    0.288675        0.788675\n",
       "johnny cash      0.353553    0.204124        0.557678\n",
       "audioslave       0.223607    0.258199        0.481806\n",
       "foo fighters     0.301511    0.174078        0.475589\n",
       "pearl jam        0.204124    0.235702        0.439826\n",
       "incubus          0.144338    0.166667        0.311004\n",
       "genesis          0.000000    0.577350        0.577350\n",
       "misfits          0.500000    0.000000        0.500000\n",
       "green day        0.433013    0.000000        0.433013\n",
       "depeche mode     0.408248    0.000000        0.408248"
      ]
     },
     "execution_count": 9,
     "metadata": {},
     "output_type": "execute_result"
    }
   ],
   "source": [
    "sorted_df.head(10)"
   ]
  },
  {
   "cell_type": "markdown",
   "id": "e4005bff",
   "metadata": {},
   "source": [
    "##### Based on combined scores\n",
    "\n",
    "['robbie williams', 'genesis', 'johnny cash', 'misfits', 'audioslave', 'foo fighters', 'pearl jam', 'green day', 'depeche mode', 'hans zimmer']\n",
    "\n",
    "\n",
    "                           u2\t        pink floyd\t combined_score\n",
    "    robbie williams\t    0.500000\t  0.288675\t   0.788675\n",
    "    genesis\t            0.000000\t  0.577350\t   0.577350\n",
    "    johnny cash\t        0.353553\t  0.204124\t   0.557678\n",
    "    misfits\t            0.500000\t  0.000000\t   0.500000\n",
    "    audioslave\t         0.223607\t  0.258199\t   0.481806\n",
    "    foo fighters\t       0.301511\t  0.174078\t   0.475589\n",
    "    pearl jam\t          0.204124\t  0.235702\t   0.439826\n",
    "    green day\t          0.433013\t  0.000000\t   0.433013\n",
    "    depeche mode\t       0.408248\t  0.000000\t   0.408248\n",
    "    hans zimmer\t        0.000000\t  0.408248\t   0.408248"
   ]
  },
  {
   "cell_type": "markdown",
   "id": "48644dba",
   "metadata": {},
   "source": [
    "##### B. Find user most similar to user 1606. Use user-user collaborative filtering with cosine similarity. List the recommended songs for user 1606 (Hint: find the songs listened to by the most similar user).\n",
    "\n"
   ]
  },
  {
   "cell_type": "code",
   "execution_count": 10,
   "id": "ff41587c",
   "metadata": {},
   "outputs": [
    {
     "name": "stdout",
     "output_type": "stream",
     "text": [
      "The user most similar to user 1606 is user 1144.\n"
     ]
    }
   ],
   "source": [
    "# Compute the pairwise cosine similarity between users\n",
    "user_similarity_matrix = 1 - squareform(pdist(radio_songs, metric='cosine'))\n",
    "\n",
    "# Convert the similarity matrix to a DataFrame\n",
    "user_similarity_df = pd.DataFrame(user_similarity_matrix, columns=radio_songs.index, index=radio_songs.index)\n",
    "\n",
    "# Find the user most similar to user 1606\n",
    "most_similar_user = user_similarity_df[1606].drop(1606).idxmax()\n",
    "\n",
    "print(f\"The user most similar to user 1606 is user {most_similar_user}.\")\n"
   ]
  },
  {
   "cell_type": "code",
   "execution_count": 11,
   "id": "943c58ec",
   "metadata": {},
   "outputs": [
    {
     "name": "stdout",
     "output_type": "stream",
     "text": [
      "The recommended songs for user 1606 based on most similar user 1144 are :\n",
      "\n",
      "['beastie boys', 'bob dylan', 'bob marley & the wailers', 'david bowie', 'eric clapton', 'johnny cash', 'pearl jam', 'pink floyd', 'the doors', 'the rolling stones', 'tom waits']\n"
     ]
    }
   ],
   "source": [
    "# Find the songs listened to by the most similar user\n",
    "most_similar_user_songs = radio_songs.loc[most_similar_user, radio_songs.loc[most_similar_user] == 1].index\n",
    "\n",
    "# Find the songs that the target user (1606) has not listened to\n",
    "target_user_unheard_songs = radio_songs.loc[1606, radio_songs.loc[1606] == 0].index\n",
    "\n",
    "# Find the intersection of the two sets of songs\n",
    "recommended_songs = most_similar_user_songs.intersection(target_user_unheard_songs).tolist()\n",
    "\n",
    "print(f\"The recommended songs for user 1606 based on most similar user {most_similar_user} are :\\n\")\n",
    "print(recommended_songs)\n"
   ]
  },
  {
   "cell_type": "markdown",
   "id": "e32f12d2",
   "metadata": {},
   "source": [
    "##### C. How many of the recommended songs has already been listened to by user 1606?"
   ]
  },
  {
   "cell_type": "code",
   "execution_count": 12,
   "id": "d21f1f3a",
   "metadata": {},
   "outputs": [
    {
     "name": "stdout",
     "output_type": "stream",
     "text": [
      "The number of recommended songs already listened to by user 1606 is : 2 \n",
      "\n",
      "They are :\n",
      "{'elvis presley', 'the beatles'}\n"
     ]
    }
   ],
   "source": [
    "print(f\"The number of recommended songs already listened to by user 1606 is : \\\n",
    "{len(most_similar_user_songs) - len(recommended_songs)} \\n\\nThey are :\")\n",
    "\n",
    "print(set(most_similar_user_songs) ^ set(recommended_songs))"
   ]
  },
  {
   "cell_type": "markdown",
   "id": "81febef4",
   "metadata": {},
   "source": [
    "##### D. Use a combination of user-item approach to build a recommendation score for each song for each user using the following steps for each user"
   ]
  },
  {
   "cell_type": "markdown",
   "id": "f8b913cd",
   "metadata": {},
   "source": [
    "This code iterates over each user and each song for the user, and for each song, it gets the top 10 similar songs and their similarity scores. It then gets a list of purchases for each of the top 10 similar songs, and calculates a recommendation score for the song based on the purchase history and similarity scores. Finally, it updates the recommendation scores DataFrame with the calculated recommendation score for each song for each user.\n",
    "\n",
    "To get the top 5 song recommendations for user 1606, we simply filter the recommendation scores DataFrame for user 1606 and get the top 5 songs with the highest recommendation scores. These are the songs that are most likely to be of interest to user 1606 based on their purchase history and the purchase history of users who have similar preferences."
   ]
  },
  {
   "cell_type": "code",
   "execution_count": 13,
   "id": "b53f95b3",
   "metadata": {},
   "outputs": [
    {
     "name": "stdout",
     "output_type": "stream",
     "text": [
      "The top 5 song recommendations for user 1606 are:\n",
      "elvis presley (score: 0.2893278354309895)\n",
      "abba (score: 0.23902308185961815)\n",
      "eric clapton (score: 0.20274011674755033)\n",
      "frank sinatra (score: 0.2011393381145825)\n",
      "howard shore (score: 0.17174865637166106)\n"
     ]
    }
   ],
   "source": [
    "# Compute the pairwise cosine similarity between items\n",
    "item_similarity_matrix = 1 - squareform(pdist(radio_songs.T, metric='cosine'))\n",
    "\n",
    "# Convert the similarity matrix to a DataFrame\n",
    "item_similarity_df = pd.DataFrame(item_similarity_matrix, columns=radio_songs.columns, index=radio_songs.columns)\n",
    "\n",
    "# Initialize an empty DataFrame to store the recommendation scores\n",
    "recommendation_scores_df = pd.DataFrame(columns=radio_songs.columns, index=radio_songs.index)\n",
    "\n",
    "# Iterate over each user\n",
    "for user in radio_songs.index:\n",
    "    # Iterate over each song for the user\n",
    "    for song in radio_songs.columns:\n",
    "        # Get the top 10 similar songs and their similarity score\n",
    "        top_10_similar_songs = item_similarity_df[song].drop(song).nlargest(10)\n",
    "        \n",
    "        # Get a list of purchases for each of the top 10 similar songs\n",
    "        purchase_history = []\n",
    "        for similar_song, similarity_score in top_10_similar_songs.iteritems():\n",
    "            if radio_songs.loc[user, similar_song] == 1:\n",
    "                purchase_history.append(similarity_score)\n",
    "        \n",
    "        # Calculate the recommendation score for the song\n",
    "        if len(purchase_history) > 0:\n",
    "            recommendation_score = sum(purchase_history) / sum(top_10_similar_songs)\n",
    "        else:\n",
    "            recommendation_score = 0\n",
    "        \n",
    "        # Update the recommendation scores DataFrame\n",
    "        recommendation_scores_df.loc[user, song] = recommendation_score\n",
    "\n",
    "    \n",
    "# Convert the recommendation scores DataFrame to a numeric data type\n",
    "recommendation_scores_df = recommendation_scores_df.apply(pd.to_numeric)\n",
    "\n",
    "# Print the top 5 song recommendations for user 1606\n",
    "top_recommendations = recommendation_scores_df.loc[1606].nlargest(5)\n",
    "print(f\"The top 5 song recommendations for user 1606 are:\")\n",
    "for song, score in top_recommendations.iteritems():\n",
    "    print(f\"{song} (score: {score})\")"
   ]
  },
  {
   "cell_type": "code",
   "execution_count": null,
   "id": "d3bffbcb",
   "metadata": {},
   "outputs": [],
   "source": []
  }
 ],
 "metadata": {
  "kernelspec": {
   "display_name": "Python 3 (ipykernel)",
   "language": "python",
   "name": "python3"
  },
  "language_info": {
   "codemirror_mode": {
    "name": "ipython",
    "version": 3
   },
   "file_extension": ".py",
   "mimetype": "text/x-python",
   "name": "python",
   "nbconvert_exporter": "python",
   "pygments_lexer": "ipython3",
   "version": "3.9.13"
  }
 },
 "nbformat": 4,
 "nbformat_minor": 5
}
