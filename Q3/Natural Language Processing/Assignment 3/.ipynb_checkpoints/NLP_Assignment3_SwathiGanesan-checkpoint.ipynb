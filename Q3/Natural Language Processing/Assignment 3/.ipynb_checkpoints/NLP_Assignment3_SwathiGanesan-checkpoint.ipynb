{
 "cells": [
  {
   "cell_type": "markdown",
   "metadata": {},
   "source": [
    "## NLP Class Assignment 3"
   ]
  },
  {
   "cell_type": "code",
   "execution_count": 1,
   "metadata": {},
   "outputs": [],
   "source": [
    "import pandas as pd\n",
    "import numpy as np\n",
    "import re\n",
    "import nltk\n",
    "from nltk.tokenize import word_tokenize\n",
    "import matplotlib.pyplot as plt\n",
    "from nltk.corpus import stopwords\n",
    "from nltk.stem import PorterStemmer\n",
    "from sklearn.feature_extraction.text import CountVectorizer\n",
    "from scipy.spatial.distance import pdist, squareform\n",
    "\n",
    "pd.set_option('display.max_rows', 100)\n",
    "pd.set_option('display.max_columns', None)\n",
    "pd.set_option('display.max_colwidth', 500)"
   ]
  },
  {
   "cell_type": "markdown",
   "metadata": {},
   "source": [
    "#### Read news data"
   ]
  },
  {
   "cell_type": "code",
   "execution_count": 2,
   "metadata": {},
   "outputs": [
    {
     "name": "stdout",
     "output_type": "stream",
     "text": [
      "Sample contains 1,018 news articles\n"
     ]
    },
    {
     "data": {
      "text/html": [
       "<div>\n",
       "<style scoped>\n",
       "    .dataframe tbody tr th:only-of-type {\n",
       "        vertical-align: middle;\n",
       "    }\n",
       "\n",
       "    .dataframe tbody tr th {\n",
       "        vertical-align: top;\n",
       "    }\n",
       "\n",
       "    .dataframe thead th {\n",
       "        text-align: right;\n",
       "    }\n",
       "</style>\n",
       "<table border=\"1\" class=\"dataframe\">\n",
       "  <thead>\n",
       "    <tr style=\"text-align: right;\">\n",
       "      <th></th>\n",
       "      <th>url</th>\n",
       "      <th>date</th>\n",
       "      <th>language</th>\n",
       "      <th>title</th>\n",
       "      <th>text</th>\n",
       "    </tr>\n",
       "  </thead>\n",
       "  <tbody>\n",
       "    <tr>\n",
       "      <th>0</th>\n",
       "      <td>https://auto.hindustantimes.com/lml-bikes/dealers/bodh-gaya</td>\n",
       "      <td>2022-01-21</td>\n",
       "      <td>en</td>\n",
       "      <td>Lml Bikes Car Dealers - Lml Bikes Showrooms in India</td>\n",
       "      <td>Lml Bikes Car Dealers - Lml Bikes Showrooms in India Explore  Friday, 21 January 2022 Log in/Sign up SearchNotificationsTop SectionsAuto NewsCar NewsBike NewsLatestAuto NewsPhotosVideosElectric VehiclesTrendingMy ReadsOffersnewFind carsFind bikesCompare carsCompare bikesEMI calculatorDealersExplore AutoAbout UsContact UsSITEMAPRSSTerms of UsePrivacy PolicyCopyright © HT Media Limited All rights reserved.HomeOffersnewFind carsFind bikesCompare carsCompare bikesEMI calculatorDealersCar NewsBik...</td>\n",
       "    </tr>\n",
       "    <tr>\n",
       "      <th>1</th>\n",
       "      <td>https://auto.hindustantimes.com/pure-ev-bikes/dealers/avadi</td>\n",
       "      <td>2022-01-21</td>\n",
       "      <td>en</td>\n",
       "      <td>Pure Ev Bikes Car Dealers - Pure Ev Bikes Showrooms in India</td>\n",
       "      <td>Pure Ev Bikes Car Dealers - Pure Ev Bikes Showrooms in India Explore  Friday, 21 January 2022 Log in/Sign up SearchNotificationsTop SectionsAuto NewsCar NewsBike NewsLatestAuto NewsPhotosVideosElectric VehiclesTrendingMy ReadsOffersnewFind carsFind bikesCompare carsCompare bikesEMI calculatorDealersExplore AutoAbout UsContact UsSITEMAPRSSTerms of UsePrivacy PolicyCopyright © HT Media Limited All rights reserved.HomeOffersnewFind carsFind bikesCompare carsCompare bikesEMI calculatorDealersCar...</td>\n",
       "    </tr>\n",
       "  </tbody>\n",
       "</table>\n",
       "</div>"
      ],
      "text/plain": [
       "                                                           url       date  \\\n",
       "0  https://auto.hindustantimes.com/lml-bikes/dealers/bodh-gaya 2022-01-21   \n",
       "1  https://auto.hindustantimes.com/pure-ev-bikes/dealers/avadi 2022-01-21   \n",
       "\n",
       "  language                                                         title  \\\n",
       "0       en          Lml Bikes Car Dealers - Lml Bikes Showrooms in India   \n",
       "1       en  Pure Ev Bikes Car Dealers - Pure Ev Bikes Showrooms in India   \n",
       "\n",
       "                                                                                                                                                                                                                                                                                                                                                                                                                                                                                                                  text  \n",
       "0  Lml Bikes Car Dealers - Lml Bikes Showrooms in India Explore  Friday, 21 January 2022 Log in/Sign up SearchNotificationsTop SectionsAuto NewsCar NewsBike NewsLatestAuto NewsPhotosVideosElectric VehiclesTrendingMy ReadsOffersnewFind carsFind bikesCompare carsCompare bikesEMI calculatorDealersExplore AutoAbout UsContact UsSITEMAPRSSTerms of UsePrivacy PolicyCopyright © HT Media Limited All rights reserved.HomeOffersnewFind carsFind bikesCompare carsCompare bikesEMI calculatorDealersCar NewsBik...  \n",
       "1  Pure Ev Bikes Car Dealers - Pure Ev Bikes Showrooms in India Explore  Friday, 21 January 2022 Log in/Sign up SearchNotificationsTop SectionsAuto NewsCar NewsBike NewsLatestAuto NewsPhotosVideosElectric VehiclesTrendingMy ReadsOffersnewFind carsFind bikesCompare carsCompare bikesEMI calculatorDealersExplore AutoAbout UsContact UsSITEMAPRSSTerms of UsePrivacy PolicyCopyright © HT Media Limited All rights reserved.HomeOffersnewFind carsFind bikesCompare carsCompare bikesEMI calculatorDealersCar...  "
      ]
     },
     "execution_count": 2,
     "metadata": {},
     "output_type": "execute_result"
    }
   ],
   "source": [
    "news_path = 'https://storage.googleapis.com/msca-bdp-data-open/news/nlp_a_3_news.json'\n",
    "news_df = pd.read_json(news_path, orient='records', lines=True)\n",
    "\n",
    "print(f'Sample contains {news_df.shape[0]:,.0f} news articles')\n",
    "news_df.head(2)"
   ]
  },
  {
   "cell_type": "markdown",
   "metadata": {},
   "source": [
    "#### Read Tweets data"
   ]
  },
  {
   "cell_type": "code",
   "execution_count": 3,
   "metadata": {},
   "outputs": [
    {
     "name": "stdout",
     "output_type": "stream",
     "text": [
      "Sample contains 1,020 tweets\n"
     ]
    },
    {
     "data": {
      "text/html": [
       "<div>\n",
       "<style scoped>\n",
       "    .dataframe tbody tr th:only-of-type {\n",
       "        vertical-align: middle;\n",
       "    }\n",
       "\n",
       "    .dataframe tbody tr th {\n",
       "        vertical-align: top;\n",
       "    }\n",
       "\n",
       "    .dataframe thead th {\n",
       "        text-align: right;\n",
       "    }\n",
       "</style>\n",
       "<table border=\"1\" class=\"dataframe\">\n",
       "  <thead>\n",
       "    <tr style=\"text-align: right;\">\n",
       "      <th></th>\n",
       "      <th>id</th>\n",
       "      <th>lang</th>\n",
       "      <th>date</th>\n",
       "      <th>name</th>\n",
       "      <th>retweeted</th>\n",
       "      <th>text</th>\n",
       "    </tr>\n",
       "  </thead>\n",
       "  <tbody>\n",
       "    <tr>\n",
       "      <th>0</th>\n",
       "      <td>1491880241782005777</td>\n",
       "      <td>en</td>\n",
       "      <td>2022-02-10</td>\n",
       "      <td>Sir Botalot dropping the Mike!</td>\n",
       "      <td></td>\n",
       "      <td>@singervehicles Will you do a straight swap for my Renault Twingo 1.2 Extreme? \\n\\nThat is awesome! 🔥</td>\n",
       "    </tr>\n",
       "    <tr>\n",
       "      <th>1</th>\n",
       "      <td>1501237946590142469</td>\n",
       "      <td>en</td>\n",
       "      <td>2022-03-08</td>\n",
       "      <td>Sabrina Ghio</td>\n",
       "      <td>RT</td>\n",
       "      <td>Australian GP Qualifying, Melbourne, 8th March 1997. #F1 The Grid ⬇️\\n\\nRow 3:\\n5. Eddie Irvine (Ferrari) +2.512s\\n6. Mika Hakkinen (McLaren-Mercedes) +2.602s\\n\\nRow 4:\\n7. Johnny Herbert (Sauber-Petronas) +2.918s\\n8. Jean Alesi (Benetton-Renault) +3.224s https://t.co/i4IC4LzVVN</td>\n",
       "    </tr>\n",
       "  </tbody>\n",
       "</table>\n",
       "</div>"
      ],
      "text/plain": [
       "                    id lang       date                            name  \\\n",
       "0  1491880241782005777   en 2022-02-10  Sir Botalot dropping the Mike!   \n",
       "1  1501237946590142469   en 2022-03-08                    Sabrina Ghio   \n",
       "\n",
       "  retweeted  \\\n",
       "0             \n",
       "1        RT   \n",
       "\n",
       "                                                                                                                                                                                                                                                                                      text  \n",
       "0                                                                                                                                                                                    @singervehicles Will you do a straight swap for my Renault Twingo 1.2 Extreme? \\n\\nThat is awesome! 🔥  \n",
       "1  Australian GP Qualifying, Melbourne, 8th March 1997. #F1 The Grid ⬇️\\n\\nRow 3:\\n5. Eddie Irvine (Ferrari) +2.512s\\n6. Mika Hakkinen (McLaren-Mercedes) +2.602s\\n\\nRow 4:\\n7. Johnny Herbert (Sauber-Petronas) +2.918s\\n8. Jean Alesi (Benetton-Renault) +3.224s https://t.co/i4IC4LzVVN  "
      ]
     },
     "execution_count": 3,
     "metadata": {},
     "output_type": "execute_result"
    }
   ],
   "source": [
    "tweets_path = 'https://storage.googleapis.com/msca-bdp-data-open/tweets/nlp_a_3_tweets.json'\n",
    "tweets_df = pd.read_json(tweets_path, orient='records', lines=True)\n",
    "print(f'Sample contains {tweets_df.shape[0]:,.0f} tweets')\n",
    "tweets_df.head(2)"
   ]
  },
  {
   "cell_type": "markdown",
   "metadata": {},
   "source": [
    "## Similarity in News Articles"
   ]
  },
  {
   "cell_type": "code",
   "execution_count": 4,
   "metadata": {},
   "outputs": [
    {
     "data": {
      "text/plain": [
       "(1018, 5)"
      ]
     },
     "execution_count": 4,
     "metadata": {},
     "output_type": "execute_result"
    }
   ],
   "source": [
    "news_df.shape"
   ]
  },
  {
   "cell_type": "code",
   "execution_count": 5,
   "metadata": {},
   "outputs": [
    {
     "data": {
      "text/plain": [
       "1018"
      ]
     },
     "execution_count": 5,
     "metadata": {},
     "output_type": "execute_result"
    }
   ],
   "source": [
    "news_df['text'].nunique()"
   ]
  },
  {
   "cell_type": "code",
   "execution_count": 6,
   "metadata": {},
   "outputs": [
    {
     "data": {
      "text/html": [
       "<div>\n",
       "<style scoped>\n",
       "    .dataframe tbody tr th:only-of-type {\n",
       "        vertical-align: middle;\n",
       "    }\n",
       "\n",
       "    .dataframe tbody tr th {\n",
       "        vertical-align: top;\n",
       "    }\n",
       "\n",
       "    .dataframe thead th {\n",
       "        text-align: right;\n",
       "    }\n",
       "</style>\n",
       "<table border=\"1\" class=\"dataframe\">\n",
       "  <thead>\n",
       "    <tr style=\"text-align: right;\">\n",
       "      <th></th>\n",
       "      <th>title</th>\n",
       "      <th>text</th>\n",
       "    </tr>\n",
       "  </thead>\n",
       "  <tbody>\n",
       "    <tr>\n",
       "      <th>930</th>\n",
       "      <td>Lamborghini Huracan Sto Car Discount Offers in Kurukshetra for March 2022</td>\n",
       "      <td>Lamborghini Huracan Sto Car Discount Offers in Kurukshetra for March 2022 Explore  Tuesday, 15 March 2022 Log in/Sign up SearchNotificationsTop SectionsAuto NewsCar NewsBike NewsLatestAuto NewsPhotosVideosElectric VehiclesTrendingMy ReadsOffersnewFind carsFind bikesCompare carsCompare bikesEMI calculatorDealersExplore AutoAbout UsContact UsSITEMAPRSSTerms of UsePrivacy PolicyCopyright © HT Media Limited All rights reserved.HomeOffersnewFind carsFind bikesCompare carsCompare bikesEMI calculat...</td>\n",
       "    </tr>\n",
       "    <tr>\n",
       "      <th>563</th>\n",
       "      <td>The Digital Chassis Is Here to Power the Next-Gen Android Experience - autoevolution</td>\n",
       "      <td>The Digital Chassis Is Here to Power the Next-Gen Android Experience - autoevolutionautoevolutioncarsmotonewscar reviewsspyshotsdriven carsspace junkgreennewspaper Compare Cars BAC Calculator  EditorialCoverstoryMotorsportTestdrives archiveAuto ShowsTuningCar FinderPhoto of the DayGlossary of automotive termsMastheadRSS FeedsFEATURED  autoevolution's Porsche Month  More on this:1 A Look at the Next-Generation Version of Google Maps2 Android Automotive Now Has a Top-Notch Browser, Making Andr...</td>\n",
       "    </tr>\n",
       "    <tr>\n",
       "      <th>735</th>\n",
       "      <td>How Russians missiles into Ukraine are avoiding detection - Oneindia News</td>\n",
       "      <td>How Russians missiles into Ukraine are avoiding detection - Oneindia News                                                                                                    বাংলা   ગુજરાતી   हिन्दी   ಕನ್ನಡ   മലയാളം   தமிழ்   తెలుగు  ଓଡ଼ିଆ  English               News     India   International   Sports   Business   Features   Videos  Covid FAQs   Motivational Stories     Videos  Covid FAQs    City     Bengaluru   New Delhi   Mumbai   Chennai   Kolkata   Pune   Salem   Belgaum   Ahmedabad  ...</td>\n",
       "    </tr>\n",
       "  </tbody>\n",
       "</table>\n",
       "</div>"
      ],
      "text/plain": [
       "                                                                                    title  \\\n",
       "930             Lamborghini Huracan Sto Car Discount Offers in Kurukshetra for March 2022   \n",
       "563  The Digital Chassis Is Here to Power the Next-Gen Android Experience - autoevolution   \n",
       "735             How Russians missiles into Ukraine are avoiding detection - Oneindia News   \n",
       "\n",
       "                                                                                                                                                                                                                                                                                                                                                                                                                                                                                                                    text  \n",
       "930  Lamborghini Huracan Sto Car Discount Offers in Kurukshetra for March 2022 Explore  Tuesday, 15 March 2022 Log in/Sign up SearchNotificationsTop SectionsAuto NewsCar NewsBike NewsLatestAuto NewsPhotosVideosElectric VehiclesTrendingMy ReadsOffersnewFind carsFind bikesCompare carsCompare bikesEMI calculatorDealersExplore AutoAbout UsContact UsSITEMAPRSSTerms of UsePrivacy PolicyCopyright © HT Media Limited All rights reserved.HomeOffersnewFind carsFind bikesCompare carsCompare bikesEMI calculat...  \n",
       "563  The Digital Chassis Is Here to Power the Next-Gen Android Experience - autoevolutionautoevolutioncarsmotonewscar reviewsspyshotsdriven carsspace junkgreennewspaper Compare Cars BAC Calculator  EditorialCoverstoryMotorsportTestdrives archiveAuto ShowsTuningCar FinderPhoto of the DayGlossary of automotive termsMastheadRSS FeedsFEATURED  autoevolution's Porsche Month  More on this:1 A Look at the Next-Generation Version of Google Maps2 Android Automotive Now Has a Top-Notch Browser, Making Andr...  \n",
       "735      How Russians missiles into Ukraine are avoiding detection - Oneindia News                                                                                                    বাংলা   ગુજરાતી   हिन्दी   ಕನ್ನಡ   മലയാളം   தமிழ்   తెలుగు  ଓଡ଼ିଆ  English               News     India   International   Sports   Business   Features   Videos  Covid FAQs   Motivational Stories     Videos  Covid FAQs    City     Bengaluru   New Delhi   Mumbai   Chennai   Kolkata   Pune   Salem   Belgaum   Ahmedabad  ...  "
      ]
     },
     "execution_count": 6,
     "metadata": {},
     "output_type": "execute_result"
    }
   ],
   "source": [
    "# Taking a look at the text data\n",
    "news_df[['title','text']].sample(3)"
   ]
  },
  {
   "cell_type": "markdown",
   "metadata": {},
   "source": [
    "We can observe that the text column contains the title of the news article and hence we can compute similarity using just the text column."
   ]
  },
  {
   "cell_type": "code",
   "execution_count": 7,
   "metadata": {},
   "outputs": [
    {
     "name": "stdout",
     "output_type": "stream",
     "text": [
      "Minimum length of news articles: 2153\n",
      "Maximum length of news articles: 99120\n"
     ]
    }
   ],
   "source": [
    "# Checking lengths of tokens before making any ngrams\n",
    "print(f\"Minimum length of news articles: {len(min(news_df['text'], key=len))}\")\n",
    "print(f\"Maximum length of news articles: {len(max(news_df['text'], key=len))}\")"
   ]
  },
  {
   "cell_type": "code",
   "execution_count": 8,
   "metadata": {},
   "outputs": [],
   "source": [
    "# Define a function to clean the text data\n",
    "def clean_text(text, type):\n",
    "    # Remove URLs, mentions, hashtags and newline characters\n",
    "    text = re.sub(r'http\\S+|www.\\S+|@\\S+|\\n', '', text)\n",
    "    text = re.sub(r'#\\w+', '', text)\n",
    "    \n",
    "    # Convert to lowercase\n",
    "    text = text.lower()\n",
    "    \n",
    "    if type == \"tweet\" :\n",
    "        # Use TweetTokenizer to tokenize\n",
    "        tweet_tokenizer = nltk.tokenize.TweetTokenizer()\n",
    "        tokens = tweet_tokenizer.tokenize(text)\n",
    "    else:\n",
    "        tokens = nltk.word_tokenize(text)\n",
    "    \n",
    "    # Remove single-character tokens (mostly punctuation)\n",
    "    tokens = [token for token in tokens if len(token) > 1]\n",
    "\n",
    "    # Remove numbers\n",
    "    tokens = [token for token in tokens if not token.isnumeric()]\n",
    "\n",
    "    # Remove punctuation\n",
    "    tokens = [token for token in tokens if token.isalpha()]\n",
    "\n",
    "    # Remove stop words and lemmatize the words\n",
    "    stop_words = set(nltk.corpus.stopwords.words('english'))   \n",
    "    \n",
    "    wnl = nltk.WordNetLemmatizer()\n",
    "    tokens=[wnl.lemmatize(token) for token in tokens if not token in stop_words]\n",
    "    \n",
    "    #ps = PorterStemmer()\n",
    "    #tokens = [ps.stem(token) for token in tokens if not token in stop_words]\n",
    "    # Join the tokens back into a string\n",
    "    clean_text = ' '.join(tokens)\n",
    "    return clean_text\n",
    "\n",
    "# Define a function to create n-grams\n",
    "def create_ngrams(text, n):\n",
    "    # Tokenize the text\n",
    "    tokens = word_tokenize(text)\n",
    "    # Create n-grams using the tokens\n",
    "    ngrams = nltk.ngrams(text.split(), n)\n",
    "    return set(ngrams)\n",
    "\n",
    "# Return Jaccard Distance\n",
    "def jaccard_similarity(set1, set2):\n",
    "    # Compute the Jaccard similarity between two sets\n",
    "    #intersection = len(set1.intersection(set2))\n",
    "    #union = len(set1.union(set2))\n",
    "    #return intersection / union if union > 0 else 0\n",
    "    return nltk.jaccard_distance(set1, set2) if len(set1.union(set2)) > 0 else 1"
   ]
  },
  {
   "cell_type": "markdown",
   "metadata": {},
   "source": [
    "Jaccard similarity measures the similarity between two sets by calculating the size of their intersection divided by the size of their union. It is a value between 0 and 1, where 0 means the sets have no common elements and 1 means the sets are identical.\n",
    "\n",
    "Jaccard distance, on the other hand, measures the dissimilarity between two sets by calculating the difference between the size of their union and the size of their intersection, and then dividing that by the size of their union. It is a value between 0 and 1, where 0 means the sets are identical and 1 means the sets have no common elements.\n",
    "\n",
    "Since we are attempting to analyse the similarity between the articles and tweets we will compute the Jaccard distance and then calulate the <b>Jaccard Similarity as 1 - Jaccard Distance. </b>"
   ]
  },
  {
   "cell_type": "markdown",
   "metadata": {},
   "source": [
    "This code computes the Jaccard distance for each pair of text using n-grams of length 2 to 6, finds the optimal n-gram length, and uses that n-gram to represent the similarity between the text. "
   ]
  },
  {
   "cell_type": "code",
   "execution_count": 9,
   "metadata": {},
   "outputs": [
    {
     "name": "stdout",
     "output_type": "stream",
     "text": [
      "Mean Similarity Score using 2-grams:\n",
      "0.8751689904142382\n",
      "Mean Similarity Score using 3-grams:\n",
      "0.8889644921298618\n",
      "Mean Similarity Score using 4-grams:\n",
      "0.8962902464979072\n",
      "Mean Similarity Score using 5-grams:\n",
      "0.9009979391860854\n",
      "Mean Similarity Score using 6-grams:\n",
      "0.907066264972406\n"
     ]
    },
    {
     "data": {
      "image/png": "[encoded data removed]",
      "text/plain": [
       "<Figure size 640x480 with 1 Axes>"
      ]
     },
     "metadata": {},
     "output_type": "display_data"
    }
   ],
   "source": [
    "# Apply the clean_text function to the \"text\" column\n",
    "news_df['clean_text'] = news_df['text'].apply(lambda x: clean_text(x, \"text\"))\n",
    "\n",
    "articles = news_df['clean_text']\n",
    "ngram_lengths = range(2, 7)\n",
    "\n",
    "jaccard_dist = []\n",
    "\n",
    "# Compute Jaccard similarity for each n-gram length and print results\n",
    "for n in ngram_lengths:\n",
    "    print(f\"Mean Similarity Score using {n}-grams:\")\n",
    "    ngram_sets = [create_ngrams(article, n) for article in articles]\n",
    "    similarity_matrix = np.zeros((len(articles), len(articles)))\n",
    "    for i in range(len(articles)):\n",
    "        for j in range(len(articles)):\n",
    "            similarity_matrix[i, j] = jaccard_similarity(ngram_sets[i], ngram_sets[j])\n",
    "    mean_distance = np.mean(similarity_matrix)\n",
    "    print(mean_distance)\n",
    "    jaccard_dist.append(mean_distance)\n",
    "\n",
    "# Plot Jaccard Distance vs n-gram range\n",
    "plt.plot(ngram_lengths, jaccard_dist)\n",
    "plt.title('Average Jaccard Distance vs N-Gram Range')\n",
    "plt.xlabel('N-Gram Range')\n",
    "plt.ylabel('Average Jaccard Distance')\n",
    "plt.show()"
   ]
  },
  {
   "cell_type": "markdown",
   "metadata": {},
   "source": [
    "Since the elbow plot does not have a distinct inflection point, we can choose <b>4 as our ideal n value</b> as the length of the articles are large and range from 2153 to 99120 and a bigger n value will be help us find similarities between the articles more aptly"
   ]
  },
  {
   "cell_type": "code",
   "execution_count": 12,
   "metadata": {},
   "outputs": [
    {
     "name": "stdout",
     "output_type": "stream",
     "text": [
      "News Articles - Jaccard Similarity Score for n=4 :  0.8962902464979072\n"
     ]
    }
   ],
   "source": [
    "news_grams = [create_ngrams(article, 4) for article in articles]\n",
    "news_similarity_matrix = np.zeros((len(articles), len(articles)))\n",
    "for i in range(len(articles)):\n",
    "    for j in range(len(articles)):\n",
    "        news_similarity_matrix[i, j] = jaccard_similarity(news_grams[i], news_grams[j])\n",
    "\n",
    "print(\"News Articles - Jaccard Similarity Score for n=4 : \", np.mean(news_similarity_matrix))"
   ]
  },
  {
   "cell_type": "code",
   "execution_count": 13,
   "metadata": {},
   "outputs": [
    {
     "data": {
      "image/png": "[encoded data removed]",
      "text/plain": [
       "<Figure size 640x480 with 1 Axes>"
      ]
     },
     "metadata": {},
     "output_type": "display_data"
    }
   ],
   "source": [
    "# Plot the distribution of Jaccard Distances\n",
    "plt.hist(news_similarity_matrix.flatten(), bins=10)\n",
    "plt.title('Histogram of Jaccard Distances Values')\n",
    "plt.xlabel('Jaccard Distances')\n",
    "plt.ylabel('Frequency')\n",
    "plt.show()"
   ]
  },
  {
   "cell_type": "markdown",
   "metadata": {},
   "source": [
    "From the histogram we can see the spread of Jaccard Distances for n=4 and it is highly likely that ngrams of size 4 will be able to capture the similarity in the news articles irregardless of the fact that majority of the articles are unique and dissimilar. Let us take a look at these similar news articles."
   ]
  },
  {
   "cell_type": "code",
   "execution_count": 14,
   "metadata": {},
   "outputs": [],
   "source": [
    "# Get indices of most similar news articles (excluding self-similarity)\n",
    "np.fill_diagonal(news_similarity_matrix, np.inf) # set diagonal to infinity to exclude self-similarity\n",
    "indices = np.unravel_index(np.argsort(news_similarity_matrix, axis=None), news_similarity_matrix.shape)\n",
    "index_pairs = [(indices[0][i], indices[1][i]) for i in range(10)]"
   ]
  },
  {
   "cell_type": "markdown",
   "metadata": {},
   "source": [
    "##### Top 5 most similar news article pairs for n = 4 :"
   ]
  },
  {
   "cell_type": "code",
   "execution_count": 15,
   "metadata": {},
   "outputs": [
    {
     "name": "stdout",
     "output_type": "stream",
     "text": [
      "\n",
      "Article 38:\n",
      "Toyota Urban Cruiser Car Discount Offers in Kandhamal for March 2022\n",
      "\n",
      "Article 663:\n",
      "Toyota Urban Cruiser Car Discount Offers in Kishtwar for March 2022\n",
      "\n",
      "Similarity score: 0.9865443425076452\n",
      "\n",
      "==================================================\n",
      "\n",
      "Article 406:\n",
      "Toyota Urban Cruiser Car Discount Offers in Madgaon for March 2022\n",
      "\n",
      "Article 38:\n",
      "Toyota Urban Cruiser Car Discount Offers in Kandhamal for March 2022\n",
      "\n",
      "Similarity score: 0.9865443425076452\n",
      "\n",
      "==================================================\n",
      "\n",
      "Article 38:\n",
      "Toyota Urban Cruiser Car Discount Offers in Kandhamal for March 2022\n",
      "\n",
      "Article 161:\n",
      "Toyota Urban Cruiser Car Discount Offers in Nirjuli for March 2022\n",
      "\n",
      "Similarity score: 0.9865443425076452\n",
      "\n",
      "==================================================\n",
      "\n",
      "Article 846:\n",
      "Toyota Urban Cruiser Car Discount Offers in Keonjhar for March 2022\n",
      "\n",
      "Article 29:\n",
      "Toyota Urban Cruiser Car Discount Offers in Kulgam for March 2022\n",
      "\n",
      "Similarity score: 0.9865443425076452\n",
      "\n",
      "==================================================\n",
      "\n",
      "Article 39:\n",
      "Toyota Urban Cruiser Car Discount Offers in Naharlagun for March 2022\n",
      "\n",
      "Article 38:\n",
      "Toyota Urban Cruiser Car Discount Offers in Kandhamal for March 2022\n",
      "\n",
      "Similarity score: 0.9865443425076452\n",
      "\n",
      "==================================================\n"
     ]
    }
   ],
   "source": [
    "# Print most similar news article pairs and their similarity scores\n",
    "for i, j in index_pairs[::2]:\n",
    "    print(f\"\\nArticle {i}:\\n{news_df.loc[i, 'title']}\\n\")\n",
    "    print(f\"Article {j}:\\n{news_df.loc[j, 'title']}\\n\")\n",
    "    print(f\"Similarity score: {1 - news_similarity_matrix[i, j]}\\n\")\n",
    "    print(\"=\"*50)"
   ]
  },
  {
   "cell_type": "markdown",
   "metadata": {},
   "source": [
    "Since the articles are too long, titles of the top 5 most similar news articles are displayed and we can clearly see that by using <b>n=4 we were able to capture the similarity between news articles.</b>"
   ]
  },
  {
   "cell_type": "markdown",
   "metadata": {},
   "source": [
    "## Similarity in Tweets"
   ]
  },
  {
   "cell_type": "code",
   "execution_count": 16,
   "metadata": {},
   "outputs": [
    {
     "data": {
      "text/plain": [
       "(1020, 6)"
      ]
     },
     "execution_count": 16,
     "metadata": {},
     "output_type": "execute_result"
    }
   ],
   "source": [
    "tweets_df.shape"
   ]
  },
  {
   "cell_type": "code",
   "execution_count": 17,
   "metadata": {},
   "outputs": [
    {
     "data": {
      "text/plain": [
       "RT    557\n",
       "      463\n",
       "Name: retweeted, dtype: int64"
      ]
     },
     "execution_count": 17,
     "metadata": {},
     "output_type": "execute_result"
    }
   ],
   "source": [
    "tweets_df.retweeted.value_counts()"
   ]
  },
  {
   "cell_type": "code",
   "execution_count": 18,
   "metadata": {},
   "outputs": [
    {
     "data": {
      "text/plain": [
       "788"
      ]
     },
     "execution_count": 18,
     "metadata": {},
     "output_type": "execute_result"
    }
   ],
   "source": [
    "tweets_df['text'].nunique()"
   ]
  },
  {
   "cell_type": "markdown",
   "metadata": {},
   "source": [
    "We can observe that around 557 tweets are retweets and there are some duplicates as well. Since retweets are likely to be similar tweets and finding similarity scores on duplicates does not make sense we can drop them before proceeding with finding our n."
   ]
  },
  {
   "cell_type": "code",
   "execution_count": 19,
   "metadata": {},
   "outputs": [
    {
     "data": {
      "text/plain": [
       "(461, 6)"
      ]
     },
     "execution_count": 19,
     "metadata": {},
     "output_type": "execute_result"
    }
   ],
   "source": [
    "# Removing retweets from this analysis\n",
    "tweets_df=tweets_df[tweets_df.retweeted!='RT']\n",
    "tweets_df = tweets_df.drop_duplicates(subset=['text']).reset_index(drop=True)\n",
    "tweets_df.shape"
   ]
  },
  {
   "cell_type": "code",
   "execution_count": 20,
   "metadata": {},
   "outputs": [
    {
     "name": "stdout",
     "output_type": "stream",
     "text": [
      "Minimum length of tweets: 16\n",
      "Maximum length of tweets: 357\n"
     ]
    }
   ],
   "source": [
    "# Checking lengths of tokens before making any ngrams\n",
    "print(f\"Minimum length of tweets: {len(min(tweets_df['text'], key=len))}\")\n",
    "print(f\"Maximum length of tweets: {len(max(tweets_df['text'], key=len))}\")"
   ]
  },
  {
   "cell_type": "code",
   "execution_count": 21,
   "metadata": {},
   "outputs": [
    {
     "data": {
      "text/html": [
       "<div>\n",
       "<style scoped>\n",
       "    .dataframe tbody tr th:only-of-type {\n",
       "        vertical-align: middle;\n",
       "    }\n",
       "\n",
       "    .dataframe tbody tr th {\n",
       "        vertical-align: top;\n",
       "    }\n",
       "\n",
       "    .dataframe thead th {\n",
       "        text-align: right;\n",
       "    }\n",
       "</style>\n",
       "<table border=\"1\" class=\"dataframe\">\n",
       "  <thead>\n",
       "    <tr style=\"text-align: right;\">\n",
       "      <th></th>\n",
       "      <th>text</th>\n",
       "    </tr>\n",
       "  </thead>\n",
       "  <tbody>\n",
       "    <tr>\n",
       "      <th>374</th>\n",
       "      <td>@RaceSimCentral @wanshfr Alain Prost never even did a championship in cars until he was 21 lol (when he won 12 out of 13 races in his debut season in Formula Renault)</td>\n",
       "    </tr>\n",
       "    <tr>\n",
       "      <th>395</th>\n",
       "      <td>Tamiya official international release list May 2022\\n\\nStatic Models\\n　12033　　1/12 Renault RE-20 Turbo (w/Photo-Etched Parts)\\n　32603　　1/48 German Heavy Tank Tiger I Early Production (Eastern Front)\\n　21173　　1/24 McLaren Senna (Gray) (Finished Model) https://t.co/t9xdWkBaxM</td>\n",
       "    </tr>\n",
       "    <tr>\n",
       "      <th>19</th>\n",
       "      <td>@guardiannews On what basis can French Renault justify starting production when so many are withdrawing in protest despite the financial implications to their organisations</td>\n",
       "    </tr>\n",
       "  </tbody>\n",
       "</table>\n",
       "</div>"
      ],
      "text/plain": [
       "                                                                                                                                                                                                                                                                                   text\n",
       "374                                                                                                              @RaceSimCentral @wanshfr Alain Prost never even did a championship in cars until he was 21 lol (when he won 12 out of 13 races in his debut season in Formula Renault)\n",
       "395  Tamiya official international release list May 2022\\n\\nStatic Models\\n　12033　　1/12 Renault RE-20 Turbo (w/Photo-Etched Parts)\\n　32603　　1/48 German Heavy Tank Tiger I Early Production (Eastern Front)\\n　21173　　1/24 McLaren Senna (Gray) (Finished Model) https://t.co/t9xdWkBaxM\n",
       "19                                                                                                         @guardiannews On what basis can French Renault justify starting production when so many are withdrawing in protest despite the financial implications to their organisations"
      ]
     },
     "execution_count": 21,
     "metadata": {},
     "output_type": "execute_result"
    }
   ],
   "source": [
    "tweets_df[['text']].sample(3)"
   ]
  },
  {
   "cell_type": "code",
   "execution_count": 23,
   "metadata": {},
   "outputs": [
    {
     "name": "stdout",
     "output_type": "stream",
     "text": [
      "Mean Similarity Score using 2-grams:\n",
      "0.9974620016606026\n",
      "Mean Similarity Score using 3-grams:\n",
      "0.9978869655902662\n",
      "Mean Similarity Score using 4-grams:\n",
      "0.9979993031990456\n",
      "Mean Similarity Score using 5-grams:\n",
      "0.9980939393185713\n",
      "Mean Similarity Score using 6-grams:\n",
      "0.9982684064163072\n"
     ]
    },
    {
     "data": {
      "image/png": "[encoded data removed]",
      "text/plain": [
       "<Figure size 640x480 with 1 Axes>"
      ]
     },
     "metadata": {},
     "output_type": "display_data"
    }
   ],
   "source": [
    "# Apply the clean_text function to the \"text\" column\n",
    "tweets_df['clean_text'] = tweets_df['text'].apply(lambda x: clean_text(x, \"tweet\"))\n",
    "\n",
    "tweets = tweets_df['clean_text']\n",
    "ngram_lengths = range(2, 7)\n",
    "\n",
    "jaccard_dist = []\n",
    "\n",
    "# Compute Jaccard distance for each n-gram length and print results\n",
    "for n in ngram_lengths:\n",
    "    print(f\"Mean Similarity Score using {n}-grams:\")\n",
    "    ngram_sets = [create_ngrams(tweet, n) for tweet in tweets]\n",
    "    similarity_matrix = np.zeros((len(tweets), len(tweets)))\n",
    "    for i in range(len(tweets)):\n",
    "        for j in range(len(tweets)):\n",
    "            similarity_matrix[i, j] = jaccard_similarity(ngram_sets[i], ngram_sets[j])\n",
    "    mean_distance = np.mean(similarity_matrix)\n",
    "    print(mean_distance)\n",
    "    jaccard_dist.append(mean_distance)\n",
    "    \n",
    "# Plot Jaccard Distance vs n-gram range\n",
    "plt.plot(ngram_lengths, jaccard_dist)\n",
    "plt.title('Average Jaccard Distance vs N-Gram Range')\n",
    "plt.xlabel('N-Gram Range')\n",
    "plt.ylabel('Average Jaccard Distance')\n",
    "plt.show()"
   ]
  },
  {
   "cell_type": "markdown",
   "metadata": {},
   "source": [
    "In this plot it appears that there is an elbow or “bend” at <b>n=3</b>. The elbow plot helps you determine the optimal value of n for n-grams. We can proceed with trigrams for tweets."
   ]
  },
  {
   "cell_type": "code",
   "execution_count": 24,
   "metadata": {},
   "outputs": [
    {
     "name": "stdout",
     "output_type": "stream",
     "text": [
      "Tweets - Jaccard Similarity Score for n=3 :  0.9978869655902662\n"
     ]
    }
   ],
   "source": [
    "trigrams = [create_ngrams(tweet, 3) for tweet in tweets]\n",
    "tri_similarity_matrix = np.zeros((len(tweets), len(tweets)))\n",
    "for i in range(len(tweets)):\n",
    "    for j in range(len(tweets)):\n",
    "        tri_similarity_matrix[i, j] = jaccard_similarity(trigrams[i], trigrams[j])\n",
    "\n",
    "print(\"Tweets - Jaccard Similarity Score for n=3 : \", np.mean(tri_similarity_matrix))\n"
   ]
  },
  {
   "cell_type": "code",
   "execution_count": 25,
   "metadata": {},
   "outputs": [
    {
     "data": {
      "image/png": "[encoded data removed]",
      "text/plain": [
       "<Figure size 640x480 with 1 Axes>"
      ]
     },
     "metadata": {},
     "output_type": "display_data"
    }
   ],
   "source": [
    "# Plot the distribution of Jaccard Distances\n",
    "plt.hist(tri_similarity_matrix.flatten(), bins=5)\n",
    "plt.title('Histogram of Jaccard Distances Values')\n",
    "plt.xlabel('Jaccard Distances')\n",
    "plt.ylabel('Frequency')\n",
    "plt.show()\n"
   ]
  },
  {
   "cell_type": "markdown",
   "metadata": {},
   "source": [
    "From the histogram we can clearly see that majority of the tweets are dissimalr to each other because we have dropped retweets and duplicates. Hence we can conclude that in our model was able to capture the uniqueness in the tweets data. However, with n=3 let us take a look at the similar tweets in our dataset."
   ]
  },
  {
   "cell_type": "code",
   "execution_count": 26,
   "metadata": {},
   "outputs": [],
   "source": [
    "# Get indices of most similar tweets (excluding self-similarity)\n",
    "np.fill_diagonal(tri_similarity_matrix, np.inf) # set diagonal to infinity to exclude self-similarity\n",
    "indices = np.unravel_index(np.argsort(tri_similarity_matrix, axis=None), tri_similarity_matrix.shape)\n",
    "index_pairs = [(indices[0][i], indices[1][i]) for i in range(10)]"
   ]
  },
  {
   "cell_type": "markdown",
   "metadata": {},
   "source": [
    "##### Top 5 most similar tweet pairs for n = 3 :"
   ]
  },
  {
   "cell_type": "code",
   "execution_count": 29,
   "metadata": {},
   "outputs": [
    {
     "name": "stdout",
     "output_type": "stream",
     "text": [
      "\n",
      "Tweet 168 Tokens:\n",
      "kiger stunning yet muscular suv stance crafted complement free spirit\n",
      "OG Tweet 168:\n",
      "https://t.co/DFfqSVOypZ \n",
      "Kiger is stunning yet muscular SUV stance is crafted to complement your free spirit.\n",
      "#renault #cars #nagercoil #Sportysmart #renaultcars #renaultindia #bestcars #buycarsnagercoil #morespacing #renaultkiger https://t.co/LzLJ0IjpyT\n",
      "\n",
      "Tweet 9 Tokens:\n",
      "renault kiger stunning yet muscular suv stance crafted complement free spirit\n",
      "OG Tweet 9:\n",
      "Renault Kiger is stunning yet muscular SUV stance is crafted to complement your free spirit. \n",
      "#renault #cars #nagercoil #Sportysmart #renaultcars #renaultindia #bestcars #buycarsnagercoil #morespacing  #renaultkiger https://t.co/0gaRyxca7h\n",
      "\n",
      "Similarity score: 0.8888888888888888\n",
      "\n",
      "==================================================\n",
      "\n",
      "Tweet 423 Tokens:\n",
      "ya claim worked brand spotify intel amway netflix blizzard sharp canon loewe huawei bentley audi renault oriflame first instagram mask highly valuable game\n",
      "OG Tweet 423:\n",
      "@AboxCrypto @socialdudesnft But what can ya claim about @BeaRexOfficial? They worked with such brands as Spotify, Intel, Amway, Netflix, Blizzard, Sharp, Canon, Loewe, Huawei, Bentley, Audi, Renault, Oriflame. And they have the first instagram mask highly valuable game! https://t.co/qFn1mX16CQ\n",
      "\n",
      "Tweet 41 Tokens:\n",
      "tell worked brand spotify intel amway netflix blizzard sharp canon loewe huawei bentley audi renault oriflame first instagram mask highly profitable game\n",
      "OG Tweet 41:\n",
      "@cz_binance But what can u tell about @BeaRex_io? They worked with such brands as Spotify, Intel, Amway, Netflix, Blizzard, Sharp, Canon, Loewe, Huawei, Bentley, Audi, Renault, Oriflame. And they have the first instagram mask highly profitable game!\n",
      "\n",
      "Similarity score: 0.7083333333333333\n",
      "\n",
      "==================================================\n",
      "\n",
      "Tweet 15 Tokens:\n",
      "ai anything renault kwid guess\n",
      "OG Tweet 15:\n",
      "ai... anything but a renault kwid i guess. https://t.co/vIRj1Cals7\n",
      "\n",
      "Tweet 173 Tokens:\n",
      "anything renault kwid\n",
      "OG Tweet 173:\n",
      "8. anything but a renault kwid. https://t.co/uzJZyPFCM7\n",
      "\n",
      "Similarity score: 0.33333333333333337\n",
      "\n",
      "==================================================\n",
      "\n",
      "Tweet 274 Tokens:\n",
      "ali renault gt turbo worth quid\n",
      "OG Tweet 274:\n",
      "@hexicangirl @CryptoHexican @RichardHeartWin Is Ali G in a Renault 5 GT turbo? Worth a few quid now!\n",
      "\n",
      "Tweet 11 Tokens:\n",
      "fit renault gt turbo connecting rod con rod arp bolt ebay\n",
      "OG Tweet 11:\n",
      "4pcs Fit for Renault R5 GT 11 Turbo Connecting Rod Con Rod+ARP 2000 Bolts 128mm https://t.co/XzmBvCa1px eBay https://t.co/oiIgJSBFIJ\n",
      "\n",
      "Similarity score: 0.08333333333333337\n",
      "\n",
      "==================================================\n",
      "\n",
      "Tweet 426 Tokens:\n",
      "like car renault clio wiliams\n",
      "OG Tweet 426:\n",
      "Do you like this car?\n",
      "\n",
      "Renault Clio Wiliams https://t.co/HoHhM5U6IM\n",
      "\n",
      "Tweet 224 Tokens:\n",
      "people want know brand car renault clio diesel cc kw lovely lady\n",
      "OG Tweet 224:\n",
      "@KyivIndependent For those people who wants to know the brand of my car: Renault Clio, Diesel, 1400 cc, 66 kW. It is a lovely \"lady\".\n",
      "\n",
      "Similarity score: 0.08333333333333337\n",
      "\n",
      "==================================================\n"
     ]
    }
   ],
   "source": [
    "# Print most similar tweet pairs and their similarity scores\n",
    "for i, j in index_pairs[::2]:\n",
    "    print(f\"\\nTweet {i} Tokens:\\n{tweets_df.loc[i, 'clean_text']}\")\n",
    "    print(f\"OG Tweet {i}:\\n{tweets_df.loc[i, 'text']}\\n\")\n",
    "    print(f\"Tweet {j} Tokens:\\n{tweets_df.loc[j, 'clean_text']}\")\n",
    "    print(f\"OG Tweet {j}:\\n{tweets_df.loc[j, 'text']}\\n\")\n",
    "\n",
    "    print(f\"Similarity score: {1 - tri_similarity_matrix[i, j]}\\n\")\n",
    "    print(\"=\"*50)"
   ]
  },
  {
   "cell_type": "markdown",
   "metadata": {},
   "source": [
    "Since the tweets contain futile mentions, urls and new line characters, cleaned tweets of the top 5 most similar tweets are displayed and we can clearly see that by <b>using n=3 we were able to capture the similarity between tweets.</b>"
   ]
  },
  {
   "cell_type": "markdown",
   "metadata": {},
   "source": [
    "###### Choosing the right n-grams for News vs Tweets\n",
    "\n",
    "When analyzing text data using n-grams, the choice of \"n\" is an important parameter that affects the granularity of the analysis. The choice of \"n\" determines how many items are included in each n-gram, and this affects the level of detail and context that the n-grams can capture.\n",
    "\n",
    "The optimal n value was arrived at by plotting and observing the elbow plot. In choosing the value of \"n\" for n-grams analysis in our case, several factors we considered. One of the most important factors was the length of the tokens. Since the <b>tweets</b> ranged from 16 to 357 in length, in order to capture more general patterns in the text we chose a smaller <b>n = 3</b>. Whereas, for the <b>news articles</b> which had length between 2153 and 99120, using a larger value of \"n\" would be more appropriate to capture more specific and nuanced patterns in the text and hence we chose <b>n = 4</b>.\n"
   ]
  },
  {
   "cell_type": "code",
   "execution_count": null,
   "metadata": {},
   "outputs": [],
   "source": []
  }
 ],
 "metadata": {
  "kernelspec": {
   "display_name": "Python 3 (ipykernel)",
   "language": "python",
   "name": "python3"
  },
  "language_info": {
   "codemirror_mode": {
    "name": "ipython",
    "version": 3
   },
   "file_extension": ".py",
   "mimetype": "text/x-python",
   "name": "python",
   "nbconvert_exporter": "python",
   "pygments_lexer": "ipython3",
   "version": "3.9.13"
  }
 },
 "nbformat": 4,
 "nbformat_minor": 4
}
