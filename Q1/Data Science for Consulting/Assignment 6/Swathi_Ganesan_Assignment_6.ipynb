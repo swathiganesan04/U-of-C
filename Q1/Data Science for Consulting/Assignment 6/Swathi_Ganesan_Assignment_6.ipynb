{
 "cells": [
  {
   "cell_type": "markdown",
   "id": "6a7eb18b",
   "metadata": {},
   "source": [
    "### 1. Importing libraries and loading the dataset"
   ]
  },
  {
   "cell_type": "code",
   "execution_count": 1,
   "id": "e7b2d52d",
   "metadata": {},
   "outputs": [],
   "source": [
    "import pandas as pd\n",
    "import numpy as np\n",
    "\n",
    "import seaborn as sns\n",
    "import matplotlib.pyplot as plt\n",
    "%matplotlib inline\n",
    "import plotly.express as px\n",
    "\n",
    "from sklearn.model_selection import train_test_split\n",
    "from sklearn.linear_model import LogisticRegression\n",
    "from sklearn import metrics\n",
    "from sklearn.metrics import confusion_matrix\n",
    "from sklearn.metrics import classification_report\n",
    "\n",
    "import warnings\n",
    "warnings.simplefilter(\"ignore\", UserWarning)"
   ]
  },
  {
   "cell_type": "code",
   "execution_count": 2,
   "id": "ab0a6c1d",
   "metadata": {},
   "outputs": [],
   "source": [
    "#reading the data\n",
    "churn_data = pd.read_excel('Fitness Club Data V4.xlsx')"
   ]
  },
  {
   "cell_type": "code",
   "execution_count": 3,
   "id": "e835ff7c",
   "metadata": {},
   "outputs": [
    {
     "data": {
      "text/plain": [
       "(24843, 9)"
      ]
     },
     "execution_count": 3,
     "metadata": {},
     "output_type": "execute_result"
    }
   ],
   "source": [
    "churn_data.shape"
   ]
  },
  {
   "cell_type": "code",
   "execution_count": 4,
   "id": "14633328",
   "metadata": {},
   "outputs": [
    {
     "data": {
      "text/html": [
       "<div>\n",
       "<style scoped>\n",
       "    .dataframe tbody tr th:only-of-type {\n",
       "        vertical-align: middle;\n",
       "    }\n",
       "\n",
       "    .dataframe tbody tr th {\n",
       "        vertical-align: top;\n",
       "    }\n",
       "\n",
       "    .dataframe thead th {\n",
       "        text-align: right;\n",
       "    }\n",
       "</style>\n",
       "<table border=\"1\" class=\"dataframe\">\n",
       "  <thead>\n",
       "    <tr style=\"text-align: right;\">\n",
       "      <th></th>\n",
       "      <th>enrolldt</th>\n",
       "      <th>price</th>\n",
       "      <th>downpmt</th>\n",
       "      <th>monthdue</th>\n",
       "      <th>pmttype</th>\n",
       "      <th>use</th>\n",
       "      <th>age</th>\n",
       "      <th>gender</th>\n",
       "      <th>default</th>\n",
       "    </tr>\n",
       "  </thead>\n",
       "  <tbody>\n",
       "    <tr>\n",
       "      <th>0</th>\n",
       "      <td>20190101</td>\n",
       "      <td>1830.2340</td>\n",
       "      <td>210.0000</td>\n",
       "      <td>6.0</td>\n",
       "      <td>CreditCard</td>\n",
       "      <td>1</td>\n",
       "      <td>0</td>\n",
       "      <td>0</td>\n",
       "      <td>0</td>\n",
       "    </tr>\n",
       "    <tr>\n",
       "      <th>1</th>\n",
       "      <td>20190101</td>\n",
       "      <td>1296.6660</td>\n",
       "      <td>1296.6660</td>\n",
       "      <td>6.0</td>\n",
       "      <td>Cash</td>\n",
       "      <td>0</td>\n",
       "      <td>0</td>\n",
       "      <td>0</td>\n",
       "      <td>0</td>\n",
       "    </tr>\n",
       "    <tr>\n",
       "      <th>2</th>\n",
       "      <td>20190101</td>\n",
       "      <td>930.4428</td>\n",
       "      <td>105.0000</td>\n",
       "      <td>5.0</td>\n",
       "      <td>Cash</td>\n",
       "      <td>0</td>\n",
       "      <td>0</td>\n",
       "      <td>0</td>\n",
       "      <td>0</td>\n",
       "    </tr>\n",
       "    <tr>\n",
       "      <th>3</th>\n",
       "      <td>20190102</td>\n",
       "      <td>798.3696</td>\n",
       "      <td>199.5924</td>\n",
       "      <td>9.0</td>\n",
       "      <td>DirectDebit</td>\n",
       "      <td>0</td>\n",
       "      <td>0</td>\n",
       "      <td>1</td>\n",
       "      <td>0</td>\n",
       "    </tr>\n",
       "    <tr>\n",
       "      <th>4</th>\n",
       "      <td>20190103</td>\n",
       "      <td>1206.2400</td>\n",
       "      <td>210.0000</td>\n",
       "      <td>9.0</td>\n",
       "      <td>Cheque</td>\n",
       "      <td>0</td>\n",
       "      <td>0</td>\n",
       "      <td>0</td>\n",
       "      <td>0</td>\n",
       "    </tr>\n",
       "  </tbody>\n",
       "</table>\n",
       "</div>"
      ],
      "text/plain": [
       "   enrolldt      price    downpmt  monthdue      pmttype  use  age  gender  \\\n",
       "0  20190101  1830.2340   210.0000       6.0   CreditCard    1    0       0   \n",
       "1  20190101  1296.6660  1296.6660       6.0         Cash    0    0       0   \n",
       "2  20190101   930.4428   105.0000       5.0         Cash    0    0       0   \n",
       "3  20190102   798.3696   199.5924       9.0  DirectDebit    0    0       1   \n",
       "4  20190103  1206.2400   210.0000       9.0       Cheque    0    0       0   \n",
       "\n",
       "   default  \n",
       "0        0  \n",
       "1        0  \n",
       "2        0  \n",
       "3        0  \n",
       "4        0  "
      ]
     },
     "execution_count": 4,
     "metadata": {},
     "output_type": "execute_result"
    }
   ],
   "source": [
    "churn_data.head()"
   ]
  },
  {
   "cell_type": "code",
   "execution_count": 5,
   "id": "16b7f50f",
   "metadata": {},
   "outputs": [
    {
     "name": "stdout",
     "output_type": "stream",
     "text": [
      "<class 'pandas.core.frame.DataFrame'>\n",
      "RangeIndex: 24843 entries, 0 to 24842\n",
      "Data columns (total 9 columns):\n",
      " #   Column    Non-Null Count  Dtype  \n",
      "---  ------    --------------  -----  \n",
      " 0   enrolldt  24843 non-null  int64  \n",
      " 1   price     24843 non-null  float64\n",
      " 2   downpmt   24843 non-null  float64\n",
      " 3   monthdue  24843 non-null  float64\n",
      " 4   pmttype   24843 non-null  object \n",
      " 5   use       24843 non-null  int64  \n",
      " 6   age       24843 non-null  int64  \n",
      " 7   gender    24843 non-null  int64  \n",
      " 8   default   24843 non-null  int64  \n",
      "dtypes: float64(3), int64(5), object(1)\n",
      "memory usage: 1.7+ MB\n"
     ]
    }
   ],
   "source": [
    "#understanding the data types and table structure\n",
    "churn_data.info()"
   ]
  },
  {
   "cell_type": "code",
   "execution_count": 6,
   "id": "96644298",
   "metadata": {},
   "outputs": [
    {
     "data": {
      "text/plain": [
       "enrolldt    0\n",
       "price       0\n",
       "downpmt     0\n",
       "monthdue    0\n",
       "pmttype     0\n",
       "use         0\n",
       "age         0\n",
       "gender      0\n",
       "default     0\n",
       "dtype: int64"
      ]
     },
     "execution_count": 6,
     "metadata": {},
     "output_type": "execute_result"
    }
   ],
   "source": [
    "#checking for null or missing values\n",
    "churn_data.isnull().sum()"
   ]
  },
  {
   "cell_type": "code",
   "execution_count": 7,
   "id": "255071ac",
   "metadata": {},
   "outputs": [
    {
     "data": {
      "text/plain": [
       "28"
      ]
     },
     "execution_count": 7,
     "metadata": {},
     "output_type": "execute_result"
    }
   ],
   "source": [
    "#checking for duplicates\n",
    "churn_data.duplicated().sum()"
   ]
  },
  {
   "cell_type": "code",
   "execution_count": 8,
   "id": "1cb9f38a",
   "metadata": {},
   "outputs": [
    {
     "data": {
      "text/plain": [
       "0"
      ]
     },
     "execution_count": 8,
     "metadata": {},
     "output_type": "execute_result"
    }
   ],
   "source": [
    "#there are 28 duplicate rows and hence we remove them\n",
    "churn_data.drop_duplicates(inplace = True)\n",
    "churn_data.duplicated().sum()"
   ]
  },
  {
   "cell_type": "markdown",
   "id": "1829b57f",
   "metadata": {},
   "source": [
    "#### Data Understanding"
   ]
  },
  {
   "cell_type": "markdown",
   "id": "f25e0e03",
   "metadata": {},
   "source": [
    "Numerical features :\n",
    "\n",
    "    price\n",
    "    downpmt\n",
    "    monthdue\n",
    "    age\n",
    "\n",
    "Categorical features :\n",
    "\n",
    "    enrolldt\n",
    "    pmttype\n",
    "    use\n",
    "    gender\n",
    "    default"
   ]
  },
  {
   "cell_type": "markdown",
   "id": "637a7c6b",
   "metadata": {},
   "source": [
    "### 2. Descriptive statistics"
   ]
  },
  {
   "cell_type": "code",
   "execution_count": 9,
   "id": "a906121d",
   "metadata": {},
   "outputs": [
    {
     "data": {
      "text/html": [
       "<div>\n",
       "<style scoped>\n",
       "    .dataframe tbody tr th:only-of-type {\n",
       "        vertical-align: middle;\n",
       "    }\n",
       "\n",
       "    .dataframe tbody tr th {\n",
       "        vertical-align: top;\n",
       "    }\n",
       "\n",
       "    .dataframe thead th {\n",
       "        text-align: right;\n",
       "    }\n",
       "</style>\n",
       "<table border=\"1\" class=\"dataframe\">\n",
       "  <thead>\n",
       "    <tr style=\"text-align: right;\">\n",
       "      <th></th>\n",
       "      <th>price</th>\n",
       "      <th>downpmt</th>\n",
       "      <th>monthdue</th>\n",
       "      <th>age</th>\n",
       "    </tr>\n",
       "  </thead>\n",
       "  <tbody>\n",
       "    <tr>\n",
       "      <th>count</th>\n",
       "      <td>24815.000000</td>\n",
       "      <td>24815.000000</td>\n",
       "      <td>24815.000000</td>\n",
       "      <td>24815.000000</td>\n",
       "    </tr>\n",
       "    <tr>\n",
       "      <th>mean</th>\n",
       "      <td>843.716047</td>\n",
       "      <td>167.825877</td>\n",
       "      <td>8.287717</td>\n",
       "      <td>29.231231</td>\n",
       "    </tr>\n",
       "    <tr>\n",
       "      <th>std</th>\n",
       "      <td>368.369657</td>\n",
       "      <td>281.634654</td>\n",
       "      <td>7.092833</td>\n",
       "      <td>13.256534</td>\n",
       "    </tr>\n",
       "    <tr>\n",
       "      <th>min</th>\n",
       "      <td>0.000000</td>\n",
       "      <td>0.000000</td>\n",
       "      <td>0.000000</td>\n",
       "      <td>0.000000</td>\n",
       "    </tr>\n",
       "    <tr>\n",
       "      <th>25%</th>\n",
       "      <td>587.160000</td>\n",
       "      <td>40.740000</td>\n",
       "      <td>5.500000</td>\n",
       "      <td>23.000000</td>\n",
       "    </tr>\n",
       "    <tr>\n",
       "      <th>50%</th>\n",
       "      <td>839.160000</td>\n",
       "      <td>84.000000</td>\n",
       "      <td>6.000000</td>\n",
       "      <td>28.000000</td>\n",
       "    </tr>\n",
       "    <tr>\n",
       "      <th>75%</th>\n",
       "      <td>1049.160000</td>\n",
       "      <td>147.000000</td>\n",
       "      <td>9.000000</td>\n",
       "      <td>36.000000</td>\n",
       "    </tr>\n",
       "    <tr>\n",
       "      <th>max</th>\n",
       "      <td>7871.850000</td>\n",
       "      <td>7871.850000</td>\n",
       "      <td>120.000000</td>\n",
       "      <td>99.000000</td>\n",
       "    </tr>\n",
       "  </tbody>\n",
       "</table>\n",
       "</div>"
      ],
      "text/plain": [
       "              price       downpmt      monthdue           age\n",
       "count  24815.000000  24815.000000  24815.000000  24815.000000\n",
       "mean     843.716047    167.825877      8.287717     29.231231\n",
       "std      368.369657    281.634654      7.092833     13.256534\n",
       "min        0.000000      0.000000      0.000000      0.000000\n",
       "25%      587.160000     40.740000      5.500000     23.000000\n",
       "50%      839.160000     84.000000      6.000000     28.000000\n",
       "75%     1049.160000    147.000000      9.000000     36.000000\n",
       "max     7871.850000   7871.850000    120.000000     99.000000"
      ]
     },
     "execution_count": 9,
     "metadata": {},
     "output_type": "execute_result"
    }
   ],
   "source": [
    "#for numerical features\n",
    "churn_data[['price', 'downpmt', 'monthdue', 'age']].describe()"
   ]
  },
  {
   "cell_type": "code",
   "execution_count": 10,
   "id": "9141cc44",
   "metadata": {},
   "outputs": [
    {
     "data": {
      "text/html": [
       "<div>\n",
       "<style scoped>\n",
       "    .dataframe tbody tr th:only-of-type {\n",
       "        vertical-align: middle;\n",
       "    }\n",
       "\n",
       "    .dataframe tbody tr th {\n",
       "        vertical-align: top;\n",
       "    }\n",
       "\n",
       "    .dataframe thead th {\n",
       "        text-align: right;\n",
       "    }\n",
       "</style>\n",
       "<table border=\"1\" class=\"dataframe\">\n",
       "  <thead>\n",
       "    <tr style=\"text-align: right;\">\n",
       "      <th></th>\n",
       "      <th>pmttype</th>\n",
       "      <th>use</th>\n",
       "      <th>gender_desc</th>\n",
       "      <th>churn</th>\n",
       "    </tr>\n",
       "  </thead>\n",
       "  <tbody>\n",
       "    <tr>\n",
       "      <th>count</th>\n",
       "      <td>24815</td>\n",
       "      <td>24815.000000</td>\n",
       "      <td>24815</td>\n",
       "      <td>24815</td>\n",
       "    </tr>\n",
       "    <tr>\n",
       "      <th>unique</th>\n",
       "      <td>4</td>\n",
       "      <td>NaN</td>\n",
       "      <td>2</td>\n",
       "      <td>2</td>\n",
       "    </tr>\n",
       "    <tr>\n",
       "      <th>top</th>\n",
       "      <td>Cash</td>\n",
       "      <td>NaN</td>\n",
       "      <td>Female</td>\n",
       "      <td>No Churn</td>\n",
       "    </tr>\n",
       "    <tr>\n",
       "      <th>freq</th>\n",
       "      <td>7743</td>\n",
       "      <td>NaN</td>\n",
       "      <td>12452</td>\n",
       "      <td>21958</td>\n",
       "    </tr>\n",
       "    <tr>\n",
       "      <th>mean</th>\n",
       "      <td>NaN</td>\n",
       "      <td>1.945839</td>\n",
       "      <td>NaN</td>\n",
       "      <td>NaN</td>\n",
       "    </tr>\n",
       "    <tr>\n",
       "      <th>std</th>\n",
       "      <td>NaN</td>\n",
       "      <td>2.315952</td>\n",
       "      <td>NaN</td>\n",
       "      <td>NaN</td>\n",
       "    </tr>\n",
       "    <tr>\n",
       "      <th>min</th>\n",
       "      <td>NaN</td>\n",
       "      <td>0.000000</td>\n",
       "      <td>NaN</td>\n",
       "      <td>NaN</td>\n",
       "    </tr>\n",
       "    <tr>\n",
       "      <th>25%</th>\n",
       "      <td>NaN</td>\n",
       "      <td>0.000000</td>\n",
       "      <td>NaN</td>\n",
       "      <td>NaN</td>\n",
       "    </tr>\n",
       "    <tr>\n",
       "      <th>50%</th>\n",
       "      <td>NaN</td>\n",
       "      <td>1.000000</td>\n",
       "      <td>NaN</td>\n",
       "      <td>NaN</td>\n",
       "    </tr>\n",
       "    <tr>\n",
       "      <th>75%</th>\n",
       "      <td>NaN</td>\n",
       "      <td>3.000000</td>\n",
       "      <td>NaN</td>\n",
       "      <td>NaN</td>\n",
       "    </tr>\n",
       "    <tr>\n",
       "      <th>max</th>\n",
       "      <td>NaN</td>\n",
       "      <td>8.000000</td>\n",
       "      <td>NaN</td>\n",
       "      <td>NaN</td>\n",
       "    </tr>\n",
       "  </tbody>\n",
       "</table>\n",
       "</div>"
      ],
      "text/plain": [
       "       pmttype           use gender_desc     churn\n",
       "count    24815  24815.000000       24815     24815\n",
       "unique       4           NaN           2         2\n",
       "top       Cash           NaN      Female  No Churn\n",
       "freq      7743           NaN       12452     21958\n",
       "mean       NaN      1.945839         NaN       NaN\n",
       "std        NaN      2.315952         NaN       NaN\n",
       "min        NaN      0.000000         NaN       NaN\n",
       "25%        NaN      0.000000         NaN       NaN\n",
       "50%        NaN      1.000000         NaN       NaN\n",
       "75%        NaN      3.000000         NaN       NaN\n",
       "max        NaN      8.000000         NaN       NaN"
      ]
     },
     "execution_count": 10,
     "metadata": {},
     "output_type": "execute_result"
    }
   ],
   "source": [
    "#adding descriptive columns for readability\n",
    "\n",
    "churn_data[\"gender_desc\"] = np.where(churn_data[\"gender\"] == 1, \"Female\", \"Male\")\n",
    "churn_data[\"churn\"] = np.where(churn_data[\"default\"] == 1, \"Churn\", \"No Churn\")\n",
    "\n",
    "churn_data[['pmttype', 'use', 'gender_desc', 'churn']].describe(include='all')"
   ]
  },
  {
   "cell_type": "code",
   "execution_count": 11,
   "id": "4dd42f83",
   "metadata": {},
   "outputs": [
    {
     "data": {
      "text/plain": [
       "0    9900\n",
       "1    5769\n",
       "6    2461\n",
       "3    2385\n",
       "4    1483\n",
       "5    1124\n",
       "7     792\n",
       "2     618\n",
       "8     283\n",
       "Name: use, dtype: int64"
      ]
     },
     "execution_count": 11,
     "metadata": {},
     "output_type": "execute_result"
    }
   ],
   "source": [
    "#for understanding categorical features\n",
    "churn_data['use'].value_counts()"
   ]
  },
  {
   "cell_type": "code",
   "execution_count": 12,
   "id": "a8b6d64a",
   "metadata": {},
   "outputs": [
    {
     "data": {
      "text/plain": [
       "Female    12452\n",
       "Male      12363\n",
       "Name: gender_desc, dtype: int64"
      ]
     },
     "execution_count": 12,
     "metadata": {},
     "output_type": "execute_result"
    }
   ],
   "source": [
    "churn_data['gender_desc'].value_counts()"
   ]
  },
  {
   "cell_type": "code",
   "execution_count": 13,
   "id": "1317cfed",
   "metadata": {},
   "outputs": [
    {
     "data": {
      "text/plain": [
       "Cash           7743\n",
       "CreditCard     6035\n",
       "DirectDebit    5899\n",
       "Cheque         5138\n",
       "Name: pmttype, dtype: int64"
      ]
     },
     "execution_count": 13,
     "metadata": {},
     "output_type": "execute_result"
    }
   ],
   "source": [
    "churn_data['pmttype'].value_counts()"
   ]
  },
  {
   "cell_type": "code",
   "execution_count": 14,
   "id": "5b5570a3",
   "metadata": {},
   "outputs": [
    {
     "data": {
      "text/plain": [
       "0    9900\n",
       "1    5769\n",
       "6    2461\n",
       "3    2385\n",
       "4    1483\n",
       "5    1124\n",
       "7     792\n",
       "2     618\n",
       "8     283\n",
       "Name: use, dtype: int64"
      ]
     },
     "execution_count": 14,
     "metadata": {},
     "output_type": "execute_result"
    }
   ],
   "source": [
    "churn_data['use'].value_counts()"
   ]
  },
  {
   "cell_type": "code",
   "execution_count": 15,
   "id": "87ebade0",
   "metadata": {},
   "outputs": [
    {
     "data": {
      "text/plain": [
       "No Churn    21958\n",
       "Churn        2857\n",
       "Name: churn, dtype: int64"
      ]
     },
     "execution_count": 15,
     "metadata": {},
     "output_type": "execute_result"
    }
   ],
   "source": [
    "churn_data['churn'].value_counts()"
   ]
  },
  {
   "cell_type": "markdown",
   "id": "6a50d0ad",
   "metadata": {},
   "source": [
    "### 3. Visualisation"
   ]
  },
  {
   "cell_type": "code",
   "execution_count": 16,
   "id": "cb79dbd8",
   "metadata": {},
   "outputs": [
    {
     "data": {
      "image/png": "[encoded data removed]",
      "text/plain": [
       "<Figure size 1080x720 with 9 Axes>"
      ]
     },
     "metadata": {
      "needs_background": "light"
     },
     "output_type": "display_data"
    }
   ],
   "source": [
    "#Plotting histograms to visualize the data\n",
    "churn_data.hist(bins=8, figsize=[15,10],color=\"maroon\")\n",
    "plt.show()"
   ]
  },
  {
   "cell_type": "code",
   "execution_count": 17,
   "id": "08ef9961",
   "metadata": {},
   "outputs": [
    {
     "data": {
      "image/png": "[encoded data removed]",
      "text/plain": [
       "<Figure size 1080x720 with 9 Axes>"
      ]
     },
     "metadata": {
      "needs_background": "light"
     },
     "output_type": "display_data"
    }
   ],
   "source": [
    "#histogram for customers who have churned\n",
    "churn_data[churn_data.default==1].hist(bins=8, figsize=[15,10],color=\"maroon\")\n",
    "plt.show()"
   ]
  },
  {
   "cell_type": "markdown",
   "id": "b0424a59",
   "metadata": {},
   "source": [
    "<b>Comparing the two sets of histograms and studying the shift in patterns, we can identify that </b>\n",
    "\n",
    "1. Female customers are more likely to churn\n",
    "2. Customers putting in lower downpayment are more highly likely to churn\n",
    "3. We have to focus on retaining customers between the ages of 20 to 40\n",
    "4. Customers who visit the gym less frequently should be encouraged to work out more often in order to retain them"
   ]
  },
  {
   "cell_type": "code",
   "execution_count": 18,
   "id": "a5d8fce1",
   "metadata": {},
   "outputs": [
    {
     "data": {
      "text/html": [
       "<div>\n",
       "<style scoped>\n",
       "    .dataframe tbody tr th:only-of-type {\n",
       "        vertical-align: middle;\n",
       "    }\n",
       "\n",
       "    .dataframe tbody tr th {\n",
       "        vertical-align: top;\n",
       "    }\n",
       "\n",
       "    .dataframe thead th {\n",
       "        text-align: right;\n",
       "    }\n",
       "</style>\n",
       "<table border=\"1\" class=\"dataframe\">\n",
       "  <thead>\n",
       "    <tr style=\"text-align: right;\">\n",
       "      <th></th>\n",
       "      <th>enrolldt</th>\n",
       "      <th>price</th>\n",
       "      <th>downpmt</th>\n",
       "      <th>monthdue</th>\n",
       "      <th>use</th>\n",
       "      <th>age</th>\n",
       "      <th>gender</th>\n",
       "      <th>default</th>\n",
       "    </tr>\n",
       "  </thead>\n",
       "  <tbody>\n",
       "    <tr>\n",
       "      <th>enrolldt</th>\n",
       "      <td>1.000000</td>\n",
       "      <td>0.194471</td>\n",
       "      <td>-0.097325</td>\n",
       "      <td>0.039942</td>\n",
       "      <td>0.182243</td>\n",
       "      <td>-0.080336</td>\n",
       "      <td>0.001567</td>\n",
       "      <td>-0.091687</td>\n",
       "    </tr>\n",
       "    <tr>\n",
       "      <th>price</th>\n",
       "      <td>0.194471</td>\n",
       "      <td>1.000000</td>\n",
       "      <td>0.277302</td>\n",
       "      <td>-0.137453</td>\n",
       "      <td>-0.060317</td>\n",
       "      <td>-0.101464</td>\n",
       "      <td>-0.015329</td>\n",
       "      <td>0.038672</td>\n",
       "    </tr>\n",
       "    <tr>\n",
       "      <th>downpmt</th>\n",
       "      <td>-0.097325</td>\n",
       "      <td>0.277302</td>\n",
       "      <td>1.000000</td>\n",
       "      <td>-0.035499</td>\n",
       "      <td>0.006492</td>\n",
       "      <td>0.000668</td>\n",
       "      <td>0.005611</td>\n",
       "      <td>-0.154977</td>\n",
       "    </tr>\n",
       "    <tr>\n",
       "      <th>monthdue</th>\n",
       "      <td>0.039942</td>\n",
       "      <td>-0.137453</td>\n",
       "      <td>-0.035499</td>\n",
       "      <td>1.000000</td>\n",
       "      <td>0.022808</td>\n",
       "      <td>0.002375</td>\n",
       "      <td>0.001602</td>\n",
       "      <td>-0.030100</td>\n",
       "    </tr>\n",
       "    <tr>\n",
       "      <th>use</th>\n",
       "      <td>0.182243</td>\n",
       "      <td>-0.060317</td>\n",
       "      <td>0.006492</td>\n",
       "      <td>0.022808</td>\n",
       "      <td>1.000000</td>\n",
       "      <td>0.059366</td>\n",
       "      <td>0.099929</td>\n",
       "      <td>-0.244684</td>\n",
       "    </tr>\n",
       "    <tr>\n",
       "      <th>age</th>\n",
       "      <td>-0.080336</td>\n",
       "      <td>-0.101464</td>\n",
       "      <td>0.000668</td>\n",
       "      <td>0.002375</td>\n",
       "      <td>0.059366</td>\n",
       "      <td>1.000000</td>\n",
       "      <td>0.022226</td>\n",
       "      <td>-0.056513</td>\n",
       "    </tr>\n",
       "    <tr>\n",
       "      <th>gender</th>\n",
       "      <td>0.001567</td>\n",
       "      <td>-0.015329</td>\n",
       "      <td>0.005611</td>\n",
       "      <td>0.001602</td>\n",
       "      <td>0.099929</td>\n",
       "      <td>0.022226</td>\n",
       "      <td>1.000000</td>\n",
       "      <td>0.038477</td>\n",
       "    </tr>\n",
       "    <tr>\n",
       "      <th>default</th>\n",
       "      <td>-0.091687</td>\n",
       "      <td>0.038672</td>\n",
       "      <td>-0.154977</td>\n",
       "      <td>-0.030100</td>\n",
       "      <td>-0.244684</td>\n",
       "      <td>-0.056513</td>\n",
       "      <td>0.038477</td>\n",
       "      <td>1.000000</td>\n",
       "    </tr>\n",
       "  </tbody>\n",
       "</table>\n",
       "</div>"
      ],
      "text/plain": [
       "          enrolldt     price   downpmt  monthdue       use       age  \\\n",
       "enrolldt  1.000000  0.194471 -0.097325  0.039942  0.182243 -0.080336   \n",
       "price     0.194471  1.000000  0.277302 -0.137453 -0.060317 -0.101464   \n",
       "downpmt  -0.097325  0.277302  1.000000 -0.035499  0.006492  0.000668   \n",
       "monthdue  0.039942 -0.137453 -0.035499  1.000000  0.022808  0.002375   \n",
       "use       0.182243 -0.060317  0.006492  0.022808  1.000000  0.059366   \n",
       "age      -0.080336 -0.101464  0.000668  0.002375  0.059366  1.000000   \n",
       "gender    0.001567 -0.015329  0.005611  0.001602  0.099929  0.022226   \n",
       "default  -0.091687  0.038672 -0.154977 -0.030100 -0.244684 -0.056513   \n",
       "\n",
       "            gender   default  \n",
       "enrolldt  0.001567 -0.091687  \n",
       "price    -0.015329  0.038672  \n",
       "downpmt   0.005611 -0.154977  \n",
       "monthdue  0.001602 -0.030100  \n",
       "use       0.099929 -0.244684  \n",
       "age       0.022226 -0.056513  \n",
       "gender    1.000000  0.038477  \n",
       "default   0.038477  1.000000  "
      ]
     },
     "execution_count": 18,
     "metadata": {},
     "output_type": "execute_result"
    }
   ],
   "source": [
    "#finding the correlation\n",
    "churn_data.corr()"
   ]
  },
  {
   "cell_type": "code",
   "execution_count": 19,
   "id": "416376cc",
   "metadata": {},
   "outputs": [
    {
     "data": {
      "text/plain": [
       "<AxesSubplot:>"
      ]
     },
     "execution_count": 19,
     "metadata": {},
     "output_type": "execute_result"
    },
    {
     "data": {
      "image/png": "[encoded data removed]",
      "text/plain": [
       "<Figure size 432x288 with 2 Axes>"
      ]
     },
     "metadata": {
      "needs_background": "light"
     },
     "output_type": "display_data"
    }
   ],
   "source": [
    "#visulaize the correlation using heatmap\n",
    "sns.heatmap(churn_data.corr(),annot=True, vmin=0, vmax=1)\n"
   ]
  },
  {
   "cell_type": "markdown",
   "id": "cb483d66",
   "metadata": {},
   "source": [
    "### 4. Data Pre-processing"
   ]
  },
  {
   "cell_type": "code",
   "execution_count": 20,
   "id": "9d6763ef",
   "metadata": {},
   "outputs": [],
   "source": [
    "#from the descriptive statistics of age (min and max) we can notice that age data needs to be cleaned\n",
    "churn_data = churn_data[(churn_data.age >16 ) & (churn_data.age < 80)]"
   ]
  },
  {
   "cell_type": "code",
   "execution_count": 21,
   "id": "b1ae1cb0",
   "metadata": {},
   "outputs": [],
   "source": [
    "#convert enrolldt datatype \n",
    "churn_data['enrolldt'] = churn_data['enrolldt'].apply(lambda x: pd.to_datetime(str(x), format='%Y%m%d'))"
   ]
  },
  {
   "cell_type": "code",
   "execution_count": 22,
   "id": "f6c566fe",
   "metadata": {},
   "outputs": [
    {
     "data": {
      "text/html": [
       "<div>\n",
       "<style scoped>\n",
       "    .dataframe tbody tr th:only-of-type {\n",
       "        vertical-align: middle;\n",
       "    }\n",
       "\n",
       "    .dataframe tbody tr th {\n",
       "        vertical-align: top;\n",
       "    }\n",
       "\n",
       "    .dataframe thead th {\n",
       "        text-align: right;\n",
       "    }\n",
       "</style>\n",
       "<table border=\"1\" class=\"dataframe\">\n",
       "  <thead>\n",
       "    <tr style=\"text-align: right;\">\n",
       "      <th></th>\n",
       "      <th>enrolldt</th>\n",
       "      <th>price</th>\n",
       "      <th>downpmt</th>\n",
       "      <th>monthdue</th>\n",
       "      <th>pmttype</th>\n",
       "      <th>use</th>\n",
       "      <th>age</th>\n",
       "      <th>gender</th>\n",
       "      <th>default</th>\n",
       "      <th>gender_desc</th>\n",
       "      <th>churn</th>\n",
       "    </tr>\n",
       "  </thead>\n",
       "  <tbody>\n",
       "    <tr>\n",
       "      <th>2241</th>\n",
       "      <td>2019-01-06</td>\n",
       "      <td>1827.0000</td>\n",
       "      <td>336.0000</td>\n",
       "      <td>5.50</td>\n",
       "      <td>Cheque</td>\n",
       "      <td>0</td>\n",
       "      <td>17</td>\n",
       "      <td>0</td>\n",
       "      <td>0</td>\n",
       "      <td>Male</td>\n",
       "      <td>No Churn</td>\n",
       "    </tr>\n",
       "    <tr>\n",
       "      <th>2242</th>\n",
       "      <td>2019-01-19</td>\n",
       "      <td>462.8820</td>\n",
       "      <td>385.5852</td>\n",
       "      <td>28.89</td>\n",
       "      <td>Cash</td>\n",
       "      <td>6</td>\n",
       "      <td>17</td>\n",
       "      <td>0</td>\n",
       "      <td>0</td>\n",
       "      <td>Male</td>\n",
       "      <td>No Churn</td>\n",
       "    </tr>\n",
       "    <tr>\n",
       "      <th>2243</th>\n",
       "      <td>2019-01-27</td>\n",
       "      <td>1544.0796</td>\n",
       "      <td>84.0000</td>\n",
       "      <td>5.86</td>\n",
       "      <td>Cash</td>\n",
       "      <td>0</td>\n",
       "      <td>17</td>\n",
       "      <td>0</td>\n",
       "      <td>1</td>\n",
       "      <td>Male</td>\n",
       "      <td>Churn</td>\n",
       "    </tr>\n",
       "    <tr>\n",
       "      <th>2244</th>\n",
       "      <td>2019-01-30</td>\n",
       "      <td>1827.0000</td>\n",
       "      <td>1827.0000</td>\n",
       "      <td>6.00</td>\n",
       "      <td>Cash</td>\n",
       "      <td>0</td>\n",
       "      <td>17</td>\n",
       "      <td>1</td>\n",
       "      <td>0</td>\n",
       "      <td>Female</td>\n",
       "      <td>No Churn</td>\n",
       "    </tr>\n",
       "    <tr>\n",
       "      <th>2245</th>\n",
       "      <td>2019-02-08</td>\n",
       "      <td>1230.1296</td>\n",
       "      <td>1230.1296</td>\n",
       "      <td>11.00</td>\n",
       "      <td>Cash</td>\n",
       "      <td>0</td>\n",
       "      <td>17</td>\n",
       "      <td>1</td>\n",
       "      <td>0</td>\n",
       "      <td>Female</td>\n",
       "      <td>No Churn</td>\n",
       "    </tr>\n",
       "  </tbody>\n",
       "</table>\n",
       "</div>"
      ],
      "text/plain": [
       "       enrolldt      price    downpmt  monthdue pmttype  use  age  gender  \\\n",
       "2241 2019-01-06  1827.0000   336.0000      5.50  Cheque    0   17       0   \n",
       "2242 2019-01-19   462.8820   385.5852     28.89    Cash    6   17       0   \n",
       "2243 2019-01-27  1544.0796    84.0000      5.86    Cash    0   17       0   \n",
       "2244 2019-01-30  1827.0000  1827.0000      6.00    Cash    0   17       1   \n",
       "2245 2019-02-08  1230.1296  1230.1296     11.00    Cash    0   17       1   \n",
       "\n",
       "      default gender_desc     churn  \n",
       "2241        0        Male  No Churn  \n",
       "2242        0        Male  No Churn  \n",
       "2243        1        Male     Churn  \n",
       "2244        0      Female  No Churn  \n",
       "2245        0      Female  No Churn  "
      ]
     },
     "execution_count": 22,
     "metadata": {},
     "output_type": "execute_result"
    }
   ],
   "source": [
    "churn_data.head()"
   ]
  },
  {
   "cell_type": "code",
   "execution_count": 23,
   "id": "ed5b58db",
   "metadata": {},
   "outputs": [
    {
     "data": {
      "text/html": [
       "<div>\n",
       "<style scoped>\n",
       "    .dataframe tbody tr th:only-of-type {\n",
       "        vertical-align: middle;\n",
       "    }\n",
       "\n",
       "    .dataframe tbody tr th {\n",
       "        vertical-align: top;\n",
       "    }\n",
       "\n",
       "    .dataframe thead th {\n",
       "        text-align: right;\n",
       "    }\n",
       "</style>\n",
       "<table border=\"1\" class=\"dataframe\">\n",
       "  <thead>\n",
       "    <tr style=\"text-align: right;\">\n",
       "      <th></th>\n",
       "      <th></th>\n",
       "      <th>count</th>\n",
       "    </tr>\n",
       "    <tr>\n",
       "      <th>enrolldt</th>\n",
       "      <th>enrolldt</th>\n",
       "      <th></th>\n",
       "    </tr>\n",
       "  </thead>\n",
       "  <tbody>\n",
       "    <tr>\n",
       "      <th rowspan=\"12\" valign=\"top\">2019</th>\n",
       "      <th>1</th>\n",
       "      <td>885</td>\n",
       "    </tr>\n",
       "    <tr>\n",
       "      <th>2</th>\n",
       "      <td>659</td>\n",
       "    </tr>\n",
       "    <tr>\n",
       "      <th>3</th>\n",
       "      <td>701</td>\n",
       "    </tr>\n",
       "    <tr>\n",
       "      <th>4</th>\n",
       "      <td>610</td>\n",
       "    </tr>\n",
       "    <tr>\n",
       "      <th>5</th>\n",
       "      <td>668</td>\n",
       "    </tr>\n",
       "    <tr>\n",
       "      <th>6</th>\n",
       "      <td>651</td>\n",
       "    </tr>\n",
       "    <tr>\n",
       "      <th>7</th>\n",
       "      <td>894</td>\n",
       "    </tr>\n",
       "    <tr>\n",
       "      <th>8</th>\n",
       "      <td>927</td>\n",
       "    </tr>\n",
       "    <tr>\n",
       "      <th>9</th>\n",
       "      <td>802</td>\n",
       "    </tr>\n",
       "    <tr>\n",
       "      <th>10</th>\n",
       "      <td>683</td>\n",
       "    </tr>\n",
       "    <tr>\n",
       "      <th>11</th>\n",
       "      <td>720</td>\n",
       "    </tr>\n",
       "    <tr>\n",
       "      <th>12</th>\n",
       "      <td>843</td>\n",
       "    </tr>\n",
       "    <tr>\n",
       "      <th rowspan=\"12\" valign=\"top\">2020</th>\n",
       "      <th>1</th>\n",
       "      <td>938</td>\n",
       "    </tr>\n",
       "    <tr>\n",
       "      <th>2</th>\n",
       "      <td>747</td>\n",
       "    </tr>\n",
       "    <tr>\n",
       "      <th>3</th>\n",
       "      <td>861</td>\n",
       "    </tr>\n",
       "    <tr>\n",
       "      <th>4</th>\n",
       "      <td>734</td>\n",
       "    </tr>\n",
       "    <tr>\n",
       "      <th>5</th>\n",
       "      <td>760</td>\n",
       "    </tr>\n",
       "    <tr>\n",
       "      <th>6</th>\n",
       "      <td>748</td>\n",
       "    </tr>\n",
       "    <tr>\n",
       "      <th>7</th>\n",
       "      <td>969</td>\n",
       "    </tr>\n",
       "    <tr>\n",
       "      <th>8</th>\n",
       "      <td>1083</td>\n",
       "    </tr>\n",
       "    <tr>\n",
       "      <th>9</th>\n",
       "      <td>835</td>\n",
       "    </tr>\n",
       "    <tr>\n",
       "      <th>10</th>\n",
       "      <td>795</td>\n",
       "    </tr>\n",
       "    <tr>\n",
       "      <th>11</th>\n",
       "      <td>795</td>\n",
       "    </tr>\n",
       "    <tr>\n",
       "      <th>12</th>\n",
       "      <td>909</td>\n",
       "    </tr>\n",
       "    <tr>\n",
       "      <th rowspan=\"3\" valign=\"top\">2021</th>\n",
       "      <th>1</th>\n",
       "      <td>1192</td>\n",
       "    </tr>\n",
       "    <tr>\n",
       "      <th>2</th>\n",
       "      <td>1055</td>\n",
       "    </tr>\n",
       "    <tr>\n",
       "      <th>3</th>\n",
       "      <td>1115</td>\n",
       "    </tr>\n",
       "  </tbody>\n",
       "</table>\n",
       "</div>"
      ],
      "text/plain": [
       "                   count\n",
       "enrolldt enrolldt       \n",
       "2019     1           885\n",
       "         2           659\n",
       "         3           701\n",
       "         4           610\n",
       "         5           668\n",
       "         6           651\n",
       "         7           894\n",
       "         8           927\n",
       "         9           802\n",
       "         10          683\n",
       "         11          720\n",
       "         12          843\n",
       "2020     1           938\n",
       "         2           747\n",
       "         3           861\n",
       "         4           734\n",
       "         5           760\n",
       "         6           748\n",
       "         7           969\n",
       "         8          1083\n",
       "         9           835\n",
       "         10          795\n",
       "         11          795\n",
       "         12          909\n",
       "2021     1          1192\n",
       "         2          1055\n",
       "         3          1115"
      ]
     },
     "execution_count": 23,
     "metadata": {},
     "output_type": "execute_result"
    }
   ],
   "source": [
    "#grouping by year and month\n",
    "churn_data.groupby([(churn_data.enrolldt.dt.year),(churn_data.enrolldt.dt.month)])['enrolldt'].agg(['count'])"
   ]
  },
  {
   "cell_type": "code",
   "execution_count": 24,
   "id": "20a6f11f",
   "metadata": {},
   "outputs": [
    {
     "data": {
      "text/html": [
       "<div>\n",
       "<style scoped>\n",
       "    .dataframe tbody tr th:only-of-type {\n",
       "        vertical-align: middle;\n",
       "    }\n",
       "\n",
       "    .dataframe tbody tr th {\n",
       "        vertical-align: top;\n",
       "    }\n",
       "\n",
       "    .dataframe thead th {\n",
       "        text-align: right;\n",
       "    }\n",
       "</style>\n",
       "<table border=\"1\" class=\"dataframe\">\n",
       "  <thead>\n",
       "    <tr style=\"text-align: right;\">\n",
       "      <th></th>\n",
       "      <th></th>\n",
       "      <th>count</th>\n",
       "    </tr>\n",
       "    <tr>\n",
       "      <th>enrolldt</th>\n",
       "      <th>pmttype</th>\n",
       "      <th></th>\n",
       "    </tr>\n",
       "  </thead>\n",
       "  <tbody>\n",
       "    <tr>\n",
       "      <th rowspan=\"4\" valign=\"top\">2019</th>\n",
       "      <th>Cash</th>\n",
       "      <td>4749</td>\n",
       "    </tr>\n",
       "    <tr>\n",
       "      <th>Cheque</th>\n",
       "      <td>633</td>\n",
       "    </tr>\n",
       "    <tr>\n",
       "      <th>CreditCard</th>\n",
       "      <td>2141</td>\n",
       "    </tr>\n",
       "    <tr>\n",
       "      <th>DirectDebit</th>\n",
       "      <td>1520</td>\n",
       "    </tr>\n",
       "    <tr>\n",
       "      <th rowspan=\"4\" valign=\"top\">2020</th>\n",
       "      <th>Cash</th>\n",
       "      <td>2140</td>\n",
       "    </tr>\n",
       "    <tr>\n",
       "      <th>Cheque</th>\n",
       "      <td>2681</td>\n",
       "    </tr>\n",
       "    <tr>\n",
       "      <th>CreditCard</th>\n",
       "      <td>2592</td>\n",
       "    </tr>\n",
       "    <tr>\n",
       "      <th>DirectDebit</th>\n",
       "      <td>2761</td>\n",
       "    </tr>\n",
       "    <tr>\n",
       "      <th rowspan=\"3\" valign=\"top\">2021</th>\n",
       "      <th>Cheque</th>\n",
       "      <td>1393</td>\n",
       "    </tr>\n",
       "    <tr>\n",
       "      <th>CreditCard</th>\n",
       "      <td>813</td>\n",
       "    </tr>\n",
       "    <tr>\n",
       "      <th>DirectDebit</th>\n",
       "      <td>1156</td>\n",
       "    </tr>\n",
       "  </tbody>\n",
       "</table>\n",
       "</div>"
      ],
      "text/plain": [
       "                      count\n",
       "enrolldt pmttype           \n",
       "2019     Cash          4749\n",
       "         Cheque         633\n",
       "         CreditCard    2141\n",
       "         DirectDebit   1520\n",
       "2020     Cash          2140\n",
       "         Cheque        2681\n",
       "         CreditCard    2592\n",
       "         DirectDebit   2761\n",
       "2021     Cheque        1393\n",
       "         CreditCard     813\n",
       "         DirectDebit   1156"
      ]
     },
     "execution_count": 24,
     "metadata": {},
     "output_type": "execute_result"
    }
   ],
   "source": [
    "#finding payment type by year\n",
    "churn_data.groupby([(churn_data.enrolldt.dt.year),churn_data.pmttype])['enrolldt'].agg(['count'])"
   ]
  },
  {
   "cell_type": "markdown",
   "id": "ec5d6ec8",
   "metadata": {},
   "source": [
    "We can see that 2021 has only data for 3 months and the payment type Cash is not present. In order to provide complete information from 2 whole years 2019 and 2020, we can keep aside the 2021 data\n",
    "\n",
    "\n",
    "\n",
    "\n"
   ]
  },
  {
   "cell_type": "code",
   "execution_count": 25,
   "id": "067d29ff",
   "metadata": {},
   "outputs": [],
   "source": [
    "churn_data_new = churn_data[churn_data.enrolldt.dt.year!=2021].reset_index()"
   ]
  },
  {
   "cell_type": "code",
   "execution_count": 26,
   "id": "26a1231a",
   "metadata": {},
   "outputs": [],
   "source": [
    "#picking relevant columns for the model input\n",
    "churn_data_new = churn_data_new[['price', 'downpmt', 'monthdue', 'pmttype', 'use', 'age',\n",
    "       'gender', 'default']]"
   ]
  },
  {
   "cell_type": "code",
   "execution_count": 27,
   "id": "2f91ff3d",
   "metadata": {},
   "outputs": [],
   "source": [
    "#convert categorical data into dummy or indicator variables for payment type column and the frequency of use columns \n",
    "churn_data_new = pd.get_dummies(churn_data_new, columns = ['pmttype', 'use'], prefix = ['pmttype', 'use'])"
   ]
  },
  {
   "cell_type": "code",
   "execution_count": 28,
   "id": "d9229e19",
   "metadata": {},
   "outputs": [
    {
     "data": {
      "text/html": [
       "<div>\n",
       "<style scoped>\n",
       "    .dataframe tbody tr th:only-of-type {\n",
       "        vertical-align: middle;\n",
       "    }\n",
       "\n",
       "    .dataframe tbody tr th {\n",
       "        vertical-align: top;\n",
       "    }\n",
       "\n",
       "    .dataframe thead th {\n",
       "        text-align: right;\n",
       "    }\n",
       "</style>\n",
       "<table border=\"1\" class=\"dataframe\">\n",
       "  <thead>\n",
       "    <tr style=\"text-align: right;\">\n",
       "      <th></th>\n",
       "      <th>price</th>\n",
       "      <th>downpmt</th>\n",
       "      <th>monthdue</th>\n",
       "      <th>age</th>\n",
       "      <th>gender</th>\n",
       "      <th>default</th>\n",
       "      <th>pmttype_Cash</th>\n",
       "      <th>pmttype_Cheque</th>\n",
       "      <th>pmttype_CreditCard</th>\n",
       "      <th>pmttype_DirectDebit</th>\n",
       "      <th>use_0</th>\n",
       "      <th>use_1</th>\n",
       "      <th>use_2</th>\n",
       "      <th>use_3</th>\n",
       "      <th>use_4</th>\n",
       "      <th>use_5</th>\n",
       "      <th>use_6</th>\n",
       "      <th>use_7</th>\n",
       "      <th>use_8</th>\n",
       "    </tr>\n",
       "  </thead>\n",
       "  <tbody>\n",
       "    <tr>\n",
       "      <th>0</th>\n",
       "      <td>1827.0000</td>\n",
       "      <td>336.0000</td>\n",
       "      <td>5.50</td>\n",
       "      <td>17</td>\n",
       "      <td>0</td>\n",
       "      <td>0</td>\n",
       "      <td>0</td>\n",
       "      <td>1</td>\n",
       "      <td>0</td>\n",
       "      <td>0</td>\n",
       "      <td>1</td>\n",
       "      <td>0</td>\n",
       "      <td>0</td>\n",
       "      <td>0</td>\n",
       "      <td>0</td>\n",
       "      <td>0</td>\n",
       "      <td>0</td>\n",
       "      <td>0</td>\n",
       "      <td>0</td>\n",
       "    </tr>\n",
       "    <tr>\n",
       "      <th>1</th>\n",
       "      <td>462.8820</td>\n",
       "      <td>385.5852</td>\n",
       "      <td>28.89</td>\n",
       "      <td>17</td>\n",
       "      <td>0</td>\n",
       "      <td>0</td>\n",
       "      <td>1</td>\n",
       "      <td>0</td>\n",
       "      <td>0</td>\n",
       "      <td>0</td>\n",
       "      <td>0</td>\n",
       "      <td>0</td>\n",
       "      <td>0</td>\n",
       "      <td>0</td>\n",
       "      <td>0</td>\n",
       "      <td>0</td>\n",
       "      <td>1</td>\n",
       "      <td>0</td>\n",
       "      <td>0</td>\n",
       "    </tr>\n",
       "    <tr>\n",
       "      <th>2</th>\n",
       "      <td>1544.0796</td>\n",
       "      <td>84.0000</td>\n",
       "      <td>5.86</td>\n",
       "      <td>17</td>\n",
       "      <td>0</td>\n",
       "      <td>1</td>\n",
       "      <td>1</td>\n",
       "      <td>0</td>\n",
       "      <td>0</td>\n",
       "      <td>0</td>\n",
       "      <td>1</td>\n",
       "      <td>0</td>\n",
       "      <td>0</td>\n",
       "      <td>0</td>\n",
       "      <td>0</td>\n",
       "      <td>0</td>\n",
       "      <td>0</td>\n",
       "      <td>0</td>\n",
       "      <td>0</td>\n",
       "    </tr>\n",
       "    <tr>\n",
       "      <th>3</th>\n",
       "      <td>1827.0000</td>\n",
       "      <td>1827.0000</td>\n",
       "      <td>6.00</td>\n",
       "      <td>17</td>\n",
       "      <td>1</td>\n",
       "      <td>0</td>\n",
       "      <td>1</td>\n",
       "      <td>0</td>\n",
       "      <td>0</td>\n",
       "      <td>0</td>\n",
       "      <td>1</td>\n",
       "      <td>0</td>\n",
       "      <td>0</td>\n",
       "      <td>0</td>\n",
       "      <td>0</td>\n",
       "      <td>0</td>\n",
       "      <td>0</td>\n",
       "      <td>0</td>\n",
       "      <td>0</td>\n",
       "    </tr>\n",
       "    <tr>\n",
       "      <th>4</th>\n",
       "      <td>1230.1296</td>\n",
       "      <td>1230.1296</td>\n",
       "      <td>11.00</td>\n",
       "      <td>17</td>\n",
       "      <td>1</td>\n",
       "      <td>0</td>\n",
       "      <td>1</td>\n",
       "      <td>0</td>\n",
       "      <td>0</td>\n",
       "      <td>0</td>\n",
       "      <td>1</td>\n",
       "      <td>0</td>\n",
       "      <td>0</td>\n",
       "      <td>0</td>\n",
       "      <td>0</td>\n",
       "      <td>0</td>\n",
       "      <td>0</td>\n",
       "      <td>0</td>\n",
       "      <td>0</td>\n",
       "    </tr>\n",
       "  </tbody>\n",
       "</table>\n",
       "</div>"
      ],
      "text/plain": [
       "       price    downpmt  monthdue  age  gender  default  pmttype_Cash  \\\n",
       "0  1827.0000   336.0000      5.50   17       0        0             0   \n",
       "1   462.8820   385.5852     28.89   17       0        0             1   \n",
       "2  1544.0796    84.0000      5.86   17       0        1             1   \n",
       "3  1827.0000  1827.0000      6.00   17       1        0             1   \n",
       "4  1230.1296  1230.1296     11.00   17       1        0             1   \n",
       "\n",
       "   pmttype_Cheque  pmttype_CreditCard  pmttype_DirectDebit  use_0  use_1  \\\n",
       "0               1                   0                    0      1      0   \n",
       "1               0                   0                    0      0      0   \n",
       "2               0                   0                    0      1      0   \n",
       "3               0                   0                    0      1      0   \n",
       "4               0                   0                    0      1      0   \n",
       "\n",
       "   use_2  use_3  use_4  use_5  use_6  use_7  use_8  \n",
       "0      0      0      0      0      0      0      0  \n",
       "1      0      0      0      0      1      0      0  \n",
       "2      0      0      0      0      0      0      0  \n",
       "3      0      0      0      0      0      0      0  \n",
       "4      0      0      0      0      0      0      0  "
      ]
     },
     "execution_count": 28,
     "metadata": {},
     "output_type": "execute_result"
    }
   ],
   "source": [
    "churn_data_new.head()"
   ]
  },
  {
   "cell_type": "code",
   "execution_count": 29,
   "id": "13033433",
   "metadata": {},
   "outputs": [
    {
     "data": {
      "text/plain": [
       "Index(['price', 'downpmt', 'monthdue', 'age', 'gender', 'default',\n",
       "       'pmttype_Cash', 'pmttype_Cheque', 'pmttype_CreditCard',\n",
       "       'pmttype_DirectDebit', 'use_0', 'use_1', 'use_2', 'use_3', 'use_4',\n",
       "       'use_5', 'use_6', 'use_7', 'use_8'],\n",
       "      dtype='object')"
      ]
     },
     "execution_count": 29,
     "metadata": {},
     "output_type": "execute_result"
    }
   ],
   "source": [
    "churn_data_new.columns"
   ]
  },
  {
   "cell_type": "markdown",
   "id": "a2480c77",
   "metadata": {},
   "source": [
    "### 5. Model Building"
   ]
  },
  {
   "cell_type": "markdown",
   "id": "6cc5ddfb",
   "metadata": {},
   "source": [
    "#### Logistic Regression"
   ]
  },
  {
   "cell_type": "code",
   "execution_count": 30,
   "id": "da1b8331",
   "metadata": {},
   "outputs": [],
   "source": [
    "#splitting the features (X) and target (y) variable\n",
    "y = churn_data_new['default']\n",
    "\n",
    "X = churn_data_new.drop('default', axis = 1)"
   ]
  },
  {
   "cell_type": "code",
   "execution_count": 31,
   "id": "6a192f3e",
   "metadata": {},
   "outputs": [],
   "source": [
    "#making the train-test split on the data with 80% for training and 20% for testing\n",
    "X_train, X_test, y_train, y_test = train_test_split(X, y, test_size=0.2, random_state=42, stratify = y)"
   ]
  },
  {
   "cell_type": "code",
   "execution_count": 32,
   "id": "2fdf0efc",
   "metadata": {},
   "outputs": [],
   "source": [
    "#creating the logistic regression model for classification\n",
    "log_reg = LogisticRegression()\n",
    "\n",
    "#fitting the model with the train data\n",
    "log_reg.fit(X_train, y_train)\n",
    "\n",
    "#predicting the values for X_test\n",
    "y_pred = log_reg.predict(X_test)"
   ]
  },
  {
   "cell_type": "markdown",
   "id": "0ddb60e1",
   "metadata": {},
   "source": [
    "### 6. Visualising the outcomes of the prediction and results of the classification model"
   ]
  },
  {
   "cell_type": "markdown",
   "id": "e3aed07a",
   "metadata": {},
   "source": [
    "#### a. Confusion matrix\n",
    "\n",
    "Confusion matrix is a method used to summarize classification algorithm on set of test data for which the true values are previously known. Sometimes it also refers as error matrix. It gives us the following information.\n",
    "\n",
    "True positive [0,0] : TP means model predicted yes and correct answer for that is also yes\n",
    "\n",
    "True negative [1,1] : TN means model predicted no and correct answer for that is also no\n",
    "\n",
    "False positive [0,1] : FP means model predicted yes but actual answer is no\n",
    "\n",
    "False negative [1,0] : FN means model predicted no but actual answer is yes"
   ]
  },
  {
   "cell_type": "code",
   "execution_count": 33,
   "id": "42c49390",
   "metadata": {},
   "outputs": [
    {
     "name": "stdout",
     "output_type": "stream",
     "text": [
      "The confusion matrix is : \n",
      " [[3182  148]\n",
      " [ 272  242]]\n"
     ]
    }
   ],
   "source": [
    "print(\"The confusion matrix is : \\n\", confusion_matrix(y_test, y_pred))\n"
   ]
  },
  {
   "cell_type": "markdown",
   "id": "ce84cbf1",
   "metadata": {},
   "source": [
    "From the confusion matrix we can understand that we have 3182 True Positives and 242 True Negatives. To interpret the model performance from the confusion matrix we can compute Accuracy as follows : \n",
    "\n",
    "<b>Accuracy = ( TP + TN  /Total ) </b>"
   ]
  },
  {
   "cell_type": "code",
   "execution_count": 34,
   "id": "cdee9692",
   "metadata": {},
   "outputs": [
    {
     "name": "stdout",
     "output_type": "stream",
     "text": [
      "Accuracy of the Logistic Regression is : 89.07%\n"
     ]
    }
   ],
   "source": [
    "accuracy = (confusion_matrix(y_test, y_pred)[0][0] + confusion_matrix(y_test, y_pred)[1][1]) / (confusion_matrix(y_test, y_pred)[0][0] + confusion_matrix(y_test, y_pred)[1][1] + \n",
    " confusion_matrix(y_test, y_pred)[0][1] + confusion_matrix(y_test, y_pred)[1][0] ) *100\n",
    "\n",
    "print(\"Accuracy of the Logistic Regression is : \" + str(round(accuracy,2)) + \"%\")"
   ]
  },
  {
   "cell_type": "markdown",
   "id": "0845ab54",
   "metadata": {},
   "source": [
    "#### b. Classification report\n",
    "\n",
    "A Classification report is used to measure the quality of predictions from a classification algorithm. It gives us the precision, recall, f1-score and support metrics which are explained below\n",
    "\n",
    "Precision - Accuracy of positive predictions : TP/(TP + FP)\n",
    "\n",
    "Recall - Percent of the positive cases identified correctly : TP/(TP+FN)\n",
    "\n",
    "F-1 score - 2*(Recall * Precision) / (Recall + Precision)\n"
   ]
  },
  {
   "cell_type": "code",
   "execution_count": 35,
   "id": "2ef78835",
   "metadata": {},
   "outputs": [
    {
     "name": "stdout",
     "output_type": "stream",
     "text": [
      "The Classification report is : \n",
      "               precision    recall  f1-score   support\n",
      "\n",
      "           0       0.92      0.96      0.94      3330\n",
      "           1       0.62      0.47      0.54       514\n",
      "\n",
      "    accuracy                           0.89      3844\n",
      "   macro avg       0.77      0.71      0.74      3844\n",
      "weighted avg       0.88      0.89      0.88      3844\n",
      "\n"
     ]
    }
   ],
   "source": [
    "print(\"The Classification report is : \\n\", classification_report(y_test, y_pred))"
   ]
  },
  {
   "cell_type": "markdown",
   "id": "37e657f3",
   "metadata": {},
   "source": [
    "The F1 score is a weighted harmonic mean of precision and recall. Generally, F1 scores are lower than accuracy measures as they embed precision and recall into their computation. As a rule of thumb, <b>the weighted average of F1 should be used to compare classifier models, not global accuracy.</b>\n",
    "\n",
    "Hence we can identify from the Classification report that model accuracy is <b>88%</b>"
   ]
  },
  {
   "cell_type": "markdown",
   "id": "cdd7889c",
   "metadata": {},
   "source": [
    "#### c. ROC curve (Receiver Operating Characteristic)\n",
    "\n",
    "ROC- Receiver operating characteristic curve will help to summarize model’s performance by calculating trade-offs between TP rate and FN rate and it will plot these 2 parameters. To classify this term AUC (Area under the curve) is introduced which gives summary of ROC curve.\n",
    "\n",
    "The higher the AUC, the better the performance of classifier. \n",
    "We can interpret the AUC values as follows :\n",
    "\n",
    "1) If AUC =0 then classifier is predicting all the positive as negative and negative as positive.\n",
    "\n",
    "2) If 0.5< AUC < 1 means classifier will distinguish the positive class value from negative class value because it is finding more number of TP and TN compared to FP and FN.\n",
    "\n",
    "3) If AUC = 0.5 it means classifier is not able to distinguish between positive and negative values.\n",
    "\n",
    "So we can conclude that higher the value of AUC better its ability to distinguish between positive and negative classes."
   ]
  },
  {
   "cell_type": "code",
   "execution_count": 36,
   "id": "7ec1febd",
   "metadata": {},
   "outputs": [],
   "source": [
    "#creating a ROC curve\n",
    "y_pred_prob = log_reg.predict_proba(X_test)[::,1]\n",
    "fpr,tpr,_ = metrics.roc_curve(y_test, y_pred_prob)\n",
    "\n",
    "auc = metrics.roc_auc_score (y_test, y_pred_prob)"
   ]
  },
  {
   "cell_type": "code",
   "execution_count": 37,
   "id": "c9e3237f",
   "metadata": {},
   "outputs": [
    {
     "data": {
      "image/png": "[encoded data removed]",
      "text/plain": [
       "<Figure size 432x288 with 1 Axes>"
      ]
     },
     "metadata": {
      "needs_background": "light"
     },
     "output_type": "display_data"
    }
   ],
   "source": [
    "#plotting the results\n",
    "plt.plot(fpr, tpr, label =\"data 1, auc = \"+str(auc), color = 'maroon')\n",
    "plt.legend(loc=4)\n",
    "plt.title('ROC curve')\n",
    "plt.show()"
   ]
  },
  {
   "cell_type": "markdown",
   "id": "5997114e",
   "metadata": {},
   "source": [
    "The ROC curve has <b>Area Under the Curve = 91.79%</b> since the auc value falls between 0.5 and 1 we can determine that we have built a good model"
   ]
  },
  {
   "cell_type": "code",
   "execution_count": 38,
   "id": "8ae863f8",
   "metadata": {},
   "outputs": [
    {
     "data": {
      "image/png": "[encoded data removed]",
      "text/plain": [
       "<Figure size 432x288 with 1 Axes>"
      ]
     },
     "metadata": {
      "needs_background": "light"
     },
     "output_type": "display_data"
    }
   ],
   "source": [
    "#using gains chart for model evaluation\n",
    "import scikitplot as skplt\n",
    "\n",
    "skplt.metrics.plot_cumulative_gain(y_test, log_reg.predict_proba(X_test))\n",
    "plt.show()"
   ]
  },
  {
   "cell_type": "markdown",
   "id": "315c5a19",
   "metadata": {},
   "source": [
    "### 7. Feature Selection"
   ]
  },
  {
   "cell_type": "code",
   "execution_count": 39,
   "id": "b3733ec6",
   "metadata": {},
   "outputs": [
    {
     "name": "stdout",
     "output_type": "stream",
     "text": [
      "          feature_names      Beta   AbsBeta\n",
      "7    pmttype_CreditCard -2.121776  2.121776\n",
      "5          pmttype_Cash  1.615269  1.615269\n",
      "8   pmttype_DirectDebit -1.390854  1.390854\n",
      "9                 use_0  1.376194  1.376194\n",
      "6        pmttype_Cheque  1.020763  1.020763\n",
      "15                use_6 -0.867267  0.867267\n",
      "12                use_3 -0.469255  0.469255\n",
      "13                use_4 -0.438113  0.438113\n",
      "10                use_1  0.430838  0.430838\n",
      "14                use_5 -0.412704  0.412704\n",
      "16                use_7 -0.324749  0.324749\n",
      "17                use_8 -0.108537  0.108537\n",
      "11                use_2 -0.063007  0.063007\n",
      "3                   age -0.052681  0.052681\n",
      "2              monthdue -0.044038  0.044038\n",
      "1               downpmt -0.015802  0.015802\n",
      "0                 price  0.000937  0.000937\n",
      "4                gender -0.000802  0.000802\n"
     ]
    }
   ],
   "source": [
    "#identifying the best features of the model\n",
    "feature = log_reg.coef_\n",
    "coef_table = pd.DataFrame({\"feature_names\":X_train.columns,\"Beta\":feature[0], \"AbsBeta\":abs(feature[0])})\n",
    "\n",
    "coef_table = coef_table.sort_values(by='AbsBeta', ascending = False)\n",
    "\n",
    "print(coef_table)"
   ]
  },
  {
   "cell_type": "markdown",
   "id": "4ee76783",
   "metadata": {},
   "source": [
    "As it is evident above, <b>payment type and frequency of use</b> are the most relevant features of this model and can be identified as the key drivers for the business. We could apply feature selection to reduce the number of features and revise our model."
   ]
  }
 ],
 "metadata": {
  "kernelspec": {
   "display_name": "Python 3 (ipykernel)",
   "language": "python",
   "name": "python3"
  },
  "language_info": {
   "codemirror_mode": {
    "name": "ipython",
    "version": 3
   },
   "file_extension": ".py",
   "mimetype": "text/x-python",
   "name": "python",
   "nbconvert_exporter": "python",
   "pygments_lexer": "ipython3",
   "version": "3.9.12"
  }
 },
 "nbformat": 4,
 "nbformat_minor": 5
}
