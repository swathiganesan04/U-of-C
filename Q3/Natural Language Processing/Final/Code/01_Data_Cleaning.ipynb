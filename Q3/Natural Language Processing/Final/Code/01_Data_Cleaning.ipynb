{
 "cells": [
  {
   "cell_type": "markdown",
   "metadata": {
    "id": "J4u2CVsvBdYE"
   },
   "source": [
    "## NLP Class Final Project Read Data"
   ]
  },
  {
   "cell_type": "code",
   "execution_count": null,
   "metadata": {},
   "outputs": [],
   "source": [
    "!pip install pyarrow\n",
    "!pip install pandarallel\n",
    "!pip install nltk\n",
    "!!sudo /opt/conda/bin/python3 -m pip install ktrain"
   ]
  },
  {
   "cell_type": "code",
   "execution_count": 2,
   "metadata": {
    "id": "Noug3aSuBdYH"
   },
   "outputs": [
    {
     "name": "stderr",
     "output_type": "stream",
     "text": [
      "[nltk_data] Downloading package punkt to /home/jupyter/nltk_data...\n",
      "[nltk_data]   Package punkt is already up-to-date!\n",
      "[nltk_data] Downloading package stopwords to\n",
      "[nltk_data]     /home/jupyter/nltk_data...\n",
      "[nltk_data]   Package stopwords is already up-to-date!\n",
      "[nltk_data] Downloading package wordnet to /home/jupyter/nltk_data...\n",
      "[nltk_data]   Package wordnet is already up-to-date!\n"
     ]
    }
   ],
   "source": [
    "## Load data\n",
    "\n",
    "import pandas as pd\n",
    "import numpy as np\n",
    "import re\n",
    "\n",
    "import nltk\n",
    "nltk.download('punkt')\n",
    "nltk.download('stopwords')\n",
    "nltk.download('wordnet')\n",
    "from nltk.corpus import stopwords\n",
    "from nltk.stem import WordNetLemmatizer\n",
    "import matplotlib.pyplot as plt\n"
   ]
  },
  {
   "cell_type": "code",
   "execution_count": 3,
   "metadata": {
    "colab": {
     "base_uri": "https://localhost:8080/"
    },
    "id": "lt0BV1eyBdYH",
    "outputId": "fb0bfd4b-2a65-4502-9e85-fad6ee0baeb2"
   },
   "outputs": [
    {
     "name": "stdout",
     "output_type": "stream",
     "text": [
      "Available CPUs: 16\n",
      "INFO: Pandarallel will run on 15 workers.\n",
      "INFO: Pandarallel will use standard multiprocessing data transfer (pipe) to transfer data between the main process and workers.\n"
     ]
    }
   ],
   "source": [
    "import multiprocessing\n",
    "\n",
    "num_processors = multiprocessing.cpu_count()\n",
    "print(f'Available CPUs: {num_processors}')\n",
    "\n",
    "import pandarallel\n",
    "from pandarallel import pandarallel\n",
    "pandarallel.initialize(nb_workers=num_processors-1, use_memory_fs=False)"
   ]
  },
  {
   "cell_type": "code",
   "execution_count": 3,
   "metadata": {
    "id": "zJ6-1ReJBdYI"
   },
   "outputs": [
    {
     "name": "stdout",
     "output_type": "stream",
     "text": [
      "CPU times: user 8.74 s, sys: 5.74 s, total: 14.5 s\n",
      "Wall time: 15.6 s\n"
     ]
    },
    {
     "data": {
      "text/plain": [
       "(200332, 5)"
      ]
     },
     "execution_count": 3,
     "metadata": {},
     "output_type": "execute_result"
    }
   ],
   "source": [
    "%%time\n",
    "\n",
    "df_news_final_project = pd.read_parquet('https://storage.googleapis.com/msca-bdp-data-open/news_final_project/news_final_project.parquet', engine='pyarrow')\n",
    "df_news_final_project.shape"
   ]
  },
  {
   "cell_type": "code",
   "execution_count": 4,
   "metadata": {
    "id": "dfZz3reMBdYI"
   },
   "outputs": [
    {
     "name": "stdout",
     "output_type": "stream",
     "text": [
      "<class 'pandas.core.frame.DataFrame'>\n",
      "RangeIndex: 200332 entries, 0 to 200331\n",
      "Data columns (total 5 columns):\n",
      " #   Column    Non-Null Count   Dtype \n",
      "---  ------    --------------   ----- \n",
      " 0   url       200332 non-null  object\n",
      " 1   date      200332 non-null  object\n",
      " 2   language  200332 non-null  object\n",
      " 3   title     200332 non-null  object\n",
      " 4   text      200332 non-null  object\n",
      "dtypes: object(5)\n",
      "memory usage: 7.6+ MB\n"
     ]
    }
   ],
   "source": [
    "df_news_final_project.info()"
   ]
  },
  {
   "cell_type": "code",
   "execution_count": 5,
   "metadata": {
    "id": "V_PEcbvoBdYI"
   },
   "outputs": [
    {
     "data": {
      "text/html": [
       "<div>\n",
       "<style scoped>\n",
       "    .dataframe tbody tr th:only-of-type {\n",
       "        vertical-align: middle;\n",
       "    }\n",
       "\n",
       "    .dataframe tbody tr th {\n",
       "        vertical-align: top;\n",
       "    }\n",
       "\n",
       "    .dataframe thead th {\n",
       "        text-align: right;\n",
       "    }\n",
       "</style>\n",
       "<table border=\"1\" class=\"dataframe\">\n",
       "  <thead>\n",
       "    <tr style=\"text-align: right;\">\n",
       "      <th></th>\n",
       "      <th>url</th>\n",
       "      <th>date</th>\n",
       "      <th>language</th>\n",
       "      <th>title</th>\n",
       "      <th>text</th>\n",
       "    </tr>\n",
       "  </thead>\n",
       "  <tbody>\n",
       "    <tr>\n",
       "      <th>40911</th>\n",
       "      <td>https://www.fedscoop.com/lawmakers-want-ai-tas...</td>\n",
       "      <td>2022-01-28</td>\n",
       "      <td>en</td>\n",
       "      <td>Lawmakers want task force designing national A...</td>\n",
       "      <td>\\n\\nLawmakers want task force designing nation...</td>\n",
       "    </tr>\n",
       "    <tr>\n",
       "      <th>64712</th>\n",
       "      <td>https://galusaustralis.com/2020/10/1029529/glo...</td>\n",
       "      <td>2020-10-23</td>\n",
       "      <td>en</td>\n",
       "      <td>Global Artificial Intelligence Robots Market B...</td>\n",
       "      <td>\\n\\nGlobal Artificial Intelligence Robots Mark...</td>\n",
       "    </tr>\n",
       "    <tr>\n",
       "      <th>56250</th>\n",
       "      <td>https://www.news18.com/amp/tech/open-ai-finall...</td>\n",
       "      <td>2023-03-19</td>\n",
       "      <td>en</td>\n",
       "      <td>Open AI Finally Lets Indians Pay For ChatGPT P...</td>\n",
       "      <td>Open AI Finally Lets Indians Pay For ChatGPT P...</td>\n",
       "    </tr>\n",
       "    <tr>\n",
       "      <th>8823</th>\n",
       "      <td>https://www.newsbreak.com/news/2924403424982-a...</td>\n",
       "      <td>2023-02-24</td>\n",
       "      <td>en</td>\n",
       "      <td>Artificial Intelligence Stocks Are Hot: Here A...</td>\n",
       "      <td>Artificial Intelligence Stocks Are Hot: Here A...</td>\n",
       "    </tr>\n",
       "    <tr>\n",
       "      <th>24129</th>\n",
       "      <td>https://www.taiwannews.com.tw/en/news/4845437</td>\n",
       "      <td>2023-03-24</td>\n",
       "      <td>en</td>\n",
       "      <td>Bitumen Additives Market Understanding the Imp...</td>\n",
       "      <td>\\n\\n Bitumen Additives Market Understanding th...</td>\n",
       "    </tr>\n",
       "  </tbody>\n",
       "</table>\n",
       "</div>"
      ],
      "text/plain": [
       "                                                     url        date language  \\\n",
       "40911  https://www.fedscoop.com/lawmakers-want-ai-tas...  2022-01-28       en   \n",
       "64712  https://galusaustralis.com/2020/10/1029529/glo...  2020-10-23       en   \n",
       "56250  https://www.news18.com/amp/tech/open-ai-finall...  2023-03-19       en   \n",
       "8823   https://www.newsbreak.com/news/2924403424982-a...  2023-02-24       en   \n",
       "24129      https://www.taiwannews.com.tw/en/news/4845437  2023-03-24       en   \n",
       "\n",
       "                                                   title  \\\n",
       "40911  Lawmakers want task force designing national A...   \n",
       "64712  Global Artificial Intelligence Robots Market B...   \n",
       "56250  Open AI Finally Lets Indians Pay For ChatGPT P...   \n",
       "8823   Artificial Intelligence Stocks Are Hot: Here A...   \n",
       "24129  Bitumen Additives Market Understanding the Imp...   \n",
       "\n",
       "                                                    text  \n",
       "40911  \\n\\nLawmakers want task force designing nation...  \n",
       "64712  \\n\\nGlobal Artificial Intelligence Robots Mark...  \n",
       "56250  Open AI Finally Lets Indians Pay For ChatGPT P...  \n",
       "8823   Artificial Intelligence Stocks Are Hot: Here A...  \n",
       "24129  \\n\\n Bitumen Additives Market Understanding th...  "
      ]
     },
     "execution_count": 5,
     "metadata": {},
     "output_type": "execute_result"
    }
   ],
   "source": [
    "df_news_final_project.sample(5)"
   ]
  },
  {
   "cell_type": "markdown",
   "metadata": {
    "id": "7Izcka1JBdYI"
   },
   "source": [
    "### EDA"
   ]
  },
  {
   "cell_type": "markdown",
   "metadata": {
    "id": "0EdIcXIgBdYJ"
   },
   "source": [
    "* url : link to the news article\n",
    "* date : date of publication\n",
    "* language : language of the article\n",
    "* title : article title\n",
    "* text : article text"
   ]
  },
  {
   "cell_type": "code",
   "execution_count": 6,
   "metadata": {
    "colab": {
     "base_uri": "https://localhost:8080/"
    },
    "id": "ZyCWDhC4BdYJ",
    "outputId": "81258161-4016-48b9-c71e-9f7c5b384bf1"
   },
   "outputs": [
    {
     "data": {
      "text/plain": [
       "url         200332\n",
       "date          1213\n",
       "language         1\n",
       "title       140223\n",
       "text        198564\n",
       "dtype: int64"
      ]
     },
     "execution_count": 6,
     "metadata": {},
     "output_type": "execute_result"
    }
   ],
   "source": [
    "df_news_final_project.nunique()"
   ]
  },
  {
   "cell_type": "code",
   "execution_count": 7,
   "metadata": {
    "colab": {
     "base_uri": "https://localhost:8080/"
    },
    "id": "X4lvalJMBdYJ",
    "outputId": "ff71b6d2-1d71-480a-fa08-7c9c977798ac"
   },
   "outputs": [
    {
     "name": "stdout",
     "output_type": "stream",
     "text": [
      "Minimum Date: 2020-01-01 00:00:00\n",
      "Maximum Date: 2023-04-28 00:00:00\n"
     ]
    }
   ],
   "source": [
    "df_news_final_project['date'] = pd.to_datetime(df_news_final_project['date'])\n",
    "\n",
    "print(\"Minimum Date:\", df_news_final_project['date'].min())\n",
    "print(\"Maximum Date:\", df_news_final_project['date'].max())"
   ]
  },
  {
   "cell_type": "code",
   "execution_count": 8,
   "metadata": {
    "colab": {
     "base_uri": "https://localhost:8080/"
    },
    "id": "up1QvBtcBdYJ",
    "outputId": "1e584850-7eae-41d8-b01c-42ec48a911f5"
   },
   "outputs": [
    {
     "name": "stdout",
     "output_type": "stream",
     "text": [
      "18\n",
      "580772\n"
     ]
    }
   ],
   "source": [
    "\n",
    "lengths = [len(sentence) for sentence in df_news_final_project['text']]\n",
    "print(min(sorted(lengths)))\n",
    "print(max(sorted(lengths)))\n"
   ]
  },
  {
   "cell_type": "code",
   "execution_count": 9,
   "metadata": {
    "colab": {
     "base_uri": "https://localhost:8080/"
    },
    "id": "VTudcjzNBdYJ",
    "outputId": "de45b32c-1da3-4df2-d950-f2e97ad90131"
   },
   "outputs": [
    {
     "data": {
      "text/plain": [
       "9037.717873330272"
      ]
     },
     "execution_count": 9,
     "metadata": {},
     "output_type": "execute_result"
    }
   ],
   "source": [
    "np.mean(lengths)"
   ]
  },
  {
   "cell_type": "markdown",
   "metadata": {
    "id": "SzytY536BdYK"
   },
   "source": [
    "We can clearly observe the following :\n",
    "\n",
    "* Multiple entries where different urls relay the same news. Only 198564 unique news articles.\n",
    "* All the news articles are extracted from websites reporting news in English.\n",
    "* News articles reported for 1213 days between Jan 1 2020 and Apr 28 2023.\n",
    "* We have multiple different articles with the same news title.\n",
    "* Average length of unclean articles in ~9k."
   ]
  },
  {
   "cell_type": "code",
   "execution_count": 10,
   "metadata": {
    "colab": {
     "base_uri": "https://localhost:8080/",
     "height": 601
    },
    "id": "IL_UV2OwBdYK",
    "outputId": "396df2e4-1fa9-4a1f-9fb8-1bf52352d3ee"
   },
   "outputs": [
    {
     "data": {
      "image/png": "[encoded data removed]",
      "text/plain": [
       "<Figure size 1200x600 with 1 Axes>"
      ]
     },
     "metadata": {},
     "output_type": "display_data"
    }
   ],
   "source": [
    "# Convert the 'date' column to datetime if it's not already in datetime format\n",
    "df_news_final_project['date'] = pd.to_datetime(df_news_final_project['date'])\n",
    "\n",
    "# Extract the year and month from the 'date' column\n",
    "df_news_final_project['year_month'] = df_news_final_project['date'].dt.to_period('M')\n",
    "\n",
    "# Group the data by year-month and count the number of tweets\n",
    "tweet_counts = df_news_final_project.groupby('year_month').size()\n",
    "\n",
    "# Convert the index to string representation\n",
    "tweet_counts.index = tweet_counts.index.strftime('%Y-%m')\n",
    "\n",
    "# Create a range of year-months for the x-axis tick labels\n",
    "year_months = pd.period_range(start=min(df_news_final_project['year_month']), end=max(df_news_final_project['year_month']), freq='M')\n",
    "\n",
    "# Convert year_months to string format\n",
    "year_months_str = year_months.strftime('%Y-%m')\n",
    "\n",
    "# Set the figure size\n",
    "plt.figure(figsize=(12, 6))\n",
    "\n",
    "# Plot the number of tweets\n",
    "plt.plot(tweet_counts.index, tweet_counts.values, marker='o', linestyle='-', color='b')\n",
    "\n",
    "# Set the x-axis tick positions and labels\n",
    "plt.xticks(range(len(year_months_str)), year_months_str, rotation=45)\n",
    "\n",
    "# Set the axis labels and title\n",
    "plt.xlabel('Year-Month')\n",
    "plt.ylabel('Number of Tweets')\n",
    "plt.title('Distribution of Tweets across Year-Months')\n",
    "\n",
    "# Show the plot\n",
    "plt.show()\n"
   ]
  },
  {
   "cell_type": "code",
   "execution_count": 11,
   "metadata": {
    "id": "IbinK-ARBdYK"
   },
   "outputs": [],
   "source": [
    "# Define a function to clean the text data\n",
    "def clean_text(text):\n",
    "\n",
    "    # Rremove URLs, email addresses, newlines, tabs, and consecutive whitespace characters \n",
    "    text = re.sub(r'http\\S+|www.\\S+|@\\S+|\\n+|\\t+|\\s+', ' ', text)\n",
    "    text = re.sub(r'#\\w+', '', text)\n",
    "    \n",
    "    # Tokenize\n",
    "    tokens = nltk.word_tokenize(text)\n",
    "\n",
    "    # Remove special characters if any\n",
    "    tokens = [re.sub(r'[^a-zA-Z0-9 @ . , : - _]', '', token) for token in tokens]\n",
    "\n",
    "    # Remove remaining special characters and symbols\n",
    "    tokens = [re.sub(r'[^\\w\\s.-]', '', token) for token in tokens]\n",
    "\n",
    "    # Remove numbers\n",
    "    tokens = [token for token in tokens if not token.isnumeric()]\n",
    "\n",
    "    # Remove stop words and lemmatize the words\n",
    "    stop_words = stopwords.words('english')\n",
    "    stop_words.extend(['facebook'])\n",
    "    \n",
    "    wnl = nltk.WordNetLemmatizer()\n",
    "    tokens=[wnl.lemmatize(token) for token in tokens if not token in set(stop_words)]\n",
    "    #tokens=[token for token in tokens if not token in set(stop_words)]\n",
    "\n",
    "    # Remove all text between square brackets, parentheses, curly braces, angle brackets, double quotes, and single quotes\n",
    "    tokens = [re.sub(r'\\[.*?\\]|\\(.*?\\)|\\{.*?\\}|<.*?>|\"(.+?)\"|\\'(.+?)\\'', '', token) for token in tokens]\n",
    "    \n",
    "    # Remove single-character tokens (mostly punctuation if any) and tokens with length > 20\n",
    "    tokens = [token for token in tokens if len(token) > 1 or len(token) <=20]\n",
    "\n",
    "    \n",
    "    return tokens"
   ]
  },
  {
   "cell_type": "code",
   "execution_count": 12,
   "metadata": {
    "colab": {
     "base_uri": "https://localhost:8080/"
    },
    "id": "KQCakkxXBdYL",
    "outputId": "6b7f4972-7047-4505-b742-27de1881c9d6"
   },
   "outputs": [
    {
     "name": "stdout",
     "output_type": "stream",
     "text": [
      "CPU times: user 4.53 s, sys: 0 ns, total: 4.53 s\n",
      "Wall time: 4.53 s\n"
     ]
    },
    {
     "data": {
      "text/plain": [
       "(198564, 6)"
      ]
     },
     "execution_count": 12,
     "metadata": {},
     "output_type": "execute_result"
    }
   ],
   "source": [
    "%%time\n",
    "df_news_final_project = df_news_final_project.drop_duplicates(subset=['title', 'text'])\n",
    "df_news_final_project.shape"
   ]
  },
  {
   "cell_type": "code",
   "execution_count": 13,
   "metadata": {
    "id": "7FwKkktgBdYL"
   },
   "outputs": [
    {
     "name": "stdout",
     "output_type": "stream",
     "text": [
      "CPU times: user 32.1 s, sys: 21.5 s, total: 53.7 s\n",
      "Wall time: 8min 22s\n"
     ]
    }
   ],
   "source": [
    "%%time\n",
    "\n",
    "df_news_final_project['clean_text_case'] = df_news_final_project['text'].parallel_apply(lambda x: clean_text(x))\n"
   ]
  },
  {
   "cell_type": "code",
   "execution_count": 15,
   "metadata": {},
   "outputs": [
    {
     "name": "stdout",
     "output_type": "stream",
     "text": [
      "CPU times: user 1min 50s, sys: 43.3 s, total: 2min 33s\n",
      "Wall time: 2min 30s\n"
     ]
    }
   ],
   "source": [
    "%%time\n",
    "\n",
    "df_news_final_project['clean_text'] = df_news_final_project['clean_text_case'].parallel_apply(lambda words: [word.lower() for word in words])\n"
   ]
  },
  {
   "cell_type": "code",
   "execution_count": 17,
   "metadata": {},
   "outputs": [],
   "source": [
    "#after cleaning up the dataset\n",
    "df_news_final_project.to_parquet('01_clean_df.parquet')"
   ]
  },
  {
   "cell_type": "code",
   "execution_count": 4,
   "metadata": {},
   "outputs": [
    {
     "name": "stdout",
     "output_type": "stream",
     "text": [
      "CPU times: user 1min 47s, sys: 18.1 s, total: 2min 6s\n",
      "Wall time: 1min 52s\n"
     ]
    },
    {
     "data": {
      "text/plain": [
       "(198564, 8)"
      ]
     },
     "execution_count": 4,
     "metadata": {},
     "output_type": "execute_result"
    }
   ],
   "source": [
    "%%time\n",
    "\n",
    "df_news_final_project = pd.read_parquet('01_clean_df.parquet', engine='pyarrow')\n",
    "df_news_final_project.shape"
   ]
  },
  {
   "cell_type": "code",
   "execution_count": 5,
   "metadata": {},
   "outputs": [
    {
     "name": "stdout",
     "output_type": "stream",
     "text": [
      "3\n",
      "72337\n"
     ]
    }
   ],
   "source": [
    "clean_lengths = [len(sentence) for sentence in df_news_final_project['clean_text']]\n",
    "print(min(sorted(clean_lengths)))\n",
    "print(max(sorted(clean_lengths)))"
   ]
  },
  {
   "cell_type": "code",
   "execution_count": 6,
   "metadata": {},
   "outputs": [
    {
     "data": {
      "text/plain": [
       "1042.0470075139501"
      ]
     },
     "execution_count": 6,
     "metadata": {},
     "output_type": "execute_result"
    }
   ],
   "source": [
    "np.mean(clean_lengths)"
   ]
  },
  {
   "cell_type": "code",
   "execution_count": 22,
   "metadata": {},
   "outputs": [
    {
     "name": "stdout",
     "output_type": "stream",
     "text": [
      "<class 'pandas.core.frame.DataFrame'>\n",
      "Int64Index: 198564 entries, 0 to 200331\n",
      "Data columns (total 8 columns):\n",
      " #   Column           Non-Null Count   Dtype         \n",
      "---  ------           --------------   -----         \n",
      " 0   url              198564 non-null  object        \n",
      " 1   date             198564 non-null  datetime64[ns]\n",
      " 2   language         198564 non-null  object        \n",
      " 3   title            198564 non-null  object        \n",
      " 4   text             198564 non-null  object        \n",
      " 5   year_month       198564 non-null  period[M]     \n",
      " 6   clean_text_case  198564 non-null  object        \n",
      " 7   clean_text       198564 non-null  object        \n",
      "dtypes: datetime64[ns](1), object(6), period[M](1)\n",
      "memory usage: 13.6+ MB\n"
     ]
    }
   ],
   "source": [
    "df_news_final_project.info()"
   ]
  },
  {
   "cell_type": "code",
   "execution_count": 23,
   "metadata": {},
   "outputs": [
    {
     "data": {
      "text/html": [
       "<div>\n",
       "<style scoped>\n",
       "    .dataframe tbody tr th:only-of-type {\n",
       "        vertical-align: middle;\n",
       "    }\n",
       "\n",
       "    .dataframe tbody tr th {\n",
       "        vertical-align: top;\n",
       "    }\n",
       "\n",
       "    .dataframe thead th {\n",
       "        text-align: right;\n",
       "    }\n",
       "</style>\n",
       "<table border=\"1\" class=\"dataframe\">\n",
       "  <thead>\n",
       "    <tr style=\"text-align: right;\">\n",
       "      <th></th>\n",
       "      <th>url</th>\n",
       "      <th>date</th>\n",
       "      <th>language</th>\n",
       "      <th>title</th>\n",
       "      <th>text</th>\n",
       "      <th>year_month</th>\n",
       "      <th>clean_text_case</th>\n",
       "      <th>clean_text</th>\n",
       "    </tr>\n",
       "  </thead>\n",
       "  <tbody>\n",
       "    <tr>\n",
       "      <th>123788</th>\n",
       "      <td>https://www.independent.co.uk/independentpremi...</td>\n",
       "      <td>2022-10-26</td>\n",
       "      <td>en</td>\n",
       "      <td>Man vs machine: Could AI be the future of jour...</td>\n",
       "      <td>Man vs machine: Could AI be the future of jour...</td>\n",
       "      <td>2022-10</td>\n",
       "      <td>[Man, v, machine, , Could, AI, future, journal...</td>\n",
       "      <td>[man, v, machine, , could, ai, future, journal...</td>\n",
       "    </tr>\n",
       "    <tr>\n",
       "      <th>96318</th>\n",
       "      <td>https://www.thesun.ie/tech/10148511/china-smar...</td>\n",
       "      <td>2023-01-31</td>\n",
       "      <td>en</td>\n",
       "      <td>China working on super-smart AI to rival ChatG...</td>\n",
       "      <td>\\nChina working on super-smart AI to rival Cha...</td>\n",
       "      <td>2023-01</td>\n",
       "      <td>[China, working, supersmart, AI, rival, ChatGP...</td>\n",
       "      <td>[china, working, supersmart, ai, rival, chatgp...</td>\n",
       "    </tr>\n",
       "    <tr>\n",
       "      <th>158623</th>\n",
       "      <td>https://www.witn.com/prnewswire/2022/11/14/inf...</td>\n",
       "      <td>2022-11-14</td>\n",
       "      <td>en</td>\n",
       "      <td>Infosys BPM Launches State-of-the-art Center o...</td>\n",
       "      <td>Infosys BPM Launches State-of-the-art Center o...</td>\n",
       "      <td>2022-11</td>\n",
       "      <td>[Infosys, BPM, Launches, Stateoftheart, Center...</td>\n",
       "      <td>[infosys, bpm, launches, stateoftheart, center...</td>\n",
       "    </tr>\n",
       "  </tbody>\n",
       "</table>\n",
       "</div>"
      ],
      "text/plain": [
       "                                                      url       date language  \\\n",
       "123788  https://www.independent.co.uk/independentpremi... 2022-10-26       en   \n",
       "96318   https://www.thesun.ie/tech/10148511/china-smar... 2023-01-31       en   \n",
       "158623  https://www.witn.com/prnewswire/2022/11/14/inf... 2022-11-14       en   \n",
       "\n",
       "                                                    title  \\\n",
       "123788  Man vs machine: Could AI be the future of jour...   \n",
       "96318   China working on super-smart AI to rival ChatG...   \n",
       "158623  Infosys BPM Launches State-of-the-art Center o...   \n",
       "\n",
       "                                                     text year_month  \\\n",
       "123788  Man vs machine: Could AI be the future of jour...    2022-10   \n",
       "96318   \\nChina working on super-smart AI to rival Cha...    2023-01   \n",
       "158623  Infosys BPM Launches State-of-the-art Center o...    2022-11   \n",
       "\n",
       "                                          clean_text_case  \\\n",
       "123788  [Man, v, machine, , Could, AI, future, journal...   \n",
       "96318   [China, working, supersmart, AI, rival, ChatGP...   \n",
       "158623  [Infosys, BPM, Launches, Stateoftheart, Center...   \n",
       "\n",
       "                                               clean_text  \n",
       "123788  [man, v, machine, , could, ai, future, journal...  \n",
       "96318   [china, working, supersmart, ai, rival, chatgp...  \n",
       "158623  [infosys, bpm, launches, stateoftheart, center...  "
      ]
     },
     "execution_count": 23,
     "metadata": {},
     "output_type": "execute_result"
    }
   ],
   "source": [
    "df_news_final_project.sample(3)"
   ]
  },
  {
   "cell_type": "code",
   "execution_count": 24,
   "metadata": {
    "id": "lwXJb5t_BdYL"
   },
   "outputs": [
    {
     "data": {
      "image/png": "[encoded data removed]",
      "text/plain": [
       "<Figure size 640x480 with 1 Axes>"
      ]
     },
     "metadata": {},
     "output_type": "display_data"
    }
   ],
   "source": [
    "import pandas as pd\n",
    "import matplotlib.pyplot as plt\n",
    "\n",
    "# Bin word lengths into 10 buckets\n",
    "bins = pd.qcut(clean_lengths, q=10)\n",
    "\n",
    "# Plot histogram\n",
    "plt.hist(clean_lengths, bins=10, edgecolor='black')\n",
    "plt.xlabel('Word Length')\n",
    "plt.ylabel('Frequency')\n",
    "plt.title('Word Length Histogram')\n",
    "plt.show()\n"
   ]
  },
  {
   "cell_type": "code",
   "execution_count": 25,
   "metadata": {},
   "outputs": [
    {
     "name": "stdout",
     "output_type": "stream",
     "text": [
      "                 Bins   Count  Percentage\n",
      "0   (-69.334, 7236.4]  198088   99.760279\n",
      "1   (7236.4, 14469.8]     459    0.231160\n",
      "2  (14469.8, 21703.2]       4    0.002014\n",
      "3  (21703.2, 28936.6]       5    0.002518\n",
      "4  (28936.6, 36170.0]       1    0.000504\n",
      "5  (36170.0, 43403.4]       6    0.003022\n",
      "6  (43403.4, 50636.8]       0    0.000000\n",
      "7  (50636.8, 57870.2]       0    0.000000\n",
      "8  (57870.2, 65103.6]       0    0.000000\n",
      "9  (65103.6, 72337.0]       1    0.000504\n"
     ]
    }
   ],
   "source": [
    "# Bin word lengths into 10 buckets\n",
    "bins = pd.cut(clean_lengths, bins=10)\n",
    "\n",
    "# Calculate the bin counts and percentages\n",
    "bin_counts = bins.value_counts()\n",
    "percentage = bin_counts / len(clean_lengths) * 100\n",
    "\n",
    "# Create a DataFrame to display the results\n",
    "result_table = pd.DataFrame({'Bins': bin_counts.index.astype(str),\n",
    "                             'Count': bin_counts.values,\n",
    "                             'Percentage': percentage.values})\n",
    "\n",
    "# Display the table\n",
    "print(result_table)"
   ]
  },
  {
   "cell_type": "code",
   "execution_count": 26,
   "metadata": {},
   "outputs": [
    {
     "name": "stdout",
     "output_type": "stream",
     "text": [
      "CPU times: user 1min 6s, sys: 28.2 s, total: 1min 34s\n",
      "Wall time: 1min 42s\n"
     ]
    },
    {
     "data": {
      "text/plain": [
       "(166243, 8)"
      ]
     },
     "execution_count": 26,
     "metadata": {},
     "output_type": "execute_result"
    }
   ],
   "source": [
    "%%time\n",
    "\n",
    "filtered_df = df_news_final_project[df_news_final_project['clean_text'].parallel_apply(lambda x: len(x) <= 1500)]\n",
    "filtered_df.shape"
   ]
  },
  {
   "cell_type": "code",
   "execution_count": 27,
   "metadata": {},
   "outputs": [
    {
     "name": "stdout",
     "output_type": "stream",
     "text": [
      "               Bins  Count  Percentage\n",
      "0    (1.503, 152.7]   3057    1.838874\n",
      "1    (152.7, 302.4]   4110    2.472285\n",
      "2    (302.4, 452.1]  10936    6.578322\n",
      "3    (452.1, 601.8]  27048   16.270159\n",
      "4    (601.8, 751.5]  31877   19.174943\n",
      "5    (751.5, 901.2]  26121   15.712541\n",
      "6   (901.2, 1050.9]  21025   12.647149\n",
      "7  (1050.9, 1200.6]  17426   10.482246\n",
      "8  (1200.6, 1350.3]  13711    8.247565\n",
      "9  (1350.3, 1500.0]  10932    6.575916\n"
     ]
    }
   ],
   "source": [
    "clean_lengths = [len(sentence) for sentence in filtered_df['clean_text']]\n",
    "\n",
    "# Bin word lengths into 10 buckets\n",
    "bins = pd.cut(clean_lengths, bins=10)\n",
    "\n",
    "# Calculate the bin counts and percentages\n",
    "bin_counts = bins.value_counts()\n",
    "percentage = bin_counts / len(clean_lengths) * 100\n",
    "\n",
    "# Create a DataFrame to display the results\n",
    "result_table = pd.DataFrame({'Bins': bin_counts.index.astype(str),\n",
    "                             'Count': bin_counts.values,\n",
    "                             'Percentage': percentage.values})\n",
    "\n",
    "# Display the table\n",
    "print(result_table)"
   ]
  },
  {
   "cell_type": "code",
   "execution_count": 28,
   "metadata": {},
   "outputs": [
    {
     "name": "stdout",
     "output_type": "stream",
     "text": [
      "83.72% of news articles have length <=1500 so truncating our text to limit at 1500 tokens\n"
     ]
    }
   ],
   "source": [
    "print(f'{round(filtered_df.shape[0]/df_news_final_project.shape[0]*100,2)}% of news articles have length <=1500 so truncating our text to limit at 1500 tokens')"
   ]
  },
  {
   "cell_type": "code",
   "execution_count": 7,
   "metadata": {},
   "outputs": [
    {
     "name": "stdout",
     "output_type": "stream",
     "text": [
      "CPU times: user 45.9 s, sys: 6.54 s, total: 52.5 s\n",
      "Wall time: 51.1 s\n"
     ]
    }
   ],
   "source": [
    "%%time\n",
    "df_news_final_project['clean_text'] = df_news_final_project['clean_text'].parallel_apply(lambda x: x[:1500] if len(x) > 1500 else x)\n"
   ]
  },
  {
   "cell_type": "code",
   "execution_count": 8,
   "metadata": {},
   "outputs": [
    {
     "name": "stdout",
     "output_type": "stream",
     "text": [
      "CPU times: user 52.4 s, sys: 8.25 s, total: 1min\n",
      "Wall time: 59.2 s\n"
     ]
    }
   ],
   "source": [
    "%%time\n",
    "df_news_final_project['clean_text_case'] = df_news_final_project['clean_text_case'].parallel_apply(lambda x: x[:1500] if len(x) > 1500 else x)\n"
   ]
  },
  {
   "cell_type": "code",
   "execution_count": 5,
   "metadata": {},
   "outputs": [
    {
     "data": {
      "image/png": "[encoded data removed]",
      "text/plain": [
       "<Figure size 640x480 with 1 Axes>"
      ]
     },
     "metadata": {},
     "output_type": "display_data"
    }
   ],
   "source": [
    "clean_lengths = [len(sentence) for sentence in df_news_final_project['clean_text']]\n",
    "\n",
    "# Bin word lengths into 10 buckets\n",
    "bins = pd.qcut(clean_lengths, q=10, duplicates='drop')\n",
    "\n",
    "# Plot histogram\n",
    "plt.hist(clean_lengths, bins=10, edgecolor='black')\n",
    "plt.xlabel('Word Length')\n",
    "plt.ylabel('Frequency')\n",
    "plt.title('Word Length Histogram')\n",
    "plt.show()"
   ]
  },
  {
   "cell_type": "code",
   "execution_count": null,
   "metadata": {},
   "outputs": [],
   "source": [
    "clean_lengths = [len(sentence) for sentence in df_news_final_project['clean_text']]\n",
    "print(min(sorted(clean_lengths)))\n",
    "print(max(sorted(clean_lengths)))"
   ]
  },
  {
   "cell_type": "code",
   "execution_count": 9,
   "metadata": {},
   "outputs": [
    {
     "name": "stdout",
     "output_type": "stream",
     "text": [
      "CPU times: user 1.14 s, sys: 1.67 s, total: 2.81 s\n",
      "Wall time: 7.79 s\n"
     ]
    }
   ],
   "source": [
    "%%time\n",
    "from multiprocessing import Pool\n",
    "import string\n",
    "\n",
    "\n",
    "stop_words = stopwords.words('english')\n",
    "stop_words.extend(['facebook']) \n",
    "exclude = set(string.punctuation)\n",
    "wnl = nltk.WordNetLemmatizer()    \n",
    "\n",
    "def clean(doc):\n",
    "    stop_free = \" \".join([i for i in doc.lower().split() if i not in stop_words])\n",
    "    punc_free = ''.join(ch for ch in stop_free if ch not in exclude)\n",
    "    normalized = \" \".join(wnl.lemmatize(word) for word in punc_free.split())\n",
    "    return normalized\n",
    "\n",
    "def parallel_clean(data):\n",
    "    with Pool() as pool:\n",
    "        results = pool.map(clean, data)\n",
    "    return [result.split() for result in results]\n",
    "\n",
    "\n",
    "title_list = df_news_final_project['title'].tolist()\n",
    "title_clean = parallel_clean(title_list)"
   ]
  },
  {
   "cell_type": "code",
   "execution_count": 10,
   "metadata": {},
   "outputs": [],
   "source": [
    "title_clean_sent = [' '.join(inner_list) for inner_list in title_clean]"
   ]
  },
  {
   "cell_type": "code",
   "execution_count": 11,
   "metadata": {},
   "outputs": [
    {
     "data": {
      "text/plain": [
       "198564"
      ]
     },
     "execution_count": 11,
     "metadata": {},
     "output_type": "execute_result"
    }
   ],
   "source": [
    "len(title_clean_sent)"
   ]
  },
  {
   "cell_type": "code",
   "execution_count": 12,
   "metadata": {},
   "outputs": [],
   "source": [
    "df_news_final_project['clean_title'] = title_clean_sent"
   ]
  },
  {
   "cell_type": "code",
   "execution_count": 13,
   "metadata": {},
   "outputs": [
    {
     "name": "stdout",
     "output_type": "stream",
     "text": [
      "lang: en\n",
      "preprocessing texts...\n",
      "fitting model...\n",
      "iteration: 1 of max_iter: 10\n",
      "iteration: 2 of max_iter: 10\n",
      "iteration: 3 of max_iter: 10\n",
      "iteration: 4 of max_iter: 10\n",
      "iteration: 5 of max_iter: 10\n",
      "iteration: 6 of max_iter: 10\n",
      "iteration: 7 of max_iter: 10\n",
      "iteration: 8 of max_iter: 10\n",
      "iteration: 9 of max_iter: 10\n",
      "iteration: 10 of max_iter: 10\n",
      "done.\n",
      "CPU times: user 3min 48s, sys: 401 ms, total: 3min 48s\n",
      "Wall time: 3min 51s\n"
     ]
    }
   ],
   "source": [
    "%%time\n",
    "\n",
    "import ktrain\n",
    "\n",
    "\n",
    "tm = ktrain.text.get_topic_model(\n",
    "    texts=title_clean_sent, \n",
    "    n_topics=10, \n",
    "    n_features=10000, \n",
    "    min_df=5, \n",
    "    max_df=0.5, \n",
    "    stop_words='english', \n",
    "    model_type='lda', \n",
    "    lda_max_iter=10, \n",
    "    verbose=1)\n"
   ]
  },
  {
   "cell_type": "code",
   "execution_count": 14,
   "metadata": {},
   "outputs": [
    {
     "name": "stdout",
     "output_type": "stream",
     "text": [
      "topic 0 | data learning machine science vision computer platform leader analytics enterprise\n",
      "topic 1 | news new technology time innovation chatbot video india management program\n",
      "topic 2 | intelligence artificial using daily health startup online risk care robotics\n",
      "topic 3 | google microsoft market ibm medical corporation bard player service covid19\n",
      "topic 4 | market artificial intelligence global growth report industry analysis forecast trend\n",
      "topic 5 | million raise product series voice improve gpt researcher project update\n",
      "topic 6 | business world say study china cancer chief stock state firm\n",
      "topic 7 | launch platform solution announces partner edge cloud powered award power\n",
      "topic 8 | help tech model scientist human make newsbreak security company venturebeat\n",
      "topic 9 | chatgpt tool use digital openai generative unveils post app review\n"
     ]
    }
   ],
   "source": [
    "tm.print_topics()"
   ]
  },
  {
   "cell_type": "code",
   "execution_count": 15,
   "metadata": {},
   "outputs": [
    {
     "name": "stdout",
     "output_type": "stream",
     "text": [
      "done.\n",
      "CPU times: user 14.1 s, sys: 44.3 ms, total: 14.2 s\n",
      "Wall time: 14.2 s\n"
     ]
    }
   ],
   "source": [
    "%%time\n",
    "tm.build(title_clean_sent, threshold=0.25)"
   ]
  },
  {
   "cell_type": "code",
   "execution_count": 16,
   "metadata": {},
   "outputs": [
    {
     "name": "stdout",
     "output_type": "stream",
     "text": [
      "topic:7 | count:20181 | launch platform solution announces partner edge cloud powered award power\n",
      "topic:9 | count:19176 | chatgpt tool use digital openai generative unveils post app review\n",
      "topic:4 | count:17453 | market artificial intelligence global growth report industry analysis forecast trend\n",
      "topic:2 | count:15763 | intelligence artificial using daily health startup online risk care robotics\n",
      "topic:8 | count:13433 | help tech model scientist human make newsbreak security company venturebeat\n",
      "topic:6 | count:12552 | business world say study china cancer chief stock state firm\n",
      "topic:0 | count:12308 | data learning machine science vision computer platform leader analytics enterprise\n",
      "topic:5 | count:11854 | million raise product series voice improve gpt researcher project update\n",
      "topic:1 | count:11331 | news new technology time innovation chatbot video india management program\n",
      "topic:3 | count:11079 | google microsoft market ibm medical corporation bard player service covid19\n"
     ]
    }
   ],
   "source": [
    "tm.print_topics(show_counts=True)"
   ]
  },
  {
   "cell_type": "code",
   "execution_count": 17,
   "metadata": {},
   "outputs": [
    {
     "name": "stdout",
     "output_type": "stream",
     "text": [
      "Displaying 25 of 2192 matches:\n",
      "lop ai system detect grade prostate cancer health news et healthworld gpt heal\n",
      " multisite multitissue expansion ai cancer diagnosis across france aromyx laun\n",
      "fectiveness lunit ai diagnostic aid cancer treatment well health join digital \n",
      "e ai platform aid oncologist breast cancer screening healthcare news rogue ai \n",
      "nio imaging receives ce mark detect cancer time surgery using artificial intel\n",
      "like algorithm could crack language cancer alzheimer’s study find alloras carl\n",
      "he ai solution early detection lung cancer 3 emerging artificial intelligence \n",
      "ghlight effectiveness ai predicting cancer treatment outcome finding presented\n",
      "nical efficacy ai first time breast cancer research abstract presented rsna 20\n",
      "ation – ethernet academy early lung cancer diagnosis using ai technology profe\n",
      "tin ibex receives ce mark ai breast cancer solutionsmedtech innovation exbulle\n",
      "para ai personalize optimize breast cancer detection state chinookobservercom \n",
      "h us ai identify early stage breast cancer spread microsoft bought new ai tool\n",
      " multisite multitissue expansion ai cancer diagnosis across france credo ai wi\n",
      "striction malware ar technica colon cancer find foe new ai tool nec nikkei asi\n",
      "tificial intelligence detect breast cancer four year develops patient californ\n",
      "ai help doctor better predict mouth cancer risk economic time microsoft openai\n",
      "utational signature linking bladder cancer tobacco smoking found new ai tool –\n",
      " blood test technology detect liver cancer synopsys spread ai throughout chip \n",
      "i fare providing information breast cancer breaking latest news cloud artifici\n",
      "ing blood test us ai detect ovarian cancer early accurately businessworld pent\n",
      "a largest hospital deploy lunits ai cancer screening system omahabased mri med\n",
      "e used detection diagnosis prostate cancer henderson engineer torchai test new\n",
      "fectiveness lunit ai diagnostic aid cancer treatment botminds document ai avai\n",
      "cy decrease manhours positive liver cancer detection data published cancer dis\n"
     ]
    }
   ],
   "source": [
    "from nltk.text import Text\n",
    "\n",
    "# Flatten the nested list\n",
    "flat_corpus = [word for inner_list in title_clean for word in inner_list]\n",
    "\n",
    "# Create an NLTK Text object\n",
    "text = Text(flat_corpus)\n",
    "\n",
    "# Use the concordance method\n",
    "text.concordance(\"cancer\")"
   ]
  },
  {
   "cell_type": "code",
   "execution_count": 18,
   "metadata": {},
   "outputs": [
    {
     "data": {
      "text/html": [
       "<div>\n",
       "<style scoped>\n",
       "    .dataframe tbody tr th:only-of-type {\n",
       "        vertical-align: middle;\n",
       "    }\n",
       "\n",
       "    .dataframe tbody tr th {\n",
       "        vertical-align: top;\n",
       "    }\n",
       "\n",
       "    .dataframe thead th {\n",
       "        text-align: right;\n",
       "    }\n",
       "</style>\n",
       "<table border=\"1\" class=\"dataframe\">\n",
       "  <thead>\n",
       "    <tr style=\"text-align: right;\">\n",
       "      <th></th>\n",
       "      <th>url</th>\n",
       "      <th>date</th>\n",
       "      <th>language</th>\n",
       "      <th>title</th>\n",
       "      <th>text</th>\n",
       "      <th>year_month</th>\n",
       "      <th>clean_text_case</th>\n",
       "      <th>clean_text</th>\n",
       "      <th>clean_title</th>\n",
       "    </tr>\n",
       "  </thead>\n",
       "  <tbody>\n",
       "    <tr>\n",
       "      <th>0</th>\n",
       "      <td>http://en.people.cn/n3/2021/0318/c90000-983012...</td>\n",
       "      <td>2021-03-18</td>\n",
       "      <td>en</td>\n",
       "      <td>Artificial intelligence improves parking effic...</td>\n",
       "      <td>\\n\\nArtificial intelligence improves parking e...</td>\n",
       "      <td>2021-03</td>\n",
       "      <td>[Artificial, intelligence, improves, parking, ...</td>\n",
       "      <td>[artificial, intelligence, improves, parking, ...</td>\n",
       "      <td>artificial intelligence improves parking effic...</td>\n",
       "    </tr>\n",
       "    <tr>\n",
       "      <th>1</th>\n",
       "      <td>http://newsparliament.com/2020/02/27/children-...</td>\n",
       "      <td>2020-02-27</td>\n",
       "      <td>en</td>\n",
       "      <td>Children With Autism Saw Their Learning and So...</td>\n",
       "      <td>\\nChildren With Autism Saw Their Learning and ...</td>\n",
       "      <td>2020-02</td>\n",
       "      <td>[Children, With, Autism, Saw, Their, Learning,...</td>\n",
       "      <td>[children, with, autism, saw, their, learning,...</td>\n",
       "      <td>child autism saw learning social skill boosted...</td>\n",
       "    </tr>\n",
       "    <tr>\n",
       "      <th>2</th>\n",
       "      <td>http://www.dataweek.co.za/12835r</td>\n",
       "      <td>2021-03-26</td>\n",
       "      <td>en</td>\n",
       "      <td>Forget ML, AI and Industry 4.0 – obsolescence ...</td>\n",
       "      <td>\\n\\nForget ML, AI and Industry 4.0 – obsolesce...</td>\n",
       "      <td>2021-03</td>\n",
       "      <td>[Forget, ML, , AI, Industry, 4.0, , obsolescen...</td>\n",
       "      <td>[forget, ml, , ai, industry, 4.0, , obsolescen...</td>\n",
       "      <td>forget ml ai industry 40 – obsolescence focus ...</td>\n",
       "    </tr>\n",
       "    <tr>\n",
       "      <th>3</th>\n",
       "      <td>http://www.homeoffice.consumerelectronicsnet.c...</td>\n",
       "      <td>2021-03-10</td>\n",
       "      <td>en</td>\n",
       "      <td>Strategy Analytics: 71% of Smartphones Sold Gl...</td>\n",
       "      <td>\\n\\nStrategy Analytics: 71% of Smartphones Sol...</td>\n",
       "      <td>2021-03</td>\n",
       "      <td>[Strategy, Analytics, , , Smartphones, Sold, G...</td>\n",
       "      <td>[strategy, analytics, , , smartphones, sold, g...</td>\n",
       "      <td>strategy analytics 71 smartphones sold globall...</td>\n",
       "    </tr>\n",
       "    <tr>\n",
       "      <th>4</th>\n",
       "      <td>http://www.itbusinessnet.com/2020/10/olympus-t...</td>\n",
       "      <td>2020-10-20</td>\n",
       "      <td>en</td>\n",
       "      <td>Olympus to Support Endoscopic AI Diagnosis Edu...</td>\n",
       "      <td>\\n\\nOlympus to Support Endoscopic AI Diagnosis...</td>\n",
       "      <td>2020-10</td>\n",
       "      <td>[Olympus, Support, Endoscopic, AI, Diagnosis, ...</td>\n",
       "      <td>[olympus, support, endoscopic, ai, diagnosis, ...</td>\n",
       "      <td>olympus support endoscopic ai diagnosis educat...</td>\n",
       "    </tr>\n",
       "  </tbody>\n",
       "</table>\n",
       "</div>"
      ],
      "text/plain": [
       "                                                 url       date language  \\\n",
       "0  http://en.people.cn/n3/2021/0318/c90000-983012... 2021-03-18       en   \n",
       "1  http://newsparliament.com/2020/02/27/children-... 2020-02-27       en   \n",
       "2                   http://www.dataweek.co.za/12835r 2021-03-26       en   \n",
       "3  http://www.homeoffice.consumerelectronicsnet.c... 2021-03-10       en   \n",
       "4  http://www.itbusinessnet.com/2020/10/olympus-t... 2020-10-20       en   \n",
       "\n",
       "                                               title  \\\n",
       "0  Artificial intelligence improves parking effic...   \n",
       "1  Children With Autism Saw Their Learning and So...   \n",
       "2  Forget ML, AI and Industry 4.0 – obsolescence ...   \n",
       "3  Strategy Analytics: 71% of Smartphones Sold Gl...   \n",
       "4  Olympus to Support Endoscopic AI Diagnosis Edu...   \n",
       "\n",
       "                                                text year_month  \\\n",
       "0  \\n\\nArtificial intelligence improves parking e...    2021-03   \n",
       "1  \\nChildren With Autism Saw Their Learning and ...    2020-02   \n",
       "2  \\n\\nForget ML, AI and Industry 4.0 – obsolesce...    2021-03   \n",
       "3  \\n\\nStrategy Analytics: 71% of Smartphones Sol...    2021-03   \n",
       "4  \\n\\nOlympus to Support Endoscopic AI Diagnosis...    2020-10   \n",
       "\n",
       "                                     clean_text_case  \\\n",
       "0  [Artificial, intelligence, improves, parking, ...   \n",
       "1  [Children, With, Autism, Saw, Their, Learning,...   \n",
       "2  [Forget, ML, , AI, Industry, 4.0, , obsolescen...   \n",
       "3  [Strategy, Analytics, , , Smartphones, Sold, G...   \n",
       "4  [Olympus, Support, Endoscopic, AI, Diagnosis, ...   \n",
       "\n",
       "                                          clean_text  \\\n",
       "0  [artificial, intelligence, improves, parking, ...   \n",
       "1  [children, with, autism, saw, their, learning,...   \n",
       "2  [forget, ml, , ai, industry, 4.0, , obsolescen...   \n",
       "3  [strategy, analytics, , , smartphones, sold, g...   \n",
       "4  [olympus, support, endoscopic, ai, diagnosis, ...   \n",
       "\n",
       "                                         clean_title  \n",
       "0  artificial intelligence improves parking effic...  \n",
       "1  child autism saw learning social skill boosted...  \n",
       "2  forget ml ai industry 40 – obsolescence focus ...  \n",
       "3  strategy analytics 71 smartphones sold globall...  \n",
       "4  olympus support endoscopic ai diagnosis educat...  "
      ]
     },
     "execution_count": 18,
     "metadata": {},
     "output_type": "execute_result"
    }
   ],
   "source": [
    "df_news_final_project.head()"
   ]
  },
  {
   "cell_type": "code",
   "execution_count": 19,
   "metadata": {},
   "outputs": [],
   "source": [
    "columns_to_drop = ['language', 'url']\n",
    "df_news_final_project.drop(columns=columns_to_drop, inplace=True)"
   ]
  },
  {
   "cell_type": "code",
   "execution_count": 20,
   "metadata": {},
   "outputs": [
    {
     "name": "stdout",
     "output_type": "stream",
     "text": [
      "CPU times: user 2min 21s, sys: 43.6 s, total: 3min 4s\n",
      "Wall time: 6min 19s\n"
     ]
    }
   ],
   "source": [
    "%%time\n",
    "\n",
    "\n",
    "# Define basic punctuation characters\n",
    "punctuation = string.punctuation\n",
    "\n",
    "# Function to clean a single token\n",
    "def clean_token(token):\n",
    "    # Remove leading/trailing spaces\n",
    "    token = token.strip()\n",
    "    \n",
    "    # Remove stopwords\n",
    "    if token.lower() in stop_words:\n",
    "        return None\n",
    "    \n",
    "    # Remove punctuation\n",
    "    token = ''.join(char for char in token if char not in punctuation)\n",
    "    \n",
    "    # Remove empty tokens\n",
    "    if len(token) == 0:\n",
    "        return None\n",
    "    \n",
    "    return token\n",
    "\n",
    "\n",
    "# Apply cleaning to the 'tokens' column in parallel\n",
    "df_news_final_project['clean_text'] = df_news_final_project['clean_text'].parallel_apply(lambda sublist: [clean_token(token) for token in sublist if clean_token(token) is not None])\n",
    "df_news_final_project['clean_text_case'] = df_news_final_project['clean_text_case'].parallel_apply(lambda sublist: [clean_token(token) for token in sublist if clean_token(token) is not None])"
   ]
  },
  {
   "cell_type": "code",
   "execution_count": 21,
   "metadata": {},
   "outputs": [
    {
     "name": "stdout",
     "output_type": "stream",
     "text": [
      "<class 'pandas.core.frame.DataFrame'>\n",
      "Int64Index: 198564 entries, 0 to 200331\n",
      "Data columns (total 7 columns):\n",
      " #   Column           Non-Null Count   Dtype         \n",
      "---  ------           --------------   -----         \n",
      " 0   date             198564 non-null  datetime64[ns]\n",
      " 1   title            198564 non-null  object        \n",
      " 2   text             198564 non-null  object        \n",
      " 3   year_month       198564 non-null  period[M]     \n",
      " 4   clean_text_case  198564 non-null  object        \n",
      " 5   clean_text       198564 non-null  object        \n",
      " 6   clean_title      198564 non-null  object        \n",
      "dtypes: datetime64[ns](1), object(5), period[M](1)\n",
      "memory usage: 12.1+ MB\n"
     ]
    }
   ],
   "source": [
    "df_news_final_project.info()"
   ]
  },
  {
   "cell_type": "code",
   "execution_count": 22,
   "metadata": {},
   "outputs": [],
   "source": [
    "#after limiting to 1500 length\n",
    "df_news_final_project.to_parquet('02_clean_df.parquet')"
   ]
  },
  {
   "cell_type": "code",
   "execution_count": null,
   "metadata": {},
   "outputs": [],
   "source": []
  }
 ],
 "metadata": {
  "colab": {
   "provenance": []
  },
  "environment": {
   "kernel": "python3",
   "name": "tf2-gpu.2-11.m108",
   "type": "gcloud",
   "uri": "gcr.io/deeplearning-platform-release/tf2-gpu.2-11:m108"
  },
  "kernelspec": {
   "display_name": "Python 3 (ipykernel)",
   "language": "python",
   "name": "python3"
  },
  "language_info": {
   "codemirror_mode": {
    "name": "ipython",
    "version": 3
   },
   "file_extension": ".py",
   "mimetype": "text/x-python",
   "name": "python",
   "nbconvert_exporter": "python",
   "pygments_lexer": "ipython3",
   "version": "3.10.10"
  }
 },
 "nbformat": 4,
 "nbformat_minor": 4
}
