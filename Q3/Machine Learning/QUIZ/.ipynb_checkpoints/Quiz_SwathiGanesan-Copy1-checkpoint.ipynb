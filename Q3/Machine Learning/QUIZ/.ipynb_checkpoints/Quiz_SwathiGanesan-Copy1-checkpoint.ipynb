{
 "cells": [
  {
   "cell_type": "markdown",
   "id": "f4fa5a5f",
   "metadata": {},
   "source": [
    "## Feature and Model Engineering Case for Machine Learning"
   ]
  },
  {
   "cell_type": "markdown",
   "id": "f739e8f7",
   "metadata": {},
   "source": [
    "#### Question 1: Load"
   ]
  },
  {
   "cell_type": "code",
   "execution_count": 1,
   "id": "430ce058",
   "metadata": {},
   "outputs": [],
   "source": [
    "# import libraries\n",
    "import polars as pl\n",
    "import pandas as pd\n",
    "import numpy as np\n",
    "import json\n",
    "\n",
    "import matplotlib.pyplot as plt\n"
   ]
  },
  {
   "cell_type": "code",
   "execution_count": 2,
   "id": "566f9aaf",
   "metadata": {},
   "outputs": [],
   "source": [
    "# read each line of a JSON file as a separate JSON object\n",
    "trans = pl.read_ndjson('transactions.txt')\n",
    "# convert the Polars DataFrame to a pandas DataFrame\n",
    "trans_df = trans.to_pandas()"
   ]
  },
  {
   "cell_type": "code",
   "execution_count": 3,
   "id": "d7a1d2d2",
   "metadata": {},
   "outputs": [
    {
     "data": {
      "text/html": [
       "<div>\n",
       "<style scoped>\n",
       "    .dataframe tbody tr th:only-of-type {\n",
       "        vertical-align: middle;\n",
       "    }\n",
       "\n",
       "    .dataframe tbody tr th {\n",
       "        vertical-align: top;\n",
       "    }\n",
       "\n",
       "    .dataframe thead th {\n",
       "        text-align: right;\n",
       "    }\n",
       "</style>\n",
       "<table border=\"1\" class=\"dataframe\">\n",
       "  <thead>\n",
       "    <tr style=\"text-align: right;\">\n",
       "      <th></th>\n",
       "      <th>accountNumber</th>\n",
       "      <th>customerId</th>\n",
       "      <th>creditLimit</th>\n",
       "      <th>availableMoney</th>\n",
       "      <th>transactionDateTime</th>\n",
       "      <th>transactionAmount</th>\n",
       "      <th>merchantName</th>\n",
       "      <th>acqCountry</th>\n",
       "      <th>merchantCountryCode</th>\n",
       "      <th>posEntryMode</th>\n",
       "      <th>...</th>\n",
       "      <th>echoBuffer</th>\n",
       "      <th>currentBalance</th>\n",
       "      <th>merchantCity</th>\n",
       "      <th>merchantState</th>\n",
       "      <th>merchantZip</th>\n",
       "      <th>cardPresent</th>\n",
       "      <th>posOnPremises</th>\n",
       "      <th>recurringAuthInd</th>\n",
       "      <th>expirationDateKeyInMatch</th>\n",
       "      <th>isFraud</th>\n",
       "    </tr>\n",
       "  </thead>\n",
       "  <tbody>\n",
       "    <tr>\n",
       "      <th>0</th>\n",
       "      <td>737265056</td>\n",
       "      <td>737265056</td>\n",
       "      <td>5000.0</td>\n",
       "      <td>5000.0</td>\n",
       "      <td>2016-08-13T14:27:32</td>\n",
       "      <td>98.55</td>\n",
       "      <td>Uber</td>\n",
       "      <td>US</td>\n",
       "      <td>US</td>\n",
       "      <td>02</td>\n",
       "      <td>...</td>\n",
       "      <td></td>\n",
       "      <td>0.0</td>\n",
       "      <td></td>\n",
       "      <td></td>\n",
       "      <td></td>\n",
       "      <td>False</td>\n",
       "      <td></td>\n",
       "      <td></td>\n",
       "      <td>False</td>\n",
       "      <td>False</td>\n",
       "    </tr>\n",
       "    <tr>\n",
       "      <th>1</th>\n",
       "      <td>737265056</td>\n",
       "      <td>737265056</td>\n",
       "      <td>5000.0</td>\n",
       "      <td>5000.0</td>\n",
       "      <td>2016-10-11T05:05:54</td>\n",
       "      <td>74.51</td>\n",
       "      <td>AMC #191138</td>\n",
       "      <td>US</td>\n",
       "      <td>US</td>\n",
       "      <td>09</td>\n",
       "      <td>...</td>\n",
       "      <td></td>\n",
       "      <td>0.0</td>\n",
       "      <td></td>\n",
       "      <td></td>\n",
       "      <td></td>\n",
       "      <td>True</td>\n",
       "      <td></td>\n",
       "      <td></td>\n",
       "      <td>False</td>\n",
       "      <td>False</td>\n",
       "    </tr>\n",
       "    <tr>\n",
       "      <th>2</th>\n",
       "      <td>737265056</td>\n",
       "      <td>737265056</td>\n",
       "      <td>5000.0</td>\n",
       "      <td>5000.0</td>\n",
       "      <td>2016-11-08T09:18:39</td>\n",
       "      <td>7.47</td>\n",
       "      <td>Play Store</td>\n",
       "      <td>US</td>\n",
       "      <td>US</td>\n",
       "      <td>09</td>\n",
       "      <td>...</td>\n",
       "      <td></td>\n",
       "      <td>0.0</td>\n",
       "      <td></td>\n",
       "      <td></td>\n",
       "      <td></td>\n",
       "      <td>False</td>\n",
       "      <td></td>\n",
       "      <td></td>\n",
       "      <td>False</td>\n",
       "      <td>False</td>\n",
       "    </tr>\n",
       "    <tr>\n",
       "      <th>3</th>\n",
       "      <td>737265056</td>\n",
       "      <td>737265056</td>\n",
       "      <td>5000.0</td>\n",
       "      <td>5000.0</td>\n",
       "      <td>2016-12-10T02:14:50</td>\n",
       "      <td>7.47</td>\n",
       "      <td>Play Store</td>\n",
       "      <td>US</td>\n",
       "      <td>US</td>\n",
       "      <td>09</td>\n",
       "      <td>...</td>\n",
       "      <td></td>\n",
       "      <td>0.0</td>\n",
       "      <td></td>\n",
       "      <td></td>\n",
       "      <td></td>\n",
       "      <td>False</td>\n",
       "      <td></td>\n",
       "      <td></td>\n",
       "      <td>False</td>\n",
       "      <td>False</td>\n",
       "    </tr>\n",
       "    <tr>\n",
       "      <th>4</th>\n",
       "      <td>830329091</td>\n",
       "      <td>830329091</td>\n",
       "      <td>5000.0</td>\n",
       "      <td>5000.0</td>\n",
       "      <td>2016-03-24T21:04:46</td>\n",
       "      <td>71.18</td>\n",
       "      <td>Tim Hortons #947751</td>\n",
       "      <td>US</td>\n",
       "      <td>US</td>\n",
       "      <td>02</td>\n",
       "      <td>...</td>\n",
       "      <td></td>\n",
       "      <td>0.0</td>\n",
       "      <td></td>\n",
       "      <td></td>\n",
       "      <td></td>\n",
       "      <td>True</td>\n",
       "      <td></td>\n",
       "      <td></td>\n",
       "      <td>False</td>\n",
       "      <td>False</td>\n",
       "    </tr>\n",
       "  </tbody>\n",
       "</table>\n",
       "<p>5 rows × 29 columns</p>\n",
       "</div>"
      ],
      "text/plain": [
       "  accountNumber customerId  creditLimit  availableMoney  transactionDateTime  \\\n",
       "0     737265056  737265056       5000.0          5000.0  2016-08-13T14:27:32   \n",
       "1     737265056  737265056       5000.0          5000.0  2016-10-11T05:05:54   \n",
       "2     737265056  737265056       5000.0          5000.0  2016-11-08T09:18:39   \n",
       "3     737265056  737265056       5000.0          5000.0  2016-12-10T02:14:50   \n",
       "4     830329091  830329091       5000.0          5000.0  2016-03-24T21:04:46   \n",
       "\n",
       "   transactionAmount         merchantName acqCountry merchantCountryCode  \\\n",
       "0              98.55                 Uber         US                  US   \n",
       "1              74.51          AMC #191138         US                  US   \n",
       "2               7.47           Play Store         US                  US   \n",
       "3               7.47           Play Store         US                  US   \n",
       "4              71.18  Tim Hortons #947751         US                  US   \n",
       "\n",
       "  posEntryMode  ... echoBuffer currentBalance merchantCity merchantState  \\\n",
       "0           02  ...                       0.0                              \n",
       "1           09  ...                       0.0                              \n",
       "2           09  ...                       0.0                              \n",
       "3           09  ...                       0.0                              \n",
       "4           02  ...                       0.0                              \n",
       "\n",
       "  merchantZip cardPresent posOnPremises recurringAuthInd  \\\n",
       "0                   False                                  \n",
       "1                    True                                  \n",
       "2                   False                                  \n",
       "3                   False                                  \n",
       "4                    True                                  \n",
       "\n",
       "  expirationDateKeyInMatch isFraud  \n",
       "0                    False   False  \n",
       "1                    False   False  \n",
       "2                    False   False  \n",
       "3                    False   False  \n",
       "4                    False   False  \n",
       "\n",
       "[5 rows x 29 columns]"
      ]
     },
     "execution_count": 3,
     "metadata": {},
     "output_type": "execute_result"
    }
   ],
   "source": [
    "# taking a look at the data sample\n",
    "trans_df.head()"
   ]
  },
  {
   "cell_type": "code",
   "execution_count": 4,
   "id": "894086c2",
   "metadata": {},
   "outputs": [
    {
     "data": {
      "text/plain": [
       "(786363, 29)"
      ]
     },
     "execution_count": 4,
     "metadata": {},
     "output_type": "execute_result"
    }
   ],
   "source": [
    "# describing the structure of the data. Number of records and fields in each record\n",
    "trans_df.shape"
   ]
  },
  {
   "cell_type": "markdown",
   "id": "f0f7665b",
   "metadata": {},
   "source": [
    "The transactions dataframe has 786363 rows and 29 columns."
   ]
  },
  {
   "cell_type": "code",
   "execution_count": 5,
   "id": "b110a5e1",
   "metadata": {},
   "outputs": [
    {
     "name": "stdout",
     "output_type": "stream",
     "text": [
      "<class 'pandas.core.frame.DataFrame'>\n",
      "RangeIndex: 786363 entries, 0 to 786362\n",
      "Data columns (total 29 columns):\n",
      " #   Column                    Non-Null Count   Dtype  \n",
      "---  ------                    --------------   -----  \n",
      " 0   accountNumber             786363 non-null  object \n",
      " 1   customerId                786363 non-null  object \n",
      " 2   creditLimit               786363 non-null  float64\n",
      " 3   availableMoney            786363 non-null  float64\n",
      " 4   transactionDateTime       786363 non-null  object \n",
      " 5   transactionAmount         786363 non-null  float64\n",
      " 6   merchantName              786363 non-null  object \n",
      " 7   acqCountry                786363 non-null  object \n",
      " 8   merchantCountryCode       786363 non-null  object \n",
      " 9   posEntryMode              786363 non-null  object \n",
      " 10  posConditionCode          786363 non-null  object \n",
      " 11  merchantCategoryCode      786363 non-null  object \n",
      " 12  currentExpDate            786363 non-null  object \n",
      " 13  accountOpenDate           786363 non-null  object \n",
      " 14  dateOfLastAddressChange   786363 non-null  object \n",
      " 15  cardCVV                   786363 non-null  object \n",
      " 16  enteredCVV                786363 non-null  object \n",
      " 17  cardLast4Digits           786363 non-null  object \n",
      " 18  transactionType           786363 non-null  object \n",
      " 19  echoBuffer                786363 non-null  object \n",
      " 20  currentBalance            786363 non-null  float64\n",
      " 21  merchantCity              786363 non-null  object \n",
      " 22  merchantState             786363 non-null  object \n",
      " 23  merchantZip               786363 non-null  object \n",
      " 24  cardPresent               786363 non-null  bool   \n",
      " 25  posOnPremises             786363 non-null  object \n",
      " 26  recurringAuthInd          786363 non-null  object \n",
      " 27  expirationDateKeyInMatch  786363 non-null  bool   \n",
      " 28  isFraud                   786363 non-null  bool   \n",
      "dtypes: bool(3), float64(4), object(22)\n",
      "memory usage: 158.2+ MB\n"
     ]
    }
   ],
   "source": [
    "trans_df.info()"
   ]
  },
  {
   "cell_type": "code",
   "execution_count": 6,
   "id": "5597e309",
   "metadata": {},
   "outputs": [],
   "source": [
    "# identified some entries are empty strings. replace empty strings with None\n",
    "trans_df.replace('', None, inplace=True)"
   ]
  },
  {
   "cell_type": "code",
   "execution_count": 7,
   "id": "3db22ca6",
   "metadata": {},
   "outputs": [
    {
     "name": "stdout",
     "output_type": "stream",
     "text": [
      "accountNumber                    0\n",
      "customerId                       0\n",
      "creditLimit                      0\n",
      "availableMoney                   0\n",
      "transactionDateTime              0\n",
      "transactionAmount                0\n",
      "merchantName                     0\n",
      "acqCountry                    4562\n",
      "merchantCountryCode            724\n",
      "posEntryMode                  4054\n",
      "posConditionCode               409\n",
      "merchantCategoryCode             0\n",
      "currentExpDate                   0\n",
      "accountOpenDate                  0\n",
      "dateOfLastAddressChange          0\n",
      "cardCVV                          0\n",
      "enteredCVV                       0\n",
      "cardLast4Digits                  0\n",
      "transactionType                698\n",
      "echoBuffer                  786363\n",
      "currentBalance                   0\n",
      "merchantCity                786363\n",
      "merchantState               786363\n",
      "merchantZip                 786363\n",
      "cardPresent                      0\n",
      "posOnPremises               786363\n",
      "recurringAuthInd            786363\n",
      "expirationDateKeyInMatch         0\n",
      "isFraud                          0\n",
      "dtype: int64\n"
     ]
    }
   ],
   "source": [
    "# calculate the sum of missing values in each column\n",
    "missing_values = trans_df.isna().sum()\n",
    "\n",
    "# display the result\n",
    "print(missing_values)"
   ]
  },
  {
   "cell_type": "markdown",
   "id": "6c8d9656",
   "metadata": {},
   "source": [
    "We can see that 6 columns have all missing values and hence we can go ahead and drop these columns before proceeding. We do not have missing values in our target : isFraud"
   ]
  },
  {
   "cell_type": "code",
   "execution_count": 8,
   "id": "6f44a1a3",
   "metadata": {},
   "outputs": [
    {
     "data": {
      "text/plain": [
       "(786363, 23)"
      ]
     },
     "execution_count": 8,
     "metadata": {},
     "output_type": "execute_result"
    }
   ],
   "source": [
    "# dropping columns where all rows are None\n",
    "trans_df_clean = trans_df.dropna(axis=1, how='all')\n",
    "trans_df_clean.shape"
   ]
  },
  {
   "cell_type": "code",
   "execution_count": 9,
   "id": "9540e3ca",
   "metadata": {},
   "outputs": [
    {
     "data": {
      "text/plain": [
       "(776668, 23)"
      ]
     },
     "execution_count": 9,
     "metadata": {},
     "output_type": "execute_result"
    }
   ],
   "source": [
    "# removing all nulls\n",
    "trans_df_clean = trans_df_clean.dropna()\n",
    "# reset the index inplace and drop the old index column\n",
    "trans_df_clean.reset_index(drop=True, inplace=True)\n",
    "\n",
    "trans_df_clean.shape"
   ]
  },
  {
   "cell_type": "code",
   "execution_count": 10,
   "id": "09fc444e",
   "metadata": {},
   "outputs": [
    {
     "data": {
      "text/plain": [
       "0"
      ]
     },
     "execution_count": 10,
     "metadata": {},
     "output_type": "execute_result"
    }
   ],
   "source": [
    "# ensuring there are no nulls in the dataframe\n",
    "sum(trans_df_clean.isna().sum())"
   ]
  },
  {
   "cell_type": "code",
   "execution_count": 11,
   "id": "97e64b42",
   "metadata": {},
   "outputs": [
    {
     "data": {
      "text/html": [
       "<div>\n",
       "<style scoped>\n",
       "    .dataframe tbody tr th:only-of-type {\n",
       "        vertical-align: middle;\n",
       "    }\n",
       "\n",
       "    .dataframe tbody tr th {\n",
       "        vertical-align: top;\n",
       "    }\n",
       "\n",
       "    .dataframe thead th {\n",
       "        text-align: right;\n",
       "    }\n",
       "</style>\n",
       "<table border=\"1\" class=\"dataframe\">\n",
       "  <thead>\n",
       "    <tr style=\"text-align: right;\">\n",
       "      <th></th>\n",
       "      <th>creditLimit</th>\n",
       "      <th>availableMoney</th>\n",
       "      <th>transactionAmount</th>\n",
       "      <th>currentBalance</th>\n",
       "    </tr>\n",
       "  </thead>\n",
       "  <tbody>\n",
       "    <tr>\n",
       "      <th>count</th>\n",
       "      <td>776668.000000</td>\n",
       "      <td>776668.000000</td>\n",
       "      <td>776668.000000</td>\n",
       "      <td>776668.000000</td>\n",
       "    </tr>\n",
       "    <tr>\n",
       "      <th>mean</th>\n",
       "      <td>10756.182822</td>\n",
       "      <td>6247.583238</td>\n",
       "      <td>136.975808</td>\n",
       "      <td>4508.599584</td>\n",
       "    </tr>\n",
       "    <tr>\n",
       "      <th>std</th>\n",
       "      <td>11631.241047</td>\n",
       "      <td>8873.694052</td>\n",
       "      <td>147.697222</td>\n",
       "      <td>6457.248679</td>\n",
       "    </tr>\n",
       "    <tr>\n",
       "      <th>min</th>\n",
       "      <td>250.000000</td>\n",
       "      <td>-1005.630000</td>\n",
       "      <td>0.000000</td>\n",
       "      <td>0.000000</td>\n",
       "    </tr>\n",
       "    <tr>\n",
       "      <th>25%</th>\n",
       "      <td>5000.000000</td>\n",
       "      <td>1077.520000</td>\n",
       "      <td>33.650000</td>\n",
       "      <td>689.985000</td>\n",
       "    </tr>\n",
       "    <tr>\n",
       "      <th>50%</th>\n",
       "      <td>7500.000000</td>\n",
       "      <td>3184.285000</td>\n",
       "      <td>87.890000</td>\n",
       "      <td>2451.715000</td>\n",
       "    </tr>\n",
       "    <tr>\n",
       "      <th>75%</th>\n",
       "      <td>15000.000000</td>\n",
       "      <td>7500.000000</td>\n",
       "      <td>191.500000</td>\n",
       "      <td>5289.120000</td>\n",
       "    </tr>\n",
       "    <tr>\n",
       "      <th>max</th>\n",
       "      <td>50000.000000</td>\n",
       "      <td>50000.000000</td>\n",
       "      <td>2011.540000</td>\n",
       "      <td>47498.810000</td>\n",
       "    </tr>\n",
       "  </tbody>\n",
       "</table>\n",
       "</div>"
      ],
      "text/plain": [
       "         creditLimit  availableMoney  transactionAmount  currentBalance\n",
       "count  776668.000000   776668.000000      776668.000000   776668.000000\n",
       "mean    10756.182822     6247.583238         136.975808     4508.599584\n",
       "std     11631.241047     8873.694052         147.697222     6457.248679\n",
       "min       250.000000    -1005.630000           0.000000        0.000000\n",
       "25%      5000.000000     1077.520000          33.650000      689.985000\n",
       "50%      7500.000000     3184.285000          87.890000     2451.715000\n",
       "75%     15000.000000     7500.000000         191.500000     5289.120000\n",
       "max     50000.000000    50000.000000        2011.540000    47498.810000"
      ]
     },
     "execution_count": 11,
     "metadata": {},
     "output_type": "execute_result"
    }
   ],
   "source": [
    "# providing some additional basic summary statistics for each field\n",
    "trans_df_clean.describe()"
   ]
  },
  {
   "cell_type": "code",
   "execution_count": 12,
   "id": "8a7d40eb",
   "metadata": {},
   "outputs": [
    {
     "name": "stdout",
     "output_type": "stream",
     "text": [
      "accountNumber                 5000\n",
      "customerId                    5000\n",
      "creditLimit                     10\n",
      "availableMoney              521916\n",
      "transactionDateTime         776637\n",
      "transactionAmount            66038\n",
      "merchantName                  2490\n",
      "acqCountry                       4\n",
      "merchantCountryCode              4\n",
      "posEntryMode                     5\n",
      "posConditionCode                 3\n",
      "merchantCategoryCode            19\n",
      "currentExpDate                 165\n",
      "accountOpenDate               1820\n",
      "dateOfLastAddressChange       2184\n",
      "cardCVV                        899\n",
      "enteredCVV                     976\n",
      "cardLast4Digits               5246\n",
      "transactionType                  3\n",
      "echoBuffer                       0\n",
      "currentBalance              487318\n",
      "merchantCity                     0\n",
      "merchantState                    0\n",
      "merchantZip                      0\n",
      "cardPresent                      2\n",
      "posOnPremises                    0\n",
      "recurringAuthInd                 0\n",
      "expirationDateKeyInMatch         2\n",
      "isFraud                          2\n",
      "dtype: int64\n"
     ]
    }
   ],
   "source": [
    "# count the number of unique values in each column\n",
    "unique_counts = trans_df.nunique()\n",
    "\n",
    "# display the result\n",
    "print(unique_counts)"
   ]
  },
  {
   "cell_type": "markdown",
   "id": "9370c824",
   "metadata": {},
   "source": [
    "Observations in the data by taking a look at the unique values:\n",
    "\n",
    "* We have transaction information for 5000 users"
   ]
  },
  {
   "cell_type": "code",
   "execution_count": 13,
   "id": "91a6a94b",
   "metadata": {},
   "outputs": [
    {
     "data": {
      "text/plain": [
       "[250.0,\n",
       " 500.0,\n",
       " 1000.0,\n",
       " 2500.0,\n",
       " 5000.0,\n",
       " 7500.0,\n",
       " 10000.0,\n",
       " 15000.0,\n",
       " 20000.0,\n",
       " 50000.0]"
      ]
     },
     "execution_count": 13,
     "metadata": {},
     "output_type": "execute_result"
    }
   ],
   "source": [
    "sorted(trans_df_clean['creditLimit'].unique())"
   ]
  },
  {
   "cell_type": "markdown",
   "id": "c3eef0fe",
   "metadata": {},
   "source": [
    "* creditLimit is in the range of 250 to 50000 with 10 unique values"
   ]
  },
  {
   "cell_type": "code",
   "execution_count": 14,
   "id": "2062a31e",
   "metadata": {},
   "outputs": [
    {
     "data": {
      "text/plain": [
       "US     769620\n",
       "MEX      3110\n",
       "CAN      2406\n",
       "PR       1532\n",
       "Name: acqCountry, dtype: int64"
      ]
     },
     "execution_count": 14,
     "metadata": {},
     "output_type": "execute_result"
    }
   ],
   "source": [
    "trans_df_clean['acqCountry'].value_counts()"
   ]
  },
  {
   "cell_type": "markdown",
   "id": "53a54f0f",
   "metadata": {},
   "source": [
    "* ~99% of the transactions are based in the US"
   ]
  },
  {
   "cell_type": "code",
   "execution_count": 15,
   "id": "b6c6ddf1",
   "metadata": {},
   "outputs": [
    {
     "data": {
      "text/plain": [
       "US     769621\n",
       "MEX      3107\n",
       "CAN      2399\n",
       "PR       1541\n",
       "Name: merchantCountryCode, dtype: int64"
      ]
     },
     "execution_count": 15,
     "metadata": {},
     "output_type": "execute_result"
    }
   ],
   "source": [
    "trans_df_clean['merchantCountryCode'].value_counts()"
   ]
  },
  {
   "cell_type": "code",
   "execution_count": 16,
   "id": "9366a7cf",
   "metadata": {},
   "outputs": [
    {
     "data": {
      "text/plain": [
       "05    312710\n",
       "09    234776\n",
       "02    194556\n",
       "90     19437\n",
       "80     15189\n",
       "Name: posEntryMode, dtype: int64"
      ]
     },
     "execution_count": 16,
     "metadata": {},
     "output_type": "execute_result"
    }
   ],
   "source": [
    "trans_df_clean['posEntryMode'].value_counts()"
   ]
  },
  {
   "cell_type": "code",
   "execution_count": 17,
   "id": "dba078b0",
   "metadata": {},
   "outputs": [
    {
     "data": {
      "text/plain": [
       "01    621279\n",
       "08    147973\n",
       "99      7416\n",
       "Name: posConditionCode, dtype: int64"
      ]
     },
     "execution_count": 17,
     "metadata": {},
     "output_type": "execute_result"
    }
   ],
   "source": [
    "trans_df_clean['posConditionCode'].value_counts()"
   ]
  },
  {
   "cell_type": "code",
   "execution_count": 18,
   "id": "58d93d43",
   "metadata": {},
   "outputs": [
    {
     "data": {
      "text/plain": [
       "online_retail           199680\n",
       "fastfood                110785\n",
       "entertainment            79149\n",
       "food                     74482\n",
       "online_gifts             65424\n",
       "rideshare                50510\n",
       "hotels                   33669\n",
       "fuel                     23631\n",
       "subscriptions            22630\n",
       "auto                     21345\n",
       "health                   18854\n",
       "personal care            18726\n",
       "airline                  15188\n",
       "mobileapps               14787\n",
       "online_subscriptions     10928\n",
       "furniture                 7347\n",
       "food_delivery             6000\n",
       "gym                       2183\n",
       "cable/phone               1350\n",
       "Name: merchantCategoryCode, dtype: int64"
      ]
     },
     "execution_count": 18,
     "metadata": {},
     "output_type": "execute_result"
    }
   ],
   "source": [
    "trans_df_clean['merchantCategoryCode'].value_counts()"
   ]
  },
  {
   "cell_type": "markdown",
   "id": "bed7d65f",
   "metadata": {},
   "source": [
    "* ~40% of the transactions are on online_retail and fastfood"
   ]
  },
  {
   "cell_type": "code",
   "execution_count": 19,
   "id": "69c54b81",
   "metadata": {},
   "outputs": [
    {
     "data": {
      "text/plain": [
       "PURCHASE                736636\n",
       "REVERSAL                 20062\n",
       "ADDRESS_VERIFICATION     19970\n",
       "Name: transactionType, dtype: int64"
      ]
     },
     "execution_count": 19,
     "metadata": {},
     "output_type": "execute_result"
    }
   ],
   "source": [
    "trans_df_clean['transactionType'].value_counts()"
   ]
  },
  {
   "cell_type": "markdown",
   "id": "edadcda7",
   "metadata": {},
   "source": [
    "* A good number of transactions are used for address_verification and they could be $0 transactions"
   ]
  },
  {
   "cell_type": "code",
   "execution_count": 20,
   "id": "05acda5d",
   "metadata": {},
   "outputs": [
    {
     "data": {
      "text/plain": [
       "False    428159\n",
       "True     348509\n",
       "Name: cardPresent, dtype: int64"
      ]
     },
     "execution_count": 20,
     "metadata": {},
     "output_type": "execute_result"
    }
   ],
   "source": [
    "trans_df_clean['cardPresent'].value_counts()"
   ]
  },
  {
   "cell_type": "code",
   "execution_count": 21,
   "id": "b42e1412",
   "metadata": {},
   "outputs": [
    {
     "data": {
      "text/plain": [
       "False    775642\n",
       "True       1026\n",
       "Name: expirationDateKeyInMatch, dtype: int64"
      ]
     },
     "execution_count": 21,
     "metadata": {},
     "output_type": "execute_result"
    }
   ],
   "source": [
    "trans_df_clean['expirationDateKeyInMatch'].value_counts()"
   ]
  },
  {
   "cell_type": "code",
   "execution_count": 22,
   "id": "db540bf8",
   "metadata": {},
   "outputs": [
    {
     "data": {
      "text/plain": [
       "False    764702\n",
       "True      11966\n",
       "Name: isFraud, dtype: int64"
      ]
     },
     "execution_count": 22,
     "metadata": {},
     "output_type": "execute_result"
    }
   ],
   "source": [
    "trans_df_clean['isFraud'].value_counts()"
   ]
  },
  {
   "cell_type": "markdown",
   "id": "c768d12f",
   "metadata": {},
   "source": [
    "* ~98.45% of transactions are non-fraudulant transactions"
   ]
  },
  {
   "cell_type": "markdown",
   "id": "6a838f8d",
   "metadata": {},
   "source": [
    "#### Question 2: Plot "
   ]
  },
  {
   "cell_type": "code",
   "execution_count": 23,
   "id": "2be37eb8",
   "metadata": {},
   "outputs": [
    {
     "data": {
      "image/png": "[encoded data removed]",
      "text/plain": [
       "<Figure size 640x480 with 1 Axes>"
      ]
     },
     "metadata": {},
     "output_type": "display_data"
    }
   ],
   "source": [
    "# plotting a histogram of the transactionAmount column\n",
    "trans_df_clean['transactionAmount'].hist()\n",
    "\n",
    "# adding labels and title to the plot\n",
    "plt.xlabel('Transaction Amount')\n",
    "plt.ylabel('Frequency')\n",
    "plt.title('Histogram of Transaction Amounts')\n",
    "\n",
    "# displaying the plot\n",
    "plt.show()"
   ]
  },
  {
   "cell_type": "markdown",
   "id": "c3313b80",
   "metadata": {},
   "source": [
    "Based on the above graph, we can notice that the histogram of the processed transaction amounts is right-skewed (positively skewed). This suggests that there are a large number of low-value transactions and relatively fewer high-value transactions.\n",
    "\n",
    "We can see that 21981 transactions are $0 transactions and about 40 percent transactions are on online_retail and fastfood. \n",
    "\n",
    "One possible hypothesis is that since the transactions represent retail sales and fastfood, the right skewness could due to the fact that most transactions are small purchases, while relatively few transactions are large purchases (subscriptions and electronics).\n",
    "\n",
    "Another hypothesis is that the data includes fraudulent transactions, and the right skewness could be due to the fact that fraudulent transactions are typically small in value in order to avoid detection. "
   ]
  },
  {
   "cell_type": "markdown",
   "id": "7e11fcb2",
   "metadata": {},
   "source": [
    "#### Question 3: Data Wrangling - Duplicate Transactions"
   ]
  },
  {
   "cell_type": "markdown",
   "id": "0f84b195",
   "metadata": {},
   "source": [
    "For reversed transactions, we can identify them by finding pairs of transactions with the same accountNumber, transactionAmount, merchantName, and opposite transactionType values, where the first transaction is a purchase and the second transaction is a reversal.\n",
    "\n",
    "For multi-swipe transactions, we can identify them by finding groups of transactions with the same accountNumber, transactionAmount, merchantName, and transactionDateTime values, where there are multiple transactions with the same values within a short time span. (assuming 2 minutes (120 seconds))"
   ]
  },
  {
   "cell_type": "markdown",
   "id": "300d43e3",
   "metadata": {},
   "source": [
    "##### Identifying reversals"
   ]
  },
  {
   "cell_type": "code",
   "execution_count": 24,
   "id": "4f6b4925",
   "metadata": {},
   "outputs": [],
   "source": [
    "trans_df_clean['transactionDateTime'] = pd.to_datetime(trans_df_clean['transactionDateTime'])\n",
    "trans_df_clean['transactionDate'] = trans_df_clean['transactionDateTime'].dt.strftime('%m/%d/%Y')\n",
    "\n",
    "# sorting the dataframe by accountNumber and transactionDateTime\n",
    "trans_df_clean_utd = trans_df_clean.sort_values(['accountNumber', 'transactionDateTime'])\n",
    "\n",
    "# creating a boolean mask for reversed transactions\n",
    "reversal_mask = (trans_df_clean_utd['accountNumber'] == trans_df_clean_utd['accountNumber'].shift(1)) & \\\n",
    "       (trans_df_clean_utd['transactionAmount'] == trans_df_clean_utd['transactionAmount'].shift(1)) & \\\n",
    "       (trans_df_clean_utd['merchantName'] == trans_df_clean_utd['merchantName'].shift(1)) & \\\n",
    "       (trans_df_clean_utd['transactionDate'] == trans_df_clean_utd['transactionDate'].shift(1)) & \\\n",
    "       (trans_df_clean_utd['transactionType'] == 'REVERSAL') & \\\n",
    "       (trans_df_clean_utd['transactionType'].shift(1) == 'PURCHASE')\n",
    "\n",
    "# updating the is_reversed column using boolean indexing\n",
    "trans_df_clean_utd.loc[reversal_mask, 'is_reversed'] = True\n",
    "\n",
    "# filling missing values with False\n",
    "trans_df_clean_utd['is_reversed'] = trans_df_clean_utd['is_reversed'].fillna(False)"
   ]
  },
  {
   "cell_type": "code",
   "execution_count": 25,
   "id": "655fe46d",
   "metadata": {},
   "outputs": [
    {
     "data": {
      "text/plain": [
       "False    771239\n",
       "True       5429\n",
       "Name: is_reversed, dtype: int64"
      ]
     },
     "execution_count": 25,
     "metadata": {},
     "output_type": "execute_result"
    }
   ],
   "source": [
    "trans_df_clean_utd.reset_index(drop=True, inplace=True)\n",
    "trans_df_clean_utd.is_reversed.value_counts()"
   ]
  },
  {
   "cell_type": "code",
   "execution_count": 26,
   "id": "8b6e7bc0",
   "metadata": {},
   "outputs": [
    {
     "name": "stdout",
     "output_type": "stream",
     "text": [
      "Total number of reversed transactions:  5429\n",
      "Total dollar amount of reversed transactions: $ 813878.5800000001\n"
     ]
    }
   ],
   "source": [
    "reversed_transactions = trans_df_clean_utd[trans_df_clean_utd['is_reversed'] == True]\n",
    "reversed_count = reversed_transactions['transactionAmount'].count()\n",
    "reversed_total = reversed_transactions['transactionAmount'].sum()\n",
    "print(\"Total number of reversed transactions: \", reversed_count)\n",
    "print(\"Total dollar amount of reversed transactions: $\", reversed_total)"
   ]
  },
  {
   "cell_type": "markdown",
   "id": "4e3a311c",
   "metadata": {},
   "source": [
    "##### Identifying multi-swipes"
   ]
  },
  {
   "cell_type": "code",
   "execution_count": 27,
   "id": "13dbdf5e",
   "metadata": {},
   "outputs": [],
   "source": [
    "# sorting the dataframe by accountNumber and transactionDateTime\n",
    "trans_df_clean_utd = trans_df_clean_utd.sort_values(['accountNumber', 'transactionDateTime'])\n",
    "\n",
    "# creating a boolean mask for multi-swipe transactions\n",
    "from datetime import datetime, timedelta\n",
    "multi_swipe_mask = (trans_df_clean_utd['accountNumber'] == trans_df_clean_utd['accountNumber'].shift(1)) & \\\n",
    "                   (trans_df_clean_utd['transactionAmount'] == trans_df_clean_utd['transactionAmount'].shift(1)) & \\\n",
    "                   (trans_df_clean_utd['merchantName'] == trans_df_clean_utd['merchantName'].shift(1)) & \\\n",
    "                   (trans_df_clean_utd['transactionDate'] == trans_df_clean_utd['transactionDate'].shift(1)) & \\\n",
    "                   ((pd.to_datetime(trans_df_clean_utd['transactionDateTime']) - pd.to_datetime(trans_df_clean_utd['transactionDateTime'].shift(1))) < timedelta(seconds=120))\n",
    "\n",
    "# updating the is_multi_swipe column using boolean indexing\n",
    "trans_df_clean_utd.loc[multi_swipe_mask, 'is_multi_swipe'] = True\n",
    "\n",
    "# filling missing values with False\n",
    "trans_df_clean_utd['is_multi_swipe'] = trans_df_clean_utd['is_multi_swipe'].fillna(False)"
   ]
  },
  {
   "cell_type": "code",
   "execution_count": 28,
   "id": "9ffda472",
   "metadata": {},
   "outputs": [
    {
     "data": {
      "text/plain": [
       "False    767947\n",
       "True       8721\n",
       "Name: is_multi_swipe, dtype: int64"
      ]
     },
     "execution_count": 28,
     "metadata": {},
     "output_type": "execute_result"
    }
   ],
   "source": [
    "trans_df_clean_utd.reset_index(drop=True, inplace=True)\n",
    "trans_df_clean_utd.is_multi_swipe.value_counts()"
   ]
  },
  {
   "cell_type": "code",
   "execution_count": 29,
   "id": "82f14449",
   "metadata": {},
   "outputs": [
    {
     "name": "stdout",
     "output_type": "stream",
     "text": [
      "Total number of multi-swipe transactions:  8721\n",
      "Total dollar amount of multi-swipe transactions: $ 1281263.7400000002\n"
     ]
    }
   ],
   "source": [
    "multi_swipe_transactions = trans_df_clean_utd[trans_df_clean_utd['is_multi_swipe'] == True]\n",
    "multi_swipe_count = multi_swipe_transactions['transactionAmount'].count()\n",
    "multi_swipe_total = multi_swipe_transactions['transactionAmount'].sum()\n",
    "print(\"Total number of multi-swipe transactions: \", multi_swipe_count)\n",
    "print(\"Total dollar amount of multi-swipe transactions: $\", multi_swipe_total)"
   ]
  },
  {
   "cell_type": "markdown",
   "id": "573f0148",
   "metadata": {},
   "source": [
    "There are a few interesting things that can be inferred from the data regarding the reversed and multi-swipe transactions.\n",
    "\n",
    "Firstly, the total number of reversed transactions and the total dollar amount for those transactions suggest that they are not rare occurrences. This may indicate that the merchants are not properly verifying transactions or there are issues with the payment system that are causing these transactions to occur.\n",
    "\n",
    "Secondly, the total number of multi-swipe transactions and the total dollar amount for those transactions suggest that this is also a relatively common occurrence. This may be due to user error or issues with the payment system.\n",
    "\n",
    "Overall, it may be worth investigating the cause of these types of transactions to identify any potential issues with the payment system or the merchants involved."
   ]
  },
  {
   "cell_type": "markdown",
   "id": "85748ad8",
   "metadata": {},
   "source": [
    "#### Question 4: Model"
   ]
  },
  {
   "cell_type": "code",
   "execution_count": 30,
   "id": "074c3f74",
   "metadata": {},
   "outputs": [
    {
     "name": "stdout",
     "output_type": "stream",
     "text": [
      "<class 'pandas.core.frame.DataFrame'>\n",
      "RangeIndex: 776668 entries, 0 to 776667\n",
      "Data columns (total 30 columns):\n",
      " #   Column                                     Non-Null Count   Dtype  \n",
      "---  ------                                     --------------   -----  \n",
      " 0   transactionAmount                          776668 non-null  float64\n",
      " 1   currentBalance                             776668 non-null  float64\n",
      " 2   cardPresent                                776668 non-null  int64  \n",
      " 3   expirationDateKeyInMatch                   776668 non-null  int64  \n",
      " 4   is_reversed                                776668 non-null  int64  \n",
      " 5   is_multi_swipe                             776668 non-null  int64  \n",
      " 6   isFraud                                    776668 non-null  int64  \n",
      " 7   merchantCategoryCode_airline               776668 non-null  uint8  \n",
      " 8   merchantCategoryCode_auto                  776668 non-null  uint8  \n",
      " 9   merchantCategoryCode_cable/phone           776668 non-null  uint8  \n",
      " 10  merchantCategoryCode_entertainment         776668 non-null  uint8  \n",
      " 11  merchantCategoryCode_fastfood              776668 non-null  uint8  \n",
      " 12  merchantCategoryCode_food                  776668 non-null  uint8  \n",
      " 13  merchantCategoryCode_food_delivery         776668 non-null  uint8  \n",
      " 14  merchantCategoryCode_fuel                  776668 non-null  uint8  \n",
      " 15  merchantCategoryCode_furniture             776668 non-null  uint8  \n",
      " 16  merchantCategoryCode_gym                   776668 non-null  uint8  \n",
      " 17  merchantCategoryCode_health                776668 non-null  uint8  \n",
      " 18  merchantCategoryCode_hotels                776668 non-null  uint8  \n",
      " 19  merchantCategoryCode_mobileapps            776668 non-null  uint8  \n",
      " 20  merchantCategoryCode_online_gifts          776668 non-null  uint8  \n",
      " 21  merchantCategoryCode_online_retail         776668 non-null  uint8  \n",
      " 22  merchantCategoryCode_online_subscriptions  776668 non-null  uint8  \n",
      " 23  merchantCategoryCode_personal care         776668 non-null  uint8  \n",
      " 24  merchantCategoryCode_rideshare             776668 non-null  uint8  \n",
      " 25  merchantCategoryCode_subscriptions         776668 non-null  uint8  \n",
      " 26  transactionType_ADDRESS_VERIFICATION       776668 non-null  uint8  \n",
      " 27  transactionType_PURCHASE                   776668 non-null  uint8  \n",
      " 28  transactionType_REVERSAL                   776668 non-null  uint8  \n",
      " 29  days_since_last_transaction                776668 non-null  float64\n",
      "dtypes: float64(3), int64(5), uint8(22)\n",
      "memory usage: 63.7 MB\n"
     ]
    }
   ],
   "source": [
    "# selecting relevant columns\n",
    "df_selected = trans_df_clean_utd[['accountNumber', 'transactionAmount', 'transactionDateTime', 'merchantCategoryCode', 'transactionType', \n",
    "                        'currentBalance', 'cardPresent', \n",
    "                        'expirationDateKeyInMatch', 'is_reversed', 'is_multi_swipe', 'isFraud']]\n",
    "\n",
    "# creating dummy variables for categorical features\n",
    "df_selected = pd.get_dummies(df_selected, columns=['merchantCategoryCode', 'transactionType'])\n",
    "\n",
    "# converting transactionDateTime to datetime object\n",
    "df_selected['transactionDateTime'] = pd.to_datetime(df_selected['transactionDateTime'])\n",
    "\n",
    "# calculating days since last transaction\n",
    "df_selected['days_since_last_transaction'] = df_selected.groupby('accountNumber')['transactionDateTime'].diff().dt.days\n",
    "df_selected['days_since_last_transaction'] = df_selected['days_since_last_transaction'].fillna(0)\n",
    "\n",
    "df_selected = df_selected.drop(['accountNumber', 'transactionDateTime'], axis=1)\n",
    "\n",
    "# converting boolean columns to integers (0s and 1s)\n",
    "boolean_cols = ['cardPresent', 'expirationDateKeyInMatch', 'is_reversed', 'is_multi_swipe', 'isFraud']\n",
    "df_selected[boolean_cols] = df_selected[boolean_cols].astype(int)\n",
    "\n",
    "df_selected.info()\n",
    "\n",
    "\n"
   ]
  },
  {
   "cell_type": "code",
   "execution_count": 32,
   "id": "dfe62577",
   "metadata": {},
   "outputs": [
    {
     "name": "stdout",
     "output_type": "stream",
     "text": [
      "              precision    recall  f1-score   support\n",
      "\n",
      "           0       0.98      1.00      0.99    152869\n",
      "           1       1.00      0.00      0.00      2465\n",
      "\n",
      "    accuracy                           0.98    155334\n",
      "   macro avg       0.99      0.50      0.50    155334\n",
      "weighted avg       0.98      0.98      0.98    155334\n",
      "\n"
     ]
    }
   ],
   "source": [
    "from sklearn.model_selection import train_test_split\n",
    "from sklearn.linear_model import LogisticRegression\n",
    "from sklearn.metrics import classification_report\n",
    "\n",
    "\n",
    "# splitting the data into training and testing sets\n",
    "X_train, X_test, y_train, y_test = train_test_split(df_selected.drop(\"isFraud\", axis=1), df_selected[\"isFraud\"], test_size=0.2)\n",
    "\n",
    "# training the logistic regression model\n",
    "clf = LogisticRegression(random_state=42, max_iter=1000)\n",
    "clf.fit(X_train, y_train)\n",
    "\n",
    "# predicting on the testing data\n",
    "y_pred = clf.predict(X_test)\n",
    "\n",
    "# printing the classification report\n",
    "print(classification_report(y_test, y_pred, zero_division=1))"
   ]
  },
  {
   "cell_type": "code",
   "execution_count": 33,
   "id": "fb6805f8",
   "metadata": {},
   "outputs": [
    {
     "name": "stdout",
     "output_type": "stream",
     "text": [
      "              precision    recall  f1-score   support\n",
      "\n",
      "           0       0.98      1.00      0.99    611833\n",
      "           1       0.00      0.00      0.00      9501\n",
      "\n",
      "    accuracy                           0.98    621334\n",
      "   macro avg       0.49      0.50      0.50    621334\n",
      "weighted avg       0.97      0.98      0.98    621334\n",
      "\n"
     ]
    }
   ],
   "source": [
    "# Make predictions on the training set\n",
    "y_train_pred = clf.predict(X_train)\n",
    "\n",
    "# Print the classification report\n",
    "print(classification_report(y_train, y_train_pred))"
   ]
  },
  {
   "cell_type": "code",
   "execution_count": 34,
   "id": "6caad1f1",
   "metadata": {},
   "outputs": [
    {
     "name": "stdout",
     "output_type": "stream",
     "text": [
      "Accuracy: 0.98 (+/- 0.00)\n"
     ]
    }
   ],
   "source": [
    "from sklearn.model_selection import cross_val_score\n",
    "\n",
    "# performing 5-fold cross-validation\n",
    "scores = cross_val_score(clf, df_selected.drop(\"isFraud\", axis=1), df_selected[\"isFraud\"], cv=5)\n",
    "\n",
    "# printing the mean and standard deviation of the cross-validation scores\n",
    "print(\"Accuracy: %0.2f (+/- %0.2f)\" % (scores.mean(), scores.std() * 2))\n"
   ]
  },
  {
   "cell_type": "markdown",
   "id": "c1495f9e",
   "metadata": {},
   "source": [
    "From our train, test and cross validation accuracy we get consistent results of 98% and hence there might not be cases of overfitting or underfitting"
   ]
  },
  {
   "cell_type": "code",
   "execution_count": 35,
   "id": "2f52f6c4",
   "metadata": {},
   "outputs": [
    {
     "name": "stdout",
     "output_type": "stream",
     "text": [
      "Top 7 features:\n",
      "- transactionType_ADDRESS_VERIFICATION\n",
      "- transactionType_REVERSAL\n",
      "- transactionType_PURCHASE\n",
      "- cardPresent\n",
      "- merchantCategoryCode_fastfood\n",
      "- merchantCategoryCode_health\n",
      "- merchantCategoryCode_subscriptions\n"
     ]
    }
   ],
   "source": [
    "# get the absolute value of coefficients\n",
    "coef_abs = np.abs(clf.coef_[0])\n",
    "\n",
    "# create a dataframe to store feature names and coefficients\n",
    "coef_df = pd.DataFrame({'feature': X_train.columns, 'coef': coef_abs})\n",
    "\n",
    "# sort the dataframe by coefficient values\n",
    "coef_df = coef_df.sort_values(by='coef', ascending=False)\n",
    "\n",
    "# display the top 7 features\n",
    "top7_features = coef_df.head(7)['feature'].values.tolist()\n",
    "print(\"Top 7 features:\")\n",
    "for feature in top7_features:\n",
    "    print(\"- {}\".format(feature))\n"
   ]
  },
  {
   "cell_type": "markdown",
   "id": "c6d1f203",
   "metadata": {},
   "source": [
    "If more time was provided, we could do hyper parameter tuning to identify the best parameters. We could have tried different models and chosen the best model. We can do detailed EDA in order to identify and use the most important features."
   ]
  },
  {
   "cell_type": "code",
   "execution_count": null,
   "id": "7ab6af1f",
   "metadata": {},
   "outputs": [],
   "source": []
  },
  {
   "cell_type": "code",
   "execution_count": null,
   "id": "87e1a612",
   "metadata": {},
   "outputs": [],
   "source": []
  }
 ],
 "metadata": {
  "kernelspec": {
   "display_name": "Python 3 (ipykernel)",
   "language": "python",
   "name": "python3"
  },
  "language_info": {
   "codemirror_mode": {
    "name": "ipython",
    "version": 3
   },
   "file_extension": ".py",
   "mimetype": "text/x-python",
   "name": "python",
   "nbconvert_exporter": "python",
   "pygments_lexer": "ipython3",
   "version": "3.9.13"
  }
 },
 "nbformat": 4,
 "nbformat_minor": 5
}
