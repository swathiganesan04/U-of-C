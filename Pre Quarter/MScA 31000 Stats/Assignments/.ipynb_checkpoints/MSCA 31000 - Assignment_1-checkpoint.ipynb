{
 "cells": [
  {
   "cell_type": "code",
   "execution_count": null,
   "id": "d5fbf429",
   "metadata": {},
   "outputs": [],
   "source": []
  },
  {
   "cell_type": "code",
   "execution_count": 3,
   "id": "cf099a97",
   "metadata": {},
   "outputs": [
    {
     "data": {
      "image/png": "[encoded data removed]",
      "text/plain": [
       "<Figure size 432x288 with 1 Axes>"
      ]
     },
     "metadata": {},
     "output_type": "display_data"
    }
   ],
   "source": [
    "import matplotlib.pyplot as plt\n",
    "\n",
    "# Data to plot\n",
    "labels = \"Brown\", \"Blue\", \"Green\", \"Gray\"\n",
    "sizes = [11, 10, 4, 1]\n",
    "colors = ['gold', 'yellowgreen', 'lightcoral', 'lightskyblue']\n",
    "\n",
    "\n",
    "# Plot\n",
    "plt.pie(sizes, labels=labels, colors=colors,\n",
    "autopct='%1.1f%%', shadow=True, startangle=140)\n",
    "\n",
    "plt.axis('equal')\n",
    "plt.show()"
   ]
  },
  {
   "cell_type": "code",
   "execution_count": 30,
   "id": "0e2ba262",
   "metadata": {},
   "outputs": [
    {
     "data": {
      "image/png": "[encoded data removed]",
      "text/plain": [
       "<Figure size 432x288 with 1 Axes>"
      ]
     },
     "metadata": {
      "needs_background": "light"
     },
     "output_type": "display_data"
    }
   ],
   "source": [
    "# libraries\n",
    "import numpy as np\n",
    "import matplotlib.pyplot as plt\n",
    "\n",
    "\n",
    "def addlabels(x,y):\n",
    "    for i in range(len(x)):\n",
    "        plt.text(i, y[i]//2, y[i], ha = 'center')\n",
    "\n",
    "        \n",
    "# create a dataset\n",
    "height = [11, 10, 4, 1]\n",
    "bars = (\"Brown\", \"Blue\", \"Green\", \"Gray\")\n",
    "x_pos = np.arange(len(bars))\n",
    "colors = ['gold', 'yellowgreen', 'lightcoral', 'lightskyblue']\n",
    "\n",
    "# Create bars with different colors\n",
    "plt.bar(x_pos, height, color=colors)\n",
    "plt.xlabel(\"Eye color\")\n",
    "plt.ylabel(\"Number of Students\")\n",
    "\n",
    "addlabels(bars,height)\n",
    "\n",
    "\n",
    "# Create names on the x-axis\n",
    "plt.xticks(x_pos, bars)\n",
    "\n",
    "# Show graph\n",
    "plt.show()\n"
   ]
  },
  {
   "cell_type": "code",
   "execution_count": 66,
   "id": "f8a34bfe",
   "metadata": {},
   "outputs": [
    {
     "name": "stdout",
     "output_type": "stream",
     "text": [
      "11.55\n"
     ]
    },
    {
     "data": {
      "image/png": "[encoded data removed]",
      "text/plain": [
       "<Figure size 432x288 with 1 Axes>"
      ]
     },
     "metadata": {
      "needs_background": "light"
     },
     "output_type": "display_data"
    }
   ],
   "source": [
    "\n",
    "import matplotlib.pyplot as plt\n",
    "y=\"Brown\", \"Blue\", \"Green\", \"Gray\"\n",
    " \n",
    "# getting values against each value of y\n",
    "x=[11, 10, 4, 1]\n",
    "plt.barh(y, x, color = colors)\n",
    " \n",
    "\n",
    "plt.ylabel(\"Eye color\")\n",
    "plt.xlabel(\"Number of Students\")\n",
    "\n",
    "\n",
    "_, xmax = plt.xlim()\n",
    "print(xmax)\n",
    "plt.xlim(0, xmax)\n",
    "for i, v in enumerate(x):\n",
    "    plt.text(v//2, i, str(v), color='black',  fontsize=11, ha='left', va='center')\n",
    "plt.show()"
   ]
  },
  {
   "cell_type": "code",
   "execution_count": 122,
   "id": "1bd7b8e2",
   "metadata": {},
   "outputs": [
    {
     "data": {
      "text/plain": [
       "count    12.000000\n",
       "mean     37.166667\n",
       "std      21.156702\n",
       "min      10.000000\n",
       "25%      24.750000\n",
       "50%      31.000000\n",
       "75%      51.000000\n",
       "max      78.000000\n",
       "dtype: float64"
      ]
     },
     "execution_count": 122,
     "metadata": {},
     "output_type": "execute_result"
    }
   ],
   "source": [
    "import pandas as pd\n",
    "\n",
    "s = pd.Series([10, 26, 30, 42, 51, 67, 32, 12, 78, 51, 26, 21])\n",
    "s.describe()\n"
   ]
  },
  {
   "cell_type": "code",
   "execution_count": 126,
   "id": "eb8a44b5",
   "metadata": {},
   "outputs": [
    {
     "data": {
      "text/plain": [
       "4.039448335743738"
      ]
     },
     "execution_count": 126,
     "metadata": {},
     "output_type": "execute_result"
    }
   ],
   "source": [
    "statistics.stdev([15.2, 18.8, 19.3, 19.7, 20.2, 21.8, 21.2, 29.4])"
   ]
  },
  {
   "cell_type": "code",
   "execution_count": 106,
   "id": "42c04335",
   "metadata": {},
   "outputs": [
    {
     "name": "stdout",
     "output_type": "stream",
     "text": [
      "Skew : 0.8744273830666093\n"
     ]
    }
   ],
   "source": [
    "#Pearson's measure of skew = 3(Mean - Median)/SD\n",
    "Mean = statistics.mean(s)\n",
    "Median = statistics.median(s) #50%\n",
    "SD = statistics.stdev(s)\n",
    "\n",
    "skew = (3*(Mean-Median))/SD\n",
    "print(\"Skew :\", skew)"
   ]
  },
  {
   "cell_type": "code",
   "execution_count": 154,
   "id": "254e0ba4",
   "metadata": {},
   "outputs": [],
   "source": [
    "s1 = pd.Series([7,14,21,28,35])\n",
    "s2 = pd.Series([2,10,21,39,42])\n",
    "s3 = pd.Series([10,13,21,67,82])\n"
   ]
  },
  {
   "cell_type": "code",
   "execution_count": 155,
   "id": "25d7103b",
   "metadata": {},
   "outputs": [
    {
     "name": "stdout",
     "output_type": "stream",
     "text": [
      "21 21 11.067971810589327\n"
     ]
    }
   ],
   "source": [
    "Mean = statistics.mean(s1)\n",
    "Median = statistics.median(s1) \n",
    "SD = statistics.stdev(s1)\n",
    "print(Mean, Median, SD)"
   ]
  },
  {
   "cell_type": "code",
   "execution_count": 156,
   "id": "8d53e5eb",
   "metadata": {},
   "outputs": [
    {
     "name": "stdout",
     "output_type": "stream",
     "text": [
      "22.8 21 17.541379649275026\n"
     ]
    }
   ],
   "source": [
    "Mean = statistics.mean(s2)\n",
    "Median = statistics.median(s2) \n",
    "SD = statistics.stdev(s2)\n",
    "print(Mean, Median, SD)"
   ]
  },
  {
   "cell_type": "code",
   "execution_count": 157,
   "id": "4d94ce3f",
   "metadata": {},
   "outputs": [
    {
     "name": "stdout",
     "output_type": "stream",
     "text": [
      "38.6 21 33.44099280822864\n"
     ]
    }
   ],
   "source": [
    "Mean = statistics.mean(s3)\n",
    "Median = statistics.median(s3)\n",
    "SD = statistics.stdev(s3)\n",
    "print(Mean, Median, SD)"
   ]
  },
  {
   "cell_type": "code",
   "execution_count": 171,
   "id": "fe1482d9",
   "metadata": {},
   "outputs": [
    {
     "name": "stdout",
     "output_type": "stream",
     "text": [
      "NON PLAYERS :\n",
      " count    10.000000\n",
      "mean     33.040000\n",
      "std       8.033292\n",
      "min      22.100000\n",
      "25%      27.050000\n",
      "50%      32.600000\n",
      "75%      39.500000\n",
      "max      43.200000\n",
      "Name: non_players, dtype: float64 \n",
      "\n",
      "BEGINNERS :\n",
      " count    10.000000\n",
      "mean     46.790000\n",
      "std       9.030621\n",
      "min      32.500000\n",
      "25%      39.450000\n",
      "50%      48.400000\n",
      "75%      54.925000\n",
      "max      57.700000\n",
      "Name: beginners, dtype: float64 \n",
      "\n",
      "TOURNAMENT PLAYERS :\n",
      " count    10.000000\n",
      "mean     63.890000\n",
      "std      15.621456\n",
      "min      40.100000\n",
      "25%      52.500000\n",
      "50%      64.600000\n",
      "75%      75.650000\n",
      "max      85.300000\n",
      "Name: tournament_players, dtype: float64 \n",
      "\n"
     ]
    }
   ],
   "source": [
    "data = { \"non_players\" : [22.1,22.3,26.2,29.6,31.7,33.5,38.9,39.7,43.2,43.2], \n",
    "        \"beginners\" :[32.5,37.1,39.1,40.5,45.5,51.3,52.6,55.7,55.9,57.7], \n",
    "        \"tournament_players\" : [40.1,45.6,51.2,56.4,58.1,71.1,74.9,75.9,80.3,85.3]}\n",
    "df = pd.DataFrame(data)\n",
    "print(\"NON PLAYERS :\\n\", df[\"non_players\"].describe(),\"\\n\")\n",
    "print(\"BEGINNERS :\\n\", df[\"beginners\"].describe(),\"\\n\")\n",
    "print(\"TOURNAMENT PLAYERS :\\n\", df[\"tournament_players\"].describe(),\"\\n\")"
   ]
  },
  {
   "cell_type": "code",
   "execution_count": 173,
   "id": "1af8e505",
   "metadata": {},
   "outputs": [
    {
     "data": {
      "text/plain": [
       "<AxesSubplot:>"
      ]
     },
     "execution_count": 173,
     "metadata": {},
     "output_type": "execute_result"
    },
    {
     "data": {
      "image/png": "[encoded data removed]",
      "text/plain": [
       "<Figure size 432x288 with 1 Axes>"
      ]
     },
     "metadata": {
      "needs_background": "light"
     },
     "output_type": "display_data"
    }
   ],
   "source": [
    "import seaborn as sns\n",
    "data = { \"non_players\" : [22.1,22.3,26.2,29.6,31.7,33.5,38.9,39.7,43.2,43.2], \n",
    "        \"beginners\" :[32.5,37.1,39.1,40.5,45.5,51.3,52.6,55.7,55.9,57.7], \n",
    "        \"tournament_players\" : [40.1,45.6,51.2,56.4,58.1,71.1,74.9,75.9,80.3,85.3]}\n",
    "df = pd.DataFrame(data)\n",
    "\n",
    "sns.boxplot(data=[df[\"non_players\"], df[\"beginners\"], df[\"tournament_players\"]])"
   ]
  },
  {
   "cell_type": "code",
   "execution_count": 29,
   "id": "5ecf054e",
   "metadata": {},
   "outputs": [
    {
     "data": {
      "image/png": "[encoded data removed]",
      "text/plain": [
       "<Figure size 864x432 with 1 Axes>"
      ]
     },
     "metadata": {
      "needs_background": "light"
     },
     "output_type": "display_data"
    }
   ],
   "source": [
    "# import libraries\n",
    "import pandas as pd\n",
    "import matplotlib.pyplot as plt\n",
    "\n",
    "# read by default 1st sheet of an excel file\n",
    "angry_moods = pd.read_excel('angry_moods.xls')\n",
    "\n",
    "# Increase size of plot in jupyter\n",
    "plt.rcParams[\"figure.figsize\"] = (12,6)\n",
    " \n",
    "angry_moods['Control-Out'].plot.hist(grid=True, bins=angry_moods['Control-Out'].max(), rwidth=0.9,\n",
    "                   color='lightcoral')\n",
    "plt.title('Distribution of control out scores')\n",
    "plt.xlabel('Count')\n",
    "plt.ylabel('Control-Out')\n",
    "plt.grid(axis='y', alpha=0.75)"
   ]
  },
  {
   "cell_type": "code",
   "execution_count": 19,
   "id": "b49e7a00",
   "metadata": {},
   "outputs": [
    {
     "data": {
      "text/plain": [
       "24    8\n",
       "27    7\n",
       "21    7\n",
       "22    6\n",
       "29    6\n",
       "25    6\n",
       "30    5\n",
       "28    4\n",
       "17    4\n",
       "18    4\n",
       "20    3\n",
       "23    3\n",
       "15    3\n",
       "26    3\n",
       "16    2\n",
       "31    2\n",
       "32    2\n",
       "19    2\n",
       "14    1\n",
       "Name: Control-Out, dtype: int64"
      ]
     },
     "execution_count": 19,
     "metadata": {},
     "output_type": "execute_result"
    }
   ],
   "source": [
    "angry_moods['Control-Out'].value_counts()"
   ]
  },
  {
   "cell_type": "code",
   "execution_count": 26,
   "id": "6f5f0eca",
   "metadata": {},
   "outputs": [
    {
     "data": {
      "text/plain": [
       "32"
      ]
     },
     "execution_count": 26,
     "metadata": {},
     "output_type": "execute_result"
    }
   ],
   "source": [
    "angry_moods['Control-Out'].max()"
   ]
  },
  {
   "cell_type": "code",
   "execution_count": 55,
   "id": "79320fcc",
   "metadata": {},
   "outputs": [
    {
     "name": "stdout",
     "output_type": "stream",
     "text": [
      "Overall mean of the Control-Out score :  23.692307692307693\n"
     ]
    }
   ],
   "source": [
    "#Sports : 1 = athletes, 2 = non-athletes\n",
    "\n",
    "# Importing the statistics module\n",
    "import statistics\n",
    "\n",
    "print(\"Overall mean of the Control-Out score : \", \n",
    "      statistics.mean(angry_moods['Control-Out']))"
   ]
  },
  {
   "cell_type": "code",
   "execution_count": 56,
   "id": "401e7fc6",
   "metadata": {},
   "outputs": [
    {
     "name": "stdout",
     "output_type": "stream",
     "text": [
      "Overall mean of the Control-Out score of athletes:  24.68\n"
     ]
    }
   ],
   "source": [
    "print(\"Overall mean of the Control-Out score of athletes: \", \n",
    "      statistics.mean(list(angry_moods.loc[angry_moods['Sports'] == 1]['Control-Out'])))\n"
   ]
  },
  {
   "cell_type": "code",
   "execution_count": 57,
   "id": "443abe7b",
   "metadata": {},
   "outputs": [
    {
     "name": "stdout",
     "output_type": "stream",
     "text": [
      "Overall mean of the Control-Out score of non-athletes:  23.22641509433962\n"
     ]
    }
   ],
   "source": [
    "print(\"Overall mean of the Control-Out score of non-athletes: \", \n",
    "      statistics.mean(list(angry_moods.loc[angry_moods['Sports'] == 2]['Control-Out'])))\n"
   ]
  },
  {
   "cell_type": "code",
   "execution_count": 65,
   "id": "300650a4",
   "metadata": {},
   "outputs": [
    {
     "data": {
      "image/png": "[encoded data removed]",
      "text/plain": [
       "<Figure size 864x432 with 1 Axes>"
      ]
     },
     "metadata": {},
     "output_type": "display_data"
    }
   ],
   "source": [
    "angry_moods[\"Sports_updated\"] = np.where(angry_moods[\"Sports\"].isin([1]), 'Athletes', 'Non-athletes')\n",
    "\n",
    "\n",
    "sns.set(style=\"whitegrid\")\n",
    "\n",
    "ax = sns.boxplot(x=\"Sports_updated\", y=\"Anger_Expression\", data=angry_moods, showfliers = False)\n",
    "ax = sns.swarmplot(x=\"Sports_updated\", y=\"Anger_Expression\", data=angry_moods, color=\".25\")\n",
    "\n",
    "plt.show()"
   ]
  },
  {
   "cell_type": "code",
   "execution_count": 61,
   "id": "14564a97",
   "metadata": {},
   "outputs": [],
   "source": [
    "import numpy as np\n",
    "import seaborn as sns\n",
    "import matplotlib.pyplot as plt"
   ]
  },
  {
   "cell_type": "code",
   "execution_count": 66,
   "id": "88a01bd2",
   "metadata": {},
   "outputs": [
    {
     "data": {
      "image/png": "[encoded data removed]",
      "text/plain": [
       "<Figure size 864x432 with 1 Axes>"
      ]
     },
     "metadata": {},
     "output_type": "display_data"
    }
   ],
   "source": [
    "#Gender : 1 = males, 2 = females\n",
    "\n",
    "angry_moods[\"Gender_Desc\"] = np.where(angry_moods[\"Gender\"].isin([1]), 'Male', 'Female')\n",
    "\n",
    "\n",
    "sns.set(style=\"whitegrid\")\n",
    "\n",
    "ax = sns.boxplot(x=\"Gender_Desc\", y=\"Anger_Expression\", data=angry_moods, showfliers = False)\n",
    "ax = sns.swarmplot(x=\"Gender_Desc\", y=\"Anger_Expression\", data=angry_moods, color=\".25\")\n",
    "\n",
    "plt.show()"
   ]
  },
  {
   "cell_type": "code",
   "execution_count": 106,
   "id": "d761ecf1",
   "metadata": {},
   "outputs": [],
   "source": [
    "import numpy\n",
    "data = { \"non_players\" : [22.1,22.3,26.2,29.6,31.7,33.5,38.9,39.7,43.2,43.2], \n",
    "        \"beginners\" :[32.5,37.1,39.1,40.5,45.5,51.3,52.6,55.7,55.9,57.7], \n",
    "        \"tournament_players\" : [40.1,45.6,51.2,56.4,58.1,71.1,74.9,75.9,80.3,85.3]}\n",
    "df = pd.DataFrame(data)\n",
    "\n",
    "#Measures of central tendency are : mode, median, mean\n",
    "#Measures of spread are : range, quartiles and the interquartile range, variance and standard deviation.\n",
    "result = {\"Measure\" : [\"mean\", \"median\", \"mode\", \"range\", \"25%\", \"50%\", \"75%\", \"IQR\", \"variance\",\"S.D\",\"Coefficient of var.\"],\n",
    "         \"Non Players\" : [statistics.mean(data[\"non_players\"]),statistics.median(data[\"non_players\"]),statistics.mode(data[\"non_players\"]),max(data[\"non_players\"])-min(data[\"non_players\"]),numpy.percentile(data[\"non_players\"], 25),numpy.percentile(data[\"non_players\"], 50),numpy.percentile(data[\"non_players\"], 75),numpy.percentile(data[\"non_players\"], 75) - numpy.percentile(data[\"non_players\"], 25),statistics.variance(data[\"non_players\"]),statistics.stdev(data[\"non_players\"]),statistics.stdev(data[\"non_players\"])/statistics.mean(data[\"non_players\"])*100],\n",
    "         \"Beginners\" : [statistics.mean(data[\"beginners\"]),statistics.median(data[\"beginners\"]),statistics.mode(data[\"beginners\"]),max(data[\"beginners\"])-min(data[\"beginners\"]),numpy.percentile(data[\"beginners\"], 25),numpy.percentile(data[\"beginners\"], 50),numpy.percentile(data[\"beginners\"], 75),numpy.percentile(data[\"beginners\"], 75) - numpy.percentile(data[\"beginners\"], 25),statistics.variance(data[\"beginners\"]),statistics.stdev(data[\"beginners\"]),statistics.stdev(data[\"beginners\"])/statistics.mean(data[\"beginners\"])*100],\n",
    "         \"Tournament Players\" : [statistics.mean(data[\"tournament_players\"]),statistics.median(data[\"tournament_players\"]),statistics.mode(data[\"tournament_players\"]),max(data[\"tournament_players\"])-min(data[\"tournament_players\"]),numpy.percentile(data[\"tournament_players\"], 25),numpy.percentile(data[\"tournament_players\"], 50),numpy.percentile(data[\"tournament_players\"], 75),numpy.percentile(data[\"tournament_players\"], 75) - numpy.percentile(data[\"tournament_players\"], 25),statistics.variance(data[\"tournament_players\"]),statistics.stdev(data[\"tournament_players\"]),statistics.stdev(data[\"tournament_players\"])/statistics.mean(data[\"tournament_players\"])*100]}\n",
    "\n"
   ]
  },
  {
   "cell_type": "code",
   "execution_count": 107,
   "id": "c274c6b1",
   "metadata": {},
   "outputs": [
    {
     "data": {
      "text/html": [
       "<div>\n",
       "<style scoped>\n",
       "    .dataframe tbody tr th:only-of-type {\n",
       "        vertical-align: middle;\n",
       "    }\n",
       "\n",
       "    .dataframe tbody tr th {\n",
       "        vertical-align: top;\n",
       "    }\n",
       "\n",
       "    .dataframe thead th {\n",
       "        text-align: right;\n",
       "    }\n",
       "</style>\n",
       "<table border=\"1\" class=\"dataframe\">\n",
       "  <thead>\n",
       "    <tr style=\"text-align: right;\">\n",
       "      <th></th>\n",
       "      <th>Measure</th>\n",
       "      <th>Non Players</th>\n",
       "      <th>Beginners</th>\n",
       "      <th>Tournament Players</th>\n",
       "    </tr>\n",
       "  </thead>\n",
       "  <tbody>\n",
       "    <tr>\n",
       "      <th>0</th>\n",
       "      <td>mean</td>\n",
       "      <td>33.040000</td>\n",
       "      <td>46.790000</td>\n",
       "      <td>63.890000</td>\n",
       "    </tr>\n",
       "    <tr>\n",
       "      <th>1</th>\n",
       "      <td>median</td>\n",
       "      <td>32.600000</td>\n",
       "      <td>48.400000</td>\n",
       "      <td>64.600000</td>\n",
       "    </tr>\n",
       "    <tr>\n",
       "      <th>2</th>\n",
       "      <td>mode</td>\n",
       "      <td>43.200000</td>\n",
       "      <td>32.500000</td>\n",
       "      <td>40.100000</td>\n",
       "    </tr>\n",
       "    <tr>\n",
       "      <th>3</th>\n",
       "      <td>range</td>\n",
       "      <td>21.100000</td>\n",
       "      <td>25.200000</td>\n",
       "      <td>45.200000</td>\n",
       "    </tr>\n",
       "    <tr>\n",
       "      <th>4</th>\n",
       "      <td>25%</td>\n",
       "      <td>27.050000</td>\n",
       "      <td>39.450000</td>\n",
       "      <td>52.500000</td>\n",
       "    </tr>\n",
       "    <tr>\n",
       "      <th>5</th>\n",
       "      <td>50%</td>\n",
       "      <td>32.600000</td>\n",
       "      <td>48.400000</td>\n",
       "      <td>64.600000</td>\n",
       "    </tr>\n",
       "    <tr>\n",
       "      <th>6</th>\n",
       "      <td>75%</td>\n",
       "      <td>39.500000</td>\n",
       "      <td>54.925000</td>\n",
       "      <td>75.650000</td>\n",
       "    </tr>\n",
       "    <tr>\n",
       "      <th>7</th>\n",
       "      <td>IQR</td>\n",
       "      <td>12.450000</td>\n",
       "      <td>15.475000</td>\n",
       "      <td>23.150000</td>\n",
       "    </tr>\n",
       "    <tr>\n",
       "      <th>8</th>\n",
       "      <td>variance</td>\n",
       "      <td>64.533778</td>\n",
       "      <td>81.552111</td>\n",
       "      <td>244.029889</td>\n",
       "    </tr>\n",
       "    <tr>\n",
       "      <th>9</th>\n",
       "      <td>S.D</td>\n",
       "      <td>8.033292</td>\n",
       "      <td>9.030621</td>\n",
       "      <td>15.621456</td>\n",
       "    </tr>\n",
       "    <tr>\n",
       "      <th>10</th>\n",
       "      <td>Coefficient of var.</td>\n",
       "      <td>24.313837</td>\n",
       "      <td>19.300322</td>\n",
       "      <td>24.450549</td>\n",
       "    </tr>\n",
       "  </tbody>\n",
       "</table>\n",
       "</div>"
      ],
      "text/plain": [
       "                Measure  Non Players  Beginners  Tournament Players\n",
       "0                  mean    33.040000  46.790000           63.890000\n",
       "1                median    32.600000  48.400000           64.600000\n",
       "2                  mode    43.200000  32.500000           40.100000\n",
       "3                 range    21.100000  25.200000           45.200000\n",
       "4                   25%    27.050000  39.450000           52.500000\n",
       "5                   50%    32.600000  48.400000           64.600000\n",
       "6                   75%    39.500000  54.925000           75.650000\n",
       "7                   IQR    12.450000  15.475000           23.150000\n",
       "8              variance    64.533778  81.552111          244.029889\n",
       "9                   S.D     8.033292   9.030621           15.621456\n",
       "10  Coefficient of var.    24.313837  19.300322           24.450549"
      ]
     },
     "execution_count": 107,
     "metadata": {},
     "output_type": "execute_result"
    }
   ],
   "source": [
    "final = pd.DataFrame(result)\n",
    "final"
   ]
  },
  {
   "cell_type": "code",
   "execution_count": 111,
   "id": "e513fb9f",
   "metadata": {},
   "outputs": [
    {
     "name": "stdout",
     "output_type": "stream",
     "text": [
      "             Anger-Out  Control-Out\n",
      "Anger-Out     1.000000    -0.582683\n",
      "Control-Out  -0.582683     1.000000\n"
     ]
    }
   ],
   "source": [
    "import scipy as sp\n",
    "import pandas as pd\n",
    "from scipy import stats\n",
    "\n",
    "Anger_Out = angry_moods[\"Anger-Out\"]\n",
    "Control_Out = angry_moods[\"Control-Out\"]\n",
    "\n",
    "Data_core = {\"Anger-Out\": Anger_Out, \"Control-Out\": Control_Out}\n",
    "DF = pd.DataFrame(data=Data_core)\n",
    "\n",
    "Pearson = DF.corr()\n",
    "print(Pearson)"
   ]
  },
  {
   "cell_type": "code",
   "execution_count": 116,
   "id": "9742b22a",
   "metadata": {},
   "outputs": [
    {
     "name": "stdout",
     "output_type": "stream",
     "text": [
      "             Control-in  Control-Out\n",
      "Control-in     1.000000     0.719283\n",
      "Control-Out    0.719283     1.000000\n"
     ]
    }
   ],
   "source": [
    "import scipy as sp\n",
    "import pandas as pd\n",
    "from scipy import stats\n",
    "\n",
    "Control_In = angry_moods[\"Control-In\"]\n",
    "Control_Out = angry_moods[\"Control-Out\"]\n",
    "\n",
    "Data_core = {\"Control-in\": Control_In, \"Control-Out\": Control_Out}\n",
    "DF = pd.DataFrame(data=Data_core)\n",
    "\n",
    "Pearson = DF.corr()\n",
    "print(Pearson)"
   ]
  },
  {
   "cell_type": "code",
   "execution_count": 117,
   "id": "7248a3cc",
   "metadata": {},
   "outputs": [
    {
     "data": {
      "text/plain": [
       "21.96153846153846"
      ]
     },
     "execution_count": 117,
     "metadata": {},
     "output_type": "execute_result"
    }
   ],
   "source": [
    "statistics.mean(angry_moods[\"Control-In\"])"
   ]
  },
  {
   "cell_type": "code",
   "execution_count": 120,
   "id": "36f48ef4",
   "metadata": {},
   "outputs": [
    {
     "data": {
      "text/plain": [
       "23.692307692307693"
      ]
     },
     "execution_count": 120,
     "metadata": {},
     "output_type": "execute_result"
    }
   ],
   "source": [
    "statistics.mean(angry_moods[\"Control-Out\"])"
   ]
  },
  {
   "cell_type": "code",
   "execution_count": 121,
   "id": "2d9dadd4",
   "metadata": {},
   "outputs": [
    {
     "data": {
      "text/plain": [
       "Ttest_indResult(statistic=-2.2431764586774503, pvalue=0.026312338066835497)"
      ]
     },
     "execution_count": 121,
     "metadata": {},
     "output_type": "execute_result"
    }
   ],
   "source": [
    "import scipy.stats as stats\n",
    "\n",
    " \n",
    "# Perform the two sample t-test with equal variances\n",
    "stats.ttest_ind(a=Control_In, b=Control_Out, equal_var=True)"
   ]
  },
  {
   "cell_type": "code",
   "execution_count": 127,
   "id": "f1f8d829",
   "metadata": {},
   "outputs": [
    {
     "data": {
      "text/plain": [
       "Ttest_indResult(statistic=-2.2431764586774503, pvalue=0.026312338066835497)"
      ]
     },
     "execution_count": 127,
     "metadata": {},
     "output_type": "execute_result"
    }
   ],
   "source": [
    "from scipy import stats\n",
    "stats.ttest_ind(Control_In,Control_Out)"
   ]
  },
  {
   "cell_type": "code",
   "execution_count": 129,
   "id": "b8e79ee9",
   "metadata": {},
   "outputs": [
    {
     "data": {
      "text/plain": [
       "5.949378485233462e-14"
      ]
     },
     "execution_count": 129,
     "metadata": {},
     "output_type": "execute_result"
    }
   ],
   "source": [
    "stats.t.sf(9.0261, df=76)\n"
   ]
  },
  {
   "cell_type": "code",
   "execution_count": 130,
   "id": "0d2164ee",
   "metadata": {},
   "outputs": [
    {
     "data": {
      "text/plain": [
       "<AxesSubplot:xlabel='var1', ylabel='var2'>"
      ]
     },
     "execution_count": 130,
     "metadata": {},
     "output_type": "execute_result"
    },
    {
     "data": {
      "image/png": "[encoded data removed]",
      "text/plain": [
       "<Figure size 864x432 with 1 Axes>"
      ]
     },
     "metadata": {},
     "output_type": "display_data"
    }
   ],
   "source": [
    "import pandas as pd\n",
    "import seaborn as sns\n",
    "import numpy as np\n",
    "\n",
    "# initialize data of lists.\n",
    "plot_data = {'var1': [2,5,6,8,12,13,14,16,20,28],\n",
    "        'var2': [59,46,40,32,30,29,16,14,12,4]}\n",
    "# Create DataFrame\n",
    "df = pd.DataFrame(plot_data)\n",
    "sns.scatterplot(x=\"var1\", y=\"var2\", data = df)\n"
   ]
  },
  {
   "cell_type": "code",
   "execution_count": 131,
   "id": "d26944ce",
   "metadata": {},
   "outputs": [
    {
     "name": "stdout",
     "output_type": "stream",
     "text": [
      "Correlation coefficient : \n",
      " [[ 1.        -0.9374443]\n",
      " [-0.9374443  1.       ]]\n"
     ]
    }
   ],
   "source": [
    "r = np.corrcoef(plot_data['var1'], plot_data['var2'])\n",
    "print(\"Correlation coefficient : \\n\", r)\n"
   ]
  },
  {
   "cell_type": "code",
   "execution_count": 132,
   "id": "919ff30f",
   "metadata": {},
   "outputs": [
    {
     "data": {
      "text/plain": [
       "<AxesSubplot:xlabel='Control-In', ylabel='Control-Out'>"
      ]
     },
     "execution_count": 132,
     "metadata": {},
     "output_type": "execute_result"
    },
    {
     "data": {
      "image/png": "[encoded data removed]",
      "text/plain": [
       "<Figure size 864x432 with 1 Axes>"
      ]
     },
     "metadata": {},
     "output_type": "display_data"
    }
   ],
   "source": [
    "\n",
    "# Create DataFrame\n",
    "df = pd.DataFrame(plot_data)\n",
    "sns.scatterplot(x=\"Control-In\", y=\"Control-Out\", data = angry_moods)\n"
   ]
  },
  {
   "cell_type": "code",
   "execution_count": 3,
   "id": "b4105808",
   "metadata": {},
   "outputs": [
    {
     "name": "stdout",
     "output_type": "stream",
     "text": [
      "1.0019766605307012e-07\n"
     ]
    }
   ],
   "source": [
    "from scipy.stats import binom\n",
    "\n",
    "print(1 - binom.cdf(k=39, n=60, p=0.33))\n",
    "#pcbinom(20, size=60, prob=0.33) \n"
   ]
  },
  {
   "cell_type": "code",
   "execution_count": 5,
   "id": "ce48bfa2",
   "metadata": {},
   "outputs": [
    {
     "name": "stdout",
     "output_type": "stream",
     "text": [
      "0.10856155863956825\n"
     ]
    }
   ],
   "source": [
    "from scipy.stats import binom\n",
    "\n",
    "print(binom.pmf(k=20, n=60, p=0.33))\n",
    "#dbinom(20, size=60, prob=0.33) "
   ]
  },
  {
   "cell_type": "code",
   "execution_count": 20,
   "id": "27a62e46",
   "metadata": {},
   "outputs": [
    {
     "name": "stdout",
     "output_type": "stream",
     "text": [
      "The mean of the Anger Expression scores is : 37\n",
      "The standard deviation of the Anger Expression scores is : 12.94142648553549\n"
     ]
    }
   ],
   "source": [
    "# import libraries\n",
    "import pandas as pd\n",
    "import matplotlib.pyplot as plt\n",
    "import numpy\n",
    "import scipy\n",
    "\n",
    "# Importing the statistics module\n",
    "import statistics\n",
    "\n",
    "# read by default 1st sheet of an excel file\n",
    "angry_moods = pd.read_excel('angry_moods.xls')\n",
    "\n",
    "Mean = statistics.mean(angry_moods['Anger_Expression'])\n",
    "SD = statistics.stdev(angry_moods['Anger_Expression'])\n",
    "\n",
    "print(\"The mean of the Anger Expression scores is :\", Mean)\n",
    "print(\"The standard deviation of the Anger Expression scores is :\", SD)\n"
   ]
  },
  {
   "cell_type": "code",
   "execution_count": 21,
   "id": "6fc76632",
   "metadata": {},
   "outputs": [
    {
     "name": "stdout",
     "output_type": "stream",
     "text": [
      "The 25th percentile of AE scores is : 27.0\n",
      "The 50th percentile of AE scores is : 36.0\n",
      "The 75th percentile of AE scores is : 44.75\n"
     ]
    }
   ],
   "source": [
    "print(\"The 25th percentile of AE scores is :\", numpy.percentile(angry_moods[\"Anger_Expression\"], 25))\n",
    "print(\"The 50th percentile of AE scores is :\", numpy.percentile(angry_moods[\"Anger_Expression\"], 50))\n",
    "print(\"The 75th percentile of AE scores is :\", numpy.percentile(angry_moods[\"Anger_Expression\"], 75))"
   ]
  },
  {
   "cell_type": "code",
   "execution_count": 30,
   "id": "e6455590",
   "metadata": {},
   "outputs": [
    {
     "name": "stdout",
     "output_type": "stream",
     "text": [
      "The corresponding Z scores :\n",
      "25th percentile -0.7727\n",
      "50th percentile -0.0773\n",
      "75th percentile 0.5989\n"
     ]
    }
   ],
   "source": [
    "#z = (X−μ) / σ\n",
    "#mean μ = 37; σ = 12.9414\n",
    "\n",
    "print(\"The corresponding Z scores :\")\n",
    "print(\"25th percentile\", round((27-37)/12.9414,4))\n",
    "print(\"50th percentile\", round((36-37)/12.9414,4))\n",
    "print(\"75th percentile\", round((44.75-37)/12.9414,4))"
   ]
  },
  {
   "cell_type": "code",
   "execution_count": 32,
   "id": "266da2c2",
   "metadata": {},
   "outputs": [
    {
     "data": {
      "text/plain": [
       "Gender_Desc\n",
       "Female    48\n",
       "Male      30\n",
       "Name: Gender_Desc, dtype: int64"
      ]
     },
     "execution_count": 32,
     "metadata": {},
     "output_type": "execute_result"
    }
   ],
   "source": [
    "# import libraries\n",
    "import pandas as pd\n",
    "import numpy as np\n",
    "\n",
    "\n",
    "# read by default 1st sheet of an excel file\n",
    "angry_moods = pd.read_excel('angry_moods.xls')\n",
    "\n",
    "angry_moods[\"Gender_Desc\"] = np.where(angry_moods[\"Gender\"].isin([1]), 'Male', 'Female')\n",
    "angry_moods.groupby(['Gender_Desc'])['Gender_Desc'].count()\n"
   ]
  },
  {
   "cell_type": "code",
   "execution_count": 35,
   "id": "947e7831",
   "metadata": {},
   "outputs": [
    {
     "data": {
      "text/plain": [
       "Gender_Desc\n",
       "Female    15.770833\n",
       "Male      16.566667\n",
       "Name: Anger-Out, dtype: float64"
      ]
     },
     "execution_count": 35,
     "metadata": {},
     "output_type": "execute_result"
    }
   ],
   "source": [
    "# import libraries\n",
    "import pandas as pd\n",
    "import numpy as np\n",
    "\n",
    "\n",
    "# read by default 1st sheet of an excel file\n",
    "angry_moods = pd.read_excel('angry_moods.xls')\n",
    "\n",
    "angry_moods[\"Gender_Desc\"] = np.where(angry_moods[\"Gender\"].isin([1]), 'Male', 'Female')\n",
    "angry_moods.groupby(['Gender_Desc'])['Anger-Out'].mean()\n"
   ]
  },
  {
   "cell_type": "code",
   "execution_count": 37,
   "id": "6f9d4a83",
   "metadata": {},
   "outputs": [
    {
     "name": "stdout",
     "output_type": "stream",
     "text": [
      "The mean difference between men and women is :  0.7958339999999993\n"
     ]
    }
   ],
   "source": [
    "print(\"The mean difference between men and women is : \", 16.566667-15.770833)"
   ]
  },
  {
   "cell_type": "code",
   "execution_count": 120,
   "id": "de4b9d23",
   "metadata": {},
   "outputs": [
    {
     "data": {
      "text/plain": [
       "Gender_Desc\n",
       "Female    48\n",
       "Male      30\n",
       "Name: Gender_Desc, dtype: int64"
      ]
     },
     "execution_count": 120,
     "metadata": {},
     "output_type": "execute_result"
    }
   ],
   "source": [
    "# import libraries\n",
    "import pandas as pd\n",
    "import numpy as np\n",
    "import statistics \n",
    "import math\n",
    "\n",
    "# read by default 1st sheet of an excel file\n",
    "angry_moods = pd.read_excel('angry_moods.xls')\n",
    "\n",
    "angry_moods[\"Gender_Desc\"] = np.where(angry_moods[\"Gender\"].isin([1]), 'Male', 'Female')\n",
    "\n",
    "mean_men = statistics.mean(angry_moods[angry_moods['Gender_Desc'] == 'Male'][\"Anger-Out\"].tolist())\n",
    "mean_women = statistics.mean(angry_moods[angry_moods['Gender_Desc'] == 'Female'][\"Anger-Out\"].tolist())\n",
    "\n",
    "sd_men = statistics.stdev(angry_moods[angry_moods['Gender_Desc'] == 'Male'][\"Anger-Out\"].tolist())\n",
    "sd_women = statistics.stdev(angry_moods[angry_moods['Gender_Desc'] == 'Female'][\"Anger-Out\"].tolist())\n",
    "\n",
    "angry_moods.groupby(['Gender_Desc'])['Gender_Desc'].count()\n",
    "\n"
   ]
  },
  {
   "cell_type": "code",
   "execution_count": 121,
   "id": "6b4590e4",
   "metadata": {},
   "outputs": [],
   "source": [
    "#Standard error of means = √(sd_men_sqrd/#men + sd_women_sqrd/#women) \n",
    "std_error = math.sqrt((sd_men*sd_men)/30 + (sd_women*sd_women)/48)\n",
    "\n",
    "deg_of_freedom = (30-1) + (48-1)\n",
    "#degrees of freedom = 76\n",
    "\n",
    "#using the t for confidence interval calculator : https://onlinestatbook.com/2/calculators/inverse_t_dist.html\n",
    "t = 2.642\n",
    "\n",
    "#difference between means \n",
    "mean_diff = mean_men - mean_women\n",
    "lower_limit = mean_diff - (t*std_error)\n",
    "upper_limit = mean_diff + (t*std_error)"
   ]
  },
  {
   "cell_type": "code",
   "execution_count": 122,
   "id": "763155da",
   "metadata": {},
   "outputs": [
    {
     "name": "stdout",
     "output_type": "stream",
     "text": [
      "The lower limit is : -1.8346\n",
      "The upper limit is : 3.4262\n"
     ]
    }
   ],
   "source": [
    "print(\"The lower limit is :\", round(lower_limit,4))\n",
    "print(\"The upper limit is :\", round(upper_limit,4))"
   ]
  },
  {
   "cell_type": "code",
   "execution_count": 41,
   "id": "f0a898c7",
   "metadata": {},
   "outputs": [
    {
     "data": {
      "text/plain": [
       "array([1, 2])"
      ]
     },
     "execution_count": 41,
     "metadata": {},
     "output_type": "execute_result"
    }
   ],
   "source": [
    "angry_moods['Sports'].unique()"
   ]
  },
  {
   "cell_type": "code",
   "execution_count": 96,
   "id": "62eab21e",
   "metadata": {},
   "outputs": [
    {
     "data": {
      "text/plain": [
       "Sports_Desc\n",
       "Athletes        25\n",
       "Non-Athletes    53\n",
       "Name: Sports_Desc, dtype: int64"
      ]
     },
     "execution_count": 96,
     "metadata": {},
     "output_type": "execute_result"
    }
   ],
   "source": [
    "angry_moods[\"Sports_Desc\"] = np.where(angry_moods[\"Sports\"].isin([1]), 'Athletes', 'Non-Athletes')\n",
    "\n",
    "mean_ath = statistics.mean(angry_moods[angry_moods['Sports_Desc'] == 'Athletes'][\"Anger-In\"].tolist())\n",
    "mean_non_ath = statistics.mean(angry_moods[angry_moods['Sports_Desc'] == 'Non-Athletes'][\"Anger-In\"].tolist())\n",
    "\n",
    "sd_ath = statistics.stdev(angry_moods[angry_moods['Sports_Desc'] == 'Athletes'][\"Anger-In\"].tolist())\n",
    "sd_non_ath = statistics.stdev(angry_moods[angry_moods['Sports_Desc'] == 'Non-Athletes'][\"Anger-In\"].tolist())\n",
    "\n",
    "angry_moods.groupby(['Sports_Desc'])['Sports_Desc'].count()"
   ]
  },
  {
   "cell_type": "code",
   "execution_count": 118,
   "id": "fcc2b818",
   "metadata": {},
   "outputs": [],
   "source": [
    "#Standard error of means = √(sd_ath_sqrd/#men + sd_non_ath_sqrd/#women) \n",
    "std_error = math.sqrt((sd_ath*sd_ath)/25 + (sd_non_ath*sd_non_ath)/53)\n",
    "\n",
    "deg_of_freedom = (25-1) + (53-1)\n",
    "#degrees of freedom = 76\n",
    "\n",
    "#using the t for confidence interval calculator : https://onlinestatbook.com/2/calculators/inverse_t_dist.html\n",
    "t =1.992\n",
    "\n",
    "#difference between means \n",
    "mean_diff = mean_non_ath - mean_ath\n",
    "lower_limit = mean_diff - (t*std_error)\n",
    "upper_limit = mean_diff + (t*std_error)"
   ]
  },
  {
   "cell_type": "code",
   "execution_count": 119,
   "id": "a838e866",
   "metadata": {},
   "outputs": [
    {
     "name": "stdout",
     "output_type": "stream",
     "text": [
      "The lower limit is : 0.8069\n",
      "The upper limit is : 4.7765\n"
     ]
    }
   ],
   "source": [
    "print(\"The lower limit is :\", round(lower_limit,4))\n",
    "print(\"The upper limit is :\", round(upper_limit,4))"
   ]
  },
  {
   "cell_type": "code",
   "execution_count": null,
   "id": "4d20263b",
   "metadata": {},
   "outputs": [],
   "source": [
    "q26file <- read.csv(file = \"angry_moods.csv\", header = TRUE)\n",
    "q26_AI <- q26file$Anger.In\n",
    "q26_AO <- q26file$Anger.Out\n",
    "q26file_AI_corr <- cor(q26_AI,q26_AO)\n",
    "z_trans = 0.5 * (log(1+q26file_AI_corr) - log(1-q26file_AI_corr))\n",
    "N=78\n",
    "z_trans_st_error = 1/sqrt(N-3)\n",
    "q26_ul <- q26file_AI_corr + (1.96 * z_trans_st_error)\n",
    "q26_ll <- q26file_AI_corr - (1.96 * z_trans_st_error)"
   ]
  },
  {
   "cell_type": "code",
   "execution_count": 125,
   "id": "1ee9bce1",
   "metadata": {},
   "outputs": [
    {
     "name": "stdout",
     "output_type": "stream",
     "text": [
      "The lower limit is : -0.8933\n",
      "The upper limit is : -0.4407\n"
     ]
    }
   ],
   "source": [
    "#correlation between anger out and control out scores\n",
    "r = angry_moods[\"Anger-Out\"].corr(angry_moods[\"Control-Out\"])\n",
    "\n",
    "#conversion of r to z' using the calculator : https://onlinestatbook.com/2/calculators/r_to_z.html\n",
    "z = -0.667\n",
    "N = 78\n",
    "std_error = 1/math.sqrt(N-3)\n",
    "\n",
    "#Z for 95% confidence interval using : https://www.mathsisfun.com/data/confidence-interval.html\n",
    "Z_95 = 1.96\n",
    "\n",
    "#upper limit = z' + Z.std_error and lower limit = z' - Z.std_error\n",
    "lower_limit = z - Z_95*std_error\n",
    "upper_limit = z + Z_95*std_error\n",
    "\n",
    "print(\"The lower limit is :\", round(lower_limit,4))\n",
    "print(\"The upper limit is :\", round(upper_limit,4))\n"
   ]
  },
  {
   "cell_type": "code",
   "execution_count": 124,
   "id": "af7e1087",
   "metadata": {},
   "outputs": [
    {
     "data": {
      "text/plain": [
       "0.9956087029502273"
      ]
     },
     "execution_count": 124,
     "metadata": {},
     "output_type": "execute_result"
    }
   ],
   "source": [
    "std_error"
   ]
  },
  {
   "cell_type": "code",
   "execution_count": 126,
   "id": "8e1b3943",
   "metadata": {},
   "outputs": [
    {
     "name": "stdout",
     "output_type": "stream",
     "text": [
      "The lower limit is : 1.6519\n",
      "The upper limit is : 1.8421\n"
     ]
    }
   ],
   "source": [
    "#correlation between anger out and control out scores\n",
    "r = 0.94102\n",
    "\n",
    "#conversion of r to z' using the calculator : https://onlinestatbook.com/2/calculators/r_to_z.html\n",
    "z = 1.747\n",
    "N = 428\n",
    "std_error = 1/math.sqrt(N-3)\n",
    "\n",
    "#Z for 95% confidence interval using : https://www.mathsisfun.com/data/confidence-interval.html\n",
    "Z_95 = 1.96\n",
    "\n",
    "#upper limit = z' + Z.std_error and lower limit = z' - Z.std_error\n",
    "lower_limit = z - Z_95*std_error\n",
    "upper_limit = z + Z_95*std_error\n",
    "\n",
    "print(\"The lower limit is :\", round(lower_limit,4))\n",
    "print(\"The upper limit is :\", round(upper_limit,4))\n"
   ]
  },
  {
   "cell_type": "code",
   "execution_count": 132,
   "id": "e5219249",
   "metadata": {},
   "outputs": [
    {
     "data": {
      "text/plain": [
       "Ttest_indResult(statistic=1.7407765595569784, pvalue=0.1199027736779093)"
      ]
     },
     "execution_count": 132,
     "metadata": {},
     "output_type": "execute_result"
    }
   ],
   "source": [
    "# Importing library\n",
    "import scipy.stats as stats\n",
    "  \n",
    "\n",
    "preferred = [12, 7, 11, 13, 10]\n",
    "  \n",
    "non_preferred = [7, 9, 8, 10, 9]\n",
    "  \n",
    "# Performing the two tailed t-test\n",
    "stats.ttest_ind(a=preferred, b=non_preferred, equal_var=True)\n"
   ]
  },
  {
   "cell_type": "code",
   "execution_count": 137,
   "id": "5cf779ad",
   "metadata": {},
   "outputs": [
    {
     "data": {
      "text/plain": [
       "Ttest_indResult(statistic=3.044310234609416, pvalue=0.003203009981395095)"
      ]
     },
     "execution_count": 137,
     "metadata": {},
     "output_type": "execute_result"
    }
   ],
   "source": [
    "import statistics \n",
    "import scipy.stats as stats\n",
    "\n",
    "# read by default 1st sheet of an excel file\n",
    "angry_moods = pd.read_excel('angry_moods.xls')\n",
    "\n",
    "angry_moods[\"Sports_Desc\"] = np.where(angry_moods[\"Sports\"].isin([1]), 'Athletes', 'Non-Athletes')\n",
    "\n",
    "ath = angry_moods[angry_moods['Sports_Desc'] == 'Athletes'][\"Control-In\"].tolist()\n",
    "non_ath = angry_moods[angry_moods['Sports_Desc'] == 'Non-Athletes'][\"Control-In\"].tolist()\n",
    "\n",
    "ath_var = statistics.variance(ath)\n",
    "non_ath_var = statistics.variance(non_ath)\n",
    "#after comparing the variances of athletes and non-athletes Control-In scores (20.476666666666667, 22.822931785195937)\n",
    "\n",
    "stats.ttest_ind(a=ath, b=non_ath, equal_var=True)\n"
   ]
  },
  {
   "cell_type": "code",
   "execution_count": 138,
   "id": "5a6cfef5",
   "metadata": {},
   "outputs": [],
   "source": [
    "mean_anger_in = statistics.mean(angry_moods[\"Anger-In\"].tolist())\n",
    "mean_anger_out = statistics.mean(angry_moods[\"Anger-Out\"].tolist())"
   ]
  },
  {
   "cell_type": "code",
   "execution_count": 139,
   "id": "b17045ef",
   "metadata": {},
   "outputs": [
    {
     "data": {
      "text/plain": [
       "18.576923076923077"
      ]
     },
     "execution_count": 139,
     "metadata": {},
     "output_type": "execute_result"
    }
   ],
   "source": [
    "mean_anger_in"
   ]
  },
  {
   "cell_type": "code",
   "execution_count": 140,
   "id": "f777a326",
   "metadata": {},
   "outputs": [
    {
     "data": {
      "text/plain": [
       "16.076923076923077"
      ]
     },
     "execution_count": 140,
     "metadata": {},
     "output_type": "execute_result"
    }
   ],
   "source": [
    "mean_anger_out"
   ]
  },
  {
   "cell_type": "code",
   "execution_count": 144,
   "id": "a059518d",
   "metadata": {},
   "outputs": [
    {
     "data": {
      "text/plain": [
       "Ttest_relResult(statistic=3.525860744424124, pvalue=0.0007145896341213851)"
      ]
     },
     "execution_count": 144,
     "metadata": {},
     "output_type": "execute_result"
    }
   ],
   "source": [
    "import statistics \n",
    "import scipy.stats as stats\n",
    "\n",
    "# read by default 1st sheet of an excel file\n",
    "angry_moods = pd.read_excel('angry_moods.xls')\n",
    "\n",
    "stats.ttest_rel(angry_moods[\"Anger-In\"].tolist(), angry_moods[\"Anger-Out\"].tolist())\n"
   ]
  },
  {
   "cell_type": "code",
   "execution_count": 145,
   "id": "929e17cc",
   "metadata": {},
   "outputs": [
    {
     "data": {
      "text/plain": [
       "18.576923076923077"
      ]
     },
     "execution_count": 145,
     "metadata": {},
     "output_type": "execute_result"
    }
   ],
   "source": [
    "statistics.mean(angry_moods[\"Anger-In\"].tolist())"
   ]
  },
  {
   "cell_type": "code",
   "execution_count": 146,
   "id": "75cbb78a",
   "metadata": {},
   "outputs": [
    {
     "data": {
      "text/plain": [
       "16.076923076923077"
      ]
     },
     "execution_count": 146,
     "metadata": {},
     "output_type": "execute_result"
    }
   ],
   "source": [
    "statistics.mean(angry_moods[\"Anger-Out\"].tolist())"
   ]
  },
  {
   "cell_type": "code",
   "execution_count": null,
   "id": "b01ce46a",
   "metadata": {},
   "outputs": [],
   "source": []
  }
 ],
 "metadata": {
  "kernelspec": {
   "display_name": "Python 3 (ipykernel)",
   "language": "python",
   "name": "python3"
  },
  "language_info": {
   "codemirror_mode": {
    "name": "ipython",
    "version": 3
   },
   "file_extension": ".py",
   "mimetype": "text/x-python",
   "name": "python",
   "nbconvert_exporter": "python",
   "pygments_lexer": "ipython3",
   "version": "3.9.12"
  }
 },
 "nbformat": 4,
 "nbformat_minor": 5
}
