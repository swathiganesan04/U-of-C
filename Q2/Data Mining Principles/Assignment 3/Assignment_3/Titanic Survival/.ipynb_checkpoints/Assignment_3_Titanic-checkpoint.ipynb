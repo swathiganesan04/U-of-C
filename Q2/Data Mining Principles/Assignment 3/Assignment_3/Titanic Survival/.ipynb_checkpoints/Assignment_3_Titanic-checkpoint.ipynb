{
 "cells": [
  {
   "cell_type": "markdown",
   "id": "85c6469a",
   "metadata": {},
   "source": [
    "##### Importing Python modules for analysis"
   ]
  },
  {
   "cell_type": "code",
   "execution_count": 1,
   "id": "f5919a5d",
   "metadata": {},
   "outputs": [],
   "source": [
    "import pandas as pd\n",
    "import numpy as np\n",
    "import matplotlib.pyplot as plt\n",
    "import seaborn as sns\n",
    "\n",
    "\n",
    "# Algorithms\n",
    "from sklearn import linear_model\n",
    "from sklearn.linear_model import LogisticRegression\n",
    "from sklearn.ensemble import RandomForestClassifier\n",
    "from sklearn.linear_model import Perceptron\n",
    "from sklearn.linear_model import SGDClassifier\n",
    "from sklearn.tree import DecisionTreeClassifier\n",
    "from sklearn.neighbors import KNeighborsClassifier\n",
    "from sklearn.svm import SVC, LinearSVC\n",
    "from sklearn.naive_bayes import GaussianNB"
   ]
  },
  {
   "cell_type": "markdown",
   "id": "acee836e",
   "metadata": {},
   "source": [
    "##### Reading all the input files"
   ]
  },
  {
   "cell_type": "code",
   "execution_count": 2,
   "id": "ddbdafd4",
   "metadata": {},
   "outputs": [],
   "source": [
    "# Load the Titanic dataset\n",
    "train_data = pd.read_csv('train.csv')\n",
    "test_data = pd.read_csv('holdout_test.csv')"
   ]
  },
  {
   "cell_type": "code",
   "execution_count": 3,
   "id": "0a5ab90f",
   "metadata": {},
   "outputs": [
    {
     "data": {
      "text/html": [
       "<div>\n",
       "<style scoped>\n",
       "    .dataframe tbody tr th:only-of-type {\n",
       "        vertical-align: middle;\n",
       "    }\n",
       "\n",
       "    .dataframe tbody tr th {\n",
       "        vertical-align: top;\n",
       "    }\n",
       "\n",
       "    .dataframe thead th {\n",
       "        text-align: right;\n",
       "    }\n",
       "</style>\n",
       "<table border=\"1\" class=\"dataframe\">\n",
       "  <thead>\n",
       "    <tr style=\"text-align: right;\">\n",
       "      <th></th>\n",
       "      <th>PassengerId</th>\n",
       "      <th>Survived</th>\n",
       "      <th>Pclass</th>\n",
       "      <th>Name</th>\n",
       "      <th>Sex</th>\n",
       "      <th>Age</th>\n",
       "      <th>SibSp</th>\n",
       "      <th>Parch</th>\n",
       "      <th>Ticket</th>\n",
       "      <th>Fare</th>\n",
       "      <th>Cabin</th>\n",
       "      <th>Embarked</th>\n",
       "    </tr>\n",
       "  </thead>\n",
       "  <tbody>\n",
       "    <tr>\n",
       "      <th>0</th>\n",
       "      <td>1</td>\n",
       "      <td>0</td>\n",
       "      <td>3</td>\n",
       "      <td>Braund, Mr. Owen Harris</td>\n",
       "      <td>male</td>\n",
       "      <td>22.0</td>\n",
       "      <td>1</td>\n",
       "      <td>0</td>\n",
       "      <td>A/5 21171</td>\n",
       "      <td>7.2500</td>\n",
       "      <td>NaN</td>\n",
       "      <td>S</td>\n",
       "    </tr>\n",
       "    <tr>\n",
       "      <th>1</th>\n",
       "      <td>2</td>\n",
       "      <td>1</td>\n",
       "      <td>1</td>\n",
       "      <td>Cumings, Mrs. John Bradley (Florence Briggs Th...</td>\n",
       "      <td>female</td>\n",
       "      <td>38.0</td>\n",
       "      <td>1</td>\n",
       "      <td>0</td>\n",
       "      <td>PC 17599</td>\n",
       "      <td>71.2833</td>\n",
       "      <td>C85</td>\n",
       "      <td>C</td>\n",
       "    </tr>\n",
       "    <tr>\n",
       "      <th>2</th>\n",
       "      <td>3</td>\n",
       "      <td>1</td>\n",
       "      <td>3</td>\n",
       "      <td>Heikkinen, Miss. Laina</td>\n",
       "      <td>female</td>\n",
       "      <td>26.0</td>\n",
       "      <td>0</td>\n",
       "      <td>0</td>\n",
       "      <td>STON/O2. 3101282</td>\n",
       "      <td>7.9250</td>\n",
       "      <td>NaN</td>\n",
       "      <td>S</td>\n",
       "    </tr>\n",
       "    <tr>\n",
       "      <th>3</th>\n",
       "      <td>4</td>\n",
       "      <td>1</td>\n",
       "      <td>1</td>\n",
       "      <td>Futrelle, Mrs. Jacques Heath (Lily May Peel)</td>\n",
       "      <td>female</td>\n",
       "      <td>35.0</td>\n",
       "      <td>1</td>\n",
       "      <td>0</td>\n",
       "      <td>113803</td>\n",
       "      <td>53.1000</td>\n",
       "      <td>C123</td>\n",
       "      <td>S</td>\n",
       "    </tr>\n",
       "    <tr>\n",
       "      <th>4</th>\n",
       "      <td>5</td>\n",
       "      <td>0</td>\n",
       "      <td>3</td>\n",
       "      <td>Allen, Mr. William Henry</td>\n",
       "      <td>male</td>\n",
       "      <td>35.0</td>\n",
       "      <td>0</td>\n",
       "      <td>0</td>\n",
       "      <td>373450</td>\n",
       "      <td>8.0500</td>\n",
       "      <td>NaN</td>\n",
       "      <td>S</td>\n",
       "    </tr>\n",
       "  </tbody>\n",
       "</table>\n",
       "</div>"
      ],
      "text/plain": [
       "   PassengerId  Survived  Pclass  \\\n",
       "0            1         0       3   \n",
       "1            2         1       1   \n",
       "2            3         1       3   \n",
       "3            4         1       1   \n",
       "4            5         0       3   \n",
       "\n",
       "                                                Name     Sex   Age  SibSp  \\\n",
       "0                            Braund, Mr. Owen Harris    male  22.0      1   \n",
       "1  Cumings, Mrs. John Bradley (Florence Briggs Th...  female  38.0      1   \n",
       "2                             Heikkinen, Miss. Laina  female  26.0      0   \n",
       "3       Futrelle, Mrs. Jacques Heath (Lily May Peel)  female  35.0      1   \n",
       "4                           Allen, Mr. William Henry    male  35.0      0   \n",
       "\n",
       "   Parch            Ticket     Fare Cabin Embarked  \n",
       "0      0         A/5 21171   7.2500   NaN        S  \n",
       "1      0          PC 17599  71.2833   C85        C  \n",
       "2      0  STON/O2. 3101282   7.9250   NaN        S  \n",
       "3      0            113803  53.1000  C123        S  \n",
       "4      0            373450   8.0500   NaN        S  "
      ]
     },
     "execution_count": 3,
     "metadata": {},
     "output_type": "execute_result"
    }
   ],
   "source": [
    "train_data.head()"
   ]
  },
  {
   "cell_type": "code",
   "execution_count": 4,
   "id": "953c6b51",
   "metadata": {},
   "outputs": [
    {
     "data": {
      "text/html": [
       "<div>\n",
       "<style scoped>\n",
       "    .dataframe tbody tr th:only-of-type {\n",
       "        vertical-align: middle;\n",
       "    }\n",
       "\n",
       "    .dataframe tbody tr th {\n",
       "        vertical-align: top;\n",
       "    }\n",
       "\n",
       "    .dataframe thead th {\n",
       "        text-align: right;\n",
       "    }\n",
       "</style>\n",
       "<table border=\"1\" class=\"dataframe\">\n",
       "  <thead>\n",
       "    <tr style=\"text-align: right;\">\n",
       "      <th></th>\n",
       "      <th>Survived</th>\n",
       "      <th>PassengerId</th>\n",
       "      <th>Pclass</th>\n",
       "      <th>Name</th>\n",
       "      <th>Sex</th>\n",
       "      <th>Age</th>\n",
       "      <th>SibSp</th>\n",
       "      <th>Parch</th>\n",
       "      <th>Ticket</th>\n",
       "      <th>Fare</th>\n",
       "      <th>Cabin</th>\n",
       "      <th>Embarked</th>\n",
       "    </tr>\n",
       "  </thead>\n",
       "  <tbody>\n",
       "    <tr>\n",
       "      <th>0</th>\n",
       "      <td>NaN</td>\n",
       "      <td>892</td>\n",
       "      <td>3</td>\n",
       "      <td>Kelly, Mr. James</td>\n",
       "      <td>male</td>\n",
       "      <td>34.5</td>\n",
       "      <td>0</td>\n",
       "      <td>0</td>\n",
       "      <td>330911</td>\n",
       "      <td>7.8292</td>\n",
       "      <td>NaN</td>\n",
       "      <td>Q</td>\n",
       "    </tr>\n",
       "    <tr>\n",
       "      <th>1</th>\n",
       "      <td>NaN</td>\n",
       "      <td>893</td>\n",
       "      <td>3</td>\n",
       "      <td>Wilkes, Mrs. James (Ellen Needs)</td>\n",
       "      <td>female</td>\n",
       "      <td>47.0</td>\n",
       "      <td>1</td>\n",
       "      <td>0</td>\n",
       "      <td>363272</td>\n",
       "      <td>7.0000</td>\n",
       "      <td>NaN</td>\n",
       "      <td>S</td>\n",
       "    </tr>\n",
       "    <tr>\n",
       "      <th>2</th>\n",
       "      <td>NaN</td>\n",
       "      <td>894</td>\n",
       "      <td>2</td>\n",
       "      <td>Myles, Mr. Thomas Francis</td>\n",
       "      <td>male</td>\n",
       "      <td>62.0</td>\n",
       "      <td>0</td>\n",
       "      <td>0</td>\n",
       "      <td>240276</td>\n",
       "      <td>9.6875</td>\n",
       "      <td>NaN</td>\n",
       "      <td>Q</td>\n",
       "    </tr>\n",
       "    <tr>\n",
       "      <th>3</th>\n",
       "      <td>NaN</td>\n",
       "      <td>895</td>\n",
       "      <td>3</td>\n",
       "      <td>Wirz, Mr. Albert</td>\n",
       "      <td>male</td>\n",
       "      <td>27.0</td>\n",
       "      <td>0</td>\n",
       "      <td>0</td>\n",
       "      <td>315154</td>\n",
       "      <td>8.6625</td>\n",
       "      <td>NaN</td>\n",
       "      <td>S</td>\n",
       "    </tr>\n",
       "    <tr>\n",
       "      <th>4</th>\n",
       "      <td>NaN</td>\n",
       "      <td>896</td>\n",
       "      <td>3</td>\n",
       "      <td>Hirvonen, Mrs. Alexander (Helga E Lindqvist)</td>\n",
       "      <td>female</td>\n",
       "      <td>22.0</td>\n",
       "      <td>1</td>\n",
       "      <td>1</td>\n",
       "      <td>3101298</td>\n",
       "      <td>12.2875</td>\n",
       "      <td>NaN</td>\n",
       "      <td>S</td>\n",
       "    </tr>\n",
       "  </tbody>\n",
       "</table>\n",
       "</div>"
      ],
      "text/plain": [
       "   Survived  PassengerId  Pclass  \\\n",
       "0       NaN          892       3   \n",
       "1       NaN          893       3   \n",
       "2       NaN          894       2   \n",
       "3       NaN          895       3   \n",
       "4       NaN          896       3   \n",
       "\n",
       "                                           Name     Sex   Age  SibSp  Parch  \\\n",
       "0                              Kelly, Mr. James    male  34.5      0      0   \n",
       "1              Wilkes, Mrs. James (Ellen Needs)  female  47.0      1      0   \n",
       "2                     Myles, Mr. Thomas Francis    male  62.0      0      0   \n",
       "3                              Wirz, Mr. Albert    male  27.0      0      0   \n",
       "4  Hirvonen, Mrs. Alexander (Helga E Lindqvist)  female  22.0      1      1   \n",
       "\n",
       "    Ticket     Fare Cabin Embarked  \n",
       "0   330911   7.8292   NaN        Q  \n",
       "1   363272   7.0000   NaN        S  \n",
       "2   240276   9.6875   NaN        Q  \n",
       "3   315154   8.6625   NaN        S  \n",
       "4  3101298  12.2875   NaN        S  "
      ]
     },
     "execution_count": 4,
     "metadata": {},
     "output_type": "execute_result"
    }
   ],
   "source": [
    "test_data.head()"
   ]
  },
  {
   "cell_type": "code",
   "execution_count": 5,
   "id": "2a5dd3ba",
   "metadata": {},
   "outputs": [
    {
     "name": "stdout",
     "output_type": "stream",
     "text": [
      "<class 'pandas.core.frame.DataFrame'>\n",
      "RangeIndex: 891 entries, 0 to 890\n",
      "Data columns (total 12 columns):\n",
      " #   Column       Non-Null Count  Dtype  \n",
      "---  ------       --------------  -----  \n",
      " 0   PassengerId  891 non-null    int64  \n",
      " 1   Survived     891 non-null    int64  \n",
      " 2   Pclass       891 non-null    int64  \n",
      " 3   Name         891 non-null    object \n",
      " 4   Sex          891 non-null    object \n",
      " 5   Age          714 non-null    float64\n",
      " 6   SibSp        891 non-null    int64  \n",
      " 7   Parch        891 non-null    int64  \n",
      " 8   Ticket       891 non-null    object \n",
      " 9   Fare         891 non-null    float64\n",
      " 10  Cabin        204 non-null    object \n",
      " 11  Embarked     889 non-null    object \n",
      "dtypes: float64(2), int64(5), object(5)\n",
      "memory usage: 83.7+ KB\n"
     ]
    }
   ],
   "source": [
    "train_data.info()"
   ]
  },
  {
   "cell_type": "code",
   "execution_count": 6,
   "id": "52dd03a9",
   "metadata": {},
   "outputs": [
    {
     "name": "stdout",
     "output_type": "stream",
     "text": [
      "<class 'pandas.core.frame.DataFrame'>\n",
      "RangeIndex: 418 entries, 0 to 417\n",
      "Data columns (total 12 columns):\n",
      " #   Column       Non-Null Count  Dtype  \n",
      "---  ------       --------------  -----  \n",
      " 0   Survived     0 non-null      float64\n",
      " 1   PassengerId  418 non-null    int64  \n",
      " 2   Pclass       418 non-null    int64  \n",
      " 3   Name         418 non-null    object \n",
      " 4   Sex          418 non-null    object \n",
      " 5   Age          332 non-null    float64\n",
      " 6   SibSp        418 non-null    int64  \n",
      " 7   Parch        418 non-null    int64  \n",
      " 8   Ticket       418 non-null    object \n",
      " 9   Fare         417 non-null    float64\n",
      " 10  Cabin        91 non-null     object \n",
      " 11  Embarked     418 non-null    object \n",
      "dtypes: float64(3), int64(4), object(5)\n",
      "memory usage: 39.3+ KB\n"
     ]
    }
   ],
   "source": [
    "test_data.info()"
   ]
  },
  {
   "cell_type": "code",
   "execution_count": 7,
   "id": "5a43b27a",
   "metadata": {},
   "outputs": [
    {
     "data": {
      "text/html": [
       "<div>\n",
       "<style scoped>\n",
       "    .dataframe tbody tr th:only-of-type {\n",
       "        vertical-align: middle;\n",
       "    }\n",
       "\n",
       "    .dataframe tbody tr th {\n",
       "        vertical-align: top;\n",
       "    }\n",
       "\n",
       "    .dataframe thead th {\n",
       "        text-align: right;\n",
       "    }\n",
       "</style>\n",
       "<table border=\"1\" class=\"dataframe\">\n",
       "  <thead>\n",
       "    <tr style=\"text-align: right;\">\n",
       "      <th></th>\n",
       "      <th>PassengerId</th>\n",
       "      <th>Survived</th>\n",
       "      <th>Pclass</th>\n",
       "      <th>Age</th>\n",
       "      <th>SibSp</th>\n",
       "      <th>Parch</th>\n",
       "      <th>Fare</th>\n",
       "    </tr>\n",
       "  </thead>\n",
       "  <tbody>\n",
       "    <tr>\n",
       "      <th>count</th>\n",
       "      <td>891.000000</td>\n",
       "      <td>891.000000</td>\n",
       "      <td>891.000000</td>\n",
       "      <td>714.000000</td>\n",
       "      <td>891.000000</td>\n",
       "      <td>891.000000</td>\n",
       "      <td>891.000000</td>\n",
       "    </tr>\n",
       "    <tr>\n",
       "      <th>mean</th>\n",
       "      <td>446.000000</td>\n",
       "      <td>0.383838</td>\n",
       "      <td>2.308642</td>\n",
       "      <td>29.699118</td>\n",
       "      <td>0.523008</td>\n",
       "      <td>0.381594</td>\n",
       "      <td>32.204208</td>\n",
       "    </tr>\n",
       "    <tr>\n",
       "      <th>std</th>\n",
       "      <td>257.353842</td>\n",
       "      <td>0.486592</td>\n",
       "      <td>0.836071</td>\n",
       "      <td>14.526497</td>\n",
       "      <td>1.102743</td>\n",
       "      <td>0.806057</td>\n",
       "      <td>49.693429</td>\n",
       "    </tr>\n",
       "    <tr>\n",
       "      <th>min</th>\n",
       "      <td>1.000000</td>\n",
       "      <td>0.000000</td>\n",
       "      <td>1.000000</td>\n",
       "      <td>0.420000</td>\n",
       "      <td>0.000000</td>\n",
       "      <td>0.000000</td>\n",
       "      <td>0.000000</td>\n",
       "    </tr>\n",
       "    <tr>\n",
       "      <th>25%</th>\n",
       "      <td>223.500000</td>\n",
       "      <td>0.000000</td>\n",
       "      <td>2.000000</td>\n",
       "      <td>20.125000</td>\n",
       "      <td>0.000000</td>\n",
       "      <td>0.000000</td>\n",
       "      <td>7.910400</td>\n",
       "    </tr>\n",
       "    <tr>\n",
       "      <th>50%</th>\n",
       "      <td>446.000000</td>\n",
       "      <td>0.000000</td>\n",
       "      <td>3.000000</td>\n",
       "      <td>28.000000</td>\n",
       "      <td>0.000000</td>\n",
       "      <td>0.000000</td>\n",
       "      <td>14.454200</td>\n",
       "    </tr>\n",
       "    <tr>\n",
       "      <th>75%</th>\n",
       "      <td>668.500000</td>\n",
       "      <td>1.000000</td>\n",
       "      <td>3.000000</td>\n",
       "      <td>38.000000</td>\n",
       "      <td>1.000000</td>\n",
       "      <td>0.000000</td>\n",
       "      <td>31.000000</td>\n",
       "    </tr>\n",
       "    <tr>\n",
       "      <th>max</th>\n",
       "      <td>891.000000</td>\n",
       "      <td>1.000000</td>\n",
       "      <td>3.000000</td>\n",
       "      <td>80.000000</td>\n",
       "      <td>8.000000</td>\n",
       "      <td>6.000000</td>\n",
       "      <td>512.329200</td>\n",
       "    </tr>\n",
       "  </tbody>\n",
       "</table>\n",
       "</div>"
      ],
      "text/plain": [
       "       PassengerId    Survived      Pclass         Age       SibSp  \\\n",
       "count   891.000000  891.000000  891.000000  714.000000  891.000000   \n",
       "mean    446.000000    0.383838    2.308642   29.699118    0.523008   \n",
       "std     257.353842    0.486592    0.836071   14.526497    1.102743   \n",
       "min       1.000000    0.000000    1.000000    0.420000    0.000000   \n",
       "25%     223.500000    0.000000    2.000000   20.125000    0.000000   \n",
       "50%     446.000000    0.000000    3.000000   28.000000    0.000000   \n",
       "75%     668.500000    1.000000    3.000000   38.000000    1.000000   \n",
       "max     891.000000    1.000000    3.000000   80.000000    8.000000   \n",
       "\n",
       "            Parch        Fare  \n",
       "count  891.000000  891.000000  \n",
       "mean     0.381594   32.204208  \n",
       "std      0.806057   49.693429  \n",
       "min      0.000000    0.000000  \n",
       "25%      0.000000    7.910400  \n",
       "50%      0.000000   14.454200  \n",
       "75%      0.000000   31.000000  \n",
       "max      6.000000  512.329200  "
      ]
     },
     "execution_count": 7,
     "metadata": {},
     "output_type": "execute_result"
    }
   ],
   "source": [
    "train_data.describe()"
   ]
  },
  {
   "cell_type": "code",
   "execution_count": 8,
   "id": "fbc20a17",
   "metadata": {},
   "outputs": [
    {
     "data": {
      "text/html": [
       "<div>\n",
       "<style scoped>\n",
       "    .dataframe tbody tr th:only-of-type {\n",
       "        vertical-align: middle;\n",
       "    }\n",
       "\n",
       "    .dataframe tbody tr th {\n",
       "        vertical-align: top;\n",
       "    }\n",
       "\n",
       "    .dataframe thead th {\n",
       "        text-align: right;\n",
       "    }\n",
       "</style>\n",
       "<table border=\"1\" class=\"dataframe\">\n",
       "  <thead>\n",
       "    <tr style=\"text-align: right;\">\n",
       "      <th></th>\n",
       "      <th>Survived</th>\n",
       "      <th>PassengerId</th>\n",
       "      <th>Pclass</th>\n",
       "      <th>Age</th>\n",
       "      <th>SibSp</th>\n",
       "      <th>Parch</th>\n",
       "      <th>Fare</th>\n",
       "    </tr>\n",
       "  </thead>\n",
       "  <tbody>\n",
       "    <tr>\n",
       "      <th>count</th>\n",
       "      <td>0.0</td>\n",
       "      <td>418.000000</td>\n",
       "      <td>418.000000</td>\n",
       "      <td>332.000000</td>\n",
       "      <td>418.000000</td>\n",
       "      <td>418.000000</td>\n",
       "      <td>417.000000</td>\n",
       "    </tr>\n",
       "    <tr>\n",
       "      <th>mean</th>\n",
       "      <td>NaN</td>\n",
       "      <td>1100.500000</td>\n",
       "      <td>2.265550</td>\n",
       "      <td>30.272590</td>\n",
       "      <td>0.447368</td>\n",
       "      <td>0.392344</td>\n",
       "      <td>35.627188</td>\n",
       "    </tr>\n",
       "    <tr>\n",
       "      <th>std</th>\n",
       "      <td>NaN</td>\n",
       "      <td>120.810458</td>\n",
       "      <td>0.841838</td>\n",
       "      <td>14.181209</td>\n",
       "      <td>0.896760</td>\n",
       "      <td>0.981429</td>\n",
       "      <td>55.907576</td>\n",
       "    </tr>\n",
       "    <tr>\n",
       "      <th>min</th>\n",
       "      <td>NaN</td>\n",
       "      <td>892.000000</td>\n",
       "      <td>1.000000</td>\n",
       "      <td>0.170000</td>\n",
       "      <td>0.000000</td>\n",
       "      <td>0.000000</td>\n",
       "      <td>0.000000</td>\n",
       "    </tr>\n",
       "    <tr>\n",
       "      <th>25%</th>\n",
       "      <td>NaN</td>\n",
       "      <td>996.250000</td>\n",
       "      <td>1.000000</td>\n",
       "      <td>21.000000</td>\n",
       "      <td>0.000000</td>\n",
       "      <td>0.000000</td>\n",
       "      <td>7.895800</td>\n",
       "    </tr>\n",
       "    <tr>\n",
       "      <th>50%</th>\n",
       "      <td>NaN</td>\n",
       "      <td>1100.500000</td>\n",
       "      <td>3.000000</td>\n",
       "      <td>27.000000</td>\n",
       "      <td>0.000000</td>\n",
       "      <td>0.000000</td>\n",
       "      <td>14.454200</td>\n",
       "    </tr>\n",
       "    <tr>\n",
       "      <th>75%</th>\n",
       "      <td>NaN</td>\n",
       "      <td>1204.750000</td>\n",
       "      <td>3.000000</td>\n",
       "      <td>39.000000</td>\n",
       "      <td>1.000000</td>\n",
       "      <td>0.000000</td>\n",
       "      <td>31.500000</td>\n",
       "    </tr>\n",
       "    <tr>\n",
       "      <th>max</th>\n",
       "      <td>NaN</td>\n",
       "      <td>1309.000000</td>\n",
       "      <td>3.000000</td>\n",
       "      <td>76.000000</td>\n",
       "      <td>8.000000</td>\n",
       "      <td>9.000000</td>\n",
       "      <td>512.329200</td>\n",
       "    </tr>\n",
       "  </tbody>\n",
       "</table>\n",
       "</div>"
      ],
      "text/plain": [
       "       Survived  PassengerId      Pclass         Age       SibSp       Parch  \\\n",
       "count       0.0   418.000000  418.000000  332.000000  418.000000  418.000000   \n",
       "mean        NaN  1100.500000    2.265550   30.272590    0.447368    0.392344   \n",
       "std         NaN   120.810458    0.841838   14.181209    0.896760    0.981429   \n",
       "min         NaN   892.000000    1.000000    0.170000    0.000000    0.000000   \n",
       "25%         NaN   996.250000    1.000000   21.000000    0.000000    0.000000   \n",
       "50%         NaN  1100.500000    3.000000   27.000000    0.000000    0.000000   \n",
       "75%         NaN  1204.750000    3.000000   39.000000    1.000000    0.000000   \n",
       "max         NaN  1309.000000    3.000000   76.000000    8.000000    9.000000   \n",
       "\n",
       "             Fare  \n",
       "count  417.000000  \n",
       "mean    35.627188  \n",
       "std     55.907576  \n",
       "min      0.000000  \n",
       "25%      7.895800  \n",
       "50%     14.454200  \n",
       "75%     31.500000  \n",
       "max    512.329200  "
      ]
     },
     "execution_count": 8,
     "metadata": {},
     "output_type": "execute_result"
    }
   ],
   "source": [
    "test_data.describe()"
   ]
  },
  {
   "cell_type": "code",
   "execution_count": 9,
   "id": "a88935d2",
   "metadata": {},
   "outputs": [],
   "source": [
    "# Dropping the target column from Test data\n",
    "test_data.drop(['Survived'], axis=1, inplace=True)"
   ]
  },
  {
   "cell_type": "code",
   "execution_count": 10,
   "id": "d56ad630",
   "metadata": {},
   "outputs": [
    {
     "name": "stdout",
     "output_type": "stream",
     "text": [
      "1      1\n",
      "599    1\n",
      "588    1\n",
      "589    1\n",
      "590    1\n",
      "      ..\n",
      "301    1\n",
      "302    1\n",
      "303    1\n",
      "304    1\n",
      "891    1\n",
      "Name: PassengerId, Length: 891, dtype: int64\n",
      "0    549\n",
      "1    342\n",
      "Name: Survived, dtype: int64\n",
      "3    491\n",
      "1    216\n",
      "2    184\n",
      "Name: Pclass, dtype: int64\n",
      "Braund, Mr. Owen Harris                     1\n",
      "Boulos, Mr. Hanna                           1\n",
      "Frolicher-Stehli, Mr. Maxmillian            1\n",
      "Gilinski, Mr. Eliezer                       1\n",
      "Murdlin, Mr. Joseph                         1\n",
      "                                           ..\n",
      "Kelly, Miss. Anna Katherine \"Annie Kate\"    1\n",
      "McCoy, Mr. Bernard                          1\n",
      "Johnson, Mr. William Cahoone Jr             1\n",
      "Keane, Miss. Nora A                         1\n",
      "Dooley, Mr. Patrick                         1\n",
      "Name: Name, Length: 891, dtype: int64\n",
      "male      577\n",
      "female    314\n",
      "Name: Sex, dtype: int64\n",
      "24.00    30\n",
      "22.00    27\n",
      "18.00    26\n",
      "19.00    25\n",
      "28.00    25\n",
      "         ..\n",
      "36.50     1\n",
      "55.50     1\n",
      "0.92      1\n",
      "23.50     1\n",
      "74.00     1\n",
      "Name: Age, Length: 88, dtype: int64\n",
      "0    608\n",
      "1    209\n",
      "2     28\n",
      "4     18\n",
      "3     16\n",
      "8      7\n",
      "5      5\n",
      "Name: SibSp, dtype: int64\n",
      "0    678\n",
      "1    118\n",
      "2     80\n",
      "5      5\n",
      "3      5\n",
      "4      4\n",
      "6      1\n",
      "Name: Parch, dtype: int64\n",
      "347082      7\n",
      "CA. 2343    7\n",
      "1601        7\n",
      "3101295     6\n",
      "CA 2144     6\n",
      "           ..\n",
      "9234        1\n",
      "19988       1\n",
      "2693        1\n",
      "PC 17612    1\n",
      "370376      1\n",
      "Name: Ticket, Length: 681, dtype: int64\n",
      "8.0500     43\n",
      "13.0000    42\n",
      "7.8958     38\n",
      "7.7500     34\n",
      "26.0000    31\n",
      "           ..\n",
      "35.0000     1\n",
      "28.5000     1\n",
      "6.2375      1\n",
      "14.0000     1\n",
      "10.5167     1\n",
      "Name: Fare, Length: 248, dtype: int64\n",
      "B96 B98        4\n",
      "G6             4\n",
      "C23 C25 C27    4\n",
      "C22 C26        3\n",
      "F33            3\n",
      "              ..\n",
      "E34            1\n",
      "C7             1\n",
      "C54            1\n",
      "E36            1\n",
      "C148           1\n",
      "Name: Cabin, Length: 147, dtype: int64\n",
      "S    644\n",
      "C    168\n",
      "Q     77\n",
      "Name: Embarked, dtype: int64\n"
     ]
    }
   ],
   "source": [
    "for i in train_data.columns:\n",
    "    print(train_data[i].value_counts())"
   ]
  },
  {
   "cell_type": "markdown",
   "id": "1a1ba670",
   "metadata": {},
   "source": [
    "### EDA"
   ]
  },
  {
   "cell_type": "code",
   "execution_count": 11,
   "id": "d33a1ba3",
   "metadata": {},
   "outputs": [
    {
     "data": {
      "image/png": "[encoded data removed]",
      "text/plain": [
       "<Figure size 720x288 with 2 Axes>"
      ]
     },
     "metadata": {
      "needs_background": "light"
     },
     "output_type": "display_data"
    }
   ],
   "source": [
    "# Age and Sex\n",
    "survived = 'survived'\n",
    "not_survived = 'not survived'\n",
    "fig, axes = plt.subplots(nrows=1, ncols=2,figsize=(10, 4))\n",
    "women = train_data[train_data['Sex']=='female']\n",
    "men = train_data[train_data['Sex']=='male']\n",
    "ax = sns.histplot(women[women['Survived']==1].Age.dropna(), bins=18, label = survived, ax = axes[0], kde =False)\n",
    "ax = sns.histplot(women[women['Survived']==0].Age.dropna(), bins=40, label = not_survived, ax = axes[0], kde =False)\n",
    "ax.legend()\n",
    "ax.set_title('Female')\n",
    "ax = sns.histplot(men[men['Survived']==1].Age.dropna(), bins=18, label = survived, ax = axes[1], kde = False)\n",
    "ax = sns.histplot(men[men['Survived']==0].Age.dropna(), bins=40, label = not_survived, ax = axes[1], kde = False)\n",
    "ax.legend()\n",
    "_ = ax.set_title('Male')"
   ]
  },
  {
   "cell_type": "markdown",
   "id": "0c5b5caf",
   "metadata": {},
   "source": [
    "You can see that men have a high probability of survival when they are between 18 and 30 years old, which is also a little bit true for women but not fully. For women the survival chances are higher between 14 and 40.\n",
    "\n",
    "For men the probability of survival is very low between the age of 5 and 18, but that isn’t true for women. Another thing to note is that infants also have a little bit higher probability of survival."
   ]
  },
  {
   "cell_type": "code",
   "execution_count": 12,
   "id": "2a66719c",
   "metadata": {},
   "outputs": [
    {
     "data": {
      "text/plain": [
       "<seaborn.axisgrid.FacetGrid at 0x7fa4a8f357f0>"
      ]
     },
     "execution_count": 12,
     "metadata": {},
     "output_type": "execute_result"
    },
    {
     "data": {
      "image/png": "[encoded data removed]",
      "text/plain": [
       "<Figure size 588.9x972 with 3 Axes>"
      ]
     },
     "metadata": {
      "needs_background": "light"
     },
     "output_type": "display_data"
    }
   ],
   "source": [
    "# Embarked, Pclass and Sex\n",
    "FacetGrid = sns.FacetGrid(train_data, row='Embarked', height=4.5, aspect=1.6)\n",
    "FacetGrid.map(sns.pointplot, 'Pclass', 'Survived', 'Sex', palette=None,  order=None, hue_order=None )\n",
    "FacetGrid.add_legend()"
   ]
  },
  {
   "cell_type": "markdown",
   "id": "1cbac86d",
   "metadata": {},
   "source": [
    "Embarked seems to be correlated with survival, depending on the gender.\n",
    "\n",
    "Women on port Q and on port S have a higher chance of survival. The inverse is true, if they are at port C. Men have a high survival probability if they are on port C, but a low probability if they are on port Q or S.\n",
    "\n",
    "Pclass also seems to be correlated with survival. "
   ]
  },
  {
   "cell_type": "code",
   "execution_count": 13,
   "id": "02501d73",
   "metadata": {},
   "outputs": [
    {
     "data": {
      "text/plain": [
       "<AxesSubplot:xlabel='Pclass', ylabel='Survived'>"
      ]
     },
     "execution_count": 13,
     "metadata": {},
     "output_type": "execute_result"
    },
    {
     "data": {
      "image/png": "[encoded data removed]",
      "text/plain": [
       "<Figure size 432x288 with 1 Axes>"
      ]
     },
     "metadata": {
      "needs_background": "light"
     },
     "output_type": "display_data"
    }
   ],
   "source": [
    "# Pclass\n",
    "\n",
    "sns.barplot(x='Pclass', y='Survived', data=train_data)\n"
   ]
  },
  {
   "cell_type": "markdown",
   "id": "1ee6a475",
   "metadata": {},
   "source": [
    "Here we see clearly, that Pclass is contributing to a persons chance of survival, especially if this person is in class 1. We will create another pclass plot below."
   ]
  },
  {
   "cell_type": "code",
   "execution_count": 14,
   "id": "548c306f",
   "metadata": {},
   "outputs": [
    {
     "data": {
      "image/png": "[encoded data removed]",
      "text/plain": [
       "<Figure size 514.88x475.2 with 6 Axes>"
      ]
     },
     "metadata": {
      "needs_background": "light"
     },
     "output_type": "display_data"
    }
   ],
   "source": [
    "grid = sns.FacetGrid(train_data, col='Survived', row='Pclass', height=2.2, aspect=1.6)\n",
    "grid.map(plt.hist, 'Age', alpha=.5, bins=20)\n",
    "grid.add_legend();"
   ]
  },
  {
   "cell_type": "markdown",
   "id": "d1d43416",
   "metadata": {},
   "source": [
    "The plot above confirms our assumption about pclass 1, but we can also spot a high probability that a person in pclass 3 will not survive."
   ]
  },
  {
   "cell_type": "code",
   "execution_count": 15,
   "id": "3d12d468",
   "metadata": {},
   "outputs": [
    {
     "data": {
      "text/html": [
       "<div>\n",
       "<style scoped>\n",
       "    .dataframe tbody tr th:only-of-type {\n",
       "        vertical-align: middle;\n",
       "    }\n",
       "\n",
       "    .dataframe tbody tr th {\n",
       "        vertical-align: top;\n",
       "    }\n",
       "\n",
       "    .dataframe thead th {\n",
       "        text-align: right;\n",
       "    }\n",
       "</style>\n",
       "<table border=\"1\" class=\"dataframe\">\n",
       "  <thead>\n",
       "    <tr style=\"text-align: right;\">\n",
       "      <th>Survived</th>\n",
       "      <th>0</th>\n",
       "      <th>1</th>\n",
       "    </tr>\n",
       "    <tr>\n",
       "      <th>IsAlone</th>\n",
       "      <th></th>\n",
       "      <th></th>\n",
       "    </tr>\n",
       "  </thead>\n",
       "  <tbody>\n",
       "    <tr>\n",
       "      <th>0</th>\n",
       "      <td>175</td>\n",
       "      <td>179</td>\n",
       "    </tr>\n",
       "    <tr>\n",
       "      <th>1</th>\n",
       "      <td>374</td>\n",
       "      <td>163</td>\n",
       "    </tr>\n",
       "  </tbody>\n",
       "</table>\n",
       "</div>"
      ],
      "text/plain": [
       "Survived    0    1\n",
       "IsAlone           \n",
       "0         175  179\n",
       "1         374  163"
      ]
     },
     "execution_count": 15,
     "metadata": {},
     "output_type": "execute_result"
    }
   ],
   "source": [
    "# SibSp and Parch\n",
    "\n",
    "temp = train_data.copy()\n",
    "temp['FamilySize'] = temp['SibSp'] + temp['Parch'] + 1\n",
    "temp['IsAlone'] = np.where(temp['FamilySize'] == 1, 1, 0)\n",
    "\n",
    "pd.crosstab(temp.IsAlone, temp.Survived)\n"
   ]
  },
  {
   "cell_type": "markdown",
   "id": "d277e107",
   "metadata": {},
   "source": [
    "We can see that there is a higher chance of survival if the passenger is alone. Further let us take a look into family size"
   ]
  },
  {
   "cell_type": "code",
   "execution_count": 16,
   "id": "6b2ac518",
   "metadata": {},
   "outputs": [
    {
     "data": {
      "image/png": "[encoded data removed]",
      "text/plain": [
       "<Figure size 900x360 with 1 Axes>"
      ]
     },
     "metadata": {
      "needs_background": "light"
     },
     "output_type": "display_data"
    }
   ],
   "source": [
    "axes = sns.catplot(x ='FamilySize',y ='Survived', \n",
    "                      data=temp, aspect = 2.5, kind='point')"
   ]
  },
  {
   "cell_type": "markdown",
   "id": "85fe34f7",
   "metadata": {},
   "source": [
    "Here we can see that you had a high probabilty of survival with 1 to 3 relatives, but a lower one if you had less than 1 or more than 3 (except for some cases with 6 relatives)."
   ]
  },
  {
   "cell_type": "markdown",
   "id": "f055e80e",
   "metadata": {},
   "source": [
    "### Clean and Prep the data"
   ]
  },
  {
   "cell_type": "markdown",
   "id": "4853f923",
   "metadata": {},
   "source": [
    "<b>cleaning_and_preprocessing</b> function performs the following steps in order to prep the data :\n",
    "    \n",
    "* Drops columns that are not useful for prediction (PassengerId, Name, Ticket, Cabin)\n",
    "* Imputes missing values for Age, Embarked and Fare\n",
    "* Creates a new feature called FamilySize, which is the sum of SibSp (siblings and spouses) and Parch (parents and children) plus one (for the passenger themselves)\n",
    "* Creates a new feature called IsAlone, which is 1 if the passenger is traveling alone and 0 otherwise\n",
    "* Creates a new feature called Title, which is extracted from the Name column and represents the passenger's title (e.g. Mr, Mrs, etc.)\n",
    "* Combines rare Title values into a single category called 'Rare'\n",
    "* Replaces common Title values with a numeric code\n",
    "* Converts categorical features (Sex and Embarked) to numerical values\n",
    "* Drops any remaining missing values\n"
   ]
  },
  {
   "cell_type": "code",
   "execution_count": 17,
   "id": "0f6c9af4",
   "metadata": {},
   "outputs": [],
   "source": [
    "def cleaning_and_preprocessing(data):\n",
    "    \n",
    "    # Drop columns that have many unique values and hence are not useful for prediction\n",
    "    df = data.drop(['PassengerId', 'Name', 'Ticket'], axis=1)\n",
    "    \n",
    "    # Drop cabin column as there are a large number of missing values in the Hold-out data set\n",
    "    df = df.drop(['Cabin'], axis=1)\n",
    "\n",
    "    # Impute missing values for Age, Embarked and fare\n",
    "    df['Age'] = df['Age'].interpolate()\n",
    "    df['Embarked'].fillna(df['Embarked'].mode()[0], inplace=True)\n",
    "    df['Fare'] = df['Fare'].interpolate()\n",
    "\n",
    "    # Create a new feature called FamilySize\n",
    "    df['FamilySize'] = df['SibSp'] + df['Parch'] + 1\n",
    "\n",
    "    # Create a new feature called IsAlone\n",
    "    df['IsAlone'] = np.where(df['FamilySize'] == 1, 1, 0)\n",
    "\n",
    "    # Create a new feature called Title, extracted from the Name column\n",
    "    df['Title'] = data['Name'].str.extract(' ([A-Za-z]+)\\.', expand=False)\n",
    "\n",
    "    # Combine rare Title values into a single category called 'Rare'\n",
    "    df['Title'] = df['Title'].replace(['Lady', 'Countess','Capt', 'Col', 'Don', 'Dr', 'Major', 'Rev', 'Sir', 'Jonkheer', 'Dona'], 'Rare')\n",
    "\n",
    "    # Replace common Title values with a numeric code\n",
    "    title_mapping = {\"Mr\": 1, \"Miss\": 2, \"Mrs\": 3, \"Master\": 4, \"Rare\": 5}\n",
    "    df['Title'] = df['Title'].map(title_mapping)\n",
    "    df['Title'].fillna(0, inplace=True)\n",
    "\n",
    "    # Convert categorical features to numerical values\n",
    "    df['Sex'] = df['Sex'].map({'female': 0, 'male': 1}).astype(int)\n",
    "    df['Embarked'] = df['Embarked'].map({'S': 0, 'C': 1, 'Q': 2}).astype(int)\n",
    "\n",
    "    # Drop any remaining missing values\n",
    "    df = df.dropna()\n",
    "    \n",
    "    return df\n"
   ]
  },
  {
   "cell_type": "code",
   "execution_count": 18,
   "id": "ebc93efc",
   "metadata": {},
   "outputs": [
    {
     "name": "stdout",
     "output_type": "stream",
     "text": [
      "<class 'pandas.core.frame.DataFrame'>\n",
      "RangeIndex: 891 entries, 0 to 890\n",
      "Data columns (total 11 columns):\n",
      " #   Column      Non-Null Count  Dtype  \n",
      "---  ------      --------------  -----  \n",
      " 0   Survived    891 non-null    int64  \n",
      " 1   Pclass      891 non-null    int64  \n",
      " 2   Sex         891 non-null    int64  \n",
      " 3   Age         891 non-null    float64\n",
      " 4   SibSp       891 non-null    int64  \n",
      " 5   Parch       891 non-null    int64  \n",
      " 6   Fare        891 non-null    float64\n",
      " 7   Embarked    891 non-null    int64  \n",
      " 8   FamilySize  891 non-null    int64  \n",
      " 9   IsAlone     891 non-null    int64  \n",
      " 10  Title       891 non-null    float64\n",
      "dtypes: float64(3), int64(8)\n",
      "memory usage: 76.7 KB\n"
     ]
    }
   ],
   "source": [
    "train_df = cleaning_and_preprocessing(train_data)\n",
    "train_df.info()"
   ]
  },
  {
   "cell_type": "code",
   "execution_count": 19,
   "id": "586e84a6",
   "metadata": {},
   "outputs": [
    {
     "data": {
      "text/html": [
       "<div>\n",
       "<style scoped>\n",
       "    .dataframe tbody tr th:only-of-type {\n",
       "        vertical-align: middle;\n",
       "    }\n",
       "\n",
       "    .dataframe tbody tr th {\n",
       "        vertical-align: top;\n",
       "    }\n",
       "\n",
       "    .dataframe thead th {\n",
       "        text-align: right;\n",
       "    }\n",
       "</style>\n",
       "<table border=\"1\" class=\"dataframe\">\n",
       "  <thead>\n",
       "    <tr style=\"text-align: right;\">\n",
       "      <th></th>\n",
       "      <th>Survived</th>\n",
       "      <th>Pclass</th>\n",
       "      <th>Sex</th>\n",
       "      <th>Age</th>\n",
       "      <th>SibSp</th>\n",
       "      <th>Parch</th>\n",
       "      <th>Fare</th>\n",
       "      <th>Embarked</th>\n",
       "      <th>FamilySize</th>\n",
       "      <th>IsAlone</th>\n",
       "      <th>Title</th>\n",
       "    </tr>\n",
       "  </thead>\n",
       "  <tbody>\n",
       "    <tr>\n",
       "      <th>Survived</th>\n",
       "      <td>1.000000</td>\n",
       "      <td>-0.338481</td>\n",
       "      <td>-0.543351</td>\n",
       "      <td>-0.062164</td>\n",
       "      <td>-0.035322</td>\n",
       "      <td>0.081629</td>\n",
       "      <td>0.257307</td>\n",
       "      <td>0.106811</td>\n",
       "      <td>0.016639</td>\n",
       "      <td>-0.203367</td>\n",
       "      <td>0.393241</td>\n",
       "    </tr>\n",
       "    <tr>\n",
       "      <th>Pclass</th>\n",
       "      <td>-0.338481</td>\n",
       "      <td>1.000000</td>\n",
       "      <td>0.131900</td>\n",
       "      <td>-0.304934</td>\n",
       "      <td>0.083081</td>\n",
       "      <td>0.018443</td>\n",
       "      <td>-0.549500</td>\n",
       "      <td>0.045702</td>\n",
       "      <td>0.065997</td>\n",
       "      <td>0.135207</td>\n",
       "      <td>-0.160323</td>\n",
       "    </tr>\n",
       "    <tr>\n",
       "      <th>Sex</th>\n",
       "      <td>-0.543351</td>\n",
       "      <td>0.131900</td>\n",
       "      <td>1.000000</td>\n",
       "      <td>0.061332</td>\n",
       "      <td>-0.114631</td>\n",
       "      <td>-0.245489</td>\n",
       "      <td>-0.182333</td>\n",
       "      <td>-0.116569</td>\n",
       "      <td>-0.200988</td>\n",
       "      <td>0.303646</td>\n",
       "      <td>-0.486836</td>\n",
       "    </tr>\n",
       "    <tr>\n",
       "      <th>Age</th>\n",
       "      <td>-0.062164</td>\n",
       "      <td>-0.304934</td>\n",
       "      <td>0.061332</td>\n",
       "      <td>1.000000</td>\n",
       "      <td>-0.213410</td>\n",
       "      <td>-0.170013</td>\n",
       "      <td>0.087119</td>\n",
       "      <td>0.026549</td>\n",
       "      <td>-0.230794</td>\n",
       "      <td>0.169425</td>\n",
       "      <td>-0.073960</td>\n",
       "    </tr>\n",
       "    <tr>\n",
       "      <th>SibSp</th>\n",
       "      <td>-0.035322</td>\n",
       "      <td>0.083081</td>\n",
       "      <td>-0.114631</td>\n",
       "      <td>-0.213410</td>\n",
       "      <td>1.000000</td>\n",
       "      <td>0.414838</td>\n",
       "      <td>0.159651</td>\n",
       "      <td>-0.059961</td>\n",
       "      <td>0.890712</td>\n",
       "      <td>-0.584471</td>\n",
       "      <td>0.272835</td>\n",
       "    </tr>\n",
       "    <tr>\n",
       "      <th>Parch</th>\n",
       "      <td>0.081629</td>\n",
       "      <td>0.018443</td>\n",
       "      <td>-0.245489</td>\n",
       "      <td>-0.170013</td>\n",
       "      <td>0.414838</td>\n",
       "      <td>1.000000</td>\n",
       "      <td>0.216225</td>\n",
       "      <td>-0.078665</td>\n",
       "      <td>0.783111</td>\n",
       "      <td>-0.583398</td>\n",
       "      <td>0.318745</td>\n",
       "    </tr>\n",
       "    <tr>\n",
       "      <th>Fare</th>\n",
       "      <td>0.257307</td>\n",
       "      <td>-0.549500</td>\n",
       "      <td>-0.182333</td>\n",
       "      <td>0.087119</td>\n",
       "      <td>0.159651</td>\n",
       "      <td>0.216225</td>\n",
       "      <td>1.000000</td>\n",
       "      <td>0.062142</td>\n",
       "      <td>0.217138</td>\n",
       "      <td>-0.271832</td>\n",
       "      <td>0.131626</td>\n",
       "    </tr>\n",
       "    <tr>\n",
       "      <th>Embarked</th>\n",
       "      <td>0.106811</td>\n",
       "      <td>0.045702</td>\n",
       "      <td>-0.116569</td>\n",
       "      <td>0.026549</td>\n",
       "      <td>-0.059961</td>\n",
       "      <td>-0.078665</td>\n",
       "      <td>0.062142</td>\n",
       "      <td>1.000000</td>\n",
       "      <td>-0.080281</td>\n",
       "      <td>0.017807</td>\n",
       "      <td>0.038765</td>\n",
       "    </tr>\n",
       "    <tr>\n",
       "      <th>FamilySize</th>\n",
       "      <td>0.016639</td>\n",
       "      <td>0.065997</td>\n",
       "      <td>-0.200988</td>\n",
       "      <td>-0.230794</td>\n",
       "      <td>0.890712</td>\n",
       "      <td>0.783111</td>\n",
       "      <td>0.217138</td>\n",
       "      <td>-0.080281</td>\n",
       "      <td>1.000000</td>\n",
       "      <td>-0.690922</td>\n",
       "      <td>0.345713</td>\n",
       "    </tr>\n",
       "    <tr>\n",
       "      <th>IsAlone</th>\n",
       "      <td>-0.203367</td>\n",
       "      <td>0.135207</td>\n",
       "      <td>0.303646</td>\n",
       "      <td>0.169425</td>\n",
       "      <td>-0.584471</td>\n",
       "      <td>-0.583398</td>\n",
       "      <td>-0.271832</td>\n",
       "      <td>0.017807</td>\n",
       "      <td>-0.690922</td>\n",
       "      <td>1.000000</td>\n",
       "      <td>-0.411602</td>\n",
       "    </tr>\n",
       "    <tr>\n",
       "      <th>Title</th>\n",
       "      <td>0.393241</td>\n",
       "      <td>-0.160323</td>\n",
       "      <td>-0.486836</td>\n",
       "      <td>-0.073960</td>\n",
       "      <td>0.272835</td>\n",
       "      <td>0.318745</td>\n",
       "      <td>0.131626</td>\n",
       "      <td>0.038765</td>\n",
       "      <td>0.345713</td>\n",
       "      <td>-0.411602</td>\n",
       "      <td>1.000000</td>\n",
       "    </tr>\n",
       "  </tbody>\n",
       "</table>\n",
       "</div>"
      ],
      "text/plain": [
       "            Survived    Pclass       Sex       Age     SibSp     Parch  \\\n",
       "Survived    1.000000 -0.338481 -0.543351 -0.062164 -0.035322  0.081629   \n",
       "Pclass     -0.338481  1.000000  0.131900 -0.304934  0.083081  0.018443   \n",
       "Sex        -0.543351  0.131900  1.000000  0.061332 -0.114631 -0.245489   \n",
       "Age        -0.062164 -0.304934  0.061332  1.000000 -0.213410 -0.170013   \n",
       "SibSp      -0.035322  0.083081 -0.114631 -0.213410  1.000000  0.414838   \n",
       "Parch       0.081629  0.018443 -0.245489 -0.170013  0.414838  1.000000   \n",
       "Fare        0.257307 -0.549500 -0.182333  0.087119  0.159651  0.216225   \n",
       "Embarked    0.106811  0.045702 -0.116569  0.026549 -0.059961 -0.078665   \n",
       "FamilySize  0.016639  0.065997 -0.200988 -0.230794  0.890712  0.783111   \n",
       "IsAlone    -0.203367  0.135207  0.303646  0.169425 -0.584471 -0.583398   \n",
       "Title       0.393241 -0.160323 -0.486836 -0.073960  0.272835  0.318745   \n",
       "\n",
       "                Fare  Embarked  FamilySize   IsAlone     Title  \n",
       "Survived    0.257307  0.106811    0.016639 -0.203367  0.393241  \n",
       "Pclass     -0.549500  0.045702    0.065997  0.135207 -0.160323  \n",
       "Sex        -0.182333 -0.116569   -0.200988  0.303646 -0.486836  \n",
       "Age         0.087119  0.026549   -0.230794  0.169425 -0.073960  \n",
       "SibSp       0.159651 -0.059961    0.890712 -0.584471  0.272835  \n",
       "Parch       0.216225 -0.078665    0.783111 -0.583398  0.318745  \n",
       "Fare        1.000000  0.062142    0.217138 -0.271832  0.131626  \n",
       "Embarked    0.062142  1.000000   -0.080281  0.017807  0.038765  \n",
       "FamilySize  0.217138 -0.080281    1.000000 -0.690922  0.345713  \n",
       "IsAlone    -0.271832  0.017807   -0.690922  1.000000 -0.411602  \n",
       "Title       0.131626  0.038765    0.345713 -0.411602  1.000000  "
      ]
     },
     "execution_count": 19,
     "metadata": {},
     "output_type": "execute_result"
    }
   ],
   "source": [
    "# let us take a look at how the features are correlated to our target : Survived\n",
    "train_df.corr(method='pearson', min_periods=1)"
   ]
  },
  {
   "cell_type": "code",
   "execution_count": 20,
   "id": "b8f3e161",
   "metadata": {},
   "outputs": [
    {
     "name": "stdout",
     "output_type": "stream",
     "text": [
      "<class 'pandas.core.frame.DataFrame'>\n",
      "RangeIndex: 418 entries, 0 to 417\n",
      "Data columns (total 10 columns):\n",
      " #   Column      Non-Null Count  Dtype  \n",
      "---  ------      --------------  -----  \n",
      " 0   Pclass      418 non-null    int64  \n",
      " 1   Sex         418 non-null    int64  \n",
      " 2   Age         418 non-null    float64\n",
      " 3   SibSp       418 non-null    int64  \n",
      " 4   Parch       418 non-null    int64  \n",
      " 5   Fare        418 non-null    float64\n",
      " 6   Embarked    418 non-null    int64  \n",
      " 7   FamilySize  418 non-null    int64  \n",
      " 8   IsAlone     418 non-null    int64  \n",
      " 9   Title       418 non-null    float64\n",
      "dtypes: float64(3), int64(7)\n",
      "memory usage: 32.8 KB\n"
     ]
    }
   ],
   "source": [
    "test_df = cleaning_and_preprocessing(test_data)\n",
    "test_df.info()"
   ]
  },
  {
   "cell_type": "markdown",
   "id": "1100d7ed",
   "metadata": {},
   "source": [
    "### Build Machine Learning model in Python to classify the survival of Titanic passengers"
   ]
  },
  {
   "cell_type": "markdown",
   "id": "a6493a3b",
   "metadata": {},
   "source": [
    "Now we will train several Machine Learning models and compare their results. Note that because the dataset does not provide labels for their test set, we need to use the predictions on the training set to compare the algorithms with each other. We will additionally use cross validation."
   ]
  },
  {
   "cell_type": "code",
   "execution_count": 21,
   "id": "5c36f82e",
   "metadata": {},
   "outputs": [],
   "source": [
    "from sklearn import preprocessing\n",
    "from sklearn.model_selection import train_test_split, learning_curve\n",
    "from sklearn.model_selection import cross_val_score\n",
    "from sklearn.metrics import f1_score, confusion_matrix, classification_report, roc_auc_score, roc_curve, auc, accuracy_score, precision_score, recall_score\n",
    "\n",
    "\n",
    "# Split the target variable and features\n",
    "X = train_df.drop(\"Survived\", axis=1).values\n",
    "y = train_df[\"Survived\"].values\n",
    "\n",
    "# Scaling the data\n",
    "min_max = preprocessing.MinMaxScaler()\n",
    "X = min_max.fit_transform(X)\n",
    "\n",
    "# Split the train data into training and validation sets\n",
    "X_train, X_test, y_train, y_test = train_test_split(X, y, test_size=0.3, random_state=42)"
   ]
  },
  {
   "cell_type": "markdown",
   "id": "88d716df",
   "metadata": {},
   "source": [
    "We can evaluate the model by looking at the <b>confusion matrix, classification report and the learning curve</b>\n",
    "\n",
    "The output of learning_curve is plotted using a line graph, with the x-axis representing the number of training examples and the y-axis representing the score.\n",
    "The graph has two lines: one for the training score and one for the validation score.\n",
    "\n",
    "\n",
    "* If the training score and validation score are close together and both high, the model is performing well.\n",
    "* If the training score is high and the validation score is low, the model may be overfitting (i.e. memorizing the training data).\n",
    "* If both the training score and validation score are low, the model may be underfitting (i.e. not capturing the underlying patterns in the data)."
   ]
  },
  {
   "cell_type": "code",
   "execution_count": 22,
   "id": "6e03d535",
   "metadata": {},
   "outputs": [],
   "source": [
    "def evaluation(model):\n",
    "    \n",
    "    model.fit(X_train, y_train)\n",
    "    ypred = model.predict(X_test)\n",
    "    \n",
    "    probs = model.predict_proba(X_test)\n",
    "    probs = probs[:, 1]\n",
    "    auc = roc_auc_score(y_test, probs)\n",
    "    \n",
    "    print(confusion_matrix(y_test, ypred))\n",
    "    print(classification_report(y_test, ypred))\n",
    "    \n",
    "    N, train_score, val_score = learning_curve(model, X_train, y_train,\n",
    "                                              cv=10, scoring='accuracy',\n",
    "                                               train_sizes=np.linspace(0.1, 1, 10))\n",
    "    \n",
    "    plt.figure(figsize=(12, 8))\n",
    "    plt.plot(N, train_score.mean(axis=1), label='train score')\n",
    "    plt.plot(N, val_score.mean(axis=1), label='validation score')\n",
    "    plt.legend()\n",
    "    plt.show()"
   ]
  },
  {
   "cell_type": "markdown",
   "id": "414b95c5",
   "metadata": {},
   "source": [
    "### A. Logistic Regression\n",
    "\n",
    "Logistic Regression is a supervised learning algorithm used for classification problems. It models the probability of an event occurring based on one or more predictor variables.\n",
    "\n",
    "<b><i>Pros:</i></b>\n",
    "\n",
    "* It's simple and fast to train.\n",
    "* It works well with small datasets.\n",
    "* It provides a probabilistic interpretation of the output.\n",
    "* It can be easily interpreted using coefficients and odds ratios.\n",
    "\n",
    "<b><i>Cons:</i></b>\n",
    "\n",
    "* It assumes a linear relationship between the predictors and the log-odds of the outcome.\n",
    "* It may not perform well with highly correlated predictors.\n",
    "* It may not capture complex nonlinear relationships between the predictors and the outcome."
   ]
  },
  {
   "cell_type": "code",
   "execution_count": 23,
   "id": "e75cde42",
   "metadata": {},
   "outputs": [
    {
     "name": "stdout",
     "output_type": "stream",
     "text": [
      "The accuracy of Logistic Regression is 80.6%\n"
     ]
    }
   ],
   "source": [
    "logreg = LogisticRegression()\n",
    "logreg.fit(X_train, y_train)\n",
    "\n",
    "y_pred_log_reg = logreg.predict(X_test)\n",
    "\n",
    "acc_log_reg = round(logreg.score(X_test, y_test) * 100, 2)\n",
    "print(\"The accuracy of Logistic Regression is {0}%\".format(acc_log_reg))"
   ]
  },
  {
   "cell_type": "code",
   "execution_count": 24,
   "id": "13cce572",
   "metadata": {},
   "outputs": [
    {
     "name": "stdout",
     "output_type": "stream",
     "text": [
      "Scores: [0.73015873 0.79365079 0.9047619  0.87096774 0.79032258 0.74193548\n",
      " 0.75806452 0.80645161 0.77419355 0.91935484]\n",
      "Mean: 0.8089861751152073\n",
      "Standard Deviation: 0.06348147612534977\n"
     ]
    }
   ],
   "source": [
    "cv_scores_log_reg = cross_val_score(logreg, X_train, y_train, cv=10, scoring = \"accuracy\")\n",
    "print(\"Scores:\", cv_scores_log_reg)\n",
    "print(\"Mean:\", cv_scores_log_reg.mean())\n",
    "print(\"Standard Deviation:\", cv_scores_log_reg.std())"
   ]
  },
  {
   "cell_type": "code",
   "execution_count": 25,
   "id": "19bd5860",
   "metadata": {},
   "outputs": [
    {
     "name": "stdout",
     "output_type": "stream",
     "text": [
      "[[133  24]\n",
      " [ 28  83]]\n",
      "              precision    recall  f1-score   support\n",
      "\n",
      "           0       0.83      0.85      0.84       157\n",
      "           1       0.78      0.75      0.76       111\n",
      "\n",
      "    accuracy                           0.81       268\n",
      "   macro avg       0.80      0.80      0.80       268\n",
      "weighted avg       0.81      0.81      0.81       268\n",
      "\n"
     ]
    },
    {
     "data": {
      "image/png": "[encoded data removed]",
      "text/plain": [
       "<Figure size 864x576 with 1 Axes>"
      ]
     },
     "metadata": {
      "needs_background": "light"
     },
     "output_type": "display_data"
    }
   ],
   "source": [
    "evaluation(logreg)"
   ]
  },
  {
   "cell_type": "markdown",
   "id": "949d9c7a",
   "metadata": {},
   "source": [
    "### B. Linear Support Vector Machine\n",
    "\n",
    "\n",
    "Linear SVM is a supervised learning algorithm used for classification and regression problems. It finds a hyperplane that best separates the data into different classes.\n",
    "\n",
    "<b><i>Pros:</i></b>\n",
    "\n",
    "* It works well with high-dimensional datasets.\n",
    "* It can handle a large number of samples.\n",
    "* It's effective when there is a clear margin of separation between the classes.\n",
    "\n",
    "<b><i>Cons:</i></b>\n",
    "\n",
    "* It may not perform well with overlapping classes.\n",
    "* It can be sensitive to outliers.\n",
    "* It may not work well with non-linearly separable data."
   ]
  },
  {
   "cell_type": "code",
   "execution_count": 26,
   "id": "48e82aff",
   "metadata": {},
   "outputs": [
    {
     "name": "stdout",
     "output_type": "stream",
     "text": [
      "The accuracy of SVM is 79.1%\n"
     ]
    }
   ],
   "source": [
    "svc = SVC(kernel='linear', C=0.1, probability = True)\n",
    "svc.fit(X_train, y_train)\n",
    "\n",
    "y_pred_svc = svc.predict(X_test)\n",
    "\n",
    "acc_svc = round(svc.score(X_test, y_test) * 100, 2)\n",
    "print(\"The accuracy of SVM is {0}%\".format(acc_svc))"
   ]
  },
  {
   "cell_type": "code",
   "execution_count": 27,
   "id": "b8ec7467",
   "metadata": {},
   "outputs": [
    {
     "name": "stdout",
     "output_type": "stream",
     "text": [
      "Scores: [0.71428571 0.74603175 0.92063492 0.85483871 0.72580645 0.69354839\n",
      " 0.77419355 0.79032258 0.75806452 0.87096774]\n",
      "Mean: 0.7848694316436251\n",
      "Standard Deviation: 0.07065514665245524\n"
     ]
    }
   ],
   "source": [
    "cv_scores_svc = cross_val_score(svc, X_train, y_train, cv=10, scoring = \"accuracy\")\n",
    "print(\"Scores:\", cv_scores_svc)\n",
    "print(\"Mean:\", cv_scores_svc.mean())\n",
    "print(\"Standard Deviation:\", cv_scores_svc.std())"
   ]
  },
  {
   "cell_type": "code",
   "execution_count": 28,
   "id": "d76bf50c",
   "metadata": {},
   "outputs": [
    {
     "name": "stdout",
     "output_type": "stream",
     "text": [
      "[[134  23]\n",
      " [ 33  78]]\n",
      "              precision    recall  f1-score   support\n",
      "\n",
      "           0       0.80      0.85      0.83       157\n",
      "           1       0.77      0.70      0.74       111\n",
      "\n",
      "    accuracy                           0.79       268\n",
      "   macro avg       0.79      0.78      0.78       268\n",
      "weighted avg       0.79      0.79      0.79       268\n",
      "\n"
     ]
    },
    {
     "data": {
      "image/png": "[encoded data removed]",
      "text/plain": [
       "<Figure size 864x576 with 1 Axes>"
      ]
     },
     "metadata": {
      "needs_background": "light"
     },
     "output_type": "display_data"
    }
   ],
   "source": [
    "evaluation(svc)"
   ]
  },
  {
   "cell_type": "markdown",
   "id": "7cf2354e",
   "metadata": {},
   "source": [
    "### C. K Nearest Neighbours\n",
    "\n",
    "KNN is a supervised learning algorithm used for classification and regression problems. It predicts the output of a new data point based on the K closest training data points.\n",
    "\n",
    "<b><i>Pros:</i></b>\n",
    "\n",
    "* It's a non-parametric algorithm and can handle any type of data.\n",
    "* It's simple to understand and implement.\n",
    "* It can capture complex relationships between the predictors and the outcome.\n",
    "\n",
    "<b><i>Cons:</i></b>\n",
    "\n",
    "* It can be computationally expensive with large datasets.\n",
    "* It's sensitive to the choice of K and the distance metric.\n",
    "* It may not work well with high-dimensional data."
   ]
  },
  {
   "cell_type": "code",
   "execution_count": 29,
   "id": "b43f9d82",
   "metadata": {},
   "outputs": [
    {
     "name": "stdout",
     "output_type": "stream",
     "text": [
      "The accuracy of K Nearest Neighbours is 78.73%\n"
     ]
    }
   ],
   "source": [
    "knn = KNeighborsClassifier(n_neighbors = 3) \n",
    "knn.fit(X_train, y_train)  \n",
    "\n",
    "y_pred_knn = knn.predict(X_test)  \n",
    "\n",
    "acc_knn = round(knn.score(X_test, y_test) * 100, 2)\n",
    "print(\"The accuracy of K Nearest Neighbours is {0}%\".format(acc_knn))"
   ]
  },
  {
   "cell_type": "code",
   "execution_count": 30,
   "id": "eaced085",
   "metadata": {},
   "outputs": [
    {
     "name": "stdout",
     "output_type": "stream",
     "text": [
      "Scores: [0.77777778 0.76190476 0.84126984 0.82258065 0.72580645 0.77419355\n",
      " 0.75806452 0.80645161 0.70967742 0.85483871]\n",
      "Mean: 0.7832565284178188\n",
      "Standard Deviation: 0.045267027283973915\n"
     ]
    }
   ],
   "source": [
    "cv_scores_knn = cross_val_score(knn, X_train, y_train, cv=10, scoring = \"accuracy\")\n",
    "print(\"Scores:\", cv_scores_knn)\n",
    "print(\"Mean:\", cv_scores_knn.mean())\n",
    "print(\"Standard Deviation:\", cv_scores_knn.std())"
   ]
  },
  {
   "cell_type": "code",
   "execution_count": 31,
   "id": "2ea707da",
   "metadata": {},
   "outputs": [
    {
     "name": "stdout",
     "output_type": "stream",
     "text": [
      "[[133  24]\n",
      " [ 33  78]]\n",
      "              precision    recall  f1-score   support\n",
      "\n",
      "           0       0.80      0.85      0.82       157\n",
      "           1       0.76      0.70      0.73       111\n",
      "\n",
      "    accuracy                           0.79       268\n",
      "   macro avg       0.78      0.77      0.78       268\n",
      "weighted avg       0.79      0.79      0.79       268\n",
      "\n"
     ]
    },
    {
     "data": {
      "image/png": "[encoded data removed]",
      "text/plain": [
       "<Figure size 864x576 with 1 Axes>"
      ]
     },
     "metadata": {
      "needs_background": "light"
     },
     "output_type": "display_data"
    }
   ],
   "source": [
    "evaluation(knn)"
   ]
  },
  {
   "cell_type": "markdown",
   "id": "65779c2d",
   "metadata": {},
   "source": [
    "### D. Decision Tree Classifier\n",
    "\n",
    "Decision Tree is a supervised learning algorithm used for classification and regression problems. It creates a tree-like model of decisions and their possible consequences.\n",
    "\n",
    "<b><i>Pros:</i></b>\n",
    "\n",
    "* It's easy to understand and interpret.\n",
    "* It can handle both categorical and numerical data.\n",
    "* It can capture complex nonlinear relationships between the predictors and the outcome.\n",
    "\n",
    "<b><i>Cons:</i></b>\n",
    "\n",
    "* It can be prone to overfitting.\n",
    "* It may not work well with data that contains a lot of noise.\n",
    "* It may not generalize well to new data."
   ]
  },
  {
   "cell_type": "code",
   "execution_count": 32,
   "id": "44428918",
   "metadata": {},
   "outputs": [
    {
     "name": "stdout",
     "output_type": "stream",
     "text": [
      "The accuracy of Decision Tree Classifier is 77.24%\n"
     ]
    }
   ],
   "source": [
    "decision_tree = DecisionTreeClassifier() \n",
    "decision_tree.fit(X_train, y_train)  \n",
    "\n",
    "y_pred_decision_tree = decision_tree.predict(X_test)  \n",
    "\n",
    "acc_decision_tree = round(decision_tree.score(X_test, y_test) * 100, 2)\n",
    "print(\"The accuracy of Decision Tree Classifier is {0}%\".format(acc_decision_tree))"
   ]
  },
  {
   "cell_type": "code",
   "execution_count": 33,
   "id": "3026b302",
   "metadata": {},
   "outputs": [
    {
     "name": "stdout",
     "output_type": "stream",
     "text": [
      "Scores: [0.71428571 0.80952381 0.79365079 0.79032258 0.74193548 0.75806452\n",
      " 0.79032258 0.79032258 0.79032258 0.85483871]\n",
      "Mean: 0.7833589349718382\n",
      "Standard Deviation: 0.03636023981392101\n"
     ]
    }
   ],
   "source": [
    "cv_scores_decision_tree = cross_val_score(decision_tree, X_train, y_train, cv=10, scoring = \"accuracy\")\n",
    "print(\"Scores:\", cv_scores_decision_tree)\n",
    "print(\"Mean:\", cv_scores_decision_tree.mean())\n",
    "print(\"Standard Deviation:\", cv_scores_decision_tree.std())"
   ]
  },
  {
   "cell_type": "code",
   "execution_count": 34,
   "id": "dd1021e9",
   "metadata": {},
   "outputs": [
    {
     "name": "stdout",
     "output_type": "stream",
     "text": [
      "[[127  30]\n",
      " [ 34  77]]\n",
      "              precision    recall  f1-score   support\n",
      "\n",
      "           0       0.79      0.81      0.80       157\n",
      "           1       0.72      0.69      0.71       111\n",
      "\n",
      "    accuracy                           0.76       268\n",
      "   macro avg       0.75      0.75      0.75       268\n",
      "weighted avg       0.76      0.76      0.76       268\n",
      "\n"
     ]
    },
    {
     "data": {
      "image/png": "[encoded data removed]",
      "text/plain": [
       "<Figure size 864x576 with 1 Axes>"
      ]
     },
     "metadata": {
      "needs_background": "light"
     },
     "output_type": "display_data"
    }
   ],
   "source": [
    "evaluation(decision_tree)"
   ]
  },
  {
   "cell_type": "markdown",
   "id": "a2b4834e",
   "metadata": {},
   "source": [
    "### E. Random Forest Classifier\n",
    "\n",
    "Random Forest is an ensemble learning algorithm that uses multiple decision trees to make a prediction.\n",
    "\n",
    "<b><i>Pros:</i></b>\n",
    "\n",
    "* It reduces the risk of overfitting compared to a single decision tree.\n",
    "* It can handle a large number of input features.\n",
    "* It's robust to outliers and noise in the data.\n",
    "\n",
    "<b><i>Cons:</i></b>\n",
    "\n",
    "* It can be computationally expensive with large datasets.\n",
    "* It can be difficult to interpret compared to a single decision tree.\n",
    "* It may not work well with highly imbalanced datasets."
   ]
  },
  {
   "cell_type": "code",
   "execution_count": 35,
   "id": "49e062c9",
   "metadata": {},
   "outputs": [
    {
     "name": "stdout",
     "output_type": "stream",
     "text": [
      "The accuracy of Random Forest is 83.21%\n"
     ]
    }
   ],
   "source": [
    "random_forest = RandomForestClassifier(criterion = 'gini', \n",
    "                                  n_estimators = 100, \n",
    "                                  max_depth = 3, \n",
    "                                  min_samples_split=6, \n",
    "                                  min_samples_leaf=6, \n",
    "                                  random_state=3, \n",
    "                                  oob_score = True)\n",
    "\n",
    "random_forest.fit(X_train, y_train)\n",
    "\n",
    "y_pred_random_forest = random_forest.predict(X_test)\n",
    "\n",
    "acc_random_forest = round(random_forest.score(X_test, y_test) * 100, 2)\n",
    "print(\"The accuracy of Random Forest is {0}%\".format(acc_random_forest))"
   ]
  },
  {
   "cell_type": "code",
   "execution_count": 36,
   "id": "51d110e9",
   "metadata": {},
   "outputs": [
    {
     "name": "stdout",
     "output_type": "stream",
     "text": [
      "Scores: [0.77777778 0.79365079 0.92063492 0.87096774 0.77419355 0.75806452\n",
      " 0.82258065 0.83870968 0.75806452 0.90322581]\n",
      "Mean: 0.8217869943676395\n",
      "Standard Deviation: 0.05676587633186689\n"
     ]
    }
   ],
   "source": [
    "cv_scores_random_forest = cross_val_score(random_forest, X_train, y_train, cv=10, scoring = \"accuracy\")\n",
    "print(\"Scores:\", cv_scores_random_forest)\n",
    "print(\"Mean:\", cv_scores_random_forest.mean())\n",
    "print(\"Standard Deviation:\", cv_scores_random_forest.std())"
   ]
  },
  {
   "cell_type": "code",
   "execution_count": 37,
   "id": "054241f4",
   "metadata": {},
   "outputs": [
    {
     "name": "stdout",
     "output_type": "stream",
     "text": [
      "[[141  16]\n",
      " [ 29  82]]\n",
      "              precision    recall  f1-score   support\n",
      "\n",
      "           0       0.83      0.90      0.86       157\n",
      "           1       0.84      0.74      0.78       111\n",
      "\n",
      "    accuracy                           0.83       268\n",
      "   macro avg       0.83      0.82      0.82       268\n",
      "weighted avg       0.83      0.83      0.83       268\n",
      "\n"
     ]
    },
    {
     "data": {
      "image/png": "[encoded data removed]",
      "text/plain": [
       "<Figure size 864x576 with 1 Axes>"
      ]
     },
     "metadata": {
      "needs_background": "light"
     },
     "output_type": "display_data"
    }
   ],
   "source": [
    "evaluation(random_forest)"
   ]
  },
  {
   "cell_type": "markdown",
   "id": "56ff9de9",
   "metadata": {},
   "source": [
    "### F. Gaussian Naive Bayes\n",
    "\n",
    "Naive Bayes is a supervised learning algorithm used for classification problems. It assumes that the predictors are conditionally independent given the outcome.\n",
    "\n",
    "<b><i>Pros:</i></b>\n",
    "\n",
    "* It's simple and fast to train.\n",
    "* It works well with high-dimensional data.\n",
    "* It can handle both numerical and categorical data.\n",
    "\n",
    "<b><i>Cons:</i></b>\n",
    "\n",
    "* It assumes independence between the predictors, which may not always be true.\n",
    "* It may not work well with rare events.\n",
    "* It may be affected by the curse of dimensionality."
   ]
  },
  {
   "cell_type": "code",
   "execution_count": 38,
   "id": "7347ba2d",
   "metadata": {},
   "outputs": [
    {
     "name": "stdout",
     "output_type": "stream",
     "text": [
      "The accuracy of Random Forest is 79.85%\n"
     ]
    }
   ],
   "source": [
    "gnb = GaussianNB() \n",
    "gnb.fit(X_train, y_train) \n",
    "\n",
    "y_pred_gnb = gnb.predict(X_test)  \n",
    "\n",
    "acc_gnb = round(gnb.score(X_test, y_test) * 100, 2)\n",
    "print(\"The accuracy of Random Forest is {0}%\".format(acc_gnb))"
   ]
  },
  {
   "cell_type": "code",
   "execution_count": 39,
   "id": "1ab2bf86",
   "metadata": {},
   "outputs": [
    {
     "name": "stdout",
     "output_type": "stream",
     "text": [
      "Scores: [0.79365079 0.80952381 0.92063492 0.82258065 0.79032258 0.70967742\n",
      " 0.74193548 0.82258065 0.74193548 0.91935484]\n",
      "Mean: 0.8072196620583718\n",
      "Standard Deviation: 0.06665036378363959\n"
     ]
    }
   ],
   "source": [
    "cv_scores_gnb = cross_val_score(gnb, X_train, y_train, cv=10, scoring = \"accuracy\")\n",
    "print(\"Scores:\", cv_scores_gnb)\n",
    "print(\"Mean:\", cv_scores_gnb.mean())\n",
    "print(\"Standard Deviation:\", cv_scores_gnb.std())"
   ]
  },
  {
   "cell_type": "code",
   "execution_count": 40,
   "id": "4b5c73e4",
   "metadata": {},
   "outputs": [
    {
     "name": "stdout",
     "output_type": "stream",
     "text": [
      "[[126  31]\n",
      " [ 23  88]]\n",
      "              precision    recall  f1-score   support\n",
      "\n",
      "           0       0.85      0.80      0.82       157\n",
      "           1       0.74      0.79      0.77       111\n",
      "\n",
      "    accuracy                           0.80       268\n",
      "   macro avg       0.79      0.80      0.79       268\n",
      "weighted avg       0.80      0.80      0.80       268\n",
      "\n"
     ]
    },
    {
     "data": {
      "image/png": "[encoded data removed]",
      "text/plain": [
       "<Figure size 864x576 with 1 Axes>"
      ]
     },
     "metadata": {
      "needs_background": "light"
     },
     "output_type": "display_data"
    }
   ],
   "source": [
    "evaluation(gnb)"
   ]
  },
  {
   "cell_type": "markdown",
   "id": "c0cda7ec",
   "metadata": {},
   "source": [
    "### G. Perceptron\n",
    "\n",
    "Perceptron is a supervised learning algorithm used for classification problems. It finds a hyperplane that best separates the data into different classes.\n",
    "\n",
    "<b><i>Pros:</i></b>\n",
    "\n",
    "* It's simple and fast to train.\n",
    "* It can handle large datasets with many input features.\n",
    "* It can update the model online, making it useful for streaming data.\n",
    "\n",
    "<b><i>Cons:</i></b>\n",
    "\n",
    "* It may not converge if the data is not linearly separable."
   ]
  },
  {
   "cell_type": "code",
   "execution_count": 41,
   "id": "2a4523a1",
   "metadata": {},
   "outputs": [
    {
     "name": "stdout",
     "output_type": "stream",
     "text": [
      "The accuracy of Perceptron is 75.0%\n"
     ]
    }
   ],
   "source": [
    "perceptron = Perceptron(max_iter=20)\n",
    "perceptron.fit(X_train, y_train)\n",
    "\n",
    "y_pred_perceptron = perceptron.predict(X_test)\n",
    "\n",
    "acc_perceptron = round(perceptron.score(X_test, y_test) * 100, 2)\n",
    "print(\"The accuracy of Perceptron is {0}%\".format(acc_perceptron))"
   ]
  },
  {
   "cell_type": "code",
   "execution_count": 42,
   "id": "373617e4",
   "metadata": {},
   "outputs": [
    {
     "name": "stdout",
     "output_type": "stream",
     "text": [
      "Scores: [0.73015873 0.79365079 0.61904762 0.82258065 0.72580645 0.79032258\n",
      " 0.72580645 0.79032258 0.75806452 0.79032258]\n",
      "Mean: 0.7546082949308756\n",
      "Standard Deviation: 0.055332272319013935\n"
     ]
    }
   ],
   "source": [
    "cv_scores_perceptron = cross_val_score(perceptron, X_train, y_train, cv=10, scoring = \"accuracy\")\n",
    "print(\"Scores:\", cv_scores_perceptron)\n",
    "print(\"Mean:\", cv_scores_perceptron.mean())\n",
    "print(\"Standard Deviation:\", cv_scores_perceptron.std())"
   ]
  },
  {
   "cell_type": "code",
   "execution_count": 43,
   "id": "a4c9ca99",
   "metadata": {},
   "outputs": [
    {
     "name": "stdout",
     "output_type": "stream",
     "text": [
      "[[155   2]\n",
      " [ 65  46]]\n",
      "              precision    recall  f1-score   support\n",
      "\n",
      "           0       0.70      0.99      0.82       157\n",
      "           1       0.96      0.41      0.58       111\n",
      "\n",
      "    accuracy                           0.75       268\n",
      "   macro avg       0.83      0.70      0.70       268\n",
      "weighted avg       0.81      0.75      0.72       268\n",
      "\n"
     ]
    }
   ],
   "source": [
    "print(confusion_matrix(y_test, y_pred_perceptron))\n",
    "print(classification_report(y_test, y_pred_perceptron))"
   ]
  },
  {
   "cell_type": "markdown",
   "id": "9da62496",
   "metadata": {},
   "source": [
    "### H. Stochastic Gradient Descent\n",
    "\n",
    "Stochastic Gradient Descent is an optimization algorithm used in machine learning to find the minimum of a cost function. It updates the model parameters incrementally using a randomly selected subset of data points (mini-batch) at each iteration. This allows it to perform updates more frequently and converge faster, making it suitable for large datasets.\n",
    "\n",
    "<b><i>Pros:</i></b>\n",
    "It's a simple and fast algorithm that can be used for large datasets.\n",
    "It can update the model incrementally, making it useful for online learning.\n",
    "It can handle non-linear models and can use different loss functions.\n",
    "It can be used for a variety of machine learning tasks, such as regression and classification.\n",
    "\n",
    "<b><i>Cons:</i></b>\n",
    "The learning rate needs to be carefully chosen, as a high learning rate can cause the model to overshoot the minimum and never converge, and a low learning rate can cause slow convergence.\n",
    "The algorithm can get stuck in local minima if the loss function is non-convex.\n",
    "It can be sensitive to the initial parameters and may require some tuning.\n",
    "It can be affected by the noise in the data and may require regularization to prevent overfitting.\n"
   ]
  },
  {
   "cell_type": "code",
   "execution_count": 44,
   "id": "bee102e5",
   "metadata": {},
   "outputs": [
    {
     "name": "stdout",
     "output_type": "stream",
     "text": [
      "The accuracy of SGD is 80.22%\n"
     ]
    }
   ],
   "source": [
    "from sklearn.calibration import CalibratedClassifierCV\n",
    "\n",
    "sgd = linear_model.SGDClassifier(max_iter=5, tol=None)\n",
    "sgd = CalibratedClassifierCV(sgd)\n",
    "\n",
    "sgd.fit(X_train, y_train)\n",
    "\n",
    "y_pred_sgd = sgd.predict(X_test)\n",
    "\n",
    "acc_sgd = round(sgd.score(X_test, y_test) * 100, 2)\n",
    "print(\"The accuracy of SGD is {0}%\".format(acc_sgd))"
   ]
  },
  {
   "cell_type": "code",
   "execution_count": 45,
   "id": "3a3d9397",
   "metadata": {},
   "outputs": [
    {
     "name": "stdout",
     "output_type": "stream",
     "text": [
      "Scores: [0.74603175 0.79365079 0.9047619  0.87096774 0.77419355 0.79032258\n",
      " 0.85483871 0.83870968 0.70967742 0.88709677]\n",
      "Mean: 0.8170250896057348\n",
      "Standard Deviation: 0.06088940008418096\n"
     ]
    }
   ],
   "source": [
    "cv_scores_sgd = cross_val_score(sgd, X_train, y_train, cv=10, scoring = \"accuracy\")\n",
    "print(\"Scores:\", cv_scores_sgd)\n",
    "print(\"Mean:\", cv_scores_sgd.mean())\n",
    "print(\"Standard Deviation:\", cv_scores_sgd.std())"
   ]
  },
  {
   "cell_type": "code",
   "execution_count": 46,
   "id": "2136e583",
   "metadata": {},
   "outputs": [
    {
     "name": "stdout",
     "output_type": "stream",
     "text": [
      "[[134  23]\n",
      " [ 30  81]]\n",
      "              precision    recall  f1-score   support\n",
      "\n",
      "           0       0.82      0.85      0.83       157\n",
      "           1       0.78      0.73      0.75       111\n",
      "\n",
      "    accuracy                           0.80       268\n",
      "   macro avg       0.80      0.79      0.79       268\n",
      "weighted avg       0.80      0.80      0.80       268\n",
      "\n"
     ]
    },
    {
     "data": {
      "image/png": "[encoded data removed]",
      "text/plain": [
       "<Figure size 864x576 with 1 Axes>"
      ]
     },
     "metadata": {
      "needs_background": "light"
     },
     "output_type": "display_data"
    }
   ],
   "source": [
    "evaluation(sgd)"
   ]
  },
  {
   "cell_type": "code",
   "execution_count": 47,
   "id": "16fddae5",
   "metadata": {},
   "outputs": [
    {
     "data": {
      "text/html": [
       "<div>\n",
       "<style scoped>\n",
       "    .dataframe tbody tr th:only-of-type {\n",
       "        vertical-align: middle;\n",
       "    }\n",
       "\n",
       "    .dataframe tbody tr th {\n",
       "        vertical-align: top;\n",
       "    }\n",
       "\n",
       "    .dataframe thead th {\n",
       "        text-align: right;\n",
       "    }\n",
       "</style>\n",
       "<table border=\"1\" class=\"dataframe\">\n",
       "  <thead>\n",
       "    <tr style=\"text-align: right;\">\n",
       "      <th></th>\n",
       "      <th>Model</th>\n",
       "      <th>Score</th>\n",
       "      <th>Average Accuracy</th>\n",
       "      <th>Deviation</th>\n",
       "    </tr>\n",
       "  </thead>\n",
       "  <tbody>\n",
       "    <tr>\n",
       "      <th>4</th>\n",
       "      <td>Random Forest</td>\n",
       "      <td>83.21</td>\n",
       "      <td>82.178699</td>\n",
       "      <td>5.676588</td>\n",
       "    </tr>\n",
       "    <tr>\n",
       "      <th>0</th>\n",
       "      <td>Logistic Regression</td>\n",
       "      <td>80.60</td>\n",
       "      <td>80.898618</td>\n",
       "      <td>6.348148</td>\n",
       "    </tr>\n",
       "    <tr>\n",
       "      <th>7</th>\n",
       "      <td>Stochastic Gradient Descent</td>\n",
       "      <td>80.22</td>\n",
       "      <td>81.702509</td>\n",
       "      <td>6.088940</td>\n",
       "    </tr>\n",
       "    <tr>\n",
       "      <th>5</th>\n",
       "      <td>Naive Bayes</td>\n",
       "      <td>79.85</td>\n",
       "      <td>80.721966</td>\n",
       "      <td>6.665036</td>\n",
       "    </tr>\n",
       "    <tr>\n",
       "      <th>1</th>\n",
       "      <td>Linear Support Vector Machines</td>\n",
       "      <td>79.10</td>\n",
       "      <td>78.486943</td>\n",
       "      <td>7.065515</td>\n",
       "    </tr>\n",
       "    <tr>\n",
       "      <th>2</th>\n",
       "      <td>KNN</td>\n",
       "      <td>78.73</td>\n",
       "      <td>78.325653</td>\n",
       "      <td>4.526703</td>\n",
       "    </tr>\n",
       "    <tr>\n",
       "      <th>3</th>\n",
       "      <td>Decision Tree</td>\n",
       "      <td>77.24</td>\n",
       "      <td>78.335893</td>\n",
       "      <td>3.636024</td>\n",
       "    </tr>\n",
       "    <tr>\n",
       "      <th>6</th>\n",
       "      <td>Perceptron</td>\n",
       "      <td>75.00</td>\n",
       "      <td>75.460829</td>\n",
       "      <td>5.533227</td>\n",
       "    </tr>\n",
       "  </tbody>\n",
       "</table>\n",
       "</div>"
      ],
      "text/plain": [
       "                            Model  Score  Average Accuracy  Deviation\n",
       "4                   Random Forest  83.21         82.178699   5.676588\n",
       "0             Logistic Regression  80.60         80.898618   6.348148\n",
       "7     Stochastic Gradient Descent  80.22         81.702509   6.088940\n",
       "5                     Naive Bayes  79.85         80.721966   6.665036\n",
       "1  Linear Support Vector Machines  79.10         78.486943   7.065515\n",
       "2                             KNN  78.73         78.325653   4.526703\n",
       "3                   Decision Tree  77.24         78.335893   3.636024\n",
       "6                      Perceptron  75.00         75.460829   5.533227"
      ]
     },
     "execution_count": 47,
     "metadata": {},
     "output_type": "execute_result"
    }
   ],
   "source": [
    "models = pd.DataFrame({\n",
    "    'Model': ['Logistic Regression', 'Linear Support Vector Machines',  \n",
    "              'KNN', 'Decision Tree', 'Random Forest', 'Naive Bayes', \n",
    "              'Perceptron', 'Stochastic Gradient Descent'],\n",
    "    \n",
    "    'Score': [acc_log_reg, acc_svc, \n",
    "              acc_knn,  acc_decision_tree, acc_random_forest, acc_gnb, \n",
    "              acc_perceptron, acc_sgd],\n",
    "    \n",
    "    'Average Accuracy' : [cv_scores_log_reg.mean()*100, cv_scores_svc.mean()*100, \n",
    "              cv_scores_knn.mean()*100,  cv_scores_decision_tree.mean()*100, cv_scores_random_forest.mean()*100, cv_scores_gnb.mean()*100, \n",
    "              cv_scores_perceptron.mean()*100, cv_scores_sgd.mean()*100],\n",
    "    \n",
    "    'Deviation' : [cv_scores_log_reg.std()*100, cv_scores_svc.std()*100, \n",
    "              cv_scores_knn.std()*100,  cv_scores_decision_tree.std()*100, cv_scores_random_forest.std()*100, cv_scores_gnb.std()*100, \n",
    "              cv_scores_perceptron.std()*100, cv_scores_sgd.std()*100]\n",
    "    })\n",
    "\n",
    "models.sort_values(by='Score', ascending=False)"
   ]
  },
  {
   "cell_type": "markdown",
   "id": "0f6233a1",
   "metadata": {},
   "source": [
    "### Selecting the best model by comparing model accuracy and predicting the Target for the Test set"
   ]
  },
  {
   "cell_type": "markdown",
   "id": "d3629b19",
   "metadata": {},
   "source": [
    "After comparing the Accuracy, F-1 Scores, Precision, Recall and carefully evaluating our learning curves, <b>Random Forest classifier</b> seems to have the best accuracy metrics with an average accuracy of 32% and a standard deviation of 5%.\n",
    "\n",
    "The standard deviation shows us how precise the estimates are. This means in our case that the accuracy of our model can differ + — 5%.\n",
    "\n",
    "We hence pick the Random Forest classifier in order to proceed with predicting the holdout set.\n",
    "But first, let us take a look at the feature importance."
   ]
  },
  {
   "cell_type": "code",
   "execution_count": 48,
   "id": "126952b2",
   "metadata": {},
   "outputs": [
    {
     "data": {
      "text/html": [
       "<div>\n",
       "<style scoped>\n",
       "    .dataframe tbody tr th:only-of-type {\n",
       "        vertical-align: middle;\n",
       "    }\n",
       "\n",
       "    .dataframe tbody tr th {\n",
       "        vertical-align: top;\n",
       "    }\n",
       "\n",
       "    .dataframe thead th {\n",
       "        text-align: right;\n",
       "    }\n",
       "</style>\n",
       "<table border=\"1\" class=\"dataframe\">\n",
       "  <thead>\n",
       "    <tr style=\"text-align: right;\">\n",
       "      <th></th>\n",
       "      <th>importance</th>\n",
       "    </tr>\n",
       "    <tr>\n",
       "      <th>feature</th>\n",
       "      <th></th>\n",
       "    </tr>\n",
       "  </thead>\n",
       "  <tbody>\n",
       "    <tr>\n",
       "      <th>Sex</th>\n",
       "      <td>0.356</td>\n",
       "    </tr>\n",
       "    <tr>\n",
       "      <th>Title</th>\n",
       "      <td>0.265</td>\n",
       "    </tr>\n",
       "    <tr>\n",
       "      <th>Pclass</th>\n",
       "      <td>0.109</td>\n",
       "    </tr>\n",
       "    <tr>\n",
       "      <th>Fare</th>\n",
       "      <td>0.108</td>\n",
       "    </tr>\n",
       "    <tr>\n",
       "      <th>FamilySize</th>\n",
       "      <td>0.053</td>\n",
       "    </tr>\n",
       "    <tr>\n",
       "      <th>Age</th>\n",
       "      <td>0.041</td>\n",
       "    </tr>\n",
       "    <tr>\n",
       "      <th>SibSp</th>\n",
       "      <td>0.026</td>\n",
       "    </tr>\n",
       "    <tr>\n",
       "      <th>Embarked</th>\n",
       "      <td>0.017</td>\n",
       "    </tr>\n",
       "    <tr>\n",
       "      <th>IsAlone</th>\n",
       "      <td>0.013</td>\n",
       "    </tr>\n",
       "    <tr>\n",
       "      <th>Parch</th>\n",
       "      <td>0.012</td>\n",
       "    </tr>\n",
       "  </tbody>\n",
       "</table>\n",
       "</div>"
      ],
      "text/plain": [
       "            importance\n",
       "feature               \n",
       "Sex              0.356\n",
       "Title            0.265\n",
       "Pclass           0.109\n",
       "Fare             0.108\n",
       "FamilySize       0.053\n",
       "Age              0.041\n",
       "SibSp            0.026\n",
       "Embarked         0.017\n",
       "IsAlone          0.013\n",
       "Parch            0.012"
      ]
     },
     "execution_count": 48,
     "metadata": {},
     "output_type": "execute_result"
    }
   ],
   "source": [
    "importances = pd.DataFrame({'feature':test_df.columns,'importance':np.round(random_forest.feature_importances_,3)})\n",
    "importances = importances.sort_values('importance',ascending=False).set_index('feature')\n",
    "importances.head(15)"
   ]
  },
  {
   "cell_type": "code",
   "execution_count": 49,
   "id": "c43b4821",
   "metadata": {},
   "outputs": [
    {
     "data": {
      "text/plain": [
       "<AxesSubplot:xlabel='feature'>"
      ]
     },
     "execution_count": 49,
     "metadata": {},
     "output_type": "execute_result"
    },
    {
     "data": {
      "image/png": "[encoded data removed]",
      "text/plain": [
       "<Figure size 432x288 with 1 Axes>"
      ]
     },
     "metadata": {
      "needs_background": "light"
     },
     "output_type": "display_data"
    }
   ],
   "source": [
    "importances.plot.bar()\n"
   ]
  },
  {
   "cell_type": "markdown",
   "id": "bdf868c0",
   "metadata": {},
   "source": [
    "IsAlone and Parch don’t play a significant role in our Random Forest classifiers prediction process. Because of that I will drop them from the dataset and train the classifier again"
   ]
  },
  {
   "cell_type": "code",
   "execution_count": 50,
   "id": "50a1a517",
   "metadata": {},
   "outputs": [],
   "source": [
    "fe_train_df = train_df.copy()\n",
    "fe_train_df = fe_train_df.drop([\"IsAlone\",\"Parch\"], axis=1)"
   ]
  },
  {
   "cell_type": "code",
   "execution_count": 51,
   "id": "d6091437",
   "metadata": {},
   "outputs": [],
   "source": [
    "\n",
    "# Split the target variable and features\n",
    "X = fe_train_df.drop(\"Survived\", axis=1).values\n",
    "y = fe_train_df[\"Survived\"].values\n",
    "\n",
    "# Scaling the data\n",
    "min_max = preprocessing.MinMaxScaler()\n",
    "X = min_max.fit_transform(X)\n",
    "\n",
    "# Split the train data into training and validation sets\n",
    "X_train, X_test, y_train, y_test = train_test_split(X, y, test_size=0.3, random_state=42)"
   ]
  },
  {
   "cell_type": "code",
   "execution_count": 52,
   "id": "cc171d57",
   "metadata": {},
   "outputs": [
    {
     "name": "stdout",
     "output_type": "stream",
     "text": [
      "After removing 2 features, the accuracy of Random Forest is 83.21%\n"
     ]
    }
   ],
   "source": [
    "random_forest.fit(X_train, y_train)\n",
    "\n",
    "fe_y_pred_random_forest = random_forest.predict(X_test)\n",
    "\n",
    "fe_acc_random_forest = round(random_forest.score(X_test, y_test) * 100, 2)\n",
    "print(\"After removing 2 features, the accuracy of Random Forest is {0}%\".format(fe_acc_random_forest))"
   ]
  },
  {
   "cell_type": "code",
   "execution_count": 53,
   "id": "16b0008b",
   "metadata": {},
   "outputs": [
    {
     "name": "stdout",
     "output_type": "stream",
     "text": [
      "[[143  14]\n",
      " [ 31  80]]\n",
      "              precision    recall  f1-score   support\n",
      "\n",
      "           0       0.82      0.91      0.86       157\n",
      "           1       0.85      0.72      0.78       111\n",
      "\n",
      "    accuracy                           0.83       268\n",
      "   macro avg       0.84      0.82      0.82       268\n",
      "weighted avg       0.83      0.83      0.83       268\n",
      "\n",
      "Precision: 85%\n",
      "Recall: 72%\n",
      "F1 Score: 78%\n"
     ]
    }
   ],
   "source": [
    "print(confusion_matrix(y_test, fe_y_pred_random_forest))\n",
    "print(classification_report(y_test, fe_y_pred_random_forest))\n",
    "\n",
    "\n",
    "from sklearn.metrics import precision_score, recall_score\n",
    "print(\"Precision: {0}%\".format(round(precision_score(y_test, fe_y_pred_random_forest)*100),2))\n",
    "print(\"Recall: {0}%\".format(round(recall_score(y_test, fe_y_pred_random_forest)*100),2))\n",
    "\n",
    "from sklearn.metrics import f1_score\n",
    "print(\"F1 Score: {0}%\".format(round(f1_score(y_test, fe_y_pred_random_forest)*100),2))"
   ]
  },
  {
   "cell_type": "markdown",
   "id": "6bef24ee",
   "metadata": {},
   "source": [
    "Our model predicts 85% of the time, a passengers survival correctly (precision). \n",
    "The recall tells us that it predicted the survival of 72 % of the people who actually survived."
   ]
  },
  {
   "cell_type": "markdown",
   "id": "fea81758",
   "metadata": {},
   "source": [
    "<b>Precision</b> is the proportion of true positives (correctly identified positive cases) out of all positive predictions. It measures how accurate the model is in identifying positive cases.\n",
    "\n",
    "* A high precision means that the model makes few false positive predictions, which is desirable in situations where false positives are costly or problematic.\n",
    "* A low precision means that the model makes many false positive predictions, which can be problematic in situations where false positives are costly or problematic.\n",
    "\n",
    "<b>Recall</b> is the proportion of true positives out of all actual positive cases. It measures how well the model can identify all positive cases, including the ones that are hard to find.\n",
    "\n",
    "* A high recall means that the model is able to identify most positive cases, which is desirable in situations where missing positive cases is costly or problematic.\n",
    "* A low recall means that the model misses many positive cases, which can be problematic in situations where missing positive cases is costly or problematic.\n",
    "\n",
    "<b>F1 score</b> is the harmonic mean of precision and recall. It is a single metric that balances the tradeoff between precision and recall, and provides an overall measure of the model's performance.\n",
    "\n",
    "* A high F1 score means that the model has both high precision and high recall, which is desirable in most situations.\n",
    "* A low F1 score means that the model has low precision, low recall, or both, which can be problematic in most situations.\n",
    "\n",
    "\n",
    "In general, a good model should have high precision, high recall, and high F1 score. However, the relative importance of these metrics may vary depending on the specific context and goals of the problem.\n",
    "\n"
   ]
  },
  {
   "cell_type": "markdown",
   "id": "7e645212",
   "metadata": {},
   "source": [
    "F1 score of <b>78%</b> is reasonably good, so we can go ahead and predict the target for our hold-out data using the RF model trained with updated feature set."
   ]
  },
  {
   "cell_type": "code",
   "execution_count": 54,
   "id": "80a16cd1",
   "metadata": {},
   "outputs": [
    {
     "name": "stdout",
     "output_type": "stream",
     "text": [
      "<class 'pandas.core.frame.DataFrame'>\n",
      "RangeIndex: 418 entries, 0 to 417\n",
      "Data columns (total 8 columns):\n",
      " #   Column      Non-Null Count  Dtype  \n",
      "---  ------      --------------  -----  \n",
      " 0   Pclass      418 non-null    int64  \n",
      " 1   Sex         418 non-null    int64  \n",
      " 2   Age         418 non-null    float64\n",
      " 3   SibSp       418 non-null    int64  \n",
      " 4   Fare        418 non-null    float64\n",
      " 5   Embarked    418 non-null    int64  \n",
      " 6   FamilySize  418 non-null    int64  \n",
      " 7   Title       418 non-null    float64\n",
      "dtypes: float64(3), int64(5)\n",
      "memory usage: 26.2 KB\n"
     ]
    }
   ],
   "source": [
    "# Update test data\n",
    "\n",
    "new_test_df = test_df.drop([\"IsAlone\",\"Parch\"], axis=1)\n",
    "new_test_df.info()"
   ]
  },
  {
   "cell_type": "code",
   "execution_count": 55,
   "id": "444fe356",
   "metadata": {},
   "outputs": [],
   "source": [
    "# Scaling the data\n",
    "min_max = preprocessing.MinMaxScaler()\n",
    "holdout_X = min_max.fit_transform(new_test_df.values)"
   ]
  },
  {
   "cell_type": "code",
   "execution_count": 56,
   "id": "648db358",
   "metadata": {},
   "outputs": [],
   "source": [
    "# Predicting using the RF model\n",
    "\n",
    "result_pred = random_forest.predict(holdout_X)\n",
    "\n",
    "result_df = pd.DataFrame(data = result_pred, columns = ['Survived'])"
   ]
  },
  {
   "cell_type": "code",
   "execution_count": 57,
   "id": "33034268",
   "metadata": {},
   "outputs": [],
   "source": [
    "result_df.to_csv('Titanic Results from SwathiGanesan_12372237.csv', index=False)"
   ]
  }
 ],
 "metadata": {
  "kernelspec": {
   "display_name": "Python 3 (ipykernel)",
   "language": "python",
   "name": "python3"
  },
  "language_info": {
   "codemirror_mode": {
    "name": "ipython",
    "version": 3
   },
   "file_extension": ".py",
   "mimetype": "text/x-python",
   "name": "python",
   "nbconvert_exporter": "python",
   "pygments_lexer": "ipython3",
   "version": "3.9.12"
  }
 },
 "nbformat": 4,
 "nbformat_minor": 5
}
