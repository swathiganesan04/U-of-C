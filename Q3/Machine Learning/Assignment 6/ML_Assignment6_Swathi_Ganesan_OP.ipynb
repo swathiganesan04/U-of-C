{
 "cells": [
  {
   "cell_type": "code",
   "execution_count": 1,
   "metadata": {
    "id": "gdBBRZugIQGd"
   },
   "outputs": [],
   "source": [
    "import tensorflow as tf\n",
    "from tensorflow import keras\n",
    "import pandas as pd"
   ]
  },
  {
   "cell_type": "code",
   "execution_count": 3,
   "metadata": {
    "colab": {
     "base_uri": "https://localhost:8080/"
    },
    "id": "CAIzdiOFKvDo",
    "outputId": "c9d731b7-b3e3-40ad-96fb-3e8a9952e597"
   },
   "outputs": [
    {
     "name": "stdout",
     "output_type": "stream",
     "text": [
      "Mounted at /content/gdrive\n"
     ]
    }
   ],
   "source": [
    "from google.colab import drive\n",
    "drive.mount('/content/gdrive')"
   ]
  },
  {
   "cell_type": "markdown",
   "metadata": {},
   "source": [
    "### 1 Data Processing"
   ]
  },
  {
   "cell_type": "code",
   "execution_count": 4,
   "metadata": {
    "colab": {
     "base_uri": "https://localhost:8080/"
    },
    "id": "sh1pMw6yKvck",
    "outputId": "b42c0eae-1311-401f-c551-bb69b3620c47"
   },
   "outputs": [
    {
     "name": "stdout",
     "output_type": "stream",
     "text": [
      "Found 88 images belonging to 4 classes.\n"
     ]
    }
   ],
   "source": [
    "from keras.preprocessing.image import ImageDataGenerator\n",
    "\n",
    "train_datagen = ImageDataGenerator(\n",
    "    rescale=1./255,\n",
    "    shear_range=0.2,\n",
    "    zoom_range=0.2,\n",
    "    horizontal_flip=True\n",
    ")\n",
    "\n",
    "train_set = train_datagen.flow_from_directory(\n",
    "    '/content/gdrive/My Drive/dataset_train',\n",
    "    target_size=(64, 64),\n",
    "    batch_size=32,\n",
    "    classes=['category 1', 'category 2', 'category 3', 'category 4'],\n",
    "    class_mode='categorical'\n",
    ")\n"
   ]
  },
  {
   "cell_type": "code",
   "execution_count": null,
   "metadata": {},
   "outputs": [],
   "source": [
    "train_set.image_shape"
   ]
  },
  {
   "cell_type": "markdown",
   "metadata": {},
   "source": [
    "The <b>image shape</b> of each training observation is <b>(64, 64, 3)</b>\n",
    "An image shape of 64 x 64 x 3 means that the image is a square with a height and width of 64 pixels, and has 3 color channels: red, green, and blue (RGB). "
   ]
  },
  {
   "cell_type": "code",
   "execution_count": null,
   "metadata": {},
   "outputs": [],
   "source": [
    "set(train_set.classes)"
   ]
  },
  {
   "cell_type": "markdown",
   "metadata": {},
   "source": [
    "Our train set has <b>4 classes</b> to predict on."
   ]
  },
  {
   "cell_type": "markdown",
   "metadata": {},
   "source": [
    "### 2 Initial Classifier Build"
   ]
  },
  {
   "cell_type": "code",
   "execution_count": 5,
   "metadata": {
    "id": "P6QqAGRmUWTY"
   },
   "outputs": [],
   "source": [
    "from keras.models import Sequential\n",
    "from keras.layers import Conv2D, MaxPooling2D, Flatten, Dense\n",
    "\n",
    "# Create the classifier instance\n",
    "classifier = Sequential()\n",
    "\n",
    "# Add the first convolutional layer\n",
    "classifier.add(Conv2D(filters=32, kernel_size=(3,3), input_shape=(64, 64, 3), activation='relu'))\n",
    "\n",
    "# Add the first pooling layer\n",
    "classifier.add(MaxPooling2D(pool_size=(2,2)))\n",
    "\n",
    "# Add the second convolutional layer\n",
    "classifier.add(Conv2D(filters=64, kernel_size=(3,3), activation='relu'))\n",
    "\n",
    "# Add the second pooling layer\n",
    "classifier.add(MaxPooling2D(pool_size=(2,2)))\n",
    "\n",
    "# Flatten the output from the convolutional layers\n",
    "classifier.add(Flatten())\n",
    "\n",
    "# Add the first fully connected layer\n",
    "classifier.add(Dense(units=128, activation='relu'))\n",
    "\n",
    "# Add the output layer\n",
    "classifier.add(Dense(units=4, activation='softmax'))\n",
    "\n",
    "# Compile the classifier\n",
    "classifier.compile(optimizer='adam', loss='categorical_crossentropy', metrics=['accuracy'])\n"
   ]
  },
  {
   "cell_type": "markdown",
   "metadata": {},
   "source": [
    "### 3 Model Runs"
   ]
  },
  {
   "cell_type": "code",
   "execution_count": 6,
   "metadata": {
    "colab": {
     "base_uri": "https://localhost:8080/"
    },
    "id": "46t8y-hsUrpj",
    "outputId": "045b7a55-e981-4ee8-da90-55d5bd068277"
   },
   "outputs": [
    {
     "name": "stdout",
     "output_type": "stream",
     "text": [
      "Epoch 1/3\n",
      "3/3 [==============================] - 21s 4s/step - loss: 1.3622 - accuracy: 0.3523\n",
      "Epoch 2/3\n",
      "3/3 [==============================] - 1s 373ms/step - loss: 0.6888 - accuracy: 0.8068\n",
      "Epoch 3/3\n",
      "3/3 [==============================] - 2s 685ms/step - loss: 0.3797 - accuracy: 0.8977\n",
      "Saved model\n"
     ]
    }
   ],
   "source": [
    "# Train the model\n",
    "classifier.fit(\n",
    "    train_set,\n",
    "    steps_per_epoch=3,\n",
    "    epochs=3\n",
    ")\n",
    "\n",
    "# Save the model to your Google Drive\n",
    "classifier.save('/content/gdrive/My Drive/model/img_class.h5')\n",
    "print(\"Saved model\")\n"
   ]
  },
  {
   "cell_type": "code",
   "execution_count": 7,
   "metadata": {
    "colab": {
     "base_uri": "https://localhost:8080/"
    },
    "id": "VT8coy55VBoj",
    "outputId": "e12152ea-2ca3-48aa-b841-b26fd723334a"
   },
   "outputs": [
    {
     "name": "stdout",
     "output_type": "stream",
     "text": [
      "Loaded model from disk\n",
      "/content/gdrive/My Drive/dataset_test/4011.png\n",
      "/content/gdrive/My Drive/dataset_test/1022.png\n",
      "/content/gdrive/My Drive/dataset_test/6023.png\n",
      "/content/gdrive/My Drive/dataset_test/C014.png\n",
      "/content/gdrive/My Drive/dataset_test/C033.png\n",
      "/content/gdrive/My Drive/dataset_test/1053.png\n",
      "/content/gdrive/My Drive/dataset_test/4053.png\n",
      "/content/gdrive/My Drive/dataset_test/6051.png\n",
      "1/1 [==============================] - 0s 99ms/step\n",
      "1/1 [==============================] - 0s 22ms/step\n",
      "1/1 [==============================] - 0s 23ms/step\n",
      "1/1 [==============================] - 0s 21ms/step\n",
      "1/1 [==============================] - 0s 24ms/step\n",
      "1/1 [==============================] - 0s 23ms/step\n",
      "1/1 [==============================] - 0s 21ms/step\n",
      "1/1 [==============================] - 0s 21ms/step\n",
      "[array([0]), array([0]), array([1]), array([3]), array([3]), array([0]), array([2]), array([1])]\n"
     ]
    }
   ],
   "source": [
    "import os, glob\n",
    "import numpy as np\n",
    "from tensorflow.keras.preprocessing import image\n",
    "from tensorflow.keras.models import load_model\n",
    "\n",
    "# Load the trained model\n",
    "model = load_model('/content/gdrive/My Drive/model/img_class.h5')\n",
    "print(\"Loaded model from disk\")\n",
    "\n",
    "# Path to test data\n",
    "img_dir = \"/content/gdrive/My Drive/dataset_test\"\n",
    "\n",
    "# Iterate over each test image\n",
    "data_path = os.path.join(img_dir, '*g')\n",
    "files = glob.glob(data_path)\n",
    "\n",
    "# Print the files in the dataset_test folder\n",
    "for f in files:\n",
    "    print(f)\n",
    "\n",
    "# Make a prediction and add to results\n",
    "data = []\n",
    "results = []\n",
    "for f1 in files:\n",
    "    img = image.load_img(f1, target_size=(64, 64))\n",
    "    img = image.img_to_array(img)\n",
    "    img = np.expand_dims(img, axis=0)\n",
    "    data.append(img)\n",
    "    result = model.predict(img)\n",
    "    r = np.argmax(result, axis=1)\n",
    "    results.append(r)\n",
    "\n",
    "print(results)"
   ]
  },
  {
   "cell_type": "code",
   "execution_count": 9,
   "metadata": {
    "colab": {
     "base_uri": "https://localhost:8080/"
    },
    "id": "Cbxo9_gmZcB2",
    "outputId": "7ba865fc-2d0a-4e2b-f2d2-32ce804111e1"
   },
   "outputs": [
    {
     "data": {
      "text/plain": [
       "{'category 1': 0, 'category 2': 1, 'category 3': 2, 'category 4': 3}"
      ]
     },
     "execution_count": 9,
     "metadata": {},
     "output_type": "execute_result"
    }
   ],
   "source": [
    "# Check category labels in training_set\n",
    "train_set.class_indices"
   ]
  },
  {
   "cell_type": "code",
   "execution_count": 10,
   "metadata": {
    "id": "GAbiaROpVW-a"
   },
   "outputs": [],
   "source": [
    "# Manually create the test labels \n",
    "test_label = [2, 0, 1, 3, 3, 0, 2, 1]"
   ]
  },
  {
   "cell_type": "code",
   "execution_count": 11,
   "metadata": {
    "colab": {
     "base_uri": "https://localhost:8080/"
    },
    "id": "UdXrtu9AXWwq",
    "outputId": "987d6cd5-92cf-4ef5-9494-affcd812dc93"
   },
   "outputs": [
    {
     "name": "stdout",
     "output_type": "stream",
     "text": [
      "Accuracy: 87.5%\n"
     ]
    }
   ],
   "source": [
    "from sklearn.metrics import accuracy_score\n",
    "\n",
    "# Convert results to a 1D numpy array\n",
    "y_pred_test = np.array([pred[0] for pred in results])\n",
    "\n",
    "# Compute the accuracy score\n",
    "accuracy = accuracy_score(test_label, y_pred_test)\n",
    "\n",
    "# Print the accuracy score\n",
    "print(f'Accuracy: {accuracy*100}%')"
   ]
  },
  {
   "cell_type": "code",
   "execution_count": 13,
   "metadata": {
    "colab": {
     "base_uri": "https://localhost:8080/"
    },
    "id": "ESKdz9Tk2MHh",
    "outputId": "80e7e1ea-7f1d-4682-85b4-da83dd6f02bd"
   },
   "outputs": [
    {
     "name": "stdout",
     "output_type": "stream",
     "text": [
      "Training model with steps_per_epoch=1 and epochs=1\n",
      "1/1 [==============================] - 1s 1s/step - loss: 1.3952 - accuracy: 0.0417\n",
      "1/1 [==============================] - 0s 98ms/step\n",
      "1/1 [==============================] - 0s 33ms/step\n",
      "1/1 [==============================] - 0s 37ms/step\n",
      "1/1 [==============================] - 0s 31ms/step\n",
      "1/1 [==============================] - 0s 30ms/step\n",
      "1/1 [==============================] - 0s 47ms/step\n",
      "1/1 [==============================] - 0s 31ms/step\n",
      "1/1 [==============================] - 0s 33ms/step\n",
      "Training model with steps_per_epoch=1 and epochs=2\n",
      "Epoch 1/2\n",
      "1/1 [==============================] - 2s 2s/step - loss: 1.3220 - accuracy: 0.3750\n",
      "Epoch 2/2\n",
      "1/1 [==============================] - 1s 548ms/step - loss: 2.1439 - accuracy: 0.3438\n",
      "1/1 [==============================] - 0s 69ms/step\n",
      "1/1 [==============================] - 0s 24ms/step\n",
      "1/1 [==============================] - 0s 21ms/step\n",
      "1/1 [==============================] - 0s 24ms/step\n",
      "1/1 [==============================] - 0s 21ms/step\n",
      "1/1 [==============================] - 0s 21ms/step\n",
      "1/1 [==============================] - 0s 21ms/step\n",
      "1/1 [==============================] - 0s 20ms/step\n",
      "Training model with steps_per_epoch=1 and epochs=3\n",
      "Epoch 1/3\n",
      "1/1 [==============================] - 1s 1s/step - loss: 1.4018 - accuracy: 0.2500\n",
      "Epoch 2/3\n",
      "1/1 [==============================] - 1s 551ms/step - loss: 1.7642 - accuracy: 0.2188\n",
      "Epoch 3/3\n",
      "1/1 [==============================] - 1s 571ms/step - loss: 1.3300 - accuracy: 0.3125\n",
      "1/1 [==============================] - 0s 83ms/step\n",
      "1/1 [==============================] - 0s 22ms/step\n",
      "1/1 [==============================] - 0s 22ms/step\n",
      "1/1 [==============================] - 0s 27ms/step\n",
      "1/1 [==============================] - 0s 24ms/step\n",
      "1/1 [==============================] - 0s 21ms/step\n",
      "1/1 [==============================] - 0s 21ms/step\n",
      "1/1 [==============================] - 0s 20ms/step\n",
      "Training model with steps_per_epoch=2 and epochs=4\n",
      "Epoch 1/4\n"
     ]
    },
    {
     "name": "stderr",
     "output_type": "stream",
     "text": [
      "WARNING:tensorflow:5 out of the last 16 calls to <function Model.make_train_function.<locals>.train_function at 0x7f7c373fbc70> triggered tf.function retracing. Tracing is expensive and the excessive number of tracings could be due to (1) creating @tf.function repeatedly in a loop, (2) passing tensors with different shapes, (3) passing Python objects instead of tensors. For (1), please define your @tf.function outside of the loop. For (2), @tf.function has reduce_retracing=True option that can avoid unnecessary retracing. For (3), please refer to https://www.tensorflow.org/guide/function#controlling_retracing and https://www.tensorflow.org/api_docs/python/tf/function for  more details.\n"
     ]
    },
    {
     "name": "stdout",
     "output_type": "stream",
     "text": [
      "2/2 [==============================] - 2s 302ms/step - loss: 1.3079 - accuracy: 0.3571\n",
      "Epoch 2/4\n",
      "2/2 [==============================] - 1s 468ms/step - loss: 0.9081 - accuracy: 0.7188\n",
      "Epoch 3/4\n",
      "2/2 [==============================] - 1s 519ms/step - loss: 0.4954 - accuracy: 0.9286\n",
      "Epoch 4/4\n",
      "2/2 [==============================] - 1s 488ms/step - loss: 0.4217 - accuracy: 0.8929\n",
      "1/1 [==============================] - 0s 126ms/step\n",
      "1/1 [==============================] - 0s 36ms/step\n",
      "1/1 [==============================] - 0s 36ms/step\n",
      "1/1 [==============================] - 0s 34ms/step\n",
      "1/1 [==============================] - 0s 37ms/step\n",
      "1/1 [==============================] - 0s 32ms/step\n",
      "1/1 [==============================] - 0s 36ms/step\n",
      "1/1 [==============================] - 0s 32ms/step\n",
      "Training model with steps_per_epoch=2 and epochs=5\n",
      "Epoch 1/5\n",
      "2/2 [==============================] - 2s 341ms/step - loss: 1.4630 - accuracy: 0.3036\n",
      "Epoch 2/5\n",
      "2/2 [==============================] - 1s 412ms/step - loss: 1.5331 - accuracy: 0.3571\n",
      "Epoch 3/5\n",
      "2/2 [==============================] - 1s 458ms/step - loss: 0.8354 - accuracy: 0.6607\n",
      "Epoch 4/5\n",
      "2/2 [==============================] - 1s 519ms/step - loss: 0.5885 - accuracy: 0.9107\n",
      "Epoch 5/5\n",
      "2/2 [==============================] - 1s 490ms/step - loss: 0.3710 - accuracy: 0.9464\n",
      "1/1 [==============================] - 0s 67ms/step\n",
      "1/1 [==============================] - 0s 21ms/step\n",
      "1/1 [==============================] - 0s 21ms/step\n",
      "1/1 [==============================] - 0s 25ms/step\n",
      "1/1 [==============================] - 0s 21ms/step\n",
      "1/1 [==============================] - 0s 21ms/step\n",
      "1/1 [==============================] - 0s 22ms/step\n",
      "1/1 [==============================] - 0s 22ms/step\n",
      "Training model with steps_per_epoch=2 and epochs=6\n",
      "Epoch 1/6\n",
      "2/2 [==============================] - 2s 417ms/step - loss: 1.2901 - accuracy: 0.4464\n",
      "Epoch 2/6\n",
      "2/2 [==============================] - 3s 986ms/step - loss: 0.9589 - accuracy: 0.4643\n",
      "Epoch 3/6\n",
      "2/2 [==============================] - 2s 620ms/step - loss: 0.5371 - accuracy: 0.8571\n",
      "Epoch 4/6\n",
      "2/2 [==============================] - 2s 798ms/step - loss: 0.2715 - accuracy: 0.9643\n",
      "Epoch 5/6\n",
      "2/2 [==============================] - 2s 707ms/step - loss: 0.1842 - accuracy: 0.9531\n",
      "Epoch 6/6\n",
      "2/2 [==============================] - 2s 847ms/step - loss: 0.1881 - accuracy: 0.9688\n",
      "1/1 [==============================] - 0s 328ms/step\n",
      "1/1 [==============================] - 0s 87ms/step\n",
      "1/1 [==============================] - 0s 131ms/step\n",
      "1/1 [==============================] - 0s 57ms/step\n",
      "1/1 [==============================] - 0s 77ms/step\n",
      "1/1 [==============================] - 0s 62ms/step\n",
      "1/1 [==============================] - 0s 109ms/step\n",
      "1/1 [==============================] - 0s 132ms/step\n",
      "Training model with steps_per_epoch=3 and epochs=7\n",
      "Epoch 1/7\n",
      "3/3 [==============================] - 3s 370ms/step - loss: 1.3909 - accuracy: 0.2955\n",
      "Epoch 2/7\n",
      "3/3 [==============================] - 1s 366ms/step - loss: 0.6620 - accuracy: 0.8182\n",
      "Epoch 3/7\n",
      "3/3 [==============================] - 1s 417ms/step - loss: 0.3230 - accuracy: 0.9205\n",
      "Epoch 4/7\n",
      "3/3 [==============================] - 1s 344ms/step - loss: 0.2043 - accuracy: 0.9432\n",
      "Epoch 5/7\n",
      "3/3 [==============================] - 2s 568ms/step - loss: 0.1538 - accuracy: 0.9659\n",
      "Epoch 6/7\n",
      "3/3 [==============================] - 2s 595ms/step - loss: 0.1260 - accuracy: 0.9659\n",
      "Epoch 7/7\n",
      "3/3 [==============================] - 1s 369ms/step - loss: 0.0908 - accuracy: 0.9659\n",
      "1/1 [==============================] - 0s 69ms/step\n",
      "1/1 [==============================] - 0s 25ms/step\n",
      "1/1 [==============================] - 0s 21ms/step\n",
      "1/1 [==============================] - 0s 26ms/step\n",
      "1/1 [==============================] - 0s 25ms/step\n",
      "1/1 [==============================] - 0s 26ms/step\n",
      "1/1 [==============================] - 0s 22ms/step\n",
      "1/1 [==============================] - 0s 22ms/step\n",
      "Training model with steps_per_epoch=3 and epochs=8\n",
      "Epoch 1/8\n",
      "3/3 [==============================] - 2s 341ms/step - loss: 1.8895 - accuracy: 0.4545\n",
      "Epoch 2/8\n",
      "3/3 [==============================] - 1s 370ms/step - loss: 1.2339 - accuracy: 0.6136\n",
      "Epoch 3/8\n",
      "3/3 [==============================] - 1s 354ms/step - loss: 0.7884 - accuracy: 0.6932\n",
      "Epoch 4/8\n",
      "3/3 [==============================] - 2s 587ms/step - loss: 0.5148 - accuracy: 0.9091\n",
      "Epoch 5/8\n",
      "3/3 [==============================] - 2s 372ms/step - loss: 0.3562 - accuracy: 0.9545\n",
      "Epoch 6/8\n",
      "3/3 [==============================] - 1s 443ms/step - loss: 0.2665 - accuracy: 0.9432\n",
      "Epoch 7/8\n",
      "3/3 [==============================] - 1s 433ms/step - loss: 0.2648 - accuracy: 0.9091\n",
      "Epoch 8/8\n",
      "3/3 [==============================] - 1s 363ms/step - loss: 0.1611 - accuracy: 0.9432\n",
      "1/1 [==============================] - 0s 69ms/step\n",
      "1/1 [==============================] - 0s 21ms/step\n",
      "1/1 [==============================] - 0s 25ms/step\n",
      "1/1 [==============================] - 0s 22ms/step\n",
      "1/1 [==============================] - 0s 23ms/step\n",
      "1/1 [==============================] - 0s 22ms/step\n",
      "1/1 [==============================] - 0s 22ms/step\n",
      "1/1 [==============================] - 0s 22ms/step\n",
      "Training model with steps_per_epoch=5 and epochs=9\n",
      "Epoch 1/9\n",
      "3/5 [=================>............] - ETA: 1s - loss: 1.3993 - accuracy: 0.3636"
     ]
    },
    {
     "name": "stderr",
     "output_type": "stream",
     "text": [
      "WARNING:tensorflow:Your input ran out of data; interrupting training. Make sure that your dataset or generator can generate at least `steps_per_epoch * epochs` batches (in this case, 45 batches). You may need to use the repeat() function when building your dataset.\n"
     ]
    },
    {
     "name": "stdout",
     "output_type": "stream",
     "text": [
      "5/5 [==============================] - 4s 419ms/step - loss: 1.3993 - accuracy: 0.3636\n",
      "1/1 [==============================] - 0s 73ms/step\n",
      "1/1 [==============================] - 0s 26ms/step\n",
      "1/1 [==============================] - 0s 21ms/step\n",
      "1/1 [==============================] - 0s 21ms/step\n",
      "1/1 [==============================] - 0s 24ms/step\n",
      "1/1 [==============================] - 0s 26ms/step\n",
      "1/1 [==============================] - 0s 22ms/step\n",
      "1/1 [==============================] - 0s 21ms/step\n",
      "Training model with steps_per_epoch=5 and epochs=10\n",
      "Epoch 1/10\n",
      "3/5 [=================>............] - ETA: 0s - loss: 1.3427 - accuracy: 0.3750"
     ]
    },
    {
     "name": "stderr",
     "output_type": "stream",
     "text": [
      "WARNING:tensorflow:Your input ran out of data; interrupting training. Make sure that your dataset or generator can generate at least `steps_per_epoch * epochs` batches (in this case, 50 batches). You may need to use the repeat() function when building your dataset.\n"
     ]
    },
    {
     "name": "stdout",
     "output_type": "stream",
     "text": [
      "5/5 [==============================] - 2s 191ms/step - loss: 1.3427 - accuracy: 0.3750\n",
      "1/1 [==============================] - 0s 68ms/step\n",
      "1/1 [==============================] - 0s 21ms/step\n",
      "1/1 [==============================] - 0s 22ms/step\n",
      "1/1 [==============================] - 0s 24ms/step\n",
      "1/1 [==============================] - 0s 33ms/step\n",
      "1/1 [==============================] - 0s 120ms/step\n",
      "1/1 [==============================] - 0s 58ms/step\n",
      "1/1 [==============================] - 0s 21ms/step\n",
      "Training complete\n"
     ]
    }
   ],
   "source": [
    "import itertools\n",
    "# Define a list to store the results\n",
    "model_results = []\n",
    "\n",
    "# Define a list of tuples for the different combinations of steps_per_epoch and epochs\n",
    "combos = [(1, 1), (1, 2), (1, 3), (2, 4), (2, 5), (2, 6), (3, 7), (3, 8), (5, 9), (5, 10)]\n",
    "\n",
    "# Loop through each combination and train the model\n",
    "for combo in combos:\n",
    "    steps_per_epoch = combo[0]\n",
    "    epochs = combo[1]\n",
    "    print(f'Training model with steps_per_epoch={steps_per_epoch} and epochs={epochs}')\n",
    "\n",
    "    train_set = train_datagen.flow_from_directory(\n",
    "    '/content/gdrive/My Drive/dataset_train',\n",
    "    target_size=(64, 64),\n",
    "    batch_size=8,\n",
    "    classes=['category 1', 'category 2', 'category 3', 'category 4'],\n",
    "    class_mode='categorical')\n",
    "    \n",
    "    # Create and compile the model\n",
    "    classifier = Sequential()\n",
    "    classifier.add(Conv2D(32, (3, 3), input_shape=(64, 64, 3), activation='relu'))\n",
    "    classifier.add(MaxPooling2D(pool_size=(2, 2)))\n",
    "    classifier.add(Conv2D(64, (3, 3), activation='relu'))\n",
    "    classifier.add(MaxPooling2D(pool_size=(2, 2)))\n",
    "    classifier.add(Flatten())\n",
    "    classifier.add(Dense(units=128, activation='relu'))\n",
    "    classifier.add(Dense(units=4, activation='softmax'))\n",
    "    classifier.compile(optimizer='adam', loss='categorical_crossentropy', metrics=['accuracy'])\n",
    "    \n",
    "    # Fit the model\n",
    "    batches_per_epoch = len(train_set)//steps_per_epoch\n",
    "    total_batches = batches_per_epoch*epochs\n",
    "    \n",
    "    # Generate repeated training data if necessary\n",
    "    if total_batches > len(train_set):\n",
    "        print(f\"WARNING: Only {len(train_set)} batches available for training. Repeating data...\")\n",
    "        train_generator = train_datagen.flow_from_directory(\n",
    "            '/content/gdrive/My Drive/dataset_train',\n",
    "            target_size=(64, 64),\n",
    "            batch_size=32,\n",
    "            classes=['category 1', 'category 2', 'category 3', 'category 4'],\n",
    "            class_mode='categorical'\n",
    "        )\n",
    "        train_set = itertools.islice(itertools.cycle(train_generator), total_batches)\n",
    "    else:\n",
    "        train_set.reset()\n",
    "\n",
    "    history = classifier.fit(train_set, steps_per_epoch=batches_per_epoch, epochs=epochs)\n",
    "    \n",
    "    # Make a prediction and add to results\n",
    "    data = []\n",
    "    results = []\n",
    "    for f1 in files:\n",
    "        img = image.load_img(f1, target_size=(64, 64))\n",
    "        img = image.img_to_array(img)\n",
    "        img = np.expand_dims(img, axis=0)\n",
    "        data.append(img)\n",
    "        result = classifier.predict(img)\n",
    "        r = np.argmax(result, axis=1)\n",
    "        results.append(r)\n",
    "\n",
    "    # Convert results to a 1D numpy array\n",
    "    y_pred_test = np.array([pred[0] for pred in results])\n",
    "\n",
    "    # Compute the accuracy score\n",
    "    test_accuracy = accuracy_score(test_label, y_pred_test)\n",
    "    \n",
    "    # Append the results to the list\n",
    "    model_results.append({'Steps per Epoch': steps_per_epoch, 'Epochs': epochs, 'history': history.history, \n",
    "                          'Train Loss': sum(history.history['loss']), 'Train Accuracy': statistics.mean(history.history['accuracy']), \n",
    "                          'Test Accuracy': str(test_accuracy*100)+'%'})\n",
    "    print('*****************************************************************')\n",
    "    \n",
    "print('Training complete')\n"
   ]
  },
  {
   "cell_type": "markdown",
   "metadata": {},
   "source": [
    "The total accuracy reported at the end of training is the average of the accuracy calculated at the end of each epoch.\n",
    "During training, the accuracy at each step is calculated based on the predictions made by the model on the current batch of training data. However, the accuracy reported for each epoch is calculated by aggregating the accuracy across all the batches of data that were used in that epoch.\n"
   ]
  },
  {
   "cell_type": "code",
   "execution_count": 15,
   "metadata": {
    "colab": {
     "base_uri": "https://localhost:8080/",
     "height": 363
    },
    "id": "FeZ1iHTp5ZNA",
    "outputId": "f9fada8f-4e0e-434b-e449-23cea42a60a5"
   },
   "outputs": [
    {
     "data": {
      "text/html": [
       "\n",
       "  <div id=\"df-07117001-0b9d-4727-ab4d-608e6ca15a19\">\n",
       "    <div class=\"colab-df-container\">\n",
       "      <div>\n",
       "<style scoped>\n",
       "    .dataframe tbody tr th:only-of-type {\n",
       "        vertical-align: middle;\n",
       "    }\n",
       "\n",
       "    .dataframe tbody tr th {\n",
       "        vertical-align: top;\n",
       "    }\n",
       "\n",
       "    .dataframe thead th {\n",
       "        text-align: right;\n",
       "    }\n",
       "</style>\n",
       "<table border=\"1\" class=\"dataframe\">\n",
       "  <thead>\n",
       "    <tr style=\"text-align: right;\">\n",
       "      <th></th>\n",
       "      <th>steps_per_epoch</th>\n",
       "      <th>epochs</th>\n",
       "      <th>test_accuracy</th>\n",
       "    </tr>\n",
       "  </thead>\n",
       "  <tbody>\n",
       "    <tr>\n",
       "      <th>0</th>\n",
       "      <td>1</td>\n",
       "      <td>1</td>\n",
       "      <td>37.5%</td>\n",
       "    </tr>\n",
       "    <tr>\n",
       "      <th>1</th>\n",
       "      <td>1</td>\n",
       "      <td>2</td>\n",
       "      <td>25.0%</td>\n",
       "    </tr>\n",
       "    <tr>\n",
       "      <th>2</th>\n",
       "      <td>1</td>\n",
       "      <td>3</td>\n",
       "      <td>62.5%</td>\n",
       "    </tr>\n",
       "    <tr>\n",
       "      <th>3</th>\n",
       "      <td>2</td>\n",
       "      <td>4</td>\n",
       "      <td>87.5%</td>\n",
       "    </tr>\n",
       "    <tr>\n",
       "      <th>4</th>\n",
       "      <td>2</td>\n",
       "      <td>5</td>\n",
       "      <td>87.5%</td>\n",
       "    </tr>\n",
       "    <tr>\n",
       "      <th>5</th>\n",
       "      <td>2</td>\n",
       "      <td>6</td>\n",
       "      <td>75.0%</td>\n",
       "    </tr>\n",
       "    <tr>\n",
       "      <th>6</th>\n",
       "      <td>3</td>\n",
       "      <td>7</td>\n",
       "      <td>87.5%</td>\n",
       "    </tr>\n",
       "    <tr>\n",
       "      <th>7</th>\n",
       "      <td>3</td>\n",
       "      <td>8</td>\n",
       "      <td>75.0%</td>\n",
       "    </tr>\n",
       "    <tr>\n",
       "      <th>8</th>\n",
       "      <td>5</td>\n",
       "      <td>9</td>\n",
       "      <td>62.5%</td>\n",
       "    </tr>\n",
       "    <tr>\n",
       "      <th>9</th>\n",
       "      <td>5</td>\n",
       "      <td>10</td>\n",
       "      <td>37.5%</td>\n",
       "    </tr>\n",
       "  </tbody>\n",
       "</table>\n",
       "</div>\n",
       "      <button class=\"colab-df-convert\" onclick=\"convertToInteractive('df-07117001-0b9d-4727-ab4d-608e6ca15a19')\"\n",
       "              title=\"Convert this dataframe to an interactive table.\"\n",
       "              style=\"display:none;\">\n",
       "        \n",
       "  <svg xmlns=\"http://www.w3.org/2000/svg\" height=\"24px\"viewBox=\"0 0 24 24\"\n",
       "       width=\"24px\">\n",
       "    <path d=\"M0 0h24v24H0V0z\" fill=\"none\"/>\n",
       "    <path d=\"M18.56 5.44l.94 2.06.94-2.06 2.06-.94-2.06-.94-.94-2.06-.94 2.06-2.06.94zm-11 1L8.5 8.5l.94-2.06 2.06-.94-2.06-.94L8.5 2.5l-.94 2.06-2.06.94zm10 10l.94 2.06.94-2.06 2.06-.94-2.06-.94-.94-2.06-.94 2.06-2.06.94z\"/><path d=\"M17.41 7.96l-1.37-1.37c-.4-.4-.92-.59-1.43-.59-.52 0-1.04.2-1.43.59L10.3 9.45l-7.72 7.72c-.78.78-.78 2.05 0 2.83L4 21.41c.39.39.9.59 1.41.59.51 0 1.02-.2 1.41-.59l7.78-7.78 2.81-2.81c.8-.78.8-2.07 0-2.86zM5.41 20L4 18.59l7.72-7.72 1.47 1.35L5.41 20z\"/>\n",
       "  </svg>\n",
       "      </button>\n",
       "      \n",
       "  <style>\n",
       "    .colab-df-container {\n",
       "      display:flex;\n",
       "      flex-wrap:wrap;\n",
       "      gap: 12px;\n",
       "    }\n",
       "\n",
       "    .colab-df-convert {\n",
       "      background-color: #E8F0FE;\n",
       "      border: none;\n",
       "      border-radius: 50%;\n",
       "      cursor: pointer;\n",
       "      display: none;\n",
       "      fill: #1967D2;\n",
       "      height: 32px;\n",
       "      padding: 0 0 0 0;\n",
       "      width: 32px;\n",
       "    }\n",
       "\n",
       "    .colab-df-convert:hover {\n",
       "      background-color: #E2EBFA;\n",
       "      box-shadow: 0px 1px 2px rgba(60, 64, 67, 0.3), 0px 1px 3px 1px rgba(60, 64, 67, 0.15);\n",
       "      fill: #174EA6;\n",
       "    }\n",
       "\n",
       "    [theme=dark] .colab-df-convert {\n",
       "      background-color: #3B4455;\n",
       "      fill: #D2E3FC;\n",
       "    }\n",
       "\n",
       "    [theme=dark] .colab-df-convert:hover {\n",
       "      background-color: #434B5C;\n",
       "      box-shadow: 0px 1px 3px 1px rgba(0, 0, 0, 0.15);\n",
       "      filter: drop-shadow(0px 1px 2px rgba(0, 0, 0, 0.3));\n",
       "      fill: #FFFFFF;\n",
       "    }\n",
       "  </style>\n",
       "\n",
       "      <script>\n",
       "        const buttonEl =\n",
       "          document.querySelector('#df-07117001-0b9d-4727-ab4d-608e6ca15a19 button.colab-df-convert');\n",
       "        buttonEl.style.display =\n",
       "          google.colab.kernel.accessAllowed ? 'block' : 'none';\n",
       "\n",
       "        async function convertToInteractive(key) {\n",
       "          const element = document.querySelector('#df-07117001-0b9d-4727-ab4d-608e6ca15a19');\n",
       "          const dataTable =\n",
       "            await google.colab.kernel.invokeFunction('convertToInteractive',\n",
       "                                                     [key], {});\n",
       "          if (!dataTable) return;\n",
       "\n",
       "          const docLinkHtml = 'Like what you see? Visit the ' +\n",
       "            '<a target=\"_blank\" href=https://colab.research.google.com/notebooks/data_table.ipynb>data table notebook</a>'\n",
       "            + ' to learn more about interactive tables.';\n",
       "          element.innerHTML = '';\n",
       "          dataTable['output_type'] = 'display_data';\n",
       "          await google.colab.output.renderOutput(dataTable, element);\n",
       "          const docLink = document.createElement('div');\n",
       "          docLink.innerHTML = docLinkHtml;\n",
       "          element.appendChild(docLink);\n",
       "        }\n",
       "      </script>\n",
       "    </div>\n",
       "  </div>\n",
       "  "
      ],
      "text/plain": [
       "   steps_per_epoch  epochs test_accuracy\n",
       "0                1       1         37.5%\n",
       "1                1       2         25.0%\n",
       "2                1       3         62.5%\n",
       "3                2       4         87.5%\n",
       "4                2       5         87.5%\n",
       "5                2       6         75.0%\n",
       "6                3       7         87.5%\n",
       "7                3       8         75.0%\n",
       "8                5       9         62.5%\n",
       "9                5      10         37.5%"
      ]
     },
     "execution_count": 15,
     "metadata": {},
     "output_type": "execute_result"
    }
   ],
   "source": [
    "final_df = pd.DataFrame([{'Steps per Epoch': d['Steps per Epoch'],\n",
    "                'Epochs': d['Epochs'], 'Train Loss': d['Train Loss'], \n",
    "                'Train Accuracy': d['Train Accuracy'] , 'Test Accuracy': d['Test Accuracy'],} for d in model_results])\n",
    "final_df"
   ]
  },
  {
   "cell_type": "markdown",
   "metadata": {},
   "source": [
    "Repeating data in a dataset can lead to overfitting if the model starts to memorize the data instead of learning the underlying patterns. If the model is repeatedly presented with the same examples during training, it can become overly specialized to those specific examples and perform poorly on new, unseen data.\n",
    "\n"
   ]
  },
  {
   "cell_type": "markdown",
   "metadata": {},
   "source": [
    "### Conceptual Questions"
   ]
  },
  {
   "cell_type": "markdown",
   "metadata": {
    "id": "PrBuLPfe50gC"
   },
   "source": [
    "<i>4. Discuss the effect of the following on accuracy and loss (train and test): </i>\n",
    "    \n",
    "* Increasing the steps_per_epoch\n",
    "* Increasing the number of epochs\n",
    "\n",
    "Increasing the steps_per_epoch and the number of epochs can both have an impact on the accuracy and loss of the training and testing process.\n",
    "<b>When the steps_per_epoch is increased, the model is trained on more batches of data in each epoch.</b> This can lead to a more fine-tuned model with better accuracy on the training data. However, it can also increase the risk of overfitting the model to the training data, as it may not generalize well to new, unseen data.\n",
    "<b>When the number of epochs is increased, the model is trained on the same data for longer, allowing it to potentially learn more complex patterns and achieve better accuracy on both the training and testing data.</b>\n",
    "\n",
    "Based on the table, we can observe the effect of changing the hyperparameters steps_per_epoch and epochs on the accuracy of the model.\n",
    "* For steps_per_epoch = 1, we can see that the accuracy remains constant at 75% for all the different values of epochs. This could be due to the fact that the model is not getting enough data to learn from and hence, not improving its performance.\n",
    "* When steps_per_epoch is increased to 2 and 3, we see some improvement in the accuracy, with the highest accuracy of 87.5% being achieved when steps_per_epoch = 2 and epochs = 4 and 6 and steps_per_epoch = 3 and epochs = 8.\n",
    "* Further increasing steps_per_epoch to 5 does not result in a significant improvement in the accuracy, with the highest accuracy of 87.5% being achieved when steps_per_epoch = 5 and epochs = 9.\n",
    "\n",
    "Overall, increasing steps_per_epoch and epochs can improve the accuracy of the model, but only up to a certain extent. After that, further increasing these hyperparameters may not result in a significant improvement in accuracy and may even lead to overfitting of the model.\n",
    "\n",
    "<i>5. Name two uses of zero padding in CNN.</i>\n",
    "\n",
    "<b>Zero padding</b> is a technique used in convolutional neural networks (CNNs) for image processing. \n",
    "Two uses of zero padding in CNN are:\n",
    "* <b>Increasing the size of the output feature maps:</b> Zero padding adds zeros to the border of the input image, which increases the size of the output feature maps. This can be useful when the input size is smaller than the desired output size, as it allows the network to learn more features and capture more information from the image.\n",
    "* <b>Maintaining spatial resolution:</b> Zero padding can help maintain the spatial resolution of the input image in the output feature maps. When a convolution is applied to an input image, the size of the output feature map can be smaller than the input image, especially when using a small filter size or a large stride. By adding zero padding to the input image, the spatial resolution of the output feature map can be preserved.\n",
    "\n",
    "<br>\n",
    "\n",
    "<i>6. What is the use of a 1 x 1 kernel in CNN?</i>\n",
    "A <b>1x1 convolutional kernel</b> is also called a pointwise convolution, which performs a linear transformation on the input data in the channel dimension only. The 1x1 kernel in a CNN can serve several purposes:\n",
    "* <b>Dimensionality Reduction:</b> A 1x1 convolution can be used to reduce the number of channels (or features) in the input data. This can help to reduce the computational complexity of the CNN while preserving important features in the data.\n",
    "* <b>Non-linearity:</b> A 1x1 convolution can introduce non-linearity into the CNN, which can help to improve its performance.\n",
    "* <b>Feature Combination:</b> A 1x1 convolution can be used to combine features from different channels in the input data. This can help to create more complex representations of the input data, which can improve the performance of the CNN.\n",
    "\n",
    "<br>\n",
    "\n",
    "<i>7. What are the advantages of a CNN over a fully connected DNN for this image classification problem?</i>\n",
    "There are several advantages of a convolutional neural network (CNN) over a fully connected deep neural network (DNN) for image classification:\n",
    "\n",
    "* <b>Parameter Efficiency:</b> In a CNN, the same filter/kernel is used to scan different parts of the image, thus reducing the number of parameters required compared to a fully connected DNN. This allows the network to be deeper and more efficient in learning complex features.\n",
    "\n",
    "* <b>Translation Invariance:</b> A CNN can recognize patterns regardless of their position in the image. This is achieved by sharing the same filter/kernel across the entire image. In contrast, a fully connected DNN treats each pixel independently, and therefore is unable to recognize patterns that are shifted or rotated in the image.\n",
    "\n",
    "* <b>Reduced Overfitting:</b> A CNN is less prone to overfitting than a fully connected DNN. This is because the use of pooling layers in a CNN reduces the dimensionality of the feature maps, thus preventing the network from memorizing the training data.\n",
    "\n",
    "* <b>Local Receptive Fields:</b> In a CNN, each neuron is only connected to a small region of the input data, which allows the network to learn local features such as edges and textures more efficiently.\n",
    "\n",
    "Overall, CNNs are more effective at image classification tasks due to their ability to learn and recognize local features in images, their parameter efficiency, and their ability to reduce overfitting.\n"
   ]
  },
  {
   "cell_type": "code",
   "execution_count": null,
   "metadata": {},
   "outputs": [],
   "source": []
  }
 ],
 "metadata": {
  "colab": {
   "provenance": []
  },
  "kernelspec": {
   "display_name": "Python 3 (ipykernel)",
   "language": "python",
   "name": "python3"
  },
  "language_info": {
   "codemirror_mode": {
    "name": "ipython",
    "version": 3
   },
   "file_extension": ".py",
   "mimetype": "text/x-python",
   "name": "python",
   "nbconvert_exporter": "python",
   "pygments_lexer": "ipython3",
   "version": "3.9.13"
  }
 },
 "nbformat": 4,
 "nbformat_minor": 1
}
