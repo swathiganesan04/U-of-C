{
 "cells": [
  {
   "cell_type": "code",
   "execution_count": 16,
   "id": "9958d1c6",
   "metadata": {},
   "outputs": [],
   "source": [
    "import pandas as pd\n",
    "import numpy as np\n",
    "import matplotlib.pyplot as plt\n",
    "import os\n",
    "\n",
    "import seaborn as sns\n",
    "from scipy import stats\n",
    "\n",
    "from sklearn.model_selection import train_test_split, GridSearchCV, RandomizedSearchCV\n",
    "\n",
    "from sklearn.ensemble import RandomForestClassifier\n",
    "from sklearn.svm import SVC, LinearSVC\n",
    "\n",
    "from sklearn.metrics import confusion_matrix, classification_report, roc_auc_score\n",
    "from sklearn.metrics import mean_squared_error,r2_score,explained_variance_score\n",
    "\n",
    "import warnings\n",
    "warnings.simplefilter(action='ignore', category=FutureWarning)\n"
   ]
  },
  {
   "cell_type": "markdown",
   "id": "1d9f3cb1",
   "metadata": {},
   "source": [
    "### 1 Data Processing"
   ]
  },
  {
   "cell_type": "markdown",
   "id": "4d5071bc",
   "metadata": {},
   "source": [
    "##### a) Import the data"
   ]
  },
  {
   "cell_type": "code",
   "execution_count": 2,
   "id": "2d13a220",
   "metadata": {},
   "outputs": [],
   "source": [
    "train = pd.read_csv ('train_data.csv')\n",
    "test = pd.read_csv ('test_data.csv')"
   ]
  },
  {
   "cell_type": "code",
   "execution_count": 3,
   "id": "5bcb940f",
   "metadata": {},
   "outputs": [
    {
     "data": {
      "text/plain": [
       "(507, 148)"
      ]
     },
     "execution_count": 3,
     "metadata": {},
     "output_type": "execute_result"
    }
   ],
   "source": [
    "train.shape"
   ]
  },
  {
   "cell_type": "code",
   "execution_count": 4,
   "id": "1f5aa19a",
   "metadata": {},
   "outputs": [
    {
     "data": {
      "text/plain": [
       "(168, 148)"
      ]
     },
     "execution_count": 4,
     "metadata": {},
     "output_type": "execute_result"
    }
   ],
   "source": [
    "test.shape"
   ]
  },
  {
   "cell_type": "code",
   "execution_count": 42,
   "id": "cc5f8e6a",
   "metadata": {},
   "outputs": [
    {
     "data": {
      "text/html": [
       "<div>\n",
       "<style scoped>\n",
       "    .dataframe tbody tr th:only-of-type {\n",
       "        vertical-align: middle;\n",
       "    }\n",
       "\n",
       "    .dataframe tbody tr th {\n",
       "        vertical-align: top;\n",
       "    }\n",
       "\n",
       "    .dataframe thead th {\n",
       "        text-align: right;\n",
       "    }\n",
       "</style>\n",
       "<table border=\"1\" class=\"dataframe\">\n",
       "  <thead>\n",
       "    <tr style=\"text-align: right;\">\n",
       "      <th></th>\n",
       "      <th>BrdIndx</th>\n",
       "      <th>Area</th>\n",
       "      <th>Round</th>\n",
       "      <th>Bright</th>\n",
       "      <th>Compact</th>\n",
       "      <th>ShpIndx</th>\n",
       "      <th>Mean_G</th>\n",
       "      <th>Mean_R</th>\n",
       "      <th>Mean_NIR</th>\n",
       "      <th>SD_G</th>\n",
       "      <th>...</th>\n",
       "      <th>SD_NIR_140</th>\n",
       "      <th>LW_140</th>\n",
       "      <th>GLCM1_140</th>\n",
       "      <th>Rect_140</th>\n",
       "      <th>GLCM2_140</th>\n",
       "      <th>Dens_140</th>\n",
       "      <th>Assym_140</th>\n",
       "      <th>NDVI_140</th>\n",
       "      <th>BordLngth_140</th>\n",
       "      <th>GLCM3_140</th>\n",
       "    </tr>\n",
       "  </thead>\n",
       "  <tbody>\n",
       "    <tr>\n",
       "      <th>count</th>\n",
       "      <td>507.000000</td>\n",
       "      <td>507.000000</td>\n",
       "      <td>507.000000</td>\n",
       "      <td>507.000000</td>\n",
       "      <td>507.000000</td>\n",
       "      <td>507.000000</td>\n",
       "      <td>507.000000</td>\n",
       "      <td>507.000000</td>\n",
       "      <td>507.000000</td>\n",
       "      <td>507.000000</td>\n",
       "      <td>...</td>\n",
       "      <td>507.000000</td>\n",
       "      <td>507.000000</td>\n",
       "      <td>507.000000</td>\n",
       "      <td>507.000000</td>\n",
       "      <td>507.000000</td>\n",
       "      <td>507.000000</td>\n",
       "      <td>507.000000</td>\n",
       "      <td>507.000000</td>\n",
       "      <td>507.000000</td>\n",
       "      <td>507.000000</td>\n",
       "    </tr>\n",
       "    <tr>\n",
       "      <th>mean</th>\n",
       "      <td>2.025720</td>\n",
       "      <td>562.504931</td>\n",
       "      <td>1.237574</td>\n",
       "      <td>165.612939</td>\n",
       "      <td>2.187081</td>\n",
       "      <td>2.277318</td>\n",
       "      <td>166.290355</td>\n",
       "      <td>162.291953</td>\n",
       "      <td>168.256667</td>\n",
       "      <td>10.725227</td>\n",
       "      <td>...</td>\n",
       "      <td>24.601144</td>\n",
       "      <td>2.931657</td>\n",
       "      <td>0.817712</td>\n",
       "      <td>0.597732</td>\n",
       "      <td>8.048698</td>\n",
       "      <td>1.455838</td>\n",
       "      <td>0.653905</td>\n",
       "      <td>0.027436</td>\n",
       "      <td>1398.706114</td>\n",
       "      <td>1101.998185</td>\n",
       "    </tr>\n",
       "    <tr>\n",
       "      <th>std</th>\n",
       "      <td>0.619254</td>\n",
       "      <td>698.655240</td>\n",
       "      <td>0.561988</td>\n",
       "      <td>63.230806</td>\n",
       "      <td>0.874054</td>\n",
       "      <td>0.718441</td>\n",
       "      <td>59.217648</td>\n",
       "      <td>73.455101</td>\n",
       "      <td>69.702475</td>\n",
       "      <td>4.968761</td>\n",
       "      <td>...</td>\n",
       "      <td>12.203441</td>\n",
       "      <td>4.942887</td>\n",
       "      <td>0.106007</td>\n",
       "      <td>0.197505</td>\n",
       "      <td>0.787912</td>\n",
       "      <td>0.451781</td>\n",
       "      <td>0.251287</td>\n",
       "      <td>0.133834</td>\n",
       "      <td>1097.323462</td>\n",
       "      <td>533.927869</td>\n",
       "    </tr>\n",
       "    <tr>\n",
       "      <th>min</th>\n",
       "      <td>1.000000</td>\n",
       "      <td>22.000000</td>\n",
       "      <td>0.000000</td>\n",
       "      <td>26.850000</td>\n",
       "      <td>1.000000</td>\n",
       "      <td>1.040000</td>\n",
       "      <td>22.910000</td>\n",
       "      <td>26.520000</td>\n",
       "      <td>31.110000</td>\n",
       "      <td>3.550000</td>\n",
       "      <td>...</td>\n",
       "      <td>2.650000</td>\n",
       "      <td>1.000000</td>\n",
       "      <td>0.200000</td>\n",
       "      <td>0.100000</td>\n",
       "      <td>5.690000</td>\n",
       "      <td>0.240000</td>\n",
       "      <td>0.030000</td>\n",
       "      <td>-0.360000</td>\n",
       "      <td>34.000000</td>\n",
       "      <td>211.270000</td>\n",
       "    </tr>\n",
       "    <tr>\n",
       "      <th>25%</th>\n",
       "      <td>1.580000</td>\n",
       "      <td>159.000000</td>\n",
       "      <td>0.840000</td>\n",
       "      <td>127.485000</td>\n",
       "      <td>1.650000</td>\n",
       "      <td>1.715000</td>\n",
       "      <td>146.460000</td>\n",
       "      <td>97.585000</td>\n",
       "      <td>111.715000</td>\n",
       "      <td>6.985000</td>\n",
       "      <td>...</td>\n",
       "      <td>14.485000</td>\n",
       "      <td>1.375000</td>\n",
       "      <td>0.770000</td>\n",
       "      <td>0.455000</td>\n",
       "      <td>7.370000</td>\n",
       "      <td>1.160000</td>\n",
       "      <td>0.470000</td>\n",
       "      <td>-0.080000</td>\n",
       "      <td>601.000000</td>\n",
       "      <td>726.745000</td>\n",
       "    </tr>\n",
       "    <tr>\n",
       "      <th>50%</th>\n",
       "      <td>1.950000</td>\n",
       "      <td>323.000000</td>\n",
       "      <td>1.210000</td>\n",
       "      <td>170.650000</td>\n",
       "      <td>2.000000</td>\n",
       "      <td>2.180000</td>\n",
       "      <td>189.630000</td>\n",
       "      <td>158.280000</td>\n",
       "      <td>167.750000</td>\n",
       "      <td>9.290000</td>\n",
       "      <td>...</td>\n",
       "      <td>22.380000</td>\n",
       "      <td>1.920000</td>\n",
       "      <td>0.840000</td>\n",
       "      <td>0.610000</td>\n",
       "      <td>8.020000</td>\n",
       "      <td>1.440000</td>\n",
       "      <td>0.710000</td>\n",
       "      <td>-0.020000</td>\n",
       "      <td>1148.000000</td>\n",
       "      <td>1011.230000</td>\n",
       "    </tr>\n",
       "    <tr>\n",
       "      <th>75%</th>\n",
       "      <td>2.380000</td>\n",
       "      <td>681.500000</td>\n",
       "      <td>1.565000</td>\n",
       "      <td>224.825000</td>\n",
       "      <td>2.490000</td>\n",
       "      <td>2.675000</td>\n",
       "      <td>206.780000</td>\n",
       "      <td>237.375000</td>\n",
       "      <td>238.480000</td>\n",
       "      <td>13.330000</td>\n",
       "      <td>...</td>\n",
       "      <td>33.825000</td>\n",
       "      <td>2.800000</td>\n",
       "      <td>0.890000</td>\n",
       "      <td>0.760000</td>\n",
       "      <td>8.750000</td>\n",
       "      <td>1.775000</td>\n",
       "      <td>0.860000</td>\n",
       "      <td>0.145000</td>\n",
       "      <td>1874.000000</td>\n",
       "      <td>1335.640000</td>\n",
       "    </tr>\n",
       "    <tr>\n",
       "      <th>max</th>\n",
       "      <td>4.530000</td>\n",
       "      <td>5767.000000</td>\n",
       "      <td>3.520000</td>\n",
       "      <td>245.870000</td>\n",
       "      <td>8.070000</td>\n",
       "      <td>5.410000</td>\n",
       "      <td>239.370000</td>\n",
       "      <td>253.610000</td>\n",
       "      <td>253.630000</td>\n",
       "      <td>30.870000</td>\n",
       "      <td>...</td>\n",
       "      <td>61.340000</td>\n",
       "      <td>64.700000</td>\n",
       "      <td>0.970000</td>\n",
       "      <td>1.000000</td>\n",
       "      <td>9.570000</td>\n",
       "      <td>2.410000</td>\n",
       "      <td>1.000000</td>\n",
       "      <td>0.370000</td>\n",
       "      <td>8896.000000</td>\n",
       "      <td>3619.280000</td>\n",
       "    </tr>\n",
       "  </tbody>\n",
       "</table>\n",
       "<p>8 rows × 147 columns</p>\n",
       "</div>"
      ],
      "text/plain": [
       "          BrdIndx         Area       Round      Bright     Compact  \\\n",
       "count  507.000000   507.000000  507.000000  507.000000  507.000000   \n",
       "mean     2.025720   562.504931    1.237574  165.612939    2.187081   \n",
       "std      0.619254   698.655240    0.561988   63.230806    0.874054   \n",
       "min      1.000000    22.000000    0.000000   26.850000    1.000000   \n",
       "25%      1.580000   159.000000    0.840000  127.485000    1.650000   \n",
       "50%      1.950000   323.000000    1.210000  170.650000    2.000000   \n",
       "75%      2.380000   681.500000    1.565000  224.825000    2.490000   \n",
       "max      4.530000  5767.000000    3.520000  245.870000    8.070000   \n",
       "\n",
       "          ShpIndx      Mean_G      Mean_R    Mean_NIR        SD_G  ...  \\\n",
       "count  507.000000  507.000000  507.000000  507.000000  507.000000  ...   \n",
       "mean     2.277318  166.290355  162.291953  168.256667   10.725227  ...   \n",
       "std      0.718441   59.217648   73.455101   69.702475    4.968761  ...   \n",
       "min      1.040000   22.910000   26.520000   31.110000    3.550000  ...   \n",
       "25%      1.715000  146.460000   97.585000  111.715000    6.985000  ...   \n",
       "50%      2.180000  189.630000  158.280000  167.750000    9.290000  ...   \n",
       "75%      2.675000  206.780000  237.375000  238.480000   13.330000  ...   \n",
       "max      5.410000  239.370000  253.610000  253.630000   30.870000  ...   \n",
       "\n",
       "       SD_NIR_140      LW_140   GLCM1_140    Rect_140   GLCM2_140    Dens_140  \\\n",
       "count  507.000000  507.000000  507.000000  507.000000  507.000000  507.000000   \n",
       "mean    24.601144    2.931657    0.817712    0.597732    8.048698    1.455838   \n",
       "std     12.203441    4.942887    0.106007    0.197505    0.787912    0.451781   \n",
       "min      2.650000    1.000000    0.200000    0.100000    5.690000    0.240000   \n",
       "25%     14.485000    1.375000    0.770000    0.455000    7.370000    1.160000   \n",
       "50%     22.380000    1.920000    0.840000    0.610000    8.020000    1.440000   \n",
       "75%     33.825000    2.800000    0.890000    0.760000    8.750000    1.775000   \n",
       "max     61.340000   64.700000    0.970000    1.000000    9.570000    2.410000   \n",
       "\n",
       "        Assym_140    NDVI_140  BordLngth_140    GLCM3_140  \n",
       "count  507.000000  507.000000     507.000000   507.000000  \n",
       "mean     0.653905    0.027436    1398.706114  1101.998185  \n",
       "std      0.251287    0.133834    1097.323462   533.927869  \n",
       "min      0.030000   -0.360000      34.000000   211.270000  \n",
       "25%      0.470000   -0.080000     601.000000   726.745000  \n",
       "50%      0.710000   -0.020000    1148.000000  1011.230000  \n",
       "75%      0.860000    0.145000    1874.000000  1335.640000  \n",
       "max      1.000000    0.370000    8896.000000  3619.280000  \n",
       "\n",
       "[8 rows x 147 columns]"
      ]
     },
     "execution_count": 42,
     "metadata": {},
     "output_type": "execute_result"
    }
   ],
   "source": [
    "train.describe()"
   ]
  },
  {
   "cell_type": "markdown",
   "id": "6f1065a0",
   "metadata": {},
   "source": [
    "##### b) Remove any rows that have missing data across both sets of data"
   ]
  },
  {
   "cell_type": "code",
   "execution_count": 5,
   "id": "d686c49a",
   "metadata": {},
   "outputs": [],
   "source": [
    "train.dropna(inplace=True)\n",
    "test.dropna(inplace=True)"
   ]
  },
  {
   "cell_type": "code",
   "execution_count": 6,
   "id": "2993da48",
   "metadata": {},
   "outputs": [
    {
     "data": {
      "text/plain": [
       "(507, 148)"
      ]
     },
     "execution_count": 6,
     "metadata": {},
     "output_type": "execute_result"
    }
   ],
   "source": [
    "train.shape"
   ]
  },
  {
   "cell_type": "code",
   "execution_count": 7,
   "id": "e580bbaf",
   "metadata": {},
   "outputs": [
    {
     "data": {
      "text/plain": [
       "(168, 148)"
      ]
     },
     "execution_count": 7,
     "metadata": {},
     "output_type": "execute_result"
    }
   ],
   "source": [
    "test.shape"
   ]
  },
  {
   "cell_type": "markdown",
   "id": "2f44613e",
   "metadata": {},
   "source": [
    "##### c) The target variable (dependent variable) is called \"class\", make sure to separate this out into a \"y_train\" and \"y_test\" and remove from your \"X_train\" and \"X_test\". "
   ]
  },
  {
   "cell_type": "code",
   "execution_count": 8,
   "id": "708c51e3",
   "metadata": {},
   "outputs": [],
   "source": [
    "X_train = train.drop('class', axis=1)\n",
    "y_train = train['class'].to_numpy()\n",
    "\n",
    "\n",
    "X_test = test.drop('class', axis=1)\n",
    "y_test = test['class'].to_numpy()"
   ]
  },
  {
   "cell_type": "markdown",
   "id": "d22f5cca",
   "metadata": {},
   "source": [
    "##### d) Scale all features / predictors (NOT THE TARGET VARIABLE)"
   ]
  },
  {
   "cell_type": "code",
   "execution_count": 9,
   "id": "e82e0fad",
   "metadata": {},
   "outputs": [],
   "source": [
    "from sklearn.preprocessing import StandardScaler\n",
    "\n",
    "# creating a StandardScaler object\n",
    "scaler = StandardScaler()\n",
    "\n",
    "# fitting the scaler to the training data and transform the data\n",
    "X_train_scaled = scaler.fit_transform(X_train)\n",
    "\n",
    "# transforming the test data using the scaling parameters learned from the training data\n",
    "X_test_scaled = scaler.transform(X_test)"
   ]
  },
  {
   "cell_type": "code",
   "execution_count": 47,
   "id": "99515449",
   "metadata": {},
   "outputs": [
    {
     "data": {
      "text/plain": [
       "array([[-1.14075473, -0.61823212, -0.76157526, ..., -0.95313273,\n",
       "         0.10334763,  0.34780924],\n",
       "       [-0.70431561,  0.43196247, -0.53002518, ..., -1.25230517,\n",
       "        -1.09711859,  2.92039508],\n",
       "       [-0.99527502, -0.21993185, -0.42315592, ...,  0.5427295 ,\n",
       "        -0.1830858 , -0.71544325],\n",
       "       ...,\n",
       "       [ 0.68582378,  0.13825184,  0.25368276, ..., -0.87833962,\n",
       "         1.09218151,  0.26440108],\n",
       "       [-0.20321885, -0.67840698, -0.40534437, ..., -1.10271895,\n",
       "        -0.61364815,  0.6910969 ],\n",
       "       [ 0.73431702, -0.58384648,  0.78802909, ..., -1.02792584,\n",
       "        -1.00589775,  1.66713547]])"
      ]
     },
     "execution_count": 47,
     "metadata": {},
     "output_type": "execute_result"
    }
   ],
   "source": [
    "X_train_scaled"
   ]
  },
  {
   "cell_type": "markdown",
   "id": "14bd50e5",
   "metadata": {},
   "source": [
    "### 2 Random Forest Classifier - Base Model"
   ]
  },
  {
   "cell_type": "markdown",
   "id": "3ea8e40f",
   "metadata": {},
   "source": [
    "##### a) Use the RandomForestClassifier in sklearn. Fit your model on the training data."
   ]
  },
  {
   "cell_type": "code",
   "execution_count": 10,
   "id": "0722c9d2",
   "metadata": {},
   "outputs": [
    {
     "data": {
      "text/plain": [
       "RandomForestClassifier(random_state=42)"
      ]
     },
     "execution_count": 10,
     "metadata": {},
     "output_type": "execute_result"
    }
   ],
   "source": [
    "# fit random forest classifier on training data\n",
    "rfc = RandomForestClassifier(random_state=42)\n",
    "rfc.fit(X_train_scaled, y_train)"
   ]
  },
  {
   "cell_type": "markdown",
   "id": "65f3b7b4",
   "metadata": {},
   "source": [
    "##### b) Use the fitted model to predict on test data. Use the .predict() method to get the predicted classes."
   ]
  },
  {
   "cell_type": "code",
   "execution_count": 11,
   "id": "6c38299b",
   "metadata": {},
   "outputs": [],
   "source": [
    "# predict on test data\n",
    "y_pred_rfc = rfc.predict(X_test_scaled)\n",
    "y_pred_proba_rfc = rfc.predict_proba(X_test_scaled)"
   ]
  },
  {
   "cell_type": "markdown",
   "id": "950032dc",
   "metadata": {},
   "source": [
    "##### c) Calculate the confusion matrix and classification report for the test data"
   ]
  },
  {
   "cell_type": "code",
   "execution_count": 12,
   "id": "06315c67",
   "metadata": {},
   "outputs": [
    {
     "name": "stdout",
     "output_type": "stream",
     "text": [
      "Confusion Matrix: \n",
      " [[14  0  0  0  0  0  0  0  0]\n",
      " [ 1 22  0  2  0  0  0  0  0]\n",
      " [ 1  1 13  0  0  0  0  0  0]\n",
      " [ 0  5  0 18  0  0  0  0  0]\n",
      " [ 0  0  0  0 25  0  0  0  4]\n",
      " [ 1  0  1  0  0 13  0  0  0]\n",
      " [ 3  0  0  0  0  0 13  0  0]\n",
      " [ 0  1  0  5  3  0  0  5  0]\n",
      " [ 0  0  0  1  1  0  0  0 15]]\n",
      "\n",
      "Classification Report: \n",
      "               precision    recall  f1-score   support\n",
      "\n",
      "    asphalt        0.70      1.00      0.82        14\n",
      "   building        0.76      0.88      0.81        25\n",
      "        car        0.93      0.87      0.90        15\n",
      "   concrete        0.69      0.78      0.73        23\n",
      "      grass        0.86      0.86      0.86        29\n",
      "       pool        1.00      0.87      0.93        15\n",
      "     shadow        1.00      0.81      0.90        16\n",
      "       soil        1.00      0.36      0.53        14\n",
      "       tree        0.79      0.88      0.83        17\n",
      "\n",
      "    accuracy                           0.82       168\n",
      "   macro avg       0.86      0.81      0.81       168\n",
      "weighted avg       0.85      0.82      0.82       168\n",
      "\n"
     ]
    }
   ],
   "source": [
    "# calculate confusion matrix and classification report\n",
    "print(\"Confusion Matrix: \\n\", confusion_matrix(y_test, y_pred_rfc))\n",
    "print(\"\\nClassification Report: \\n\", classification_report(y_test, y_pred_rfc))"
   ]
  },
  {
   "cell_type": "markdown",
   "id": "d11690d4",
   "metadata": {},
   "source": [
    "##### d)  Calculate predictions for the training data & build the classification report & confusion matrix. Are there signs of overfitting? Why or why not?"
   ]
  },
  {
   "cell_type": "code",
   "execution_count": 13,
   "id": "2bc89aaa",
   "metadata": {},
   "outputs": [
    {
     "name": "stdout",
     "output_type": "stream",
     "text": [
      "Confusion Matrix: \n",
      " [[45  0  0  0  0  0  0  0  0]\n",
      " [ 0 97  0  0  0  0  0  0  0]\n",
      " [ 0  0 21  0  0  0  0  0  0]\n",
      " [ 0  0  0 93  0  0  0  0  0]\n",
      " [ 0  0  0  0 83  0  0  0  0]\n",
      " [ 0  0  0  0  0 14  0  0  0]\n",
      " [ 0  0  0  0  0  0 45  0  0]\n",
      " [ 0  0  0  0  0  0  0 20  0]\n",
      " [ 0  0  0  0  0  0  0  0 89]]\n",
      "Classification Report: \n",
      "               precision    recall  f1-score   support\n",
      "\n",
      "    asphalt        1.00      1.00      1.00        45\n",
      "   building        1.00      1.00      1.00        97\n",
      "        car        1.00      1.00      1.00        21\n",
      "   concrete        1.00      1.00      1.00        93\n",
      "      grass        1.00      1.00      1.00        83\n",
      "       pool        1.00      1.00      1.00        14\n",
      "     shadow        1.00      1.00      1.00        45\n",
      "       soil        1.00      1.00      1.00        20\n",
      "       tree        1.00      1.00      1.00        89\n",
      "\n",
      "    accuracy                           1.00       507\n",
      "   macro avg       1.00      1.00      1.00       507\n",
      "weighted avg       1.00      1.00      1.00       507\n",
      "\n"
     ]
    }
   ],
   "source": [
    "# predict for train data and build confusion matrix and classification report\n",
    "y_pred_train_rfc = rfc.predict(X_train_scaled)\n",
    "print(\"Confusion Matrix: \\n\", confusion_matrix(y_train, y_pred_train_rfc))\n",
    "print(\"Classification Report: \\n\", classification_report(y_train, y_pred_train_rfc))"
   ]
  },
  {
   "cell_type": "markdown",
   "id": "b8ed3c16",
   "metadata": {},
   "source": [
    "Based on the classification reports, there are signs of overfitting in the model. The train classification report shows perfect precision, recall, and F1-score for all classes, indicating that the model has achieved 100% accuracy on the training data. However, the test classification report shows lower accuracy for some classes, with precision, recall, and F1-scores ranging from 0.69 to 1.00, indicating that the model is not performing as well on unseen data.\n",
    "\n",
    "Moreover, the weighted average F1-score of the test set is 0.82, while the weighted average F1-score of the training set is 1.00. This difference in performance between the training and test sets suggests that the model may have overfit to the training data and is not generalizing well to new data."
   ]
  },
  {
   "cell_type": "markdown",
   "id": "a84d6e2d",
   "metadata": {},
   "source": [
    "##### e) Identify the top 5 features. Feel free to print a list OR to make a plot"
   ]
  },
  {
   "cell_type": "code",
   "execution_count": 17,
   "id": "efa04b8a",
   "metadata": {},
   "outputs": [
    {
     "name": "stdout",
     "output_type": "stream",
     "text": [
      "Top 5 important features of Random Forest Classifier:  ['NDVI' 'Mean_NIR' 'Mean_R_40' 'NDVI_60' 'Mean_NIR_40']\n"
     ]
    },
    {
     "data": {
      "image/png": "[encoded data removed]",
      "text/plain": [
       "<Figure size 640x480 with 1 Axes>"
      ]
     },
     "metadata": {},
     "output_type": "display_data"
    }
   ],
   "source": [
    "# identify top 5 features\n",
    "importances = rfc.feature_importances_\n",
    "indices = np.argsort(importances)[::-1][:5]\n",
    "print(\"Top 5 important features of Random Forest Classifier: \", X_train.columns[indices].values)\n",
    "plt.figure()\n",
    "plt.title(\"Feature importances - Random Forest Classifier\")\n",
    "plt.bar(range(5), importances[indices])\n",
    "plt.xticks(range(5), X_train.columns[indices], rotation=90)\n",
    "plt.show()"
   ]
  },
  {
   "cell_type": "markdown",
   "id": "12721d0b",
   "metadata": {},
   "source": [
    "### 3 LinearSVM Classifier - Base Model"
   ]
  },
  {
   "cell_type": "markdown",
   "id": "2f5b58a8",
   "metadata": {},
   "source": [
    "##### a) Use the LinearSVC in sklearn. Fit your model on the training data"
   ]
  },
  {
   "cell_type": "code",
   "execution_count": 18,
   "id": "1acd15cf",
   "metadata": {},
   "outputs": [
    {
     "data": {
      "text/plain": [
       "LinearSVC(max_iter=10000, random_state=42)"
      ]
     },
     "execution_count": 18,
     "metadata": {},
     "output_type": "execute_result"
    }
   ],
   "source": [
    "# create and fit LinearSVC classifier on train data\n",
    "linear_svc = LinearSVC(random_state=42, max_iter=10000)\n",
    "linear_svc.fit(X_train_scaled, y_train)"
   ]
  },
  {
   "cell_type": "markdown",
   "id": "be8b32f7",
   "metadata": {},
   "source": [
    "##### b) Use the fitted model to predict on test data. Use the .predict() method to get the predicted classes"
   ]
  },
  {
   "cell_type": "code",
   "execution_count": 19,
   "id": "5e81e4e5",
   "metadata": {},
   "outputs": [],
   "source": [
    "# predict on test data\n",
    "y_pred_linsvc = linear_svc.predict(X_test_scaled)"
   ]
  },
  {
   "cell_type": "markdown",
   "id": "36b2b6f2",
   "metadata": {},
   "source": [
    "##### c) Calculate the confusion matrix and classification report for test data"
   ]
  },
  {
   "cell_type": "code",
   "execution_count": 20,
   "id": "1f5dd74e",
   "metadata": {},
   "outputs": [
    {
     "name": "stdout",
     "output_type": "stream",
     "text": [
      "Confusion Matrix: \n",
      " [[13  0  0  0  0  0  1  0  0]\n",
      " [ 0 22  1  1  1  0  0  0  0]\n",
      " [ 0  2 12  0  0  0  0  0  1]\n",
      " [ 1  6  0 15  0  0  0  0  1]\n",
      " [ 0  0  0  1 26  0  0  0  2]\n",
      " [ 1  0  1  0  0 13  0  0  0]\n",
      " [ 2  0  0  0  0  0 14  0  0]\n",
      " [ 0  4  0  1  3  0  0  6  0]\n",
      " [ 0  0  0  1  7  0  0  0  9]]\n",
      "\n",
      "Classification Report: \n",
      "               precision    recall  f1-score   support\n",
      "\n",
      "    asphalt        0.76      0.93      0.84        14\n",
      "   building        0.65      0.88      0.75        25\n",
      "        car        0.86      0.80      0.83        15\n",
      "   concrete        0.79      0.65      0.71        23\n",
      "      grass        0.70      0.90      0.79        29\n",
      "       pool        1.00      0.87      0.93        15\n",
      "     shadow        0.93      0.88      0.90        16\n",
      "       soil        1.00      0.43      0.60        14\n",
      "       tree        0.69      0.53      0.60        17\n",
      "\n",
      "    accuracy                           0.77       168\n",
      "   macro avg       0.82      0.76      0.77       168\n",
      "weighted avg       0.80      0.77      0.77       168\n",
      "\n"
     ]
    }
   ],
   "source": [
    "# calculate confusion matrix and classification report\n",
    "print(\"Confusion Matrix: \\n\", confusion_matrix(y_test, y_pred_linsvc))\n",
    "print(\"\\nClassification Report: \\n\", classification_report(y_test, y_pred_linsvc))"
   ]
  },
  {
   "cell_type": "markdown",
   "id": "68e4e631",
   "metadata": {},
   "source": [
    "##### d)  Calculate predictions for the training data & build the classification report & confusion matrix. Are there signs of overfitting? Why or why not?"
   ]
  },
  {
   "cell_type": "code",
   "execution_count": 21,
   "id": "274c37bf",
   "metadata": {},
   "outputs": [
    {
     "name": "stdout",
     "output_type": "stream",
     "text": [
      "Confusion Matrix: \n",
      " [[45  0  0  0  0  0  0  0  0]\n",
      " [ 0 97  0  0  0  0  0  0  0]\n",
      " [ 0  0 21  0  0  0  0  0  0]\n",
      " [ 0  0  0 93  0  0  0  0  0]\n",
      " [ 0  1  0  0 80  0  0  0  2]\n",
      " [ 0  0  0  0  0 14  0  0  0]\n",
      " [ 0  0  0  0  0  0 45  0  0]\n",
      " [ 0  0  0  0  0  0  0 20  0]\n",
      " [ 0  0  0  0  0  0  0  0 89]]\n",
      "Classification Report: \n",
      "               precision    recall  f1-score   support\n",
      "\n",
      "    asphalt        1.00      1.00      1.00        45\n",
      "   building        0.99      1.00      0.99        97\n",
      "        car        1.00      1.00      1.00        21\n",
      "   concrete        1.00      1.00      1.00        93\n",
      "      grass        1.00      0.96      0.98        83\n",
      "       pool        1.00      1.00      1.00        14\n",
      "     shadow        1.00      1.00      1.00        45\n",
      "       soil        1.00      1.00      1.00        20\n",
      "       tree        0.98      1.00      0.99        89\n",
      "\n",
      "    accuracy                           0.99       507\n",
      "   macro avg       1.00      1.00      1.00       507\n",
      "weighted avg       0.99      0.99      0.99       507\n",
      "\n"
     ]
    }
   ],
   "source": [
    "# predict for train data and build confusion matrix and classification report\n",
    "y_pred_train_linsvc = linear_svc.predict(X_train_scaled)\n",
    "print(\"Confusion Matrix: \\n\", confusion_matrix(y_train, y_pred_train_linsvc))\n",
    "print(\"Classification Report: \\n\", classification_report(y_train, y_pred_train_linsvc))"
   ]
  },
  {
   "cell_type": "markdown",
   "id": "d0798167",
   "metadata": {},
   "source": [
    "Based on the given classification reports, there seems to be signs of overfitting. The train classification report shows perfect precision, recall and f1-score values (all 1.00) for all classes, which indicates that the model has memorized the training data and performs very well on it. On the other hand, the test classification report shows lower precision, recall, and f1-score values for some classes and an overall lower accuracy, which suggests that the model is not generalizing well to unseen data.\n",
    "\n",
    "The lower performance of the model on the test data compared to the train data suggests that the model is overfitting to the training data. "
   ]
  },
  {
   "cell_type": "markdown",
   "id": "074e0256",
   "metadata": {},
   "source": [
    "### 4 Support Vector Machine Classifier + Linear Kernel + Grid Search"
   ]
  },
  {
   "cell_type": "markdown",
   "id": "85e757b0",
   "metadata": {},
   "source": [
    "##### a) Use SVC from sklearn with kernel = \"linear\". Run the GridSearchCV using the following (SVMs run much faster than RandomForest):\n",
    "\n",
    "    C: 0.01 - 10 in increments of 0.2 (consider using the np.arange() method from numpy to build out a sequence of values)\n",
    "    Use 5 cross-fold and the default scoring. Please set verbose = 0 to reduce the printing\n",
    "\n"
   ]
  },
  {
   "cell_type": "code",
   "execution_count": 23,
   "id": "ac7777b6",
   "metadata": {},
   "outputs": [
    {
     "data": {
      "text/plain": [
       "GridSearchCV(cv=5, estimator=SVC(kernel='linear', random_state=42), n_jobs=-1,\n",
       "             param_grid={'C': array([1.000e-02, 2.100e-01, 4.100e-01, 6.100e-01, 8.100e-01, 1.010e+00,\n",
       "       1.210e+00, 1.410e+00, 1.610e+00, 1.810e+00, 2.010e+00, 2.210e+00,\n",
       "       2.410e+00, 2.610e+00, 2.810e+00, 3.010e+00, 3.210e+00, 3.410e+00,\n",
       "       3.610e+00, 3.810e+00, 4.010e+00, 4.210e+00, 4.410e+00, 4.610e+00,\n",
       "       4.810e+00, 5.010e+00, 5.210e+00, 5.410e+00, 5.610e+00, 5.810e+00,\n",
       "       6.010e+00, 6.210e+00, 6.410e+00, 6.610e+00, 6.810e+00, 7.010e+00,\n",
       "       7.210e+00, 7.410e+00, 7.610e+00, 7.810e+00, 8.010e+00, 8.210e+00,\n",
       "       8.410e+00, 8.610e+00, 8.810e+00, 9.010e+00, 9.210e+00, 9.410e+00,\n",
       "       9.610e+00, 9.810e+00, 1.001e+01])})"
      ]
     },
     "execution_count": 23,
     "metadata": {},
     "output_type": "execute_result"
    }
   ],
   "source": [
    "# create an instance of SVM with a linear kernel\n",
    "svc = SVC(kernel='linear', random_state=42)\n",
    "\n",
    "# specify the parameters to be tuned\n",
    "parameters = {'C': np.arange(0.01, 10.2, 0.2)}\n",
    "\n",
    "# create a GridSearchCV object with 5-fold cross-validation\n",
    "grid_search_svc = GridSearchCV(svc, parameters, cv=5, verbose=0, n_jobs=-1)\n",
    "\n",
    "# fit the GridSearchCV object to the data\n",
    "grid_search_svc.fit(X_train_scaled, y_train)"
   ]
  },
  {
   "cell_type": "markdown",
   "id": "8b991852",
   "metadata": {},
   "source": [
    "##### b) Identify the best performing model:\n",
    "\n",
    ".best_params_() : This method outputs to best performing parameters\n",
    ".best_estimator_() : This method outputs the best performing model, and can be used for predicting on the X_test\n",
    "\n"
   ]
  },
  {
   "cell_type": "code",
   "execution_count": 24,
   "id": "7bc0b02f",
   "metadata": {},
   "outputs": [
    {
     "name": "stdout",
     "output_type": "stream",
     "text": [
      "{'C': 0.01}\n",
      "SVC(C=0.01, kernel='linear', random_state=42)\n"
     ]
    }
   ],
   "source": [
    "# print the best parameters\n",
    "print(grid_search_svc.best_params_)\n",
    "\n",
    "# print the best estimator\n",
    "best_model_svc = grid_search_svc.best_estimator_\n",
    "print(best_model_svc)"
   ]
  },
  {
   "cell_type": "markdown",
   "id": "e97e0c98",
   "metadata": {},
   "source": [
    "##### c) Use the best estimator model to predict on test data. Use the .predict() method to get the predicted classes.\n",
    "\n"
   ]
  },
  {
   "cell_type": "code",
   "execution_count": 25,
   "id": "c5bee6bd",
   "metadata": {},
   "outputs": [],
   "source": [
    "# predict on the test data\n",
    "y_pred_svc = best_model_svc.predict(X_test_scaled)"
   ]
  },
  {
   "cell_type": "markdown",
   "id": "dac8796d",
   "metadata": {},
   "source": [
    "##### d) Calculate the confusion matrix and classification report for test data.\n",
    "\n"
   ]
  },
  {
   "cell_type": "code",
   "execution_count": 26,
   "id": "e2367f68",
   "metadata": {},
   "outputs": [
    {
     "name": "stdout",
     "output_type": "stream",
     "text": [
      "Confusion Matrix: \n",
      " [[13  0  0  0  0  0  1  0  0]\n",
      " [ 0 22  0  2  1  0  0  0  0]\n",
      " [ 0  1 14  0  0  0  0  0  0]\n",
      " [ 0  5  0 17  0  0  0  1  0]\n",
      " [ 0  0  0  1 25  0  0  0  3]\n",
      " [ 0  0  0  0  0 14  1  0  0]\n",
      " [ 1  0  0  0  0  0 15  0  0]\n",
      " [ 0  3  0  5  2  0  0  4  0]\n",
      " [ 0  0  0  1  2  0  0  0 14]]\n",
      "\n",
      "Classification Report: \n",
      "               precision    recall  f1-score   support\n",
      "\n",
      "    asphalt        0.93      0.93      0.93        14\n",
      "   building        0.71      0.88      0.79        25\n",
      "        car        1.00      0.93      0.97        15\n",
      "   concrete        0.65      0.74      0.69        23\n",
      "      grass        0.83      0.86      0.85        29\n",
      "       pool        1.00      0.93      0.97        15\n",
      "     shadow        0.88      0.94      0.91        16\n",
      "       soil        0.80      0.29      0.42        14\n",
      "       tree        0.82      0.82      0.82        17\n",
      "\n",
      "    accuracy                           0.82       168\n",
      "   macro avg       0.85      0.81      0.82       168\n",
      "weighted avg       0.83      0.82      0.81       168\n",
      "\n"
     ]
    }
   ],
   "source": [
    "# calculate confusion matrix and classification report\n",
    "print(\"Confusion Matrix: \\n\", confusion_matrix(y_test, y_pred_svc))\n",
    "print(\"\\nClassification Report: \\n\", classification_report(y_test, y_pred_svc))"
   ]
  },
  {
   "cell_type": "markdown",
   "id": "5353163a",
   "metadata": {},
   "source": [
    "##### e)  Calculate predictions for the training data & build the classification report & confusion matrix. Are there signs of overfitting? Why or why not?"
   ]
  },
  {
   "cell_type": "code",
   "execution_count": 27,
   "id": "4d1818ba",
   "metadata": {},
   "outputs": [
    {
     "name": "stdout",
     "output_type": "stream",
     "text": [
      "Confusion Matrix: \n",
      " [[40  0  0  0  0  0  5  0  0]\n",
      " [ 2 87  0  7  0  0  1  0  0]\n",
      " [ 0  1 19  1  0  0  0  0  0]\n",
      " [ 0  9  0 83  1  0  0  0  0]\n",
      " [ 0  1  0  0 70  0  0  0 12]\n",
      " [ 0  1  0  0  1 12  0  0  0]\n",
      " [ 1  0  0  0  0  0 43  0  1]\n",
      " [ 0  3  0  4  2  0  0 11  0]\n",
      " [ 0  0  0  0  3  0  1  0 85]]\n",
      "Classification Report: \n",
      "               precision    recall  f1-score   support\n",
      "\n",
      "    asphalt        0.93      0.89      0.91        45\n",
      "   building        0.85      0.90      0.87        97\n",
      "        car        1.00      0.90      0.95        21\n",
      "   concrete        0.87      0.89      0.88        93\n",
      "      grass        0.91      0.84      0.88        83\n",
      "       pool        1.00      0.86      0.92        14\n",
      "     shadow        0.86      0.96      0.91        45\n",
      "       soil        1.00      0.55      0.71        20\n",
      "       tree        0.87      0.96      0.91        89\n",
      "\n",
      "    accuracy                           0.89       507\n",
      "   macro avg       0.92      0.86      0.88       507\n",
      "weighted avg       0.89      0.89      0.89       507\n",
      "\n"
     ]
    }
   ],
   "source": [
    "# predict for train data and build confusion matrix and classification report\n",
    "y_pred_train_svc = best_model_svc.predict(X_train_scaled)\n",
    "print(\"Confusion Matrix: \\n\", confusion_matrix(y_train, y_pred_train_svc))\n",
    "print(\"Classification Report: \\n\", classification_report(y_train, y_pred_train_svc))"
   ]
  },
  {
   "cell_type": "markdown",
   "id": "39970da4",
   "metadata": {},
   "source": [
    "Based on the classification reports, there seems to be some signs of overfitting in the model. The accuracy on the training set is significantly higher than the accuracy on the test set, which indicates that the model is fitting too closely to the training data and not generalizing well to new data.\n",
    "\n",
    "For example, the precision, recall, and f1-score on the training set are all above 0.87, while on the test set, they range from 0.42 to 0.97. This suggests that the model is performing very well on the training data, but is not as accurate or consistent when tested on new data.\n",
    "\n",
    "Furthermore, the precision and recall values for the 'soil' class is noticeably lower on the test set than on the training set. This could indicate that the model is overfitting on the training data for these classes, which may be due to insufficient training examples or class imbalance.\n",
    "\n",
    "In summary, the lower accuracy and lower precision/recall/f1-score on the test set compared to the training set suggest that there may be signs of overfitting in the model."
   ]
  },
  {
   "cell_type": "markdown",
   "id": "5d86176d",
   "metadata": {},
   "source": [
    "### 5 Support Vector Machine Classifier + Polynomial Kernel + Grid Search"
   ]
  },
  {
   "cell_type": "markdown",
   "id": "e3a738c6",
   "metadata": {},
   "source": [
    "##### a) Use SVC from sklearn with kernel = \"poly\". Run the GridSearchCV using the following:\n",
    "\n",
    "    C: 0.01 - 10 in increments of 0.2\n",
    "    degree: 2, 3, 4, 5, 6\n",
    "    Use 5 cross-fold and the default scoring"
   ]
  },
  {
   "cell_type": "code",
   "execution_count": 29,
   "id": "3a896791",
   "metadata": {},
   "outputs": [
    {
     "data": {
      "text/plain": [
       "GridSearchCV(cv=5, estimator=SVC(kernel='poly', random_state=42), n_jobs=-1,\n",
       "             param_grid={'C': array([1.000e-02, 2.100e-01, 4.100e-01, 6.100e-01, 8.100e-01, 1.010e+00,\n",
       "       1.210e+00, 1.410e+00, 1.610e+00, 1.810e+00, 2.010e+00, 2.210e+00,\n",
       "       2.410e+00, 2.610e+00, 2.810e+00, 3.010e+00, 3.210e+00, 3.410e+00,\n",
       "       3.610e+00, 3.810e+00, 4.010e+00, 4.210e+00, 4.410e+00, 4.610e+00,\n",
       "       4.810e+00, 5.010e+00, 5.210e+00, 5.410e+00, 5.610e+00, 5.810e+00,\n",
       "       6.010e+00, 6.210e+00, 6.410e+00, 6.610e+00, 6.810e+00, 7.010e+00,\n",
       "       7.210e+00, 7.410e+00, 7.610e+00, 7.810e+00, 8.010e+00, 8.210e+00,\n",
       "       8.410e+00, 8.610e+00, 8.810e+00, 9.010e+00, 9.210e+00, 9.410e+00,\n",
       "       9.610e+00, 9.810e+00, 1.001e+01]),\n",
       "                         'degree': [2, 3, 4, 5, 6]})"
      ]
     },
     "execution_count": 29,
     "metadata": {},
     "output_type": "execute_result"
    }
   ],
   "source": [
    "# create an instance of SVM with a polynomial kernel\n",
    "svc_poly = SVC(kernel='poly', random_state=42)\n",
    "\n",
    "# specify the parameters to be tuned\n",
    "parameters = {'C': np.arange(0.01, 10.2, 0.2), 'degree': [2, 3, 4, 5, 6]}\n",
    "\n",
    "# create a GridSearchCV object with 5-fold cross-validation\n",
    "grid_search_poly = GridSearchCV(svc_poly, parameters, cv=5, n_jobs=-1, verbose=0)\n",
    "\n",
    "# fit the GridSearchCV object to the data\n",
    "grid_search_poly.fit(X_train_scaled, y_train)"
   ]
  },
  {
   "cell_type": "markdown",
   "id": "2a183c7b",
   "metadata": {},
   "source": [
    "##### b) Identify the best performing model:\n",
    "\n",
    ".best_params_() : This method outputs to best performing parameters\n",
    ".best_estimator_() : This method outputs the best performing model, and can be used for predicting on the X_test"
   ]
  },
  {
   "cell_type": "code",
   "execution_count": 30,
   "id": "2544b67f",
   "metadata": {},
   "outputs": [
    {
     "name": "stdout",
     "output_type": "stream",
     "text": [
      "{'C': 3.81, 'degree': 3}\n",
      "SVC(C=3.81, kernel='poly', random_state=42)\n"
     ]
    }
   ],
   "source": [
    "# print the best parameters\n",
    "print(grid_search_poly.best_params_)\n",
    "\n",
    "# print the best estimator\n",
    "best_model_svc_poly = grid_search_poly.best_estimator_\n",
    "print(best_model_svc_poly)"
   ]
  },
  {
   "cell_type": "markdown",
   "id": "c82eb422",
   "metadata": {},
   "source": [
    "##### c) Use the best estimator model to predict on test data. Use the .predict() method to get the predicted classes."
   ]
  },
  {
   "cell_type": "code",
   "execution_count": 31,
   "id": "7d7eb50e",
   "metadata": {},
   "outputs": [],
   "source": [
    "# predict on the test data\n",
    "y_pred_svc_poly = best_model_svc_poly.predict(X_test_scaled)"
   ]
  },
  {
   "cell_type": "markdown",
   "id": "a0c5d43b",
   "metadata": {},
   "source": [
    "##### d) Calculate the confusion matrix and classification report for test data."
   ]
  },
  {
   "cell_type": "code",
   "execution_count": 32,
   "id": "45fcfa8f",
   "metadata": {},
   "outputs": [
    {
     "name": "stdout",
     "output_type": "stream",
     "text": [
      "Confusion Matrix: \n",
      " [[13  0  0  0  0  0  1  0  0]\n",
      " [ 0 22  0  2  1  0  0  0  0]\n",
      " [ 0  2 11  0  0  1  0  1  0]\n",
      " [ 0  5  0 17  1  0  0  0  0]\n",
      " [ 0  0  0  0 26  0  0  1  2]\n",
      " [ 0  0  0  0  0 14  1  0  0]\n",
      " [ 1  0  0  0  0  0 14  0  1]\n",
      " [ 0  2  0  5  7  0  0  0  0]\n",
      " [ 0  0  0  1  3  0  0  0 13]]\n",
      "\n",
      "Classification Report: \n",
      "               precision    recall  f1-score   support\n",
      "\n",
      "    asphalt        0.93      0.93      0.93        14\n",
      "   building        0.71      0.88      0.79        25\n",
      "        car        1.00      0.73      0.85        15\n",
      "   concrete        0.68      0.74      0.71        23\n",
      "      grass        0.68      0.90      0.78        29\n",
      "       pool        0.93      0.93      0.93        15\n",
      "     shadow        0.88      0.88      0.88        16\n",
      "       soil        0.00      0.00      0.00        14\n",
      "       tree        0.81      0.76      0.79        17\n",
      "\n",
      "    accuracy                           0.77       168\n",
      "   macro avg       0.74      0.75      0.74       168\n",
      "weighted avg       0.73      0.77      0.75       168\n",
      "\n"
     ]
    }
   ],
   "source": [
    "# calculate confusion matrix and classification report\n",
    "print(\"Confusion Matrix: \\n\", confusion_matrix(y_test, y_pred_svc_poly))\n",
    "print(\"\\nClassification Report: \\n\", classification_report(y_test, y_pred_svc_poly))"
   ]
  },
  {
   "cell_type": "markdown",
   "id": "2d7d9667",
   "metadata": {},
   "source": [
    "##### e)  Calculate predictions for the training data & build the classification report & confusion matrix. Are there signs of overfitting? Why or why not?"
   ]
  },
  {
   "cell_type": "code",
   "execution_count": 33,
   "id": "17a4e037",
   "metadata": {},
   "outputs": [
    {
     "name": "stdout",
     "output_type": "stream",
     "text": [
      "Confusion Matrix: \n",
      " [[44  0  0  0  1  0  0  0  0]\n",
      " [ 0 95  0  1  1  0  0  0  0]\n",
      " [ 0  0 20  0  1  0  0  0  0]\n",
      " [ 0  1  0 91  1  0  0  0  0]\n",
      " [ 0  1  0  0 81  0  0  0  1]\n",
      " [ 0  0  0  0  1 13  0  0  0]\n",
      " [ 0  0  0  0  0  0 45  0  0]\n",
      " [ 0  0  0  0 11  0  0  9  0]\n",
      " [ 0  0  0  0  5  0  0  0 84]]\n",
      "Classification Report: \n",
      "               precision    recall  f1-score   support\n",
      "\n",
      "    asphalt        1.00      0.98      0.99        45\n",
      "   building        0.98      0.98      0.98        97\n",
      "        car        1.00      0.95      0.98        21\n",
      "   concrete        0.99      0.98      0.98        93\n",
      "      grass        0.79      0.98      0.88        83\n",
      "       pool        1.00      0.93      0.96        14\n",
      "     shadow        1.00      1.00      1.00        45\n",
      "       soil        1.00      0.45      0.62        20\n",
      "       tree        0.99      0.94      0.97        89\n",
      "\n",
      "    accuracy                           0.95       507\n",
      "   macro avg       0.97      0.91      0.93       507\n",
      "weighted avg       0.96      0.95      0.95       507\n",
      "\n"
     ]
    }
   ],
   "source": [
    "# predict for train data and build confusion matrix and classification report\n",
    "y_pred_train_svc_poly = best_model_svc_poly.predict(X_train_scaled)\n",
    "print(\"Confusion Matrix: \\n\", confusion_matrix(y_train, y_pred_train_svc_poly))\n",
    "print(\"Classification Report: \\n\", classification_report(y_train, y_pred_train_svc_poly))"
   ]
  },
  {
   "cell_type": "markdown",
   "id": "08a3891e",
   "metadata": {},
   "source": [
    "Yes, there are signs of overfitting in this case. The training classification report shows very high precision, recall and f1-scores across all categories, with an accuracy of 0.95. However, the test classification report shows lower scores across most categories, with an accuracy of only 0.77. This indicates that the model has not generalized well to unseen data, and has instead memorized the training data. "
   ]
  },
  {
   "cell_type": "markdown",
   "id": "768c496c",
   "metadata": {},
   "source": [
    "### 6 Support Vector Machine Classifier + RBF Kernel + Grid Search"
   ]
  },
  {
   "cell_type": "markdown",
   "id": "ecec29f7",
   "metadata": {},
   "source": [
    "##### a) Use SVC from sklearn with kernel = \"rbf\". Run the GridSearchCV using the following:\n",
    "\n",
    "    C: 0.01 - 10 in increments of 0.2\n",
    "    gamma: 0.01,  0.1, 1, 10, 100\n",
    "    Use 5 cross-fold and the default scoring"
   ]
  },
  {
   "cell_type": "code",
   "execution_count": 34,
   "id": "27cff689",
   "metadata": {},
   "outputs": [
    {
     "data": {
      "text/plain": [
       "GridSearchCV(cv=5, estimator=SVC(random_state=42), n_jobs=-1,\n",
       "             param_grid={'C': array([1.000e-02, 2.100e-01, 4.100e-01, 6.100e-01, 8.100e-01, 1.010e+00,\n",
       "       1.210e+00, 1.410e+00, 1.610e+00, 1.810e+00, 2.010e+00, 2.210e+00,\n",
       "       2.410e+00, 2.610e+00, 2.810e+00, 3.010e+00, 3.210e+00, 3.410e+00,\n",
       "       3.610e+00, 3.810e+00, 4.010e+00, 4.210e+00, 4.410e+00, 4.610e+00,\n",
       "       4.810e+00, 5.010e+00, 5.210e+00, 5.410e+00, 5.610e+00, 5.810e+00,\n",
       "       6.010e+00, 6.210e+00, 6.410e+00, 6.610e+00, 6.810e+00, 7.010e+00,\n",
       "       7.210e+00, 7.410e+00, 7.610e+00, 7.810e+00, 8.010e+00, 8.210e+00,\n",
       "       8.410e+00, 8.610e+00, 8.810e+00, 9.010e+00, 9.210e+00, 9.410e+00,\n",
       "       9.610e+00, 9.810e+00, 1.001e+01]),\n",
       "                         'gamma': [0.01, 0.1, 1, 10, 100]})"
      ]
     },
     "execution_count": 34,
     "metadata": {},
     "output_type": "execute_result"
    }
   ],
   "source": [
    "# define the parameter grid\n",
    "param_grid = {'C': np.arange(0.01, 10.2, 0.2), 'gamma': [0.01, 0.1, 1, 10, 100]}\n",
    "\n",
    "# create an instance of the SVC with RBF kernel\n",
    "svc_rbf = SVC(kernel='rbf', random_state=42)\n",
    "\n",
    "# create an instance of GridSearchCV\n",
    "grid_search_rbf = GridSearchCV(estimator=svc_rbf, param_grid=param_grid, cv=5, n_jobs=-1, verbose=0)\n",
    "\n",
    "# fit the GridSearchCV object to the data\n",
    "grid_search_rbf.fit(X_train_scaled, y_train)"
   ]
  },
  {
   "cell_type": "markdown",
   "id": "8214b868",
   "metadata": {},
   "source": [
    "##### b) Identify the best performing model\n",
    "\n",
    "    .best_params_(): This method outputs to best performing parameters\n",
    "    .best_estimator_(): This method outputs the best performing model, and can be used for predicting on the X_test"
   ]
  },
  {
   "cell_type": "code",
   "execution_count": 35,
   "id": "f99b92a8",
   "metadata": {},
   "outputs": [
    {
     "name": "stdout",
     "output_type": "stream",
     "text": [
      "{'C': 2.81, 'gamma': 0.01}\n",
      "SVC(C=2.81, gamma=0.01, random_state=42)\n"
     ]
    }
   ],
   "source": [
    "# output the best performing parameters\n",
    "print(grid_search_rbf.best_params_)\n",
    "\n",
    "# output the best performing model\n",
    "best_model_svc_rbf = grid_search_rbf.best_estimator_\n",
    "print(best_model_svc_rbf)"
   ]
  },
  {
   "cell_type": "markdown",
   "id": "890f493a",
   "metadata": {},
   "source": [
    "##### c) Use the best estimator model to predict on test data. Use the .predict() method to get the predicted classes\n",
    "\n"
   ]
  },
  {
   "cell_type": "code",
   "execution_count": 36,
   "id": "b90dd77c",
   "metadata": {},
   "outputs": [],
   "source": [
    "# predict on the test data using the best performing model\n",
    "y_pred_svc_rbf = best_model_svc_rbf.predict(X_test_scaled)"
   ]
  },
  {
   "cell_type": "markdown",
   "id": "611b81ba",
   "metadata": {},
   "source": [
    "##### d) Calculate the confusion matrix and classification report for test data"
   ]
  },
  {
   "cell_type": "code",
   "execution_count": 37,
   "id": "1c6128ce",
   "metadata": {},
   "outputs": [
    {
     "name": "stdout",
     "output_type": "stream",
     "text": [
      "Confusion Matrix: \n",
      " [[13  0  0  0  0  0  1  0  0]\n",
      " [ 0 21  0  3  1  0  0  0  0]\n",
      " [ 0  1 14  0  0  0  0  0  0]\n",
      " [ 0  4  0 19  0  0  0  0  0]\n",
      " [ 0  1  0  0 26  0  0  0  2]\n",
      " [ 0  0  0  0  0 14  1  0  0]\n",
      " [ 1  0  0  0  0  0 15  0  0]\n",
      " [ 0  2  0  4  3  0  0  5  0]\n",
      " [ 0  0  0  1  1  0  0  0 15]]\n",
      "\n",
      "Classification Report: \n",
      "               precision    recall  f1-score   support\n",
      "\n",
      "    asphalt        0.93      0.93      0.93        14\n",
      "   building        0.72      0.84      0.78        25\n",
      "        car        1.00      0.93      0.97        15\n",
      "   concrete        0.70      0.83      0.76        23\n",
      "      grass        0.84      0.90      0.87        29\n",
      "       pool        1.00      0.93      0.97        15\n",
      "     shadow        0.88      0.94      0.91        16\n",
      "       soil        1.00      0.36      0.53        14\n",
      "       tree        0.88      0.88      0.88        17\n",
      "\n",
      "    accuracy                           0.85       168\n",
      "   macro avg       0.88      0.84      0.84       168\n",
      "weighted avg       0.86      0.85      0.84       168\n",
      "\n"
     ]
    }
   ],
   "source": [
    "# calculate confusion matrix and classification report\n",
    "print(\"Confusion Matrix: \\n\", confusion_matrix(y_test, y_pred_svc_rbf))\n",
    "print(\"\\nClassification Report: \\n\", classification_report(y_test, y_pred_svc_rbf))"
   ]
  },
  {
   "cell_type": "markdown",
   "id": "4cd7941c",
   "metadata": {},
   "source": [
    "##### e)  Calculate predictions for the training data & build the classification report & confusion matrix. Are there signs of overfitting? Why or why not?"
   ]
  },
  {
   "cell_type": "code",
   "execution_count": 38,
   "id": "77292cf0",
   "metadata": {},
   "outputs": [
    {
     "name": "stdout",
     "output_type": "stream",
     "text": [
      "Confusion Matrix: \n",
      " [[45  0  0  0  0  0  0  0  0]\n",
      " [ 0 96  0  1  0  0  0  0  0]\n",
      " [ 0  0 21  0  0  0  0  0  0]\n",
      " [ 0  1  0 92  0  0  0  0  0]\n",
      " [ 0  1  0  0 81  0  0  0  1]\n",
      " [ 0  0  0  0  0 14  0  0  0]\n",
      " [ 0  0  0  0  0  0 45  0  0]\n",
      " [ 0  1  0  0  0  0  0 19  0]\n",
      " [ 0  0  0  0  1  0  0  0 88]]\n",
      "Classification Report: \n",
      "               precision    recall  f1-score   support\n",
      "\n",
      "    asphalt        1.00      1.00      1.00        45\n",
      "   building        0.97      0.99      0.98        97\n",
      "        car        1.00      1.00      1.00        21\n",
      "   concrete        0.99      0.99      0.99        93\n",
      "      grass        0.99      0.98      0.98        83\n",
      "       pool        1.00      1.00      1.00        14\n",
      "     shadow        1.00      1.00      1.00        45\n",
      "       soil        1.00      0.95      0.97        20\n",
      "       tree        0.99      0.99      0.99        89\n",
      "\n",
      "    accuracy                           0.99       507\n",
      "   macro avg       0.99      0.99      0.99       507\n",
      "weighted avg       0.99      0.99      0.99       507\n",
      "\n"
     ]
    }
   ],
   "source": [
    "# predict for train data and build confusion matrix and classification report\n",
    "y_pred_train_svc_rbf = best_model_svc_rbf.predict(X_train_scaled)\n",
    "print(\"Confusion Matrix: \\n\", confusion_matrix(y_train, y_pred_train_svc_rbf))\n",
    "print(\"Classification Report: \\n\", classification_report(y_train, y_pred_train_svc_rbf))"
   ]
  },
  {
   "cell_type": "markdown",
   "id": "b1e99430",
   "metadata": {},
   "source": [
    "There are signs of overfitting in this scenario. The accuracy of the model on the training data is significantly higher (99%) than the accuracy on the test data (85%). Additionally, the precision, recall, and F1-score for the training data are consistently high for all classes, indicating that the model is likely fitting to the specific features of the training data, rather than generalizing to new, unseen data.\n",
    "\n",
    "Furthermore, the precision, recall, and F1-score for the soil class are relatively low for the test data compared to the other classes, suggesting that the model may not be performing as well on this class, which could be an indication of overfitting.\n",
    "\n",
    "Overall, while the model appears to be performing well on both the training and test data, the significant difference in accuracy and the lower performance on one class suggest overfitting."
   ]
  },
  {
   "cell_type": "markdown",
   "id": "5a9caa1c",
   "metadata": {},
   "source": [
    "### 7 Conceptual Questions:\n",
    "\n",
    "<i>a) From the models run in steps 2-6, which performs the best based on the Classification Report? Support your reasoning with evidence around your test data. </i>\n",
    "\n",
    "In our case, the <b>SVM with linear kernel model</b> performed the best with comparable accuracy scores on both the train and test data. SVM with Linear kernel performs well on linearly seperable data and is computationally inexpensive and effective on data where the number of features is high. We can also observe that almost all the models are unable to generalise for the 'soil' class which is afffecting the accuracy scores. Hence, based on the classification report, with a test accuracy of 82% and a train accuracy of 89%, the SVM with Linear kernel model performed the best for our data.\n",
    "\n",
    "<br>\n",
    "\n",
    "<i>b) Compare models run for steps 4-6 where different kernels were used. What is the benefit of using a polynomial or rbf kernel over a linear kernel? What could be a downside of using a polynomial or rbf kernel? </i>\n",
    "\n",
    "The main benefit of using polynomial or radial basis function (RBF) kernels over a linear kernel in SVM is that they allow for more complex decision boundaries, which can lead to better classification performance.\n",
    "\n",
    "In a linear kernel, the decision boundary is a straight line or hyperplane that separates the classes. However, in many cases, the classes may not be linearly separable, meaning that a linear boundary cannot accurately classify all the data points. In such cases, polynomial or RBF kernels can be used to create non-linear decision boundaries that can better separate the classes.\n",
    "\n",
    "The downside of using polynomial or RBF kernels is that they can be computationally expensive, especially when dealing with large datasets. This is because these kernels involve calculating the similarity between each pair of data points, which can be time-consuming. Additionally, if the kernel is poorly chosen or the kernel parameters are not well-tuned, it can lead to overfitting or underfitting, which can result in poor generalization performance on new data.\n",
    "\n",
    "<br>\n",
    "\n",
    "<i>c) Explain the 'C' parameter used in steps 4-6. What does a small C mean versus a large C in sklearn? Why is it important to use the 'C' parameter when fitting a model? </i>\n",
    "\n",
    "The <b>'C' parameter</b> is a hyperparameter used in the SVM algorithm in sklearn. It controls the trade-off between achieving a low training error and a low testing error. In other words, it controls the degree to which the SVM should avoid misclassifying each training example.\n",
    "\n",
    "A small value of C means that the SVM is more tolerant of errors on the training set, which can lead to a smoother decision boundary and may allow for more margin errors. On the other hand, a large value of C means that the SVM will try to classify all training examples correctly, even if it means creating a decision boundary that is more complex and has smaller margins.\n",
    "\n",
    "It is important to use the 'C' parameter when fitting a model because it allows the user to balance the bias-variance trade-off. A low value of C may lead to a model that is underfitting the data, as it is too tolerant of errors on the training set. A high value of C may lead to a model that is overfitting the data, as it is trying to fit the training set too closely and is not generalizing well to new, unseen data. Therefore, selecting an appropriate value of C is crucial for achieving good performance with SVM models.\n",
    "\n",
    "<br>\n",
    "\n",
    "<i>d) Scaling our input data does not matter much for Random Forest, but it is a critical step for Support Vector Machines. Explain why this is such a critical step. Also, provide an example of a feature from this data set that could cause issues with our SVMs if not scaled.</i>\n",
    "\n",
    "Support Vector Machines (SVMs) are sensitive to the scale of the input features. SVM tries to find the hyperplane that maximizes the margin, which is the distance between the hyperplane and the closest data points. When features have different scales, their contribution to the distance calculation is biased towards the features with larger scales. To avoid this bias, it's important to scale the input features so that they all have a similar scale. This ensures that each feature contributes equally to the distance calculation.\n",
    "\n",
    "On the other hand, Random Forests are based on decision trees, which split the data into smaller subsets based on a single feature at a time. Therefore, the scale of the features does not affect the performance of Random Forests as much as it does for SVMs. In fact, Random Forests are known to be relatively insensitive to the scale of the input features, making scaling less important for this algorithm.\n",
    "\n",
    "On describing the train data set, we can observe that the some features like <b>'Area' and 'Bright'</b> are in the range of (22, 5767) and (26, 245) respectively compared to other features like 'Round' and 'Compact' which are in the range (0, 8). If the data is not scaled, the 'Area' will have a much larger impact on the distance calculation than the other features, simply because of its larger scale.\n",
    "\n",
    "<br>\n",
    "\n",
    "<i>e) Describe conceptually what the purpose of a kernel is for Support Vector Machines.</i>\n",
    "\n",
    "The purpose of a kernel in Support Vector Machines (SVMs) is to transform the input data into a higher-dimensional space, where it may be more easily separable. SVMs are used for classification and regression problems and work by finding the hyperplane that maximizes the margin between two classes. However, in cases where the data is not linearly separable in the original feature space, a kernel function can be used to map the data into a higher-dimensional space, where it may become linearly separable.\n",
    "\n",
    "Kernels provide a way of computing the dot product between two vectors in the transformed space without explicitly calculating the transformation. This is computationally efficient and is known as the \"kernel trick\". SVMs can use various types of kernel functions such as linear, polynomial, radial basis function (RBF), and sigmoid. Each kernel function has its own characteristics, which can be used to tune the model's performance for a particular dataset.\n",
    "\n",
    "In summary, the kernel function plays a crucial role in SVMs by mapping the input data into a higher-dimensional space where it may be more easily separable, allowing SVMs to find the optimal hyperplane that maximizes the margin between two classes."
   ]
  },
  {
   "cell_type": "code",
   "execution_count": null,
   "id": "0c42e2b2",
   "metadata": {},
   "outputs": [],
   "source": []
  }
 ],
 "metadata": {
  "kernelspec": {
   "display_name": "Python 3 (ipykernel)",
   "language": "python",
   "name": "python3"
  },
  "language_info": {
   "codemirror_mode": {
    "name": "ipython",
    "version": 3
   },
   "file_extension": ".py",
   "mimetype": "text/x-python",
   "name": "python",
   "nbconvert_exporter": "python",
   "pygments_lexer": "ipython3",
   "version": "3.9.13"
  }
 },
 "nbformat": 4,
 "nbformat_minor": 5
}
