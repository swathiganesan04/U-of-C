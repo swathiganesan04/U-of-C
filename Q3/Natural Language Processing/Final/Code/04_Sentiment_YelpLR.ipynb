{
 "cells": [
  {
   "cell_type": "code",
   "execution_count": null,
   "id": "1f87f5a3-94cd-4642-8747-203e985ddac4",
   "metadata": {},
   "outputs": [],
   "source": [
    "!pip install spacy"
   ]
  },
  {
   "cell_type": "code",
   "execution_count": 1,
   "id": "4aa2998a-869e-4371-a9a7-8fd19b32e9a9",
   "metadata": {},
   "outputs": [
    {
     "name": "stderr",
     "output_type": "stream",
     "text": [
      "[nltk_data] Downloading package punkt to /home/jupyter/nltk_data...\n",
      "[nltk_data]   Package punkt is already up-to-date!\n",
      "[nltk_data] Downloading package stopwords to\n",
      "[nltk_data]     /home/jupyter/nltk_data...\n",
      "[nltk_data]   Package stopwords is already up-to-date!\n",
      "[nltk_data] Downloading package wordnet to /home/jupyter/nltk_data...\n",
      "[nltk_data]   Package wordnet is already up-to-date!\n"
     ]
    }
   ],
   "source": [
    "## Load data\n",
    "\n",
    "import pandas as pd\n",
    "import numpy as np\n",
    "import re\n",
    "import string\n",
    "import nltk\n",
    "nltk.download('punkt')\n",
    "nltk.download('stopwords')\n",
    "nltk.download('wordnet')\n",
    "from nltk.corpus import stopwords\n",
    "from nltk.stem import WordNetLemmatizer\n",
    "import matplotlib.pyplot as plt\n"
   ]
  },
  {
   "cell_type": "code",
   "execution_count": 2,
   "id": "489baa54-5e62-4de5-bcf8-009af1f9e928",
   "metadata": {},
   "outputs": [
    {
     "name": "stderr",
     "output_type": "stream",
     "text": [
      "2023-05-23 21:06:16.249643: I tensorflow/core/platform/cpu_feature_guard.cc:193] This TensorFlow binary is optimized with oneAPI Deep Neural Network Library (oneDNN) to use the following CPU instructions in performance-critical operations:  AVX2 FMA\n",
      "To enable them in other operations, rebuild TensorFlow with the appropriate compiler flags.\n",
      "2023-05-23 21:06:22.226582: W tensorflow/compiler/xla/stream_executor/platform/default/dso_loader.cc:64] Could not load dynamic library 'libnvinfer.so.7'; dlerror: libnvinfer.so.7: cannot open shared object file: No such file or directory; LD_LIBRARY_PATH: /usr/local/cuda/lib64:/usr/local/nccl2/lib:/usr/local/cuda/extras/CUPTI/lib64\n",
      "2023-05-23 21:06:22.226993: W tensorflow/compiler/xla/stream_executor/platform/default/dso_loader.cc:64] Could not load dynamic library 'libnvinfer_plugin.so.7'; dlerror: libnvinfer_plugin.so.7: cannot open shared object file: No such file or directory; LD_LIBRARY_PATH: /usr/local/cuda/lib64:/usr/local/nccl2/lib:/usr/local/cuda/extras/CUPTI/lib64\n",
      "2023-05-23 21:06:22.227019: W tensorflow/compiler/tf2tensorrt/utils/py_utils.cc:38] TF-TRT Warning: Cannot dlopen some TensorRT libraries. If you would like to use Nvidia GPU with TensorRT, please make sure the missing libraries mentioned above are installed properly.\n",
      "2023-05-23 21:06:26.676789: W tensorflow/compiler/xla/stream_executor/platform/default/dso_loader.cc:64] Could not load dynamic library 'libcuda.so.1'; dlerror: libcuda.so.1: cannot open shared object file: No such file or directory; LD_LIBRARY_PATH: /usr/local/cuda/lib64:/usr/local/nccl2/lib:/usr/local/cuda/extras/CUPTI/lib64\n",
      "2023-05-23 21:06:26.676861: W tensorflow/compiler/xla/stream_executor/cuda/cuda_driver.cc:265] failed call to cuInit: UNKNOWN ERROR (303)\n",
      "2023-05-23 21:06:26.676895: I tensorflow/compiler/xla/stream_executor/cuda/cuda_diagnostics.cc:156] kernel driver does not appear to be running on this host (nlp-nbs): /proc/driver/nvidia/version does not exist\n"
     ]
    }
   ],
   "source": [
    "from collections import Counter\n",
    "from nltk.tokenize import  word_tokenize\n",
    "import pickle\n",
    "import spacy\n",
    "\n",
    "from sklearn.model_selection import train_test_split\n",
    "from sklearn.feature_extraction.text import CountVectorizer\n",
    "from sklearn.metrics import classification_report, confusion_matrix, accuracy_score\n",
    "from sklearn.linear_model import SGDClassifier, LogisticRegression\n",
    "from sklearn.pipeline import make_pipeline\n",
    "from sklearn import metrics\n",
    "\n",
    "from joblib import dump, load"
   ]
  },
  {
   "cell_type": "code",
   "execution_count": 3,
   "id": "90994cc3-2d06-4a0d-9e92-540fe90f3517",
   "metadata": {},
   "outputs": [
    {
     "name": "stdout",
     "output_type": "stream",
     "text": [
      "Available CPUs: 16\n",
      "INFO: Pandarallel will run on 15 workers.\n",
      "INFO: Pandarallel will use standard multiprocessing data transfer (pipe) to transfer data between the main process and workers.\n"
     ]
    }
   ],
   "source": [
    "import multiprocessing\n",
    "\n",
    "num_processors = multiprocessing.cpu_count()\n",
    "print(f'Available CPUs: {num_processors}')\n",
    "\n",
    "import pandarallel\n",
    "from pandarallel import pandarallel\n",
    "pandarallel.initialize(nb_workers=num_processors-1, use_memory_fs=False)"
   ]
  },
  {
   "cell_type": "code",
   "execution_count": 4,
   "id": "5b168ec5-169a-4da6-b2bb-28dc53831f08",
   "metadata": {},
   "outputs": [
    {
     "name": "stdout",
     "output_type": "stream",
     "text": [
      "CPU times: user 1min 40s, sys: 10.6 s, total: 1min 51s\n",
      "Wall time: 1min 25s\n"
     ]
    },
    {
     "data": {
      "text/plain": [
       "(198564, 7)"
      ]
     },
     "execution_count": 4,
     "metadata": {},
     "output_type": "execute_result"
    }
   ],
   "source": [
    "%%time\n",
    "\n",
    "df_news = pd.read_parquet('02_clean_df.parquet', engine='pyarrow')\n",
    "df_news.shape"
   ]
  },
  {
   "cell_type": "code",
   "execution_count": 5,
   "id": "3cfb6503-a185-4eb3-8e77-089be197d0af",
   "metadata": {},
   "outputs": [],
   "source": [
    "df_news['clean_text_sent'] = df_news['clean_text'].apply(lambda words: ' '.join(words))"
   ]
  },
  {
   "cell_type": "code",
   "execution_count": 6,
   "id": "38e5a13d-0a19-434d-9db7-63b98224288c",
   "metadata": {},
   "outputs": [
    {
     "data": {
      "text/html": [
       "<div>\n",
       "<style scoped>\n",
       "    .dataframe tbody tr th:only-of-type {\n",
       "        vertical-align: middle;\n",
       "    }\n",
       "\n",
       "    .dataframe tbody tr th {\n",
       "        vertical-align: top;\n",
       "    }\n",
       "\n",
       "    .dataframe thead th {\n",
       "        text-align: right;\n",
       "    }\n",
       "</style>\n",
       "<table border=\"1\" class=\"dataframe\">\n",
       "  <thead>\n",
       "    <tr style=\"text-align: right;\">\n",
       "      <th></th>\n",
       "      <th>date</th>\n",
       "      <th>title</th>\n",
       "      <th>text</th>\n",
       "      <th>year_month</th>\n",
       "      <th>clean_text_case</th>\n",
       "      <th>clean_text</th>\n",
       "      <th>clean_title</th>\n",
       "      <th>clean_text_sent</th>\n",
       "    </tr>\n",
       "  </thead>\n",
       "  <tbody>\n",
       "    <tr>\n",
       "      <th>123658</th>\n",
       "      <td>2023-03-15</td>\n",
       "      <td>OpenAI releases latest version of artificial.....</td>\n",
       "      <td>OpenAI releases latest version of artificial.....</td>\n",
       "      <td>2023-03</td>\n",
       "      <td>[OpenAI, release, latest, version, artificial,...</td>\n",
       "      <td>[openai, release, latest, version, artificial,...</td>\n",
       "      <td>openai release latest version artificial daily...</td>\n",
       "      <td>openai release latest version artificial daily...</td>\n",
       "    </tr>\n",
       "    <tr>\n",
       "      <th>76722</th>\n",
       "      <td>2022-07-06</td>\n",
       "      <td>Celus, which uses AI to automate circuit board...</td>\n",
       "      <td>Celus, which uses AI to automate circuit board...</td>\n",
       "      <td>2022-07</td>\n",
       "      <td>[Celus, us, AI, automate, circuit, board, desi...</td>\n",
       "      <td>[celus, us, ai, automate, circuit, board, desi...</td>\n",
       "      <td>celus us ai automate circuit board design rais...</td>\n",
       "      <td>celus us ai automate circuit board design rais...</td>\n",
       "    </tr>\n",
       "    <tr>\n",
       "      <th>94598</th>\n",
       "      <td>2021-01-29</td>\n",
       "      <td>Use Azure Backup for Active Directory forest r...</td>\n",
       "      <td>\\n\\nUse Azure Backup for Active Directory fore...</td>\n",
       "      <td>2021-01</td>\n",
       "      <td>[Use, Azure, Backup, Active, Directory, forest...</td>\n",
       "      <td>[use, azure, backup, active, directory, forest...</td>\n",
       "      <td>use azure backup active directory forest recov...</td>\n",
       "      <td>use azure backup active directory forest recov...</td>\n",
       "    </tr>\n",
       "  </tbody>\n",
       "</table>\n",
       "</div>"
      ],
      "text/plain": [
       "             date                                              title  \\\n",
       "123658 2023-03-15  OpenAI releases latest version of artificial.....   \n",
       "76722  2022-07-06  Celus, which uses AI to automate circuit board...   \n",
       "94598  2021-01-29  Use Azure Backup for Active Directory forest r...   \n",
       "\n",
       "                                                     text year_month  \\\n",
       "123658  OpenAI releases latest version of artificial.....    2023-03   \n",
       "76722   Celus, which uses AI to automate circuit board...    2022-07   \n",
       "94598   \\n\\nUse Azure Backup for Active Directory fore...    2021-01   \n",
       "\n",
       "                                          clean_text_case  \\\n",
       "123658  [OpenAI, release, latest, version, artificial,...   \n",
       "76722   [Celus, us, AI, automate, circuit, board, desi...   \n",
       "94598   [Use, Azure, Backup, Active, Directory, forest...   \n",
       "\n",
       "                                               clean_text  \\\n",
       "123658  [openai, release, latest, version, artificial,...   \n",
       "76722   [celus, us, ai, automate, circuit, board, desi...   \n",
       "94598   [use, azure, backup, active, directory, forest...   \n",
       "\n",
       "                                              clean_title  \\\n",
       "123658  openai release latest version artificial daily...   \n",
       "76722   celus us ai automate circuit board design rais...   \n",
       "94598   use azure backup active directory forest recov...   \n",
       "\n",
       "                                          clean_text_sent  \n",
       "123658  openai release latest version artificial daily...  \n",
       "76722   celus us ai automate circuit board design rais...  \n",
       "94598   use azure backup active directory forest recov...  "
      ]
     },
     "execution_count": 6,
     "metadata": {},
     "output_type": "execute_result"
    }
   ],
   "source": [
    "df_news.sample(3)"
   ]
  },
  {
   "cell_type": "markdown",
   "id": "775e4261-516d-49d7-888d-ec65871d982f",
   "metadata": {},
   "source": [
    "### Most Frequent Terms in our clean data"
   ]
  },
  {
   "cell_type": "code",
   "execution_count": 10,
   "id": "4e43e388-0f61-49b5-886b-592bffc74c65",
   "metadata": {},
   "outputs": [
    {
     "name": "stdout",
     "output_type": "stream",
     "text": [
      "ai 1763902\n",
      "market 1431503\n",
      "news 932503\n",
      "data 714555\n",
      "intelligence 677457\n",
      "us 670017\n",
      "new 654088\n",
      "technology 639206\n",
      "artificial 608100\n",
      "business 588721\n",
      "company 554645\n",
      "report 519670\n",
      "global 471869\n",
      "industry 420743\n",
      "research 387129\n",
      "analysis 377434\n",
      "said 334892\n",
      "also 319732\n",
      "learning 316282\n",
      "growth 312685\n"
     ]
    }
   ],
   "source": [
    "from nltk import FreqDist\n",
    "\n",
    "# Assuming you have a DataFrame called 'df' and the column name is 'tokens'\n",
    "all_tokens = [token for sublist in df_news['clean_text'] for token in sublist]\n",
    "\n",
    "# Calculate the frequency distribution\n",
    "freq_dist = FreqDist(all_tokens)\n",
    "\n",
    "# Get the top 20 most frequent tokens\n",
    "top_20_tokens = freq_dist.most_common(20)\n",
    "\n",
    "# Print the top 20 tokens\n",
    "for token, frequency in top_20_tokens:\n",
    "    print(token, frequency)\n"
   ]
  },
  {
   "cell_type": "markdown",
   "id": "d00b820c-dde2-4601-b51d-2c83df11bf7a",
   "metadata": {},
   "source": [
    "## Customised Sentiment Analysis"
   ]
  },
  {
   "cell_type": "markdown",
   "id": "525dd2e4-9c6c-4b46-813f-65b4b2bfd7e3",
   "metadata": {},
   "source": [
    "### Using Logistic Regression on Yelp review data"
   ]
  },
  {
   "cell_type": "code",
   "execution_count": 7,
   "id": "a4e8cceb-6f41-4c03-a22c-92f0ad72b2af",
   "metadata": {},
   "outputs": [],
   "source": [
    "directory = 'https://storage.googleapis.com/msca-bdp-data-open/yelp/'\n",
    "fileName = 'yelp_train_sentiment.json'\n",
    "\n",
    "path = directory + fileName"
   ]
  },
  {
   "cell_type": "code",
   "execution_count": 8,
   "id": "0da60795-f020-4d12-83fb-b915e745f46f",
   "metadata": {},
   "outputs": [
    {
     "name": "stdout",
     "output_type": "stream",
     "text": [
      "CPU times: user 2.38 s, sys: 827 ms, total: 3.21 s\n",
      "Wall time: 3.71 s\n"
     ]
    },
    {
     "data": {
      "text/plain": [
       "(255717, 3)"
      ]
     },
     "execution_count": 8,
     "metadata": {},
     "output_type": "execute_result"
    }
   ],
   "source": [
    "%%time\n",
    "\n",
    "yelp = pd.read_json(path, orient='records', lines=True)\n",
    "yelp.shape"
   ]
  },
  {
   "cell_type": "code",
   "execution_count": 9,
   "id": "df12c071-fd00-43eb-be81-eb782b0594af",
   "metadata": {},
   "outputs": [],
   "source": [
    "pd.set_option('display.max_colwidth', 200)"
   ]
  },
  {
   "cell_type": "code",
   "execution_count": 10,
   "id": "2ded3289-ec0b-4852-a56b-7d1108f34ee4",
   "metadata": {},
   "outputs": [
    {
     "name": "stdout",
     "output_type": "stream",
     "text": [
      "<class 'pandas.core.frame.DataFrame'>\n",
      "RangeIndex: 255717 entries, 0 to 255716\n",
      "Data columns (total 3 columns):\n",
      " #   Column  Non-Null Count   Dtype \n",
      "---  ------  --------------   ----- \n",
      " 0   text    255717 non-null  object\n",
      " 1   label   255717 non-null  int64 \n",
      " 2   lang    255717 non-null  object\n",
      "dtypes: int64(1), object(2)\n",
      "memory usage: 5.9+ MB\n"
     ]
    }
   ],
   "source": [
    "yelp.info()"
   ]
  },
  {
   "cell_type": "code",
   "execution_count": 11,
   "id": "adf12700-af14-4ed1-bf8a-a91c3f5a79aa",
   "metadata": {},
   "outputs": [
    {
     "data": {
      "text/plain": [
       "text     255649\n",
       "label         2\n",
       "lang          1\n",
       "dtype: int64"
      ]
     },
     "execution_count": 11,
     "metadata": {},
     "output_type": "execute_result"
    }
   ],
   "source": [
    "yelp.nunique()"
   ]
  },
  {
   "cell_type": "code",
   "execution_count": 12,
   "id": "54a0d390-28b2-43c1-a01f-fe71246bfa71",
   "metadata": {},
   "outputs": [
    {
     "name": "stdout",
     "output_type": "stream",
     "text": [
      "X Shape: (255717,)\n",
      "y Shape: (255717,)\n"
     ]
    }
   ],
   "source": [
    "# define X and y\n",
    "X = yelp['text']\n",
    "y = yelp['label']\n",
    "\n",
    "print(f\"X Shape: {X.shape}\")\n",
    "print(f\"y Shape: {y.shape}\")"
   ]
  },
  {
   "cell_type": "code",
   "execution_count": 13,
   "id": "cb7d2fdd-c72f-48bb-b76a-c6451464f70e",
   "metadata": {},
   "outputs": [
    {
     "name": "stdout",
     "output_type": "stream",
     "text": [
      "Training records, X_train: (191787,) y_train: (191787,)\n",
      "Testing records, X_test: (63930,) y_test: (63930,)\n"
     ]
    }
   ],
   "source": [
    "# split X and y into training and testing sets\n",
    "X_train, X_test, y_train, y_test = train_test_split(X, y, random_state=42)\n",
    "\n",
    "print(f\"Training records, X_train: {X_train.shape} y_train: {y_train.shape}\")\n",
    "print(f\"Testing records, X_test: {X_test.shape} y_test: {y_test.shape}\")"
   ]
  },
  {
   "cell_type": "markdown",
   "id": "e258bbd5-5122-4160-bebe-deb6bc7d395a",
   "metadata": {},
   "source": [
    "### Initializing the Pipeline "
   ]
  },
  {
   "cell_type": "code",
   "execution_count": 14,
   "id": "757d18a0-b54b-4913-9b2e-e41960c1fd27",
   "metadata": {},
   "outputs": [],
   "source": [
    "logreg_pipeline = make_pipeline(\n",
    "    CountVectorizer(lowercase=False, stop_words='english', ngram_range=(1,3)),\n",
    "    SGDClassifier(max_iter=100, tol=None)\n",
    ")"
   ]
  },
  {
   "cell_type": "markdown",
   "id": "606824d0-c9d0-4403-81e4-59bebc17b842",
   "metadata": {},
   "source": [
    "### Building and Evaluating Models"
   ]
  },
  {
   "cell_type": "code",
   "execution_count": 15,
   "id": "ddc3aedd-b321-4181-9e1e-ccf6725168cf",
   "metadata": {},
   "outputs": [
    {
     "name": "stdout",
     "output_type": "stream",
     "text": [
      "CPU times: user 3min 54s, sys: 5.47 s, total: 3min 59s\n",
      "Wall time: 3min 57s\n"
     ]
    },
    {
     "data": {
      "text/html": [
       "<style>#sk-container-id-1 {color: black;background-color: white;}#sk-container-id-1 pre{padding: 0;}#sk-container-id-1 div.sk-toggleable {background-color: white;}#sk-container-id-1 label.sk-toggleable__label {cursor: pointer;display: block;width: 100%;margin-bottom: 0;padding: 0.3em;box-sizing: border-box;text-align: center;}#sk-container-id-1 label.sk-toggleable__label-arrow:before {content: \"▸\";float: left;margin-right: 0.25em;color: #696969;}#sk-container-id-1 label.sk-toggleable__label-arrow:hover:before {color: black;}#sk-container-id-1 div.sk-estimator:hover label.sk-toggleable__label-arrow:before {color: black;}#sk-container-id-1 div.sk-toggleable__content {max-height: 0;max-width: 0;overflow: hidden;text-align: left;background-color: #f0f8ff;}#sk-container-id-1 div.sk-toggleable__content pre {margin: 0.2em;color: black;border-radius: 0.25em;background-color: #f0f8ff;}#sk-container-id-1 input.sk-toggleable__control:checked~div.sk-toggleable__content {max-height: 200px;max-width: 100%;overflow: auto;}#sk-container-id-1 input.sk-toggleable__control:checked~label.sk-toggleable__label-arrow:before {content: \"▾\";}#sk-container-id-1 div.sk-estimator input.sk-toggleable__control:checked~label.sk-toggleable__label {background-color: #d4ebff;}#sk-container-id-1 div.sk-label input.sk-toggleable__control:checked~label.sk-toggleable__label {background-color: #d4ebff;}#sk-container-id-1 input.sk-hidden--visually {border: 0;clip: rect(1px 1px 1px 1px);clip: rect(1px, 1px, 1px, 1px);height: 1px;margin: -1px;overflow: hidden;padding: 0;position: absolute;width: 1px;}#sk-container-id-1 div.sk-estimator {font-family: monospace;background-color: #f0f8ff;border: 1px dotted black;border-radius: 0.25em;box-sizing: border-box;margin-bottom: 0.5em;}#sk-container-id-1 div.sk-estimator:hover {background-color: #d4ebff;}#sk-container-id-1 div.sk-parallel-item::after {content: \"\";width: 100%;border-bottom: 1px solid gray;flex-grow: 1;}#sk-container-id-1 div.sk-label:hover label.sk-toggleable__label {background-color: #d4ebff;}#sk-container-id-1 div.sk-serial::before {content: \"\";position: absolute;border-left: 1px solid gray;box-sizing: border-box;top: 0;bottom: 0;left: 50%;z-index: 0;}#sk-container-id-1 div.sk-serial {display: flex;flex-direction: column;align-items: center;background-color: white;padding-right: 0.2em;padding-left: 0.2em;position: relative;}#sk-container-id-1 div.sk-item {position: relative;z-index: 1;}#sk-container-id-1 div.sk-parallel {display: flex;align-items: stretch;justify-content: center;background-color: white;position: relative;}#sk-container-id-1 div.sk-item::before, #sk-container-id-1 div.sk-parallel-item::before {content: \"\";position: absolute;border-left: 1px solid gray;box-sizing: border-box;top: 0;bottom: 0;left: 50%;z-index: -1;}#sk-container-id-1 div.sk-parallel-item {display: flex;flex-direction: column;z-index: 1;position: relative;background-color: white;}#sk-container-id-1 div.sk-parallel-item:first-child::after {align-self: flex-end;width: 50%;}#sk-container-id-1 div.sk-parallel-item:last-child::after {align-self: flex-start;width: 50%;}#sk-container-id-1 div.sk-parallel-item:only-child::after {width: 0;}#sk-container-id-1 div.sk-dashed-wrapped {border: 1px dashed gray;margin: 0 0.4em 0.5em 0.4em;box-sizing: border-box;padding-bottom: 0.4em;background-color: white;}#sk-container-id-1 div.sk-label label {font-family: monospace;font-weight: bold;display: inline-block;line-height: 1.2em;}#sk-container-id-1 div.sk-label-container {text-align: center;}#sk-container-id-1 div.sk-container {/* jupyter's `normalize.less` sets `[hidden] { display: none; }` but bootstrap.min.css set `[hidden] { display: none !important; }` so we also need the `!important` here to be able to override the default hidden behavior on the sphinx rendered scikit-learn.org. See: https://github.com/scikit-learn/scikit-learn/issues/21755 */display: inline-block !important;position: relative;}#sk-container-id-1 div.sk-text-repr-fallback {display: none;}</style><div id=\"sk-container-id-1\" class=\"sk-top-container\"><div class=\"sk-text-repr-fallback\"><pre>Pipeline(steps=[(&#x27;countvectorizer&#x27;,\n",
       "                 CountVectorizer(lowercase=False, ngram_range=(1, 3),\n",
       "                                 stop_words=&#x27;english&#x27;)),\n",
       "                (&#x27;sgdclassifier&#x27;, SGDClassifier(max_iter=100, tol=None))])</pre><b>In a Jupyter environment, please rerun this cell to show the HTML representation or trust the notebook. <br />On GitHub, the HTML representation is unable to render, please try loading this page with nbviewer.org.</b></div><div class=\"sk-container\" hidden><div class=\"sk-item sk-dashed-wrapped\"><div class=\"sk-label-container\"><div class=\"sk-label sk-toggleable\"><input class=\"sk-toggleable__control sk-hidden--visually\" id=\"sk-estimator-id-1\" type=\"checkbox\" ><label for=\"sk-estimator-id-1\" class=\"sk-toggleable__label sk-toggleable__label-arrow\">Pipeline</label><div class=\"sk-toggleable__content\"><pre>Pipeline(steps=[(&#x27;countvectorizer&#x27;,\n",
       "                 CountVectorizer(lowercase=False, ngram_range=(1, 3),\n",
       "                                 stop_words=&#x27;english&#x27;)),\n",
       "                (&#x27;sgdclassifier&#x27;, SGDClassifier(max_iter=100, tol=None))])</pre></div></div></div><div class=\"sk-serial\"><div class=\"sk-item\"><div class=\"sk-estimator sk-toggleable\"><input class=\"sk-toggleable__control sk-hidden--visually\" id=\"sk-estimator-id-2\" type=\"checkbox\" ><label for=\"sk-estimator-id-2\" class=\"sk-toggleable__label sk-toggleable__label-arrow\">CountVectorizer</label><div class=\"sk-toggleable__content\"><pre>CountVectorizer(lowercase=False, ngram_range=(1, 3), stop_words=&#x27;english&#x27;)</pre></div></div></div><div class=\"sk-item\"><div class=\"sk-estimator sk-toggleable\"><input class=\"sk-toggleable__control sk-hidden--visually\" id=\"sk-estimator-id-3\" type=\"checkbox\" ><label for=\"sk-estimator-id-3\" class=\"sk-toggleable__label sk-toggleable__label-arrow\">SGDClassifier</label><div class=\"sk-toggleable__content\"><pre>SGDClassifier(max_iter=100, tol=None)</pre></div></div></div></div></div></div></div>"
      ],
      "text/plain": [
       "Pipeline(steps=[('countvectorizer',\n",
       "                 CountVectorizer(lowercase=False, ngram_range=(1, 3),\n",
       "                                 stop_words='english')),\n",
       "                ('sgdclassifier', SGDClassifier(max_iter=100, tol=None))])"
      ]
     },
     "execution_count": 15,
     "metadata": {},
     "output_type": "execute_result"
    }
   ],
   "source": [
    "%time logreg_pipeline.fit(X_train, y_train)"
   ]
  },
  {
   "cell_type": "code",
   "execution_count": 16,
   "id": "8e8fd328-3501-4163-8c3b-f280bc225106",
   "metadata": {},
   "outputs": [
    {
     "name": "stdout",
     "output_type": "stream",
     "text": [
      "Accuracy :  0.97\n",
      "              precision    recall  f1-score   support\n",
      "\n",
      "           0       0.97      0.97      0.97     32003\n",
      "           1       0.97      0.97      0.97     31927\n",
      "\n",
      "    accuracy                           0.97     63930\n",
      "   macro avg       0.97      0.97      0.97     63930\n",
      "weighted avg       0.97      0.97      0.97     63930\n",
      "\n"
     ]
    }
   ],
   "source": [
    "y_pred = logreg_pipeline.predict(X_test)\n",
    "print(\"Accuracy : \",round(metrics.accuracy_score(y_test, y_pred),2))\n",
    "print(classification_report(y_test, y_pred))"
   ]
  },
  {
   "cell_type": "code",
   "execution_count": 17,
   "id": "d585029b-36d5-4038-a770-829bc853b10a",
   "metadata": {},
   "outputs": [
    {
     "name": "stdout",
     "output_type": "stream",
     "text": [
      "CPU times: user 1min 20s, sys: 1.72 s, total: 1min 21s\n",
      "Wall time: 1min 22s\n"
     ]
    },
    {
     "data": {
      "text/plain": [
       "['logreg_large.joblib']"
      ]
     },
     "execution_count": 17,
     "metadata": {},
     "output_type": "execute_result"
    }
   ],
   "source": [
    "%time dump(logreg_pipeline, \"logreg_large.joblib\")"
   ]
  },
  {
   "cell_type": "markdown",
   "id": "e02375b0-a6e9-41c2-ba83-73cb7889723c",
   "metadata": {},
   "source": [
    "### Running the Yelp Trained Model on News data"
   ]
  },
  {
   "cell_type": "code",
   "execution_count": 18,
   "id": "2b3bbd71-9c19-4954-bfa9-f0b3145fa4d6",
   "metadata": {},
   "outputs": [
    {
     "name": "stdout",
     "output_type": "stream",
     "text": [
      "CPU times: user 38.6 s, sys: 1.6 s, total: 40.2 s\n",
      "Wall time: 40.2 s\n"
     ]
    }
   ],
   "source": [
    "%time clf_large = load('logreg_large.joblib')"
   ]
  },
  {
   "cell_type": "code",
   "execution_count": 19,
   "id": "55c00203-b1c5-4af0-aa90-66e3b94d3b2c",
   "metadata": {},
   "outputs": [
    {
     "name": "stdout",
     "output_type": "stream",
     "text": [
      "CPU times: user 5min 19s, sys: 937 ms, total: 5min 19s\n",
      "Wall time: 5min 19s\n"
     ]
    }
   ],
   "source": [
    "%time pred_sentiment = clf_large.predict(df_news['clean_text_sent'])\n",
    "sent_class = np.where(pred_sentiment < 1, 'Negative', 'Positive')"
   ]
  },
  {
   "cell_type": "code",
   "execution_count": 20,
   "id": "d7b52fd2-7601-4fb9-a4ac-c6990fefabcb",
   "metadata": {},
   "outputs": [],
   "source": [
    "df_news['sentiment_text'] = sent_class\n",
    "df_news['sentiment_text_score'] = pred_sentiment"
   ]
  },
  {
   "cell_type": "code",
   "execution_count": 21,
   "id": "7ee81436-284a-4cd9-b40d-724c6b790710",
   "metadata": {},
   "outputs": [
    {
     "data": {
      "text/plain": [
       "Negative    166887\n",
       "Positive     31677\n",
       "Name: sentiment_text, dtype: int64"
      ]
     },
     "execution_count": 21,
     "metadata": {},
     "output_type": "execute_result"
    }
   ],
   "source": [
    "df_news['sentiment_text'].value_counts()"
   ]
  },
  {
   "cell_type": "code",
   "execution_count": 22,
   "id": "22e01c3a-cd7a-45e0-b75c-a1f305087a78",
   "metadata": {},
   "outputs": [
    {
     "name": "stdout",
     "output_type": "stream",
     "text": [
      "CPU times: user 5.64 s, sys: 3.73 ms, total: 5.64 s\n",
      "Wall time: 5.64 s\n"
     ]
    }
   ],
   "source": [
    "%time pred_sentiment_title = clf_large.predict(df_news['clean_title'])\n",
    "sent_class_title = np.where(pred_sentiment_title < 1, 'Negative', 'Positive')"
   ]
  },
  {
   "cell_type": "code",
   "execution_count": 23,
   "id": "65fe090f-0c65-4a44-bf46-952580c7eee3",
   "metadata": {},
   "outputs": [],
   "source": [
    "df_news['sentiment_title'] = sent_class_title\n",
    "df_news['sentiment_title_score'] = pred_sentiment_title"
   ]
  },
  {
   "cell_type": "code",
   "execution_count": 26,
   "id": "272fa8ec-f7c9-4445-8642-361a5b307115",
   "metadata": {},
   "outputs": [
    {
     "data": {
      "text/plain": [
       "Negative    166484\n",
       "Positive     32080\n",
       "Name: sentiment_title, dtype: int64"
      ]
     },
     "execution_count": 26,
     "metadata": {},
     "output_type": "execute_result"
    }
   ],
   "source": [
    "df_news['sentiment_title'].value_counts()"
   ]
  },
  {
   "cell_type": "code",
   "execution_count": 27,
   "id": "99545e97-1d7b-451e-a67d-88e256758e38",
   "metadata": {},
   "outputs": [],
   "source": [
    "#saving with sentiment\n",
    "df_news.to_parquet('03_sent_logreg_df.parquet')"
   ]
  },
  {
   "cell_type": "code",
   "execution_count": 28,
   "id": "c5a4431f-b99d-427b-8e12-cdfbe9286ef8",
   "metadata": {},
   "outputs": [
    {
     "name": "stdout",
     "output_type": "stream",
     "text": [
      "Total number of rows:  198564\n",
      "Drop text dups:  197812\n",
      "Drop title, sentiment dups:  141418\n"
     ]
    }
   ],
   "source": [
    "print('Total number of rows: ',df_news.shape[0])\n",
    "\n",
    "## Dropping duplicate news articles\n",
    "df1 = df_news.drop_duplicates(subset=['clean_text_sent'], keep='first', inplace=False)\n",
    "print('Drop text dups: ',df1.shape[0])\n",
    "\n",
    "## Dropping news titles that report articles with the same sentiment\n",
    "df2 = df1.drop_duplicates(subset=['title','sentiment_text'], keep='first', inplace=False)\n",
    "print('Drop title, sentiment dups: ',df2.shape[0])"
   ]
  },
  {
   "cell_type": "code",
   "execution_count": 29,
   "id": "4e3bbd34-feea-4835-9900-e91743288c81",
   "metadata": {},
   "outputs": [
    {
     "data": {
      "text/plain": [
       "Negative    120636\n",
       "Positive     20782\n",
       "Name: sentiment_text, dtype: int64"
      ]
     },
     "execution_count": 29,
     "metadata": {},
     "output_type": "execute_result"
    }
   ],
   "source": [
    "df2['sentiment_text'].value_counts()"
   ]
  },
  {
   "cell_type": "code",
   "execution_count": 31,
   "id": "97f9a1b2-a9b1-41df-986e-bd94898fb045",
   "metadata": {},
   "outputs": [],
   "source": [
    "import pandas as pd\n",
    "\n",
    "\n",
    "\n",
    "# Group the DataFrame by 'year_month' and 'sentiment_label', and calculate the counts\n",
    "grouped = df2.groupby(['year_month', 'sentiment_text']).size().unstack(fill_value=0)\n",
    "\n",
    "# Convert the grouped data to separate lists for positive, negative, and neutral sentiments\n",
    "timeline = grouped.index.astype(str).tolist()\n",
    "positive_sentiment = grouped['Positive'].tolist()\n",
    "negative_sentiment = grouped['Negative'].tolist()\n"
   ]
  },
  {
   "cell_type": "code",
   "execution_count": 32,
   "id": "01a406ac-0f1b-47af-b1eb-cac97f50c83f",
   "metadata": {},
   "outputs": [
    {
     "data": {
      "image/png": "[encoded data removed]",
      "text/plain": [
       "<Figure size 640x480 with 1 Axes>"
      ]
     },
     "metadata": {},
     "output_type": "display_data"
    }
   ],
   "source": [
    "\n",
    "# Line plot\n",
    "plt.plot(timeline, positive_sentiment, label='Positive')\n",
    "plt.plot(timeline, negative_sentiment, label='Negative')\n",
    "#plt.plot(timeline, neutral_sentiment, label='Neutral')\n",
    "plt.xlabel('Timeline')\n",
    "plt.ylabel('Count')\n",
    "plt.title('Sentiment Distribution over Time')\n",
    "plt.legend()\n",
    "plt.xticks(rotation=45)\n",
    "plt.show()"
   ]
  },
  {
   "cell_type": "code",
   "execution_count": 24,
   "id": "96544568-a5ce-4d28-917d-658700605b0a",
   "metadata": {},
   "outputs": [],
   "source": [
    "df_pos = df2[df2['sentiment_text'] == 'Positive']\n",
    "df_neg = df2[df2['sentiment_text'] == 'Negative']"
   ]
  },
  {
   "cell_type": "code",
   "execution_count": 26,
   "id": "2904122b-0600-4084-9202-34092b97468e",
   "metadata": {},
   "outputs": [],
   "source": [
    "#saving with sentiment\n",
    "df_pos.to_parquet('04_pos_df.parquet')\n",
    "df_neg.to_parquet('05_neg_df.parquet')"
   ]
  },
  {
   "cell_type": "markdown",
   "id": "624943c6-a85d-4508-848b-46de144ebabe",
   "metadata": {},
   "source": [
    "## Zero Shot Classification"
   ]
  },
  {
   "cell_type": "code",
   "execution_count": 4,
   "id": "d9c62e11-d305-4e7d-91e4-a89278408693",
   "metadata": {},
   "outputs": [
    {
     "name": "stdout",
     "output_type": "stream",
     "text": [
      "CPU times: user 1min 23s, sys: 18.3 s, total: 1min 41s\n",
      "Wall time: 1min 35s\n"
     ]
    },
    {
     "data": {
      "text/plain": [
       "(198564, 10)"
      ]
     },
     "execution_count": 4,
     "metadata": {},
     "output_type": "execute_result"
    }
   ],
   "source": [
    "%%time\n",
    "\n",
    "df_news = pd.read_parquet('03_sent_df.parquet', engine='pyarrow')\n",
    "df_news.shape"
   ]
  },
  {
   "cell_type": "code",
   "execution_count": 30,
   "id": "c60849f9-807f-4b78-b6fe-98ab4f5e0610",
   "metadata": {},
   "outputs": [
    {
     "name": "stderr",
     "output_type": "stream",
     "text": [
      "No model was supplied, defaulted to roberta-large-mnli and revision 130fb28 (https://huggingface.co/roberta-large-mnli).\n",
      "Using a pipeline without specifying a model name and revision in production is not recommended.\n"
     ]
    },
    {
     "data": {
      "application/vnd.jupyter.widget-view+json": {
       "model_id": "07c8290bc5de426d800e3c3a7a6f0944",
       "version_major": 2,
       "version_minor": 0
      },
      "text/plain": [
       "Downloading (…)lve/main/config.json:   0%|          | 0.00/688 [00:00<?, ?B/s]"
      ]
     },
     "metadata": {},
     "output_type": "display_data"
    },
    {
     "data": {
      "application/vnd.jupyter.widget-view+json": {
       "model_id": "f4a830d7e00e4706bfc4b1953fd688c8",
       "version_major": 2,
       "version_minor": 0
      },
      "text/plain": [
       "Downloading tf_model.h5:   0%|          | 0.00/1.43G [00:00<?, ?B/s]"
      ]
     },
     "metadata": {},
     "output_type": "display_data"
    },
    {
     "name": "stderr",
     "output_type": "stream",
     "text": [
      "2023-05-20 22:49:38.923935: I tensorflow/core/platform/cpu_feature_guard.cc:193] This TensorFlow binary is optimized with oneAPI Deep Neural Network Library (oneDNN) to use the following CPU instructions in performance-critical operations:  AVX2 FMA\n",
      "To enable them in other operations, rebuild TensorFlow with the appropriate compiler flags.\n",
      "All model checkpoint layers were used when initializing TFRobertaForSequenceClassification.\n",
      "\n",
      "All the layers of TFRobertaForSequenceClassification were initialized from the model checkpoint at roberta-large-mnli.\n",
      "If your task is similar to the task the model of the checkpoint was trained on, you can already use TFRobertaForSequenceClassification for predictions without further training.\n"
     ]
    },
    {
     "data": {
      "application/vnd.jupyter.widget-view+json": {
       "model_id": "2794201fa57f4f7ebe7ab2482325ddda",
       "version_major": 2,
       "version_minor": 0
      },
      "text/plain": [
       "Downloading (…)olve/main/vocab.json:   0%|          | 0.00/899k [00:00<?, ?B/s]"
      ]
     },
     "metadata": {},
     "output_type": "display_data"
    },
    {
     "data": {
      "application/vnd.jupyter.widget-view+json": {
       "model_id": "fdce6b5e12954b29bc9bd61eb4a4d60c",
       "version_major": 2,
       "version_minor": 0
      },
      "text/plain": [
       "Downloading (…)olve/main/merges.txt:   0%|          | 0.00/456k [00:00<?, ?B/s]"
      ]
     },
     "metadata": {},
     "output_type": "display_data"
    },
    {
     "data": {
      "application/vnd.jupyter.widget-view+json": {
       "model_id": "0e5a10fa945640c4ba2a7c1f5fe9ba0e",
       "version_major": 2,
       "version_minor": 0
      },
      "text/plain": [
       "Downloading (…)/main/tokenizer.json:   0%|          | 0.00/1.36M [00:00<?, ?B/s]"
      ]
     },
     "metadata": {},
     "output_type": "display_data"
    }
   ],
   "source": [
    "from transformers import pipeline\n",
    "import pandas as pd\n",
    "\n",
    "# Load the zero-shot classification pipeline\n",
    "classifier = pipeline(\"zero-shot-classification\")\n"
   ]
  },
  {
   "cell_type": "code",
   "execution_count": 34,
   "id": "3a90c972-7900-4b7d-9b9a-d3958060f132",
   "metadata": {},
   "outputs": [
    {
     "name": "stdout",
     "output_type": "stream",
     "text": [
      "huggingface/tokenizers: The current process just got forked, after parallelism has already been used. Disabling parallelism to avoid deadlocks...\n",
      "To disable this warning, you can either:\n",
      "\t- Avoid using `tokenizers` before the fork if possible\n",
      "\t- Explicitly set the environment variable TOKENIZERS_PARALLELISM=(true | false)\n",
      "Requirement already satisfied: tqdm in /opt/conda/lib/python3.10/site-packages (4.64.1)\n"
     ]
    }
   ],
   "source": [
    "!pip install tqdm"
   ]
  },
  {
   "cell_type": "code",
   "execution_count": null,
   "id": "0e4a408c-6c5e-410b-ac50-9c6a5157fa98",
   "metadata": {},
   "outputs": [],
   "source": [
    "%%time\n",
    "\n",
    "from tqdm import tqdm\n",
    "\n",
    "# Define the candidate labels\n",
    "candidate_labels = [\"technology\", \"non-technology\"]\n",
    "\n",
    "# Function to classify a single news text\n",
    "def classify_text(text):\n",
    "    result = classifier(text, candidate_labels)\n",
    "    return result['labels'][0]\n",
    "\n",
    "tqdm.pandas()\n",
    "\n",
    "# Apply the classification to the dataframe\n",
    "df2['zsc_topic'] = df2['clean_title'].progress_apply(classify_text)\n",
    "\n",
    "# Print the dataframe\n",
    "print(df2)"
   ]
  },
  {
   "cell_type": "code",
   "execution_count": null,
   "id": "4e037eb5-3c69-4f42-9f06-a9877da47e90",
   "metadata": {},
   "outputs": [],
   "source": [
    "df2['zsc_topic'].value_counts()"
   ]
  },
  {
   "cell_type": "code",
   "execution_count": null,
   "id": "b54bc6fe-3c20-4645-be56-0e7c4200d856",
   "metadata": {},
   "outputs": [],
   "source": []
  }
 ],
 "metadata": {
  "environment": {
   "kernel": "python3",
   "name": "tf2-gpu.2-11.m108",
   "type": "gcloud",
   "uri": "gcr.io/deeplearning-platform-release/tf2-gpu.2-11:m108"
  },
  "kernelspec": {
   "display_name": "Python 3 (ipykernel)",
   "language": "python",
   "name": "python3"
  },
  "language_info": {
   "codemirror_mode": {
    "name": "ipython",
    "version": 3
   },
   "file_extension": ".py",
   "mimetype": "text/x-python",
   "name": "python",
   "nbconvert_exporter": "python",
   "pygments_lexer": "ipython3",
   "version": "3.10.10"
  }
 },
 "nbformat": 4,
 "nbformat_minor": 5
}
