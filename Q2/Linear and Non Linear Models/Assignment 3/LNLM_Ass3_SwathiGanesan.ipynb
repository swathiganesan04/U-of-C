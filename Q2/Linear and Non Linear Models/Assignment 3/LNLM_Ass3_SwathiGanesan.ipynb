{
 "cells": [
  {
   "cell_type": "markdown",
   "id": "e18ebd43",
   "metadata": {},
   "source": [
    "### Importing libraries"
   ]
  },
  {
   "cell_type": "code",
   "execution_count": 1,
   "id": "28667ecf",
   "metadata": {},
   "outputs": [],
   "source": [
    "import pandas as pd\n",
    "import numpy as np\n",
    "import Regression\n",
    "from sqlalchemy import create_engine\n",
    "\n",
    "import matplotlib.pyplot as plt\n",
    "import seaborn as sns\n",
    "import sys\n",
    "import copy\n",
    "import math\n",
    "from scipy.stats import chi2\n",
    "\n",
    "\n",
    "import warnings\n",
    "from pandas.core.common import SettingWithCopyWarning\n",
    "\n",
    "\n",
    "\n",
    "warnings.simplefilter(action=\"ignore\", category=SettingWithCopyWarning)"
   ]
  },
  {
   "cell_type": "code",
   "execution_count": 2,
   "id": "2da90a9d",
   "metadata": {},
   "outputs": [
    {
     "data": {
      "text/html": [
       "<div>\n",
       "<style scoped>\n",
       "    .dataframe tbody tr th:only-of-type {\n",
       "        vertical-align: middle;\n",
       "    }\n",
       "\n",
       "    .dataframe tbody tr th {\n",
       "        vertical-align: top;\n",
       "    }\n",
       "\n",
       "    .dataframe thead th {\n",
       "        text-align: right;\n",
       "    }\n",
       "</style>\n",
       "<table border=\"1\" class=\"dataframe\">\n",
       "  <thead>\n",
       "    <tr style=\"text-align: right;\">\n",
       "      <th></th>\n",
       "      <th>CustomerID</th>\n",
       "      <th>Gender</th>\n",
       "      <th>SeniorCitizen</th>\n",
       "      <th>Partner</th>\n",
       "      <th>Dependents</th>\n",
       "      <th>Tenure</th>\n",
       "      <th>PhoneService</th>\n",
       "      <th>MultipleLines</th>\n",
       "      <th>InternetService</th>\n",
       "      <th>OnlineSecurity</th>\n",
       "      <th>...</th>\n",
       "      <th>DeviceProtection</th>\n",
       "      <th>TechSupport</th>\n",
       "      <th>StreamingTV</th>\n",
       "      <th>StreamingMovies</th>\n",
       "      <th>Contract</th>\n",
       "      <th>PaperlessBilling</th>\n",
       "      <th>PaymentMethod</th>\n",
       "      <th>MonthlyCharges</th>\n",
       "      <th>TotalCharges</th>\n",
       "      <th>Churn</th>\n",
       "    </tr>\n",
       "  </thead>\n",
       "  <tbody>\n",
       "    <tr>\n",
       "      <th>0</th>\n",
       "      <td>0002-ORFBO</td>\n",
       "      <td>Female</td>\n",
       "      <td>No</td>\n",
       "      <td>Yes</td>\n",
       "      <td>Yes</td>\n",
       "      <td>9</td>\n",
       "      <td>Yes</td>\n",
       "      <td>No</td>\n",
       "      <td>DSL</td>\n",
       "      <td>No</td>\n",
       "      <td>...</td>\n",
       "      <td>No</td>\n",
       "      <td>Yes</td>\n",
       "      <td>Yes</td>\n",
       "      <td>No</td>\n",
       "      <td>One year</td>\n",
       "      <td>Yes</td>\n",
       "      <td>Mailed check</td>\n",
       "      <td>65.6</td>\n",
       "      <td>593.30</td>\n",
       "      <td>No</td>\n",
       "    </tr>\n",
       "    <tr>\n",
       "      <th>1</th>\n",
       "      <td>0003-MKNFE</td>\n",
       "      <td>Male</td>\n",
       "      <td>No</td>\n",
       "      <td>No</td>\n",
       "      <td>No</td>\n",
       "      <td>9</td>\n",
       "      <td>Yes</td>\n",
       "      <td>Yes</td>\n",
       "      <td>DSL</td>\n",
       "      <td>No</td>\n",
       "      <td>...</td>\n",
       "      <td>No</td>\n",
       "      <td>No</td>\n",
       "      <td>No</td>\n",
       "      <td>Yes</td>\n",
       "      <td>Month-to-month</td>\n",
       "      <td>No</td>\n",
       "      <td>Mailed check</td>\n",
       "      <td>59.9</td>\n",
       "      <td>542.40</td>\n",
       "      <td>No</td>\n",
       "    </tr>\n",
       "    <tr>\n",
       "      <th>2</th>\n",
       "      <td>0004-TLHLJ</td>\n",
       "      <td>Male</td>\n",
       "      <td>No</td>\n",
       "      <td>No</td>\n",
       "      <td>No</td>\n",
       "      <td>4</td>\n",
       "      <td>Yes</td>\n",
       "      <td>No</td>\n",
       "      <td>Fiber optic</td>\n",
       "      <td>No</td>\n",
       "      <td>...</td>\n",
       "      <td>Yes</td>\n",
       "      <td>No</td>\n",
       "      <td>No</td>\n",
       "      <td>No</td>\n",
       "      <td>Month-to-month</td>\n",
       "      <td>Yes</td>\n",
       "      <td>Electronic check</td>\n",
       "      <td>73.9</td>\n",
       "      <td>280.85</td>\n",
       "      <td>Yes</td>\n",
       "    </tr>\n",
       "    <tr>\n",
       "      <th>3</th>\n",
       "      <td>0011-IGKFF</td>\n",
       "      <td>Male</td>\n",
       "      <td>Yes</td>\n",
       "      <td>Yes</td>\n",
       "      <td>No</td>\n",
       "      <td>13</td>\n",
       "      <td>Yes</td>\n",
       "      <td>No</td>\n",
       "      <td>Fiber optic</td>\n",
       "      <td>No</td>\n",
       "      <td>...</td>\n",
       "      <td>Yes</td>\n",
       "      <td>No</td>\n",
       "      <td>Yes</td>\n",
       "      <td>Yes</td>\n",
       "      <td>Month-to-month</td>\n",
       "      <td>Yes</td>\n",
       "      <td>Electronic check</td>\n",
       "      <td>98.0</td>\n",
       "      <td>1237.85</td>\n",
       "      <td>Yes</td>\n",
       "    </tr>\n",
       "    <tr>\n",
       "      <th>4</th>\n",
       "      <td>0013-EXCHZ</td>\n",
       "      <td>Female</td>\n",
       "      <td>Yes</td>\n",
       "      <td>Yes</td>\n",
       "      <td>No</td>\n",
       "      <td>3</td>\n",
       "      <td>Yes</td>\n",
       "      <td>No</td>\n",
       "      <td>Fiber optic</td>\n",
       "      <td>No</td>\n",
       "      <td>...</td>\n",
       "      <td>No</td>\n",
       "      <td>Yes</td>\n",
       "      <td>Yes</td>\n",
       "      <td>No</td>\n",
       "      <td>Month-to-month</td>\n",
       "      <td>Yes</td>\n",
       "      <td>Mailed check</td>\n",
       "      <td>83.9</td>\n",
       "      <td>267.40</td>\n",
       "      <td>Yes</td>\n",
       "    </tr>\n",
       "  </tbody>\n",
       "</table>\n",
       "<p>5 rows × 21 columns</p>\n",
       "</div>"
      ],
      "text/plain": [
       "   CustomerID  Gender SeniorCitizen Partner Dependents  Tenure PhoneService  \\\n",
       "0  0002-ORFBO  Female            No     Yes        Yes       9          Yes   \n",
       "1  0003-MKNFE    Male            No      No         No       9          Yes   \n",
       "2  0004-TLHLJ    Male            No      No         No       4          Yes   \n",
       "3  0011-IGKFF    Male           Yes     Yes         No      13          Yes   \n",
       "4  0013-EXCHZ  Female           Yes     Yes         No       3          Yes   \n",
       "\n",
       "  MultipleLines InternetService OnlineSecurity  ... DeviceProtection  \\\n",
       "0            No             DSL             No  ...               No   \n",
       "1           Yes             DSL             No  ...               No   \n",
       "2            No     Fiber optic             No  ...              Yes   \n",
       "3            No     Fiber optic             No  ...              Yes   \n",
       "4            No     Fiber optic             No  ...               No   \n",
       "\n",
       "  TechSupport StreamingTV StreamingMovies        Contract PaperlessBilling  \\\n",
       "0         Yes         Yes              No        One year              Yes   \n",
       "1          No          No             Yes  Month-to-month               No   \n",
       "2          No          No              No  Month-to-month              Yes   \n",
       "3          No         Yes             Yes  Month-to-month              Yes   \n",
       "4         Yes         Yes              No  Month-to-month              Yes   \n",
       "\n",
       "      PaymentMethod MonthlyCharges  TotalCharges  Churn  \n",
       "0      Mailed check           65.6        593.30     No  \n",
       "1      Mailed check           59.9        542.40     No  \n",
       "2  Electronic check           73.9        280.85    Yes  \n",
       "3  Electronic check           98.0       1237.85    Yes  \n",
       "4      Mailed check           83.9        267.40    Yes  \n",
       "\n",
       "[5 rows x 21 columns]"
      ]
     },
     "execution_count": 2,
     "metadata": {},
     "output_type": "execute_result"
    }
   ],
   "source": [
    "df = pd.read_excel('Telco-Customer-Churn.xlsx')\n",
    "df.head()"
   ]
  },
  {
   "cell_type": "code",
   "execution_count": 3,
   "id": "38807c99",
   "metadata": {},
   "outputs": [
    {
     "name": "stdout",
     "output_type": "stream",
     "text": [
      "<class 'pandas.core.frame.DataFrame'>\n",
      "RangeIndex: 7043 entries, 0 to 7042\n",
      "Data columns (total 21 columns):\n",
      " #   Column            Non-Null Count  Dtype  \n",
      "---  ------            --------------  -----  \n",
      " 0   CustomerID        7043 non-null   object \n",
      " 1   Gender            7043 non-null   object \n",
      " 2   SeniorCitizen     7043 non-null   object \n",
      " 3   Partner           7043 non-null   object \n",
      " 4   Dependents        7043 non-null   object \n",
      " 5   Tenure            7043 non-null   int64  \n",
      " 6   PhoneService      7043 non-null   object \n",
      " 7   MultipleLines     7043 non-null   object \n",
      " 8   InternetService   7043 non-null   object \n",
      " 9   OnlineSecurity    7043 non-null   object \n",
      " 10  OnlineBackup      7043 non-null   object \n",
      " 11  DeviceProtection  7043 non-null   object \n",
      " 12  TechSupport       7043 non-null   object \n",
      " 13  StreamingTV       7043 non-null   object \n",
      " 14  StreamingMovies   7043 non-null   object \n",
      " 15  Contract          7043 non-null   object \n",
      " 16  PaperlessBilling  7043 non-null   object \n",
      " 17  PaymentMethod     7043 non-null   object \n",
      " 18  MonthlyCharges    7043 non-null   float64\n",
      " 19  TotalCharges      7032 non-null   float64\n",
      " 20  Churn             7043 non-null   object \n",
      "dtypes: float64(2), int64(1), object(18)\n",
      "memory usage: 1.1+ MB\n"
     ]
    }
   ],
   "source": [
    "df.info()"
   ]
  },
  {
   "cell_type": "code",
   "execution_count": 4,
   "id": "58427a17",
   "metadata": {},
   "outputs": [
    {
     "data": {
      "text/plain": [
       "CustomerID            0002-ORFBO\n",
       "Gender                    Female\n",
       "SeniorCitizen                 No\n",
       "Partner                      Yes\n",
       "Dependents                   Yes\n",
       "Tenure                         9\n",
       "PhoneService                 Yes\n",
       "MultipleLines                 No\n",
       "InternetService              DSL\n",
       "OnlineSecurity                No\n",
       "OnlineBackup                 Yes\n",
       "DeviceProtection              No\n",
       "TechSupport                  Yes\n",
       "StreamingTV                  Yes\n",
       "StreamingMovies               No\n",
       "Contract                One year\n",
       "PaperlessBilling             Yes\n",
       "PaymentMethod       Mailed check\n",
       "MonthlyCharges              65.6\n",
       "TotalCharges               593.3\n",
       "Churn                         No\n",
       "Name: 0, dtype: object"
      ]
     },
     "execution_count": 4,
     "metadata": {},
     "output_type": "execute_result"
    }
   ],
   "source": [
    "df.iloc[0].T"
   ]
  },
  {
   "cell_type": "code",
   "execution_count": 5,
   "id": "c55e576d",
   "metadata": {},
   "outputs": [
    {
     "data": {
      "text/plain": [
       "CustomerID           0\n",
       "Gender               0\n",
       "SeniorCitizen        0\n",
       "Partner              0\n",
       "Dependents           0\n",
       "Tenure               0\n",
       "PhoneService         0\n",
       "MultipleLines        0\n",
       "InternetService      0\n",
       "OnlineSecurity       0\n",
       "OnlineBackup         0\n",
       "DeviceProtection     0\n",
       "TechSupport          0\n",
       "StreamingTV          0\n",
       "StreamingMovies      0\n",
       "Contract             0\n",
       "PaperlessBilling     0\n",
       "PaymentMethod        0\n",
       "MonthlyCharges       0\n",
       "TotalCharges        11\n",
       "Churn                0\n",
       "dtype: int64"
      ]
     },
     "execution_count": 5,
     "metadata": {},
     "output_type": "execute_result"
    }
   ],
   "source": [
    "df.isna().sum()"
   ]
  },
  {
   "cell_type": "code",
   "execution_count": 6,
   "id": "b6bdcde1",
   "metadata": {},
   "outputs": [
    {
     "data": {
      "text/plain": [
       "index               0\n",
       "CustomerID          0\n",
       "Gender              0\n",
       "SeniorCitizen       0\n",
       "Partner             0\n",
       "Dependents          0\n",
       "Tenure              0\n",
       "PhoneService        0\n",
       "MultipleLines       0\n",
       "InternetService     0\n",
       "OnlineSecurity      0\n",
       "OnlineBackup        0\n",
       "DeviceProtection    0\n",
       "TechSupport         0\n",
       "StreamingTV         0\n",
       "StreamingMovies     0\n",
       "Contract            0\n",
       "PaperlessBilling    0\n",
       "PaymentMethod       0\n",
       "MonthlyCharges      0\n",
       "TotalCharges        0\n",
       "Churn               0\n",
       "dtype: int64"
      ]
     },
     "execution_count": 6,
     "metadata": {},
     "output_type": "execute_result"
    }
   ],
   "source": [
    "df = df.dropna().reset_index()\n",
    "df.isna().sum()"
   ]
  },
  {
   "cell_type": "code",
   "execution_count": 7,
   "id": "db47f097",
   "metadata": {},
   "outputs": [
    {
     "data": {
      "text/html": [
       "<div>\n",
       "<style scoped>\n",
       "    .dataframe tbody tr th:only-of-type {\n",
       "        vertical-align: middle;\n",
       "    }\n",
       "\n",
       "    .dataframe tbody tr th {\n",
       "        vertical-align: top;\n",
       "    }\n",
       "\n",
       "    .dataframe thead th {\n",
       "        text-align: right;\n",
       "    }\n",
       "</style>\n",
       "<table border=\"1\" class=\"dataframe\">\n",
       "  <thead>\n",
       "    <tr style=\"text-align: right;\">\n",
       "      <th></th>\n",
       "      <th>index</th>\n",
       "      <th>Tenure</th>\n",
       "      <th>MonthlyCharges</th>\n",
       "      <th>TotalCharges</th>\n",
       "    </tr>\n",
       "  </thead>\n",
       "  <tbody>\n",
       "    <tr>\n",
       "      <th>count</th>\n",
       "      <td>7032.000000</td>\n",
       "      <td>7032.000000</td>\n",
       "      <td>7032.000000</td>\n",
       "      <td>7032.000000</td>\n",
       "    </tr>\n",
       "    <tr>\n",
       "      <th>mean</th>\n",
       "      <td>3522.306314</td>\n",
       "      <td>32.421786</td>\n",
       "      <td>64.798208</td>\n",
       "      <td>2283.300441</td>\n",
       "    </tr>\n",
       "    <tr>\n",
       "      <th>std</th>\n",
       "      <td>2034.073173</td>\n",
       "      <td>24.545260</td>\n",
       "      <td>30.085974</td>\n",
       "      <td>2266.771362</td>\n",
       "    </tr>\n",
       "    <tr>\n",
       "      <th>min</th>\n",
       "      <td>0.000000</td>\n",
       "      <td>1.000000</td>\n",
       "      <td>18.250000</td>\n",
       "      <td>18.800000</td>\n",
       "    </tr>\n",
       "    <tr>\n",
       "      <th>25%</th>\n",
       "      <td>1759.750000</td>\n",
       "      <td>9.000000</td>\n",
       "      <td>35.587500</td>\n",
       "      <td>401.450000</td>\n",
       "    </tr>\n",
       "    <tr>\n",
       "      <th>50%</th>\n",
       "      <td>3524.500000</td>\n",
       "      <td>29.000000</td>\n",
       "      <td>70.350000</td>\n",
       "      <td>1397.475000</td>\n",
       "    </tr>\n",
       "    <tr>\n",
       "      <th>75%</th>\n",
       "      <td>5283.250000</td>\n",
       "      <td>55.000000</td>\n",
       "      <td>89.862500</td>\n",
       "      <td>3794.737500</td>\n",
       "    </tr>\n",
       "    <tr>\n",
       "      <th>max</th>\n",
       "      <td>7042.000000</td>\n",
       "      <td>72.000000</td>\n",
       "      <td>118.750000</td>\n",
       "      <td>8684.800000</td>\n",
       "    </tr>\n",
       "  </tbody>\n",
       "</table>\n",
       "</div>"
      ],
      "text/plain": [
       "             index       Tenure  MonthlyCharges  TotalCharges\n",
       "count  7032.000000  7032.000000     7032.000000   7032.000000\n",
       "mean   3522.306314    32.421786       64.798208   2283.300441\n",
       "std    2034.073173    24.545260       30.085974   2266.771362\n",
       "min       0.000000     1.000000       18.250000     18.800000\n",
       "25%    1759.750000     9.000000       35.587500    401.450000\n",
       "50%    3524.500000    29.000000       70.350000   1397.475000\n",
       "75%    5283.250000    55.000000       89.862500   3794.737500\n",
       "max    7042.000000    72.000000      118.750000   8684.800000"
      ]
     },
     "execution_count": 7,
     "metadata": {},
     "output_type": "execute_result"
    }
   ],
   "source": [
    "df.describe()"
   ]
  },
  {
   "cell_type": "code",
   "execution_count": 8,
   "id": "4391e45f",
   "metadata": {},
   "outputs": [
    {
     "data": {
      "text/plain": [
       "Index(['index', 'CustomerID', 'Gender', 'SeniorCitizen', 'Partner',\n",
       "       'Dependents', 'Tenure', 'PhoneService', 'MultipleLines',\n",
       "       'InternetService', 'OnlineSecurity', 'OnlineBackup', 'DeviceProtection',\n",
       "       'TechSupport', 'StreamingTV', 'StreamingMovies', 'Contract',\n",
       "       'PaperlessBilling', 'PaymentMethod', 'MonthlyCharges', 'TotalCharges',\n",
       "       'Churn'],\n",
       "      dtype='object')"
      ]
     },
     "execution_count": 8,
     "metadata": {},
     "output_type": "execute_result"
    }
   ],
   "source": [
    "df.columns"
   ]
  },
  {
   "cell_type": "code",
   "execution_count": 9,
   "id": "cf14faad",
   "metadata": {},
   "outputs": [],
   "source": [
    "target = 'Churn'\n",
    "cat_cols = ['Gender', 'SeniorCitizen', 'Partner', 'Dependents', 'PhoneService', 'MultipleLines', 'InternetService', \n",
    "            'Contract', 'PaperlessBilling']\n",
    "    \n",
    "int_cols = ['MonthlyCharges', 'Tenure', 'TotalCharges']\n",
    "pred_vars = cat_cols + int_cols\n",
    "\n",
    "df['Churn'] = df['Churn'].map({'Yes': 1, 'No': 0})"
   ]
  },
  {
   "cell_type": "markdown",
   "id": "658388c9",
   "metadata": {},
   "source": [
    "#### Question 1"
   ]
  },
  {
   "cell_type": "code",
   "execution_count": 10,
   "id": "7569b87f",
   "metadata": {},
   "outputs": [
    {
     "data": {
      "image/png": "[encoded data removed]",
      "text/plain": [
       "<Figure size 360x360 with 1 Axes>"
      ]
     },
     "metadata": {
      "needs_background": "light"
     },
     "output_type": "display_data"
    },
    {
     "name": "stdout",
     "output_type": "stream",
     "text": [
      "Odds of Churn for each category of Gender:\n",
      "Female: 0.3691037735849057 (Higher than average)\n",
      "Male: 0.3550973654066437 (Higher than average)\n"
     ]
    },
    {
     "data": {
      "image/png": "[encoded data removed]",
      "text/plain": [
       "<Figure size 360x360 with 1 Axes>"
      ]
     },
     "metadata": {
      "needs_background": "light"
     },
     "output_type": "display_data"
    },
    {
     "name": "stdout",
     "output_type": "stream",
     "text": [
      "Odds of Churn for each category of SeniorCitizen:\n",
      "Yes: 0.7147147147147146 (Higher than average)\n",
      "No: 0.3097620635979542 (Higher than average)\n"
     ]
    },
    {
     "data": {
      "image/png": "[encoded data removed]",
      "text/plain": [
       "<Figure size 360x360 with 1 Axes>"
      ]
     },
     "metadata": {
      "needs_background": "light"
     },
     "output_type": "display_data"
    },
    {
     "name": "stdout",
     "output_type": "stream",
     "text": [
      "Odds of Churn for each category of Partner:\n",
      "No: 0.49200492004920054 (Higher than average)\n",
      "Yes: 0.24559471365638766 (Lower than average)\n"
     ]
    },
    {
     "data": {
      "image/png": "[encoded data removed]",
      "text/plain": [
       "<Figure size 360x360 with 1 Axes>"
      ]
     },
     "metadata": {
      "needs_background": "light"
     },
     "output_type": "display_data"
    },
    {
     "name": "stdout",
     "output_type": "stream",
     "text": [
      "Odds of Churn for each category of Dependents:\n",
      "No: 0.45516224188790555 (Higher than average)\n",
      "Yes: 0.18386914833615342 (Lower than average)\n"
     ]
    },
    {
     "data": {
      "image/png": "[encoded data removed]",
      "text/plain": [
       "<Figure size 360x360 with 1 Axes>"
      ]
     },
     "metadata": {
      "needs_background": "light"
     },
     "output_type": "display_data"
    },
    {
     "name": "stdout",
     "output_type": "stream",
     "text": [
      "Odds of Churn for each category of PhoneService:\n",
      "Yes: 0.3651407693960886 (Higher than average)\n",
      "No: 0.3333333333333333 (Higher than average)\n"
     ]
    },
    {
     "data": {
      "image/png": "[encoded data removed]",
      "text/plain": [
       "<Figure size 360x360 with 1 Axes>"
      ]
     },
     "metadata": {
      "needs_background": "light"
     },
     "output_type": "display_data"
    },
    {
     "name": "stdout",
     "output_type": "stream",
     "text": [
      "Odds of Churn for each category of MultipleLines:\n",
      "Yes: 0.4015115729806329 (Higher than average)\n",
      "No: 0.3347791798107256 (Higher than average)\n",
      "No phone service: 0.3333333333333333 (Higher than average)\n"
     ]
    },
    {
     "data": {
      "image/png": "[encoded data removed]",
      "text/plain": [
       "<Figure size 360x360 with 1 Axes>"
      ]
     },
     "metadata": {
      "needs_background": "light"
     },
     "output_type": "display_data"
    },
    {
     "name": "stdout",
     "output_type": "stream",
     "text": [
      "Odds of Churn for each category of InternetService:\n",
      "Fiber optic: 0.7209560867148416 (Higher than average)\n",
      "DSL: 0.23454266734798163 (Lower than average)\n",
      "No: 0.08031272210376687 (Lower than average)\n"
     ]
    },
    {
     "data": {
      "image/png": "[encoded data removed]",
      "text/plain": [
       "<Figure size 360x360 with 1 Axes>"
      ]
     },
     "metadata": {
      "needs_background": "light"
     },
     "output_type": "display_data"
    },
    {
     "name": "stdout",
     "output_type": "stream",
     "text": [
      "Odds of Churn for each category of Contract:\n",
      "Month-to-month: 0.7454954954954955 (Higher than average)\n",
      "One year: 0.12710566615620214 (Lower than average)\n",
      "Two year: 0.029321930360415395 (Lower than average)\n"
     ]
    },
    {
     "data": {
      "image/png": "[encoded data removed]",
      "text/plain": [
       "<Figure size 360x360 with 1 Axes>"
      ]
     },
     "metadata": {
      "needs_background": "light"
     },
     "output_type": "display_data"
    },
    {
     "name": "stdout",
     "output_type": "stream",
     "text": [
      "Odds of Churn for each category of PaperlessBilling:\n",
      "Yes: 0.5057803468208092 (Higher than average)\n",
      "No: 0.19582463465553238 (Lower than average)\n"
     ]
    }
   ],
   "source": [
    "\n",
    "def plot_categorical_predictors(data, target):\n",
    "    # Group data by categorical predictors and calculate odds of churn for each category\n",
    "    for predictor in data.columns:\n",
    "        if predictor in cat_cols:\n",
    "            target_mean = data.groupby(predictor)[target].mean()\n",
    "            odds = target_mean / (1 - target_mean)\n",
    "            odds = odds.sort_values(ascending=False)\n",
    "            \n",
    "            # Plot bar chart and add reference line\n",
    "            sns.catplot(x=predictor, y=target, data=data, kind='bar', order=odds.index)\n",
    "            plt.axhline(data[target].mean(), color='gray', linestyle='dashed')\n",
    "            plt.title('Odds of Churn for each category of ' + predictor)\n",
    "            plt.show()\n",
    "            \n",
    "            # Print odds of churn for each category and comment on its impact on the target variable\n",
    "            print('Odds of Churn for each category of ' + predictor + ':')\n",
    "            for category, odd in odds.iteritems():\n",
    "                if odd > data[target].mean():\n",
    "                    print(category + ': ' + str(odd) + ' (Higher than average)')\n",
    "                else:\n",
    "                    print(category + ': ' + str(odd) + ' (Lower than average)')\n",
    "\n",
    "# Call plot_categorical_predictors function\n",
    "plot_categorical_predictors(df, target)\n"
   ]
  },
  {
   "cell_type": "code",
   "execution_count": 11,
   "id": "dada540b",
   "metadata": {},
   "outputs": [
    {
     "data": {
      "image/png": "[encoded data removed]",
      "text/plain": [
       "<Figure size 432x288 with 1 Axes>"
      ]
     },
     "metadata": {
      "needs_background": "light"
     },
     "output_type": "display_data"
    },
    {
     "name": "stdout",
     "output_type": "stream",
     "text": [
      "Tenure mean: 32.421786120591584\n",
      "May affect the target variable as it has lower values for one target category and higher values for the other\n"
     ]
    },
    {
     "data": {
      "image/png": "[encoded data removed]",
      "text/plain": [
       "<Figure size 432x288 with 1 Axes>"
      ]
     },
     "metadata": {
      "needs_background": "light"
     },
     "output_type": "display_data"
    },
    {
     "name": "stdout",
     "output_type": "stream",
     "text": [
      "MonthlyCharges mean: 64.7982081911263\n",
      "May affect the target variable as it has higher values for one target category and lower values for the other\n"
     ]
    },
    {
     "data": {
      "image/png": "[encoded data removed]",
      "text/plain": [
       "<Figure size 432x288 with 1 Axes>"
      ]
     },
     "metadata": {
      "needs_background": "light"
     },
     "output_type": "display_data"
    },
    {
     "name": "stdout",
     "output_type": "stream",
     "text": [
      "TotalCharges mean: 2283.3004408418633\n",
      "May affect the target variable as it has lower values for one target category and higher values for the other\n"
     ]
    }
   ],
   "source": [
    "def plot_interval_predictors(data, target):\n",
    "    # Plot horizontal boxplot for each interval predictor\n",
    "    for predictor in data.columns:\n",
    "        if predictor in int_cols:\n",
    "            sns.boxplot(x=predictor, y=target, data=data, orient='h')\n",
    "            plt.axvline(data[predictor].mean(), color='gray', linestyle='dashed')\n",
    "            plt.title(predictor + ' grouped by target categories')\n",
    "            plt.show()\n",
    "            \n",
    "            # Print mean of interval predictor and comment on its impact on the target variable\n",
    "            print(predictor + ' mean: ' + str(data[predictor].mean()))\n",
    "            target_0_mean = data[data[target] == 0][predictor].mean()\n",
    "            target_1_mean = data[data[target] == 1][predictor].mean()\n",
    "            if target_0_mean < data[predictor].mean() and target_1_mean > data[predictor].mean():\n",
    "                print('May affect the target variable as it has higher values for one target category and lower values for the other')\n",
    "            elif target_0_mean > data[predictor].mean() and target_1_mean < data[predictor].mean():\n",
    "                print('May affect the target variable as it has lower values for one target category and higher values for the other')\n",
    "            else:\n",
    "                print('Does not seem to affect the target variable')\n",
    "\n",
    "# Call plot_interval_predictors function\n",
    "plot_interval_predictors(df, target)\n"
   ]
  },
  {
   "cell_type": "markdown",
   "id": "151fd34e",
   "metadata": {},
   "source": [
    "#### Question 2\n",
    "\n",
    "a) Please provide a summary report of the Backward Selection. The report should include\n",
    "(1) the step number, (2) the predictor removed, (3) the number of non-aliased parameters in the\n",
    "current model, (4) the log-likelihood value of the current model, (5) the Deviance Chi-squares\n",
    "statistic between the current and the previous models, (6) the corresponding Deviance Degree of\n",
    "Freedom, and (7) the corresponding Chi-square significance."
   ]
  },
  {
   "cell_type": "code",
   "execution_count": 12,
   "id": "92f32ff6",
   "metadata": {},
   "outputs": [
    {
     "data": {
      "text/plain": [
       "(7032, 13)"
      ]
     },
     "execution_count": 12,
     "metadata": {},
     "output_type": "execute_result"
    }
   ],
   "source": [
    "train_data = df[[target] + pred_vars]   # Only necessary variables\n",
    "train_data = train_data.dropna().reset_index(drop=True)              # Remove missing values\n",
    "train_data.shape"
   ]
  },
  {
   "cell_type": "code",
   "execution_count": 13,
   "id": "ea7d2d37",
   "metadata": {},
   "outputs": [],
   "source": [
    "\n",
    "def create_term_var(col) :\n",
    "    if col in cat_cols :\n",
    "        # Reorder the categories in ascending order of frequencies of the target field\n",
    "        u = trainData[col].astype('category')\n",
    "        u_freq = u.value_counts(ascending = True)\n",
    "        pm = u.cat.reorder_categories(list(u_freq.index))\n",
    "        term_var = pd.get_dummies(pm)\n",
    "    else :\n",
    "        term_var = trainData[[col]]\n",
    "    return term_var\n",
    "\n",
    "\n",
    "\n",
    "def update_step_summary(preds, y_train, llk_0, df_0):\n",
    "    # Find the predictor\n",
    "    step_detail = []\n",
    "    for i in preds :\n",
    "        step_preds = preds.copy()\n",
    "        step_preds.remove(i)\n",
    "        X = trainData[[i]].copy()\n",
    "        for step_cat in step_preds :\n",
    "            X = X.join(create_term_var(step_cat),rsuffix=\"_\"+step_cat)\n",
    "        X.insert(0, 'Intercept', 1.0)\n",
    "        X.drop(columns = [i], inplace = True)     \n",
    "\n",
    "        outList = Regression.BinaryLogisticRegression(X, y_train)\n",
    "        llk_1 = outList[3]\n",
    "        df_1 = len(outList[4])\n",
    "\n",
    "        deviance_chisq = 2 * (llk_0 - llk_1)\n",
    "        deviance_df = df_0 - df_1\n",
    "        deviance_sig = chi2.sf(deviance_chisq, deviance_df)\n",
    "        step_detail.append([i, df_1, llk_1, deviance_chisq, deviance_df, deviance_sig, outList])\n",
    "    step_detail_df = pd.DataFrame(step_detail, columns=columns+['output'])\n",
    "    max_index = step_detail_df['Chi-Square Significance'].idxmax()\n",
    "    if any(step_detail_df['Chi-Square Significance'].isna()):\n",
    "        max_index = step_detail_df.index[step_detail_df['Chi-Square Significance'].isna()].tolist()[0]\n",
    "    max_row = step_detail_df.iloc[max_index].tolist()\n",
    "        \n",
    "    return max_row\n",
    "\n",
    "\n",
    "def backward_selection() :\n",
    "    preds = pred_vars.copy()\n",
    "    y_train = trainData[target]\n",
    "\n",
    "    X_train = trainData[[target]].copy()\n",
    "    for cat in pred_vars :\n",
    "        X_train = X_train.join(create_term_var(cat),rsuffix=\"_\"+cat)\n",
    "\n",
    "    X_train.insert(0, 'Intercept', 1.0)\n",
    "    X_train.drop(columns = [target], inplace = True)\n",
    "\n",
    "    step_summary = []\n",
    "\n",
    "    outList = Regression.BinaryLogisticRegression(X_train, y_train)\n",
    "    llk_0 = outList[3]\n",
    "    df_0 = len(outList[4])\n",
    "    step_summary.append(['_ALL_', df_0, llk_0, np.nan, np.nan, np.nan])\n",
    "\n",
    "    chi_sig = 100\n",
    "    threshold = 0.01\n",
    "    out_latest_pr = 0 \n",
    "    \n",
    "    while chi_sig > threshold or math.isnan(chi_sig):\n",
    "        if len(preds) == 0 :\n",
    "            break\n",
    "        else :\n",
    "            row = update_step_summary(preds, y_train, llk_0, df_0)\n",
    "            llk_0 = row[2]\n",
    "            df_0 = row[1]\n",
    "            chi_sig = row[-2]\n",
    "            if chi_sig > threshold or math.isnan(chi_sig):\n",
    "                step_summary.append(row[:-1])\n",
    "                X_train = X_train.join(create_term_var(row[0]),rsuffix=\"_\"+row[0])\n",
    "                out_latest_pr = row[-1]\n",
    "            preds.remove(row[0])\n",
    "\n",
    "    return step_summary, out_latest_pr\n",
    "    "
   ]
  },
  {
   "cell_type": "code",
   "execution_count": 14,
   "id": "f454d5ac",
   "metadata": {},
   "outputs": [
    {
     "data": {
      "text/html": [
       "<div>\n",
       "<style scoped>\n",
       "    .dataframe tbody tr th:only-of-type {\n",
       "        vertical-align: middle;\n",
       "    }\n",
       "\n",
       "    .dataframe tbody tr th {\n",
       "        vertical-align: top;\n",
       "    }\n",
       "\n",
       "    .dataframe thead th {\n",
       "        text-align: right;\n",
       "    }\n",
       "</style>\n",
       "<table border=\"1\" class=\"dataframe\">\n",
       "  <thead>\n",
       "    <tr style=\"text-align: right;\">\n",
       "      <th></th>\n",
       "      <th>Step</th>\n",
       "      <th>Predictor</th>\n",
       "      <th>Non-Aliased Parameters</th>\n",
       "      <th>Log-Likelihood</th>\n",
       "      <th>Deviance Chi-Squares</th>\n",
       "      <th>Degrees of Freedom</th>\n",
       "      <th>Chi-Square Significance</th>\n",
       "    </tr>\n",
       "  </thead>\n",
       "  <tbody>\n",
       "    <tr>\n",
       "      <th>0</th>\n",
       "      <td>0</td>\n",
       "      <td>_ALL_</td>\n",
       "      <td>15</td>\n",
       "      <td>-2967.432712</td>\n",
       "      <td>NaN</td>\n",
       "      <td>NaN</td>\n",
       "      <td>NaN</td>\n",
       "    </tr>\n",
       "    <tr>\n",
       "      <th>1</th>\n",
       "      <td>1</td>\n",
       "      <td>PhoneService</td>\n",
       "      <td>15</td>\n",
       "      <td>-2967.432712</td>\n",
       "      <td>0.000000</td>\n",
       "      <td>0.0</td>\n",
       "      <td>NaN</td>\n",
       "    </tr>\n",
       "    <tr>\n",
       "      <th>2</th>\n",
       "      <td>2</td>\n",
       "      <td>Gender</td>\n",
       "      <td>14</td>\n",
       "      <td>-2967.452521</td>\n",
       "      <td>0.039619</td>\n",
       "      <td>1.0</td>\n",
       "      <td>0.842227</td>\n",
       "    </tr>\n",
       "    <tr>\n",
       "      <th>3</th>\n",
       "      <td>3</td>\n",
       "      <td>Partner</td>\n",
       "      <td>13</td>\n",
       "      <td>-2967.474361</td>\n",
       "      <td>0.043678</td>\n",
       "      <td>1.0</td>\n",
       "      <td>0.834453</td>\n",
       "    </tr>\n",
       "    <tr>\n",
       "      <th>4</th>\n",
       "      <td>4</td>\n",
       "      <td>MonthlyCharges</td>\n",
       "      <td>12</td>\n",
       "      <td>-2967.598075</td>\n",
       "      <td>0.247429</td>\n",
       "      <td>1.0</td>\n",
       "      <td>0.618891</td>\n",
       "    </tr>\n",
       "    <tr>\n",
       "      <th>5</th>\n",
       "      <td>5</td>\n",
       "      <td>Dependents</td>\n",
       "      <td>11</td>\n",
       "      <td>-2969.968198</td>\n",
       "      <td>4.740246</td>\n",
       "      <td>1.0</td>\n",
       "      <td>0.029465</td>\n",
       "    </tr>\n",
       "  </tbody>\n",
       "</table>\n",
       "</div>"
      ],
      "text/plain": [
       "   Step       Predictor  Non-Aliased Parameters  Log-Likelihood  \\\n",
       "0     0           _ALL_                      15    -2967.432712   \n",
       "1     1    PhoneService                      15    -2967.432712   \n",
       "2     2          Gender                      14    -2967.452521   \n",
       "3     3         Partner                      13    -2967.474361   \n",
       "4     4  MonthlyCharges                      12    -2967.598075   \n",
       "5     5      Dependents                      11    -2969.968198   \n",
       "\n",
       "   Deviance Chi-Squares  Degrees of Freedom  Chi-Square Significance  \n",
       "0                   NaN                 NaN                      NaN  \n",
       "1              0.000000                 0.0                      NaN  \n",
       "2              0.039619                 1.0                 0.842227  \n",
       "3              0.043678                 1.0                 0.834453  \n",
       "4              0.247429                 1.0                 0.618891  \n",
       "5              4.740246                 1.0                 0.029465  "
      ]
     },
     "execution_count": 14,
     "metadata": {},
     "output_type": "execute_result"
    }
   ],
   "source": [
    "trainData = train_data.copy()\n",
    "columns = [\"Predictor\", \"Non-Aliased Parameters\", \"Log-Likelihood\", \"Deviance Chi-Squares\",\n",
    "                       \"Degrees of Freedom\", \"Chi-Square Significance\"]\n",
    "\n",
    "report_data, out_pr = backward_selection()\n",
    "\n",
    "\n",
    "report_df = pd.DataFrame(report_data, columns=columns).reset_index(drop=False)\n",
    "report_df.rename(columns={'index': 'Step'}, inplace=True)\n",
    "y_pred = out_pr[6]\n",
    "\n",
    "report_df"
   ]
  },
  {
   "cell_type": "markdown",
   "id": "d3dad78d",
   "metadata": {},
   "source": [
    "\n",
    "b) Please show a table of the complete set of parameters of your final model (including\n",
    "the aliased parameters). Besides the parameter estimates, please also include the standard errors,\n",
    "and the 95% asymptotic confidence intervals. Conventionally, aliased parameters have missing or\n",
    "zero standard errors and confidence intervals.\n"
   ]
  },
  {
   "cell_type": "code",
   "execution_count": 15,
   "id": "c7091f86",
   "metadata": {},
   "outputs": [
    {
     "data": {
      "text/html": [
       "<div>\n",
       "<style scoped>\n",
       "    .dataframe tbody tr th:only-of-type {\n",
       "        vertical-align: middle;\n",
       "    }\n",
       "\n",
       "    .dataframe tbody tr th {\n",
       "        vertical-align: top;\n",
       "    }\n",
       "\n",
       "    .dataframe thead th {\n",
       "        text-align: right;\n",
       "    }\n",
       "</style>\n",
       "<table border=\"1\" class=\"dataframe\">\n",
       "  <thead>\n",
       "    <tr style=\"text-align: right;\">\n",
       "      <th></th>\n",
       "      <th>Estimate</th>\n",
       "      <th>Standard Error</th>\n",
       "      <th>Lower 95% CI</th>\n",
       "      <th>Upper 95% CI</th>\n",
       "    </tr>\n",
       "  </thead>\n",
       "  <tbody>\n",
       "    <tr>\n",
       "      <th>Intercept</th>\n",
       "      <td>0.755166</td>\n",
       "      <td>0.073488</td>\n",
       "      <td>0.611132</td>\n",
       "      <td>0.899200</td>\n",
       "    </tr>\n",
       "    <tr>\n",
       "      <th>Yes</th>\n",
       "      <td>0.320558</td>\n",
       "      <td>0.081422</td>\n",
       "      <td>0.160973</td>\n",
       "      <td>0.480144</td>\n",
       "    </tr>\n",
       "    <tr>\n",
       "      <th>No</th>\n",
       "      <td>0.000000</td>\n",
       "      <td>0.000000</td>\n",
       "      <td>0.000000</td>\n",
       "      <td>0.000000</td>\n",
       "    </tr>\n",
       "    <tr>\n",
       "      <th>No phone service</th>\n",
       "      <td>0.749469</td>\n",
       "      <td>0.128838</td>\n",
       "      <td>0.496952</td>\n",
       "      <td>1.001987</td>\n",
       "    </tr>\n",
       "    <tr>\n",
       "      <th>Yes_MultipleLines</th>\n",
       "      <td>0.293112</td>\n",
       "      <td>0.078420</td>\n",
       "      <td>0.139411</td>\n",
       "      <td>0.446812</td>\n",
       "    </tr>\n",
       "    <tr>\n",
       "      <th>No_MultipleLines</th>\n",
       "      <td>0.000000</td>\n",
       "      <td>0.000000</td>\n",
       "      <td>0.000000</td>\n",
       "      <td>0.000000</td>\n",
       "    </tr>\n",
       "    <tr>\n",
       "      <th>No_InternetService</th>\n",
       "      <td>-1.637993</td>\n",
       "      <td>0.131830</td>\n",
       "      <td>-1.896375</td>\n",
       "      <td>-1.379610</td>\n",
       "    </tr>\n",
       "    <tr>\n",
       "      <th>DSL</th>\n",
       "      <td>-1.006367</td>\n",
       "      <td>0.093156</td>\n",
       "      <td>-1.188950</td>\n",
       "      <td>-0.823784</td>\n",
       "    </tr>\n",
       "    <tr>\n",
       "      <th>Fiber optic</th>\n",
       "      <td>0.000000</td>\n",
       "      <td>0.000000</td>\n",
       "      <td>0.000000</td>\n",
       "      <td>0.000000</td>\n",
       "    </tr>\n",
       "    <tr>\n",
       "      <th>One year</th>\n",
       "      <td>-0.767214</td>\n",
       "      <td>0.104622</td>\n",
       "      <td>-0.972269</td>\n",
       "      <td>-0.562159</td>\n",
       "    </tr>\n",
       "    <tr>\n",
       "      <th>Two year</th>\n",
       "      <td>-1.619149</td>\n",
       "      <td>0.172940</td>\n",
       "      <td>-1.958105</td>\n",
       "      <td>-1.280194</td>\n",
       "    </tr>\n",
       "    <tr>\n",
       "      <th>Month-to-month</th>\n",
       "      <td>0.000000</td>\n",
       "      <td>0.000000</td>\n",
       "      <td>0.000000</td>\n",
       "      <td>0.000000</td>\n",
       "    </tr>\n",
       "    <tr>\n",
       "      <th>No_PaperlessBilling</th>\n",
       "      <td>-0.412285</td>\n",
       "      <td>0.072909</td>\n",
       "      <td>-0.555184</td>\n",
       "      <td>-0.269387</td>\n",
       "    </tr>\n",
       "    <tr>\n",
       "      <th>Yes_PaperlessBilling</th>\n",
       "      <td>0.000000</td>\n",
       "      <td>0.000000</td>\n",
       "      <td>0.000000</td>\n",
       "      <td>0.000000</td>\n",
       "    </tr>\n",
       "    <tr>\n",
       "      <th>Tenure</th>\n",
       "      <td>-0.063022</td>\n",
       "      <td>0.005877</td>\n",
       "      <td>-0.074541</td>\n",
       "      <td>-0.051503</td>\n",
       "    </tr>\n",
       "    <tr>\n",
       "      <th>TotalCharges</th>\n",
       "      <td>0.000313</td>\n",
       "      <td>0.000063</td>\n",
       "      <td>0.000190</td>\n",
       "      <td>0.000437</td>\n",
       "    </tr>\n",
       "  </tbody>\n",
       "</table>\n",
       "</div>"
      ],
      "text/plain": [
       "                      Estimate  Standard Error  Lower 95% CI  Upper 95% CI\n",
       "Intercept             0.755166        0.073488      0.611132      0.899200\n",
       "Yes                   0.320558        0.081422      0.160973      0.480144\n",
       "No                    0.000000        0.000000      0.000000      0.000000\n",
       "No phone service      0.749469        0.128838      0.496952      1.001987\n",
       "Yes_MultipleLines     0.293112        0.078420      0.139411      0.446812\n",
       "No_MultipleLines      0.000000        0.000000      0.000000      0.000000\n",
       "No_InternetService   -1.637993        0.131830     -1.896375     -1.379610\n",
       "DSL                  -1.006367        0.093156     -1.188950     -0.823784\n",
       "Fiber optic           0.000000        0.000000      0.000000      0.000000\n",
       "One year             -0.767214        0.104622     -0.972269     -0.562159\n",
       "Two year             -1.619149        0.172940     -1.958105     -1.280194\n",
       "Month-to-month        0.000000        0.000000      0.000000      0.000000\n",
       "No_PaperlessBilling  -0.412285        0.072909     -0.555184     -0.269387\n",
       "Yes_PaperlessBilling  0.000000        0.000000      0.000000      0.000000\n",
       "Tenure               -0.063022        0.005877     -0.074541     -0.051503\n",
       "TotalCharges          0.000313        0.000063      0.000190      0.000437"
      ]
     },
     "execution_count": 15,
     "metadata": {},
     "output_type": "execute_result"
    }
   ],
   "source": [
    "out_pr[0]"
   ]
  },
  {
   "cell_type": "markdown",
   "id": "d7b14173",
   "metadata": {},
   "source": [
    "c) What is the predicted probability of Churn for a customer with the following profile?\n",
    "Contract One year is Month-to-month, Dependents is No, Gender is Male, InternetService is Fiber\n",
    "optic, MultipleLines is No phone service, PaperlessBilling is Yes, Partner is No, PhoneService is No,\n",
    "SeniorCitizen is Yes, MonthlyCharges is 70, Tenure is 29, and TotalCharges is 1400."
   ]
  },
  {
   "cell_type": "code",
   "execution_count": 16,
   "id": "75549d99",
   "metadata": {},
   "outputs": [
    {
     "name": "stdout",
     "output_type": "stream",
     "text": [
      "The predicted probability of Churn for a customer with the given profile :  0.6073319944090094\n"
     ]
    }
   ],
   "source": [
    "profile = [1,1,0,1,0,0,0,0,1,0,0,1,0,1,29,1400] \n",
    "estimates = out_pr[0][\"Estimate\"].values\n",
    "pred_logit = sum([x*y for x,y in zip(estimates,profile)])\n",
    "pred_odds = np.exp(pred_logit)/(1+np.exp(pred_logit))\n",
    "\n",
    "print(\"The predicted probability of Churn for a customer with the given profile : \",pred_odds)"
   ]
  },
  {
   "cell_type": "markdown",
   "id": "79370bac",
   "metadata": {},
   "source": [
    "#### Question 3"
   ]
  },
  {
   "cell_type": "markdown",
   "id": "c80b4b11",
   "metadata": {},
   "source": [
    "You will assess the goodness-of-fit of your final model in Question 2.\n",
    "\n",
    "a) What is the McFadden’s R-squared, the Cox-Snell’s R-squared, the Nagelkerke’s Rsquared, and the Tjur’s Coefficient of Discrimination?\n",
    "\n",
    "McFadden's R-squared: a measure of the proportion of variance explained by the model compared to a null model. It is calculated as 1 minus the ratio of the log likelihood of the model to the log likelihood of the null model.\n",
    "\n",
    "Cox-Snell's R-squared: a measure of the proportion of variance explained by the model compared to a hypothetical perfect model. It is calculated as the difference between the log likelihood of the model and the log likelihood of the perfect model, divided by the log likelihood of the perfect model.\n",
    "\n",
    "Nagelkerke's R-squared: a modified version of McFadden's R-squared that is scaled to range between 0 and 1. It is calculated as McFadden's R-squared divided by the maximum possible value of McFadden's R-squared.\n",
    "\n",
    "Tjur's coefficient of discrimination: a measure of the difference in predicted probabilities between cases and non-cases. It is calculated as the difference between the mean predicted probability for cases and the mean predicted probability for non-cases."
   ]
  },
  {
   "cell_type": "code",
   "execution_count": 17,
   "id": "636e8c53",
   "metadata": {},
   "outputs": [],
   "source": [
    "# Intercept only model\n",
    "n_sample = trainData.shape[0]\n",
    "y_train = trainData[target]\n",
    "y = y_train.values\n",
    "\n",
    "# Build a model with only the Intercept term\n",
    "X_train = train_data[[target]]\n",
    "X_train.insert(0, 'Intercept', 1.0)\n",
    "X_train = X_train.drop(columns = target)\n",
    "\n",
    "result = Regression.BinaryLogisticRegression (X_train, y_train)\n",
    "\n",
    "outCoefficient = result[0]\n",
    "outCovb = result[1]\n",
    "outCorb = result[2]\n",
    "llk_null = result[3]\n",
    "nonAliasParam = result[4]\n",
    "outIterationTable = result[5]\n",
    "y_pred_intercept_only = result[6]\n",
    "\n",
    "llk_model = report_df.iloc[-1]['Log-Likelihood']"
   ]
  },
  {
   "cell_type": "code",
   "execution_count": 18,
   "id": "327055aa",
   "metadata": {},
   "outputs": [],
   "source": [
    "# McFadden's R-squared\n",
    "R_MF = 1.0 - (llk_model / llk_null)\n",
    "\n",
    "# Cox-Snell's R-squared\n",
    "R_CS = (2.0 / n_sample) * (llk_null - llk_model)\n",
    "R_CS = 1.0 - np.exp(R_CS)\n",
    "\n",
    "# Nagelkerke's R-squared\n",
    "upbound = (2.0 / n_sample) * llk_null\n",
    "upbound = 1.0 - np.exp(upbound)\n",
    "R_N = R_CS / upbound\n",
    "\n",
    "# Tjur's coefficient of discrimination\n",
    "predprob_event = out_pr[6][1]\n",
    "\n",
    "S1 = np.mean(predprob_event[y == 1])\n",
    "S0 = np.mean(predprob_event[y == 0])\n",
    "\n",
    "R_TJ = S1 - S0"
   ]
  },
  {
   "cell_type": "code",
   "execution_count": 19,
   "id": "5d7a0b37",
   "metadata": {},
   "outputs": [
    {
     "data": {
      "text/html": [
       "<div>\n",
       "<style scoped>\n",
       "    .dataframe tbody tr th:only-of-type {\n",
       "        vertical-align: middle;\n",
       "    }\n",
       "\n",
       "    .dataframe tbody tr th {\n",
       "        vertical-align: top;\n",
       "    }\n",
       "\n",
       "    .dataframe thead th {\n",
       "        text-align: right;\n",
       "    }\n",
       "</style>\n",
       "<table border=\"1\" class=\"dataframe\">\n",
       "  <thead>\n",
       "    <tr style=\"text-align: right;\">\n",
       "      <th></th>\n",
       "      <th>Goodness of Fit Test</th>\n",
       "      <th>Result</th>\n",
       "    </tr>\n",
       "  </thead>\n",
       "  <tbody>\n",
       "    <tr>\n",
       "      <th>0</th>\n",
       "      <td>McFadden's R-squared</td>\n",
       "      <td>0.270579</td>\n",
       "    </tr>\n",
       "    <tr>\n",
       "      <th>1</th>\n",
       "      <td>Cox-Snell's R-squared</td>\n",
       "      <td>0.269000</td>\n",
       "    </tr>\n",
       "    <tr>\n",
       "      <th>2</th>\n",
       "      <td>Nagelkerke's R-squared</td>\n",
       "      <td>0.392186</td>\n",
       "    </tr>\n",
       "    <tr>\n",
       "      <th>3</th>\n",
       "      <td>Tjur's coefficient of discrimination</td>\n",
       "      <td>0.290764</td>\n",
       "    </tr>\n",
       "  </tbody>\n",
       "</table>\n",
       "</div>"
      ],
      "text/plain": [
       "                   Goodness of Fit Test    Result\n",
       "0                  McFadden's R-squared  0.270579\n",
       "1                 Cox-Snell's R-squared  0.269000\n",
       "2                Nagelkerke's R-squared  0.392186\n",
       "3  Tjur's coefficient of discrimination  0.290764"
      ]
     },
     "execution_count": 19,
     "metadata": {},
     "output_type": "execute_result"
    }
   ],
   "source": [
    "result = [R_MF, R_CS, R_N, R_TJ]\n",
    "test_names = [\"McFadden's R-squared\", \"Cox-Snell's R-squared\", \"Nagelkerke's R-squared\", \"Tjur's coefficient of discrimination\"]\n",
    "\n",
    "# Create a dictionary with the values\n",
    "data_dict = {\"Goodness of Fit Test\": test_names, \"Result\": result}\n",
    "\n",
    "# Create a dataframe from the dictionary\n",
    "gof_result = pd.DataFrame(data_dict)\n",
    "\n",
    "gof_result"
   ]
  },
  {
   "cell_type": "code",
   "execution_count": 20,
   "id": "0e872ef0",
   "metadata": {},
   "outputs": [],
   "source": [
    "model_metrics =  Regression.binary_model_metric (target = y, \n",
    "                                valueEvent = 1, \n",
    "                                valueNonEvent = 0,\n",
    "                                predProbEvent = out_pr[6][1], eventProbThreshold = 0.5)\n",
    "    "
   ]
  },
  {
   "cell_type": "markdown",
   "id": "9021cbe6",
   "metadata": {},
   "source": [
    "b) What is the Area Under Curve value?"
   ]
  },
  {
   "cell_type": "code",
   "execution_count": 21,
   "id": "d08cfffb",
   "metadata": {},
   "outputs": [
    {
     "name": "stdout",
     "output_type": "stream",
     "text": [
      "Area Under Curve value :  0.8411964188949088\n"
     ]
    }
   ],
   "source": [
    "print(\"Area Under Curve value : \", model_metrics['AUC'])"
   ]
  },
  {
   "cell_type": "markdown",
   "id": "a726c25b",
   "metadata": {},
   "source": [
    "c) What is the Root Average Squared Error value?"
   ]
  },
  {
   "cell_type": "code",
   "execution_count": 22,
   "id": "7f5895e4",
   "metadata": {},
   "outputs": [
    {
     "name": "stdout",
     "output_type": "stream",
     "text": [
      "Root Average Squared value :  0.3708047029352164\n"
     ]
    }
   ],
   "source": [
    "print(\"Root Average Squared value : \", model_metrics['RASE'])"
   ]
  },
  {
   "cell_type": "markdown",
   "id": "03f9f1b0",
   "metadata": {},
   "source": [
    "#### Question 4"
   ]
  },
  {
   "cell_type": "markdown",
   "id": "8e3bea4a",
   "metadata": {},
   "source": [
    "Finally, you will recommend a probability threshold for classification.\n",
    "\n",
    "a) Please generate the Kolmogorov-Smirnov Chart. What is the Kolmogorov-Smirnov\n",
    "statistic and the corresponding probability threshold for Churn? What is the misclassification rate if\n",
    "we use this probability threshold?\n",
    "\n"
   ]
  },
  {
   "cell_type": "code",
   "execution_count": 23,
   "id": "1a260d45",
   "metadata": {},
   "outputs": [
    {
     "data": {
      "text/html": [
       "<div>\n",
       "<style scoped>\n",
       "    .dataframe tbody tr th:only-of-type {\n",
       "        vertical-align: middle;\n",
       "    }\n",
       "\n",
       "    .dataframe tbody tr th {\n",
       "        vertical-align: top;\n",
       "    }\n",
       "\n",
       "    .dataframe thead th {\n",
       "        text-align: right;\n",
       "    }\n",
       "</style>\n",
       "<table border=\"1\" class=\"dataframe\">\n",
       "  <thead>\n",
       "    <tr style=\"text-align: right;\">\n",
       "      <th></th>\n",
       "      <th>Threshold</th>\n",
       "      <th>Sensitivity</th>\n",
       "      <th>OneMinusSpecificity</th>\n",
       "      <th>Precision</th>\n",
       "      <th>Recall</th>\n",
       "      <th>F1 Score</th>\n",
       "    </tr>\n",
       "  </thead>\n",
       "  <tbody>\n",
       "    <tr>\n",
       "      <th>0</th>\n",
       "      <td>0.000873</td>\n",
       "      <td>1.0</td>\n",
       "      <td>1.000000</td>\n",
       "      <td>0.265785</td>\n",
       "      <td>1.0</td>\n",
       "      <td>0.419953</td>\n",
       "    </tr>\n",
       "    <tr>\n",
       "      <th>1</th>\n",
       "      <td>0.000878</td>\n",
       "      <td>1.0</td>\n",
       "      <td>0.999806</td>\n",
       "      <td>0.265823</td>\n",
       "      <td>1.0</td>\n",
       "      <td>0.420000</td>\n",
       "    </tr>\n",
       "    <tr>\n",
       "      <th>2</th>\n",
       "      <td>0.000886</td>\n",
       "      <td>1.0</td>\n",
       "      <td>0.999613</td>\n",
       "      <td>0.265861</td>\n",
       "      <td>1.0</td>\n",
       "      <td>0.420047</td>\n",
       "    </tr>\n",
       "    <tr>\n",
       "      <th>3</th>\n",
       "      <td>0.000889</td>\n",
       "      <td>1.0</td>\n",
       "      <td>0.999419</td>\n",
       "      <td>0.265898</td>\n",
       "      <td>1.0</td>\n",
       "      <td>0.420094</td>\n",
       "    </tr>\n",
       "    <tr>\n",
       "      <th>4</th>\n",
       "      <td>0.000893</td>\n",
       "      <td>1.0</td>\n",
       "      <td>0.999225</td>\n",
       "      <td>0.265936</td>\n",
       "      <td>1.0</td>\n",
       "      <td>0.420142</td>\n",
       "    </tr>\n",
       "  </tbody>\n",
       "</table>\n",
       "</div>"
      ],
      "text/plain": [
       "   Threshold  Sensitivity  OneMinusSpecificity  Precision  Recall  F1 Score\n",
       "0   0.000873          1.0             1.000000   0.265785     1.0  0.419953\n",
       "1   0.000878          1.0             0.999806   0.265823     1.0  0.420000\n",
       "2   0.000886          1.0             0.999613   0.265861     1.0  0.420047\n",
       "3   0.000889          1.0             0.999419   0.265898     1.0  0.420094\n",
       "4   0.000893          1.0             0.999225   0.265936     1.0  0.420142"
      ]
     },
     "execution_count": 23,
     "metadata": {},
     "output_type": "execute_result"
    }
   ],
   "source": [
    "curve_coord = Regression.curve_coordinates(target = y, \n",
    "                                           valueEvent = 1, valueNonEvent = 0, \n",
    "                                           predProbEvent = out_pr[6][1])\n",
    "curve_coord.head()"
   ]
  },
  {
   "attachments": {},
   "cell_type": "markdown",
   "id": "e467d540",
   "metadata": {},
   "source": [
    "The Kolmogorov Smirnov (KS) statistic is the largest difference between the True Positive and False Positive series.\n"
   ]
  },
  {
   "cell_type": "code",
   "execution_count": 24,
   "id": "c8b85a2b",
   "metadata": {},
   "outputs": [],
   "source": [
    "curve_coord['ks_diff'] = curve_coord['Sensitivity'] - curve_coord['OneMinusSpecificity']\n",
    "ks_stat = curve_coord['ks_diff'].max()\n",
    "ks_prob_thresh = curve_coord.loc[curve_coord['ks_diff'] == ks_stat, 'Threshold'].iloc[0]\n"
   ]
  },
  {
   "cell_type": "code",
   "execution_count": 25,
   "id": "ac4419bd",
   "metadata": {},
   "outputs": [
    {
     "data": {
      "image/png": "[encoded data removed]",
      "text/plain": [
       "<Figure size 960x480 with 1 Axes>"
      ]
     },
     "metadata": {
      "needs_background": "light"
     },
     "output_type": "display_data"
    }
   ],
   "source": [
    "# Plot true positive and false positive rates as a line chart\n",
    "plt.figure(figsize = (8,4), dpi = 120)\n",
    "\n",
    "plt.plot(curve_coord['Threshold'], curve_coord['Sensitivity'], label='True Positive Rate', color = 'b')\n",
    "plt.plot(curve_coord['Threshold'], curve_coord['OneMinusSpecificity'], label='False Positive Rate', color = 'r')\n",
    "plt.axvline(x = ks_prob_thresh, color = 'y', linestyle='--', label = 'KS Statistic : '+str(round(ks_prob_thresh,4)))\n",
    "\n",
    "plt.xlabel('Probability Threshold')\n",
    "plt.ylabel('Positive Rate')\n",
    "plt.title('Kolmogorov-Smirnov Chart')\n",
    "plt.legend()\n",
    "plt.show()"
   ]
  },
  {
   "cell_type": "code",
   "execution_count": 26,
   "id": "df6df36b",
   "metadata": {},
   "outputs": [
    {
     "name": "stdout",
     "output_type": "stream",
     "text": [
      "Kolmogorov-Smirnov statistic is 0.5244664390313967 and the corresponding probability threshold for Churn is 0.2579355595500369\n"
     ]
    }
   ],
   "source": [
    "\n",
    "print(\"Kolmogorov-Smirnov statistic is {0} and the corresponding probability threshold for Churn is {1}\"\n",
    "      .format(ks_stat, ks_prob_thresh))\n"
   ]
  },
  {
   "cell_type": "code",
   "execution_count": 27,
   "id": "bd6916a9",
   "metadata": {},
   "outputs": [
    {
     "name": "stdout",
     "output_type": "stream",
     "text": [
      "Misclassification rate when the probability threshold is 0.2579355595500369 is 0.26493174061433444\n"
     ]
    }
   ],
   "source": [
    "print(\"Misclassification rate when the probability threshold is {0} is {1}\".format(ks_prob_thresh, \n",
    "                            Regression.binary_model_metric (target = y, \n",
    "                                valueEvent = 1, \n",
    "                                valueNonEvent = 0,\n",
    "                                predProbEvent = out_pr[6][1], eventProbThreshold = ks_prob_thresh)['MCE']))"
   ]
  },
  {
   "cell_type": "markdown",
   "id": "31528852",
   "metadata": {},
   "source": [
    "b) Please generate the properly labeled Precision-Recall chart with a No-Skill line.\n",
    "According to the F1 Score, what is the probability threshold for Churn? What is the misclassification\n",
    "rate if we use this probability threshold?"
   ]
  },
  {
   "cell_type": "code",
   "execution_count": 28,
   "id": "777bb0dd",
   "metadata": {},
   "outputs": [
    {
     "data": {
      "image/png": "[encoded data removed]",
      "text/plain": [
       "<Figure size 960x480 with 1 Axes>"
      ]
     },
     "metadata": {
      "needs_background": "light"
     },
     "output_type": "display_data"
    }
   ],
   "source": [
    "plt.figure(figsize = (8,4), dpi = 120)\n",
    "\n",
    "# Create the plot\n",
    "plt.plot(curve_coord['Recall'], curve_coord['Precision'], color='b')\n",
    "\n",
    "# Add the no skill line\n",
    "no_skill = y_train.value_counts()[1]/y_train.count()\n",
    "\n",
    "plt.axhline(y = no_skill, color = 'red', linestyle='--', label='No Skill : '+str(round(no_skill,4)))\n",
    "\n",
    "\n",
    "# Add axis labels and legend\n",
    "plt.xlabel('Recall')\n",
    "plt.ylabel('Precision')\n",
    "plt.title('Precision Recall Curve')\n",
    "plt.legend()\n",
    "plt.show()"
   ]
  },
  {
   "cell_type": "code",
   "execution_count": 29,
   "id": "46f8f1aa",
   "metadata": {},
   "outputs": [
    {
     "data": {
      "image/png": "[encoded data removed]",
      "text/plain": [
       "<Figure size 960x480 with 1 Axes>"
      ]
     },
     "metadata": {
      "needs_background": "light"
     },
     "output_type": "display_data"
    }
   ],
   "source": [
    "# Plot the F1 Score (vertical axis) versus the Threshold (horizontal axis) to determine the optimal threshold that gives the best F1 Score.\n",
    "f1_thresh = curve_coord.loc[curve_coord['F1 Score'] == curve_coord['F1 Score'].max(), 'Threshold'].iloc[0]\n",
    "\n",
    "plt.figure(figsize = (8,4), dpi = 120)\n",
    "\n",
    "plt.plot(curve_coord['Threshold'], curve_coord['F1 Score'], color='b')\n",
    "\n",
    "plt.axvline(x = f1_thresh, color = 'r', linestyle='--', label = 'Optimal Threshold '+str(round(f1_thresh,4)))\n",
    "\n",
    "plt.xlabel('Threshold')\n",
    "plt.ylabel('F1 Score')\n",
    "plt.title('F1 Score vs Threshold')\n",
    "plt.legend()\n",
    "plt.show()"
   ]
  },
  {
   "cell_type": "code",
   "execution_count": 30,
   "id": "874384d7",
   "metadata": {},
   "outputs": [
    {
     "name": "stdout",
     "output_type": "stream",
     "text": [
      "According to the F1 Score 0.6274157303370785, the probability threshold for Churn is : 0.32902080792001165\n"
     ]
    }
   ],
   "source": [
    "print(\"According to the F1 Score {0}, the probability threshold for Churn is : {1}\".format(curve_coord['F1 Score'].max(), f1_thresh))"
   ]
  },
  {
   "cell_type": "code",
   "execution_count": 31,
   "id": "50995ecb",
   "metadata": {},
   "outputs": [
    {
     "name": "stdout",
     "output_type": "stream",
     "text": [
      "Misclassification rate when the probability threshold is 0.32902080792001165 is 0.23577929465301478\n"
     ]
    }
   ],
   "source": [
    "print(\"Misclassification rate when the probability threshold is {0} is {1}\".format(f1_thresh, \n",
    "                            Regression.binary_model_metric (target = y, \n",
    "                                valueEvent = 1, \n",
    "                                valueNonEvent = 0,\n",
    "                                predProbEvent = out_pr[6][1], eventProbThreshold = f1_thresh)['MCE']))\n"
   ]
  }
 ],
 "metadata": {
  "kernelspec": {
   "display_name": "Python 3 (ipykernel)",
   "language": "python",
   "name": "python3"
  },
  "language_info": {
   "codemirror_mode": {
    "name": "ipython",
    "version": 3
   },
   "file_extension": ".py",
   "mimetype": "text/x-python",
   "name": "python",
   "nbconvert_exporter": "python",
   "pygments_lexer": "ipython3",
   "version": "3.9.12"
  }
 },
 "nbformat": 4,
 "nbformat_minor": 5
}
