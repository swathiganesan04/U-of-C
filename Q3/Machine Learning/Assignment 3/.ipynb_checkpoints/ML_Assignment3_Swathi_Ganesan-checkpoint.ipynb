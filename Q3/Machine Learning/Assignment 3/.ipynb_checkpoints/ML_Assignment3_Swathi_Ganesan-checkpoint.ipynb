{
 "cells": [
  {
   "cell_type": "code",
   "execution_count": 35,
   "id": "954c88b8",
   "metadata": {},
   "outputs": [],
   "source": [
    "import pandas as pd\n",
    "import numpy as np\n",
    "import matplotlib.pyplot as plt\n",
    "import os\n",
    "\n",
    "import seaborn as sns\n",
    "from scipy import stats\n",
    "\n",
    "from sklearn.ensemble import RandomForestClassifier\n",
    "from sklearn.model_selection import train_test_split, GridSearchCV, RandomizedSearchCV\n",
    "from sklearn.ensemble import AdaBoostClassifier\n",
    "from sklearn.ensemble import GradientBoostingClassifier\n",
    "import xgboost as xgb\n",
    "\n",
    "from sklearn.metrics import confusion_matrix, classification_report, roc_auc_score\n",
    "from sklearn.metrics import mean_squared_error,r2_score,explained_variance_score\n",
    "\n",
    "import warnings\n",
    "warnings.simplefilter(action='ignore', category=FutureWarning)\n"
   ]
  },
  {
   "cell_type": "markdown",
   "id": "94ac0ee9",
   "metadata": {},
   "source": [
    "### 1 Data Processing"
   ]
  },
  {
   "cell_type": "markdown",
   "id": "a4c76cce",
   "metadata": {},
   "source": [
    "##### a) Import the data from the website directly"
   ]
  },
  {
   "cell_type": "code",
   "execution_count": 2,
   "id": "ab989546",
   "metadata": {},
   "outputs": [],
   "source": [
    "adult_df = pd.read_csv('https://archive.ics.uci.edu/ml/machine-learning-databases/adult/adult.data', header = None, skipinitialspace=True)\n"
   ]
  },
  {
   "cell_type": "code",
   "execution_count": 3,
   "id": "5ec49061",
   "metadata": {},
   "outputs": [
    {
     "data": {
      "text/html": [
       "<div>\n",
       "<style scoped>\n",
       "    .dataframe tbody tr th:only-of-type {\n",
       "        vertical-align: middle;\n",
       "    }\n",
       "\n",
       "    .dataframe tbody tr th {\n",
       "        vertical-align: top;\n",
       "    }\n",
       "\n",
       "    .dataframe thead th {\n",
       "        text-align: right;\n",
       "    }\n",
       "</style>\n",
       "<table border=\"1\" class=\"dataframe\">\n",
       "  <thead>\n",
       "    <tr style=\"text-align: right;\">\n",
       "      <th></th>\n",
       "      <th>0</th>\n",
       "      <th>1</th>\n",
       "      <th>2</th>\n",
       "      <th>3</th>\n",
       "      <th>4</th>\n",
       "      <th>5</th>\n",
       "      <th>6</th>\n",
       "      <th>7</th>\n",
       "      <th>8</th>\n",
       "      <th>9</th>\n",
       "      <th>10</th>\n",
       "      <th>11</th>\n",
       "      <th>12</th>\n",
       "      <th>13</th>\n",
       "      <th>14</th>\n",
       "    </tr>\n",
       "  </thead>\n",
       "  <tbody>\n",
       "    <tr>\n",
       "      <th>20459</th>\n",
       "      <td>32</td>\n",
       "      <td>Local-gov</td>\n",
       "      <td>235109</td>\n",
       "      <td>Bachelors</td>\n",
       "      <td>13</td>\n",
       "      <td>Married-civ-spouse</td>\n",
       "      <td>Adm-clerical</td>\n",
       "      <td>Wife</td>\n",
       "      <td>White</td>\n",
       "      <td>Female</td>\n",
       "      <td>0</td>\n",
       "      <td>0</td>\n",
       "      <td>40</td>\n",
       "      <td>United-States</td>\n",
       "      <td>&lt;=50K</td>\n",
       "    </tr>\n",
       "    <tr>\n",
       "      <th>13826</th>\n",
       "      <td>26</td>\n",
       "      <td>Private</td>\n",
       "      <td>56929</td>\n",
       "      <td>Bachelors</td>\n",
       "      <td>13</td>\n",
       "      <td>Never-married</td>\n",
       "      <td>Exec-managerial</td>\n",
       "      <td>Not-in-family</td>\n",
       "      <td>Black</td>\n",
       "      <td>Male</td>\n",
       "      <td>0</td>\n",
       "      <td>0</td>\n",
       "      <td>50</td>\n",
       "      <td>?</td>\n",
       "      <td>&lt;=50K</td>\n",
       "    </tr>\n",
       "    <tr>\n",
       "      <th>13029</th>\n",
       "      <td>30</td>\n",
       "      <td>Private</td>\n",
       "      <td>381153</td>\n",
       "      <td>HS-grad</td>\n",
       "      <td>9</td>\n",
       "      <td>Never-married</td>\n",
       "      <td>Craft-repair</td>\n",
       "      <td>Not-in-family</td>\n",
       "      <td>White</td>\n",
       "      <td>Male</td>\n",
       "      <td>0</td>\n",
       "      <td>0</td>\n",
       "      <td>40</td>\n",
       "      <td>United-States</td>\n",
       "      <td>&lt;=50K</td>\n",
       "    </tr>\n",
       "  </tbody>\n",
       "</table>\n",
       "</div>"
      ],
      "text/plain": [
       "       0          1       2          3   4                   5   \\\n",
       "20459  32  Local-gov  235109  Bachelors  13  Married-civ-spouse   \n",
       "13826  26    Private   56929  Bachelors  13       Never-married   \n",
       "13029  30    Private  381153    HS-grad   9       Never-married   \n",
       "\n",
       "                    6              7      8       9   10  11  12  \\\n",
       "20459     Adm-clerical           Wife  White  Female   0   0  40   \n",
       "13826  Exec-managerial  Not-in-family  Black    Male   0   0  50   \n",
       "13029     Craft-repair  Not-in-family  White    Male   0   0  40   \n",
       "\n",
       "                  13     14  \n",
       "20459  United-States  <=50K  \n",
       "13826              ?  <=50K  \n",
       "13029  United-States  <=50K  "
      ]
     },
     "execution_count": 3,
     "metadata": {},
     "output_type": "execute_result"
    }
   ],
   "source": [
    "adult_df.sample(3)"
   ]
  },
  {
   "cell_type": "markdown",
   "id": "1408a9c0",
   "metadata": {},
   "source": [
    "##### b) Build column names for the dataframe"
   ]
  },
  {
   "cell_type": "markdown",
   "id": "380cc7a7",
   "metadata": {},
   "source": [
    "* age: continuous.\n",
    "* workclass: Private, Self-emp-not-inc, Self-emp-inc, Federal-gov, Local-gov, State-gov, Without-pay, Never-worked.\n",
    "* fnlwgt: continuous.\n",
    "* education: Bachelors, Some-college, 11th, HS-grad, Prof-school, Assoc-acdm, Assoc-voc, 9th, 7th-8th, 12th, Masters, 1st-4th, 10th, Doctorate, 5th-6th, Preschool.\n",
    "* education-num: continuous.\n",
    "* marital-status: Married-civ-spouse, Divorced, Never-married, Separated, Widowed, Married-spouse-absent, Married-AF-spouse.\n",
    "* occupation: Tech-support, Craft-repair, Other-service, Sales, Exec-managerial, Prof-specialty, Handlers-cleaners, Machine-op-inspct, Adm-clerical, Farming-fishing, Transport-moving, Priv-house-serv, Protective-serv, Armed-Forces.\n",
    "* relationship: Wife, Own-child, Husband, Not-in-family, Other-relative, Unmarried.\n",
    "* race: White, Asian-Pac-Islander, Amer-Indian-Eskimo, Other, Black.\n",
    "* sex: Female, Male.\n",
    "* capital-gain: continuous.\n",
    "* capital-loss: continuous.\n",
    "* hours-per-week: continuous.\n",
    "* native-country: United-States, Cambodia, England, Puerto-Rico, Canada, Germany, Outlying-US(Guam-USVI-etc), India, Japan, Greece, South, China, Cuba, Iran, Honduras, Philippines, Italy, Poland, Jamaica, Vietnam, Mexico, Portugal, Ireland, France, Dominican-Republic, Laos, Ecuador, Taiwan, Haiti, Columbia, Hungary, Guatemala, Nicaragua, Scotland, Thailand, Yugoslavia, El-Salvador, Trinadad&Tobago, Peru, Hong, Holand-Netherlands."
   ]
  },
  {
   "cell_type": "code",
   "execution_count": 4,
   "id": "7f6bbda3",
   "metadata": {},
   "outputs": [
    {
     "data": {
      "text/html": [
       "<div>\n",
       "<style scoped>\n",
       "    .dataframe tbody tr th:only-of-type {\n",
       "        vertical-align: middle;\n",
       "    }\n",
       "\n",
       "    .dataframe tbody tr th {\n",
       "        vertical-align: top;\n",
       "    }\n",
       "\n",
       "    .dataframe thead th {\n",
       "        text-align: right;\n",
       "    }\n",
       "</style>\n",
       "<table border=\"1\" class=\"dataframe\">\n",
       "  <thead>\n",
       "    <tr style=\"text-align: right;\">\n",
       "      <th></th>\n",
       "      <th>age</th>\n",
       "      <th>workclass</th>\n",
       "      <th>fnlwgt</th>\n",
       "      <th>education</th>\n",
       "      <th>education_num</th>\n",
       "      <th>marital_status</th>\n",
       "      <th>occupation</th>\n",
       "      <th>relationship</th>\n",
       "      <th>race</th>\n",
       "      <th>sex</th>\n",
       "      <th>capital_gain</th>\n",
       "      <th>capital_loss</th>\n",
       "      <th>hours_per_week</th>\n",
       "      <th>native_country</th>\n",
       "      <th>salary</th>\n",
       "    </tr>\n",
       "  </thead>\n",
       "  <tbody>\n",
       "    <tr>\n",
       "      <th>19918</th>\n",
       "      <td>23</td>\n",
       "      <td>Private</td>\n",
       "      <td>380281</td>\n",
       "      <td>Assoc-acdm</td>\n",
       "      <td>12</td>\n",
       "      <td>Never-married</td>\n",
       "      <td>Other-service</td>\n",
       "      <td>Own-child</td>\n",
       "      <td>White</td>\n",
       "      <td>Male</td>\n",
       "      <td>0</td>\n",
       "      <td>0</td>\n",
       "      <td>25</td>\n",
       "      <td>Columbia</td>\n",
       "      <td>&lt;=50K</td>\n",
       "    </tr>\n",
       "    <tr>\n",
       "      <th>16351</th>\n",
       "      <td>29</td>\n",
       "      <td>Private</td>\n",
       "      <td>131310</td>\n",
       "      <td>Assoc-acdm</td>\n",
       "      <td>12</td>\n",
       "      <td>Never-married</td>\n",
       "      <td>Sales</td>\n",
       "      <td>Own-child</td>\n",
       "      <td>White</td>\n",
       "      <td>Female</td>\n",
       "      <td>0</td>\n",
       "      <td>0</td>\n",
       "      <td>40</td>\n",
       "      <td>United-States</td>\n",
       "      <td>&lt;=50K</td>\n",
       "    </tr>\n",
       "    <tr>\n",
       "      <th>10018</th>\n",
       "      <td>45</td>\n",
       "      <td>Private</td>\n",
       "      <td>162494</td>\n",
       "      <td>HS-grad</td>\n",
       "      <td>9</td>\n",
       "      <td>Never-married</td>\n",
       "      <td>Sales</td>\n",
       "      <td>Own-child</td>\n",
       "      <td>White</td>\n",
       "      <td>Female</td>\n",
       "      <td>0</td>\n",
       "      <td>0</td>\n",
       "      <td>19</td>\n",
       "      <td>United-States</td>\n",
       "      <td>&lt;=50K</td>\n",
       "    </tr>\n",
       "  </tbody>\n",
       "</table>\n",
       "</div>"
      ],
      "text/plain": [
       "       age workclass  fnlwgt   education  education_num marital_status  \\\n",
       "19918   23   Private  380281  Assoc-acdm             12  Never-married   \n",
       "16351   29   Private  131310  Assoc-acdm             12  Never-married   \n",
       "10018   45   Private  162494     HS-grad              9  Never-married   \n",
       "\n",
       "          occupation relationship   race     sex  capital_gain  capital_loss  \\\n",
       "19918  Other-service    Own-child  White    Male             0             0   \n",
       "16351          Sales    Own-child  White  Female             0             0   \n",
       "10018          Sales    Own-child  White  Female             0             0   \n",
       "\n",
       "       hours_per_week native_country salary  \n",
       "19918              25       Columbia  <=50K  \n",
       "16351              40  United-States  <=50K  \n",
       "10018              19  United-States  <=50K  "
      ]
     },
     "execution_count": 4,
     "metadata": {},
     "output_type": "execute_result"
    }
   ],
   "source": [
    "list_of_columns = [\"age\", \"workclass\", \"fnlwgt\", \"education\", \"education_num\", \"marital_status\", \"occupation\", \n",
    "                   \"relationship\", \"race\", \"sex\", \"capital_gain\", \"capital_loss\", \"hours_per_week\", \"native_country\", \"salary\"]\n",
    "adult_df.columns = list_of_columns\n",
    "adult_df.sample(3)"
   ]
  },
  {
   "cell_type": "markdown",
   "id": "4ffaed1e",
   "metadata": {},
   "source": [
    "##### c) Check your dataframe shape to verify that you have the correct # of rows and columns"
   ]
  },
  {
   "cell_type": "code",
   "execution_count": 5,
   "id": "2e91bf1c",
   "metadata": {},
   "outputs": [
    {
     "data": {
      "text/plain": [
       "(32561, 15)"
      ]
     },
     "execution_count": 5,
     "metadata": {},
     "output_type": "execute_result"
    }
   ],
   "source": [
    "adult_df.shape"
   ]
  },
  {
   "cell_type": "markdown",
   "id": "b9f3fb55",
   "metadata": {},
   "source": [
    "##### d) Drop the 3rd column from the data : fnlwgt"
   ]
  },
  {
   "cell_type": "code",
   "execution_count": 6,
   "id": "e38db5c9",
   "metadata": {},
   "outputs": [
    {
     "data": {
      "text/plain": [
       "(32561, 14)"
      ]
     },
     "execution_count": 6,
     "metadata": {},
     "output_type": "execute_result"
    }
   ],
   "source": [
    "adult_df = adult_df.drop(['fnlwgt'], axis=1)\n",
    "adult_df.shape"
   ]
  },
  {
   "cell_type": "markdown",
   "id": "96b53175",
   "metadata": {},
   "source": [
    "##### e) Making sure that the data has no true NA values"
   ]
  },
  {
   "cell_type": "code",
   "execution_count": 7,
   "id": "b8eb8134",
   "metadata": {},
   "outputs": [
    {
     "name": "stdout",
     "output_type": "stream",
     "text": [
      "<class 'pandas.core.frame.DataFrame'>\n",
      "RangeIndex: 32561 entries, 0 to 32560\n",
      "Data columns (total 14 columns):\n",
      " #   Column          Non-Null Count  Dtype \n",
      "---  ------          --------------  ----- \n",
      " 0   age             32561 non-null  int64 \n",
      " 1   workclass       32561 non-null  object\n",
      " 2   education       32561 non-null  object\n",
      " 3   education_num   32561 non-null  int64 \n",
      " 4   marital_status  32561 non-null  object\n",
      " 5   occupation      32561 non-null  object\n",
      " 6   relationship    32561 non-null  object\n",
      " 7   race            32561 non-null  object\n",
      " 8   sex             32561 non-null  object\n",
      " 9   capital_gain    32561 non-null  int64 \n",
      " 10  capital_loss    32561 non-null  int64 \n",
      " 11  hours_per_week  32561 non-null  int64 \n",
      " 12  native_country  32561 non-null  object\n",
      " 13  salary          32561 non-null  object\n",
      "dtypes: int64(5), object(9)\n",
      "memory usage: 3.5+ MB\n"
     ]
    }
   ],
   "source": [
    "adult_df.info()"
   ]
  },
  {
   "cell_type": "markdown",
   "id": "c04acca9",
   "metadata": {},
   "source": [
    "##### f) Use the .replace() method to make the following changes to the \"salary\" column\n",
    "\n",
    "* \"<=50K\" should become 0\n",
    "* \">50K\" should become 1"
   ]
  },
  {
   "cell_type": "code",
   "execution_count": 8,
   "id": "279eb4ec",
   "metadata": {},
   "outputs": [
    {
     "data": {
      "text/plain": [
       "0    24720\n",
       "1     7841\n",
       "Name: salary, dtype: int64"
      ]
     },
     "execution_count": 8,
     "metadata": {},
     "output_type": "execute_result"
    }
   ],
   "source": [
    "adult_df[\"salary\"] = adult_df[\"salary\"].replace({\"<=50K\": 0, \">50K\": 1})\n",
    "adult_df.salary.value_counts()"
   ]
  },
  {
   "cell_type": "markdown",
   "id": "553e2718",
   "metadata": {},
   "source": [
    "##### g) Create your X dataframe (just your predictors). It should include every feature except for the target variable which is \"salary\""
   ]
  },
  {
   "cell_type": "code",
   "execution_count": 9,
   "id": "bdedfe43",
   "metadata": {},
   "outputs": [
    {
     "data": {
      "text/plain": [
       "(32561, 13)"
      ]
     },
     "execution_count": 9,
     "metadata": {},
     "output_type": "execute_result"
    }
   ],
   "source": [
    "X = adult_df.drop('salary', axis=1)\n",
    "X.shape"
   ]
  },
  {
   "cell_type": "markdown",
   "id": "936d1f97",
   "metadata": {},
   "source": [
    "##### h) Create your y dataframe (just your target variable). It should only be \"salary\""
   ]
  },
  {
   "cell_type": "code",
   "execution_count": 10,
   "id": "64a72173",
   "metadata": {},
   "outputs": [
    {
     "data": {
      "text/plain": [
       "(32561,)"
      ]
     },
     "execution_count": 10,
     "metadata": {},
     "output_type": "execute_result"
    }
   ],
   "source": [
    "y = adult_df['salary'].to_numpy()\n",
    "y.shape"
   ]
  },
  {
   "cell_type": "markdown",
   "id": "c05aecc0",
   "metadata": {},
   "source": [
    "##### i) For this homework we will try converting columns with factors to separate columns (i.e. one-hot encoding). It is not necessary for trees, but can be a very powerful tool to use. There are a variety of ways to do this, but we can use Pandas built-in method .get_dummies(). Pandas will automatically split out columns that are categorical. For now, just run across your full X dataframe."
   ]
  },
  {
   "cell_type": "code",
   "execution_count": 11,
   "id": "39231238",
   "metadata": {},
   "outputs": [
    {
     "data": {
      "text/plain": [
       "(32561, 107)"
      ]
     },
     "execution_count": 11,
     "metadata": {},
     "output_type": "execute_result"
    }
   ],
   "source": [
    "X_encoded = pd.get_dummies(X)\n",
    "X_encoded.shape"
   ]
  },
  {
   "cell_type": "markdown",
   "id": "6f123987",
   "metadata": {},
   "source": [
    "##### j) Split data into train / test set using an 70/30 split. Verify that you have the same number of columns in your X_train and X_test."
   ]
  },
  {
   "cell_type": "code",
   "execution_count": 12,
   "id": "679b3599",
   "metadata": {},
   "outputs": [
    {
     "data": {
      "text/plain": [
       "True"
      ]
     },
     "execution_count": 12,
     "metadata": {},
     "output_type": "execute_result"
    }
   ],
   "source": [
    "#train test split\n",
    "X_train, X_test, y_train, y_test = train_test_split(X_encoded, y, test_size=0.3, random_state=42)\n",
    "\n",
    "#verify if X_train and X_test have same number of columns\n",
    "X_train.shape[1] == X_test.shape[1]"
   ]
  },
  {
   "cell_type": "markdown",
   "id": "1536448e",
   "metadata": {},
   "source": [
    "### 2 Random Forest Classifier - Base Model"
   ]
  },
  {
   "cell_type": "markdown",
   "id": "c7783ac5",
   "metadata": {},
   "source": [
    "##### a) Use the RandomForestClassifier in sklearn. Fit your model on the training data"
   ]
  },
  {
   "cell_type": "code",
   "execution_count": 13,
   "id": "df8bfd1e",
   "metadata": {},
   "outputs": [
    {
     "data": {
      "text/plain": [
       "RandomForestClassifier()"
      ]
     },
     "execution_count": 13,
     "metadata": {},
     "output_type": "execute_result"
    }
   ],
   "source": [
    "# fit random forest classifier on training data\n",
    "rfc = RandomForestClassifier()\n",
    "rfc.fit(X_train, y_train)"
   ]
  },
  {
   "cell_type": "markdown",
   "id": "69fceef1",
   "metadata": {},
   "source": [
    "##### b) Use the fitted model to predict on test data. Use the .predict_proba() and the .predict() methods to get predicted probabilities as well as predicted classes"
   ]
  },
  {
   "cell_type": "code",
   "execution_count": 14,
   "id": "40db6662",
   "metadata": {},
   "outputs": [],
   "source": [
    "# predict on test data\n",
    "y_pred_rfc = rfc.predict(X_test)\n",
    "y_pred_proba_rfc = rfc.predict_proba(X_test)"
   ]
  },
  {
   "cell_type": "markdown",
   "id": "d6d6b1c9",
   "metadata": {},
   "source": [
    "##### c) Calculate the confusion matrix and classification report (both are in sklearn.metrics)"
   ]
  },
  {
   "cell_type": "code",
   "execution_count": 15,
   "id": "9c67dc5d",
   "metadata": {},
   "outputs": [
    {
     "name": "stdout",
     "output_type": "stream",
     "text": [
      "Confusion Matrix: \n",
      " [[6829  626]\n",
      " [ 879 1435]]\n",
      "\n",
      "Classification Report: \n",
      "               precision    recall  f1-score   support\n",
      "\n",
      "           0       0.89      0.92      0.90      7455\n",
      "           1       0.70      0.62      0.66      2314\n",
      "\n",
      "    accuracy                           0.85      9769\n",
      "   macro avg       0.79      0.77      0.78      9769\n",
      "weighted avg       0.84      0.85      0.84      9769\n",
      "\n"
     ]
    }
   ],
   "source": [
    "# calculate confusion matrix and classification report\n",
    "print(\"Confusion Matrix: \\n\", confusion_matrix(y_test, y_pred_rfc))\n",
    "print(\"\\nClassification Report: \\n\", classification_report(y_test, y_pred_rfc))"
   ]
  },
  {
   "cell_type": "markdown",
   "id": "09ec01f3",
   "metadata": {},
   "source": [
    "##### d) Calculate the AUC score"
   ]
  },
  {
   "cell_type": "code",
   "execution_count": 16,
   "id": "7977cbb8",
   "metadata": {},
   "outputs": [
    {
     "name": "stdout",
     "output_type": "stream",
     "text": [
      "AUC Score:  0.8900925576507156\n"
     ]
    }
   ],
   "source": [
    "# calculate AUC score \n",
    "print(\"AUC Score: \",roc_auc_score(y_test, y_pred_proba_rfc[:, 1]))"
   ]
  },
  {
   "cell_type": "markdown",
   "id": "86313fe2",
   "metadata": {},
   "source": [
    "##### e) Identify the top 5 features. Feel free to print a list OR to make a plot"
   ]
  },
  {
   "cell_type": "code",
   "execution_count": 17,
   "id": "f06cf0ce",
   "metadata": {},
   "outputs": [
    {
     "name": "stdout",
     "output_type": "stream",
     "text": [
      "Top 5 important features of Random Forest Classifier:  ['age' 'hours_per_week' 'capital_gain' 'marital_status_Married-civ-spouse'\n",
      " 'education_num']\n"
     ]
    },
    {
     "data": {
      "image/png": "[encoded data removed]",
      "text/plain": [
       "<Figure size 640x480 with 1 Axes>"
      ]
     },
     "metadata": {},
     "output_type": "display_data"
    }
   ],
   "source": [
    "# identify top 5 features\n",
    "importances = rfc.feature_importances_\n",
    "indices = np.argsort(importances)[::-1][:5]\n",
    "print(\"Top 5 important features of Random Forest Classifier: \", X_encoded.columns[indices].values)\n",
    "plt.figure()\n",
    "plt.title(\"Feature importances - Random Forest Classifier\")\n",
    "plt.bar(range(5), importances[indices])\n",
    "plt.xticks(range(5), X_encoded.columns[indices], rotation=90)\n",
    "plt.show()"
   ]
  },
  {
   "cell_type": "markdown",
   "id": "d772b05b",
   "metadata": {},
   "source": [
    "##### f) Using the model from part B, predict for the train data. Look at the classification report for the train data - is there overfitting for the RandomForest model happening?"
   ]
  },
  {
   "cell_type": "code",
   "execution_count": 18,
   "id": "152eeac6",
   "metadata": {},
   "outputs": [
    {
     "name": "stdout",
     "output_type": "stream",
     "text": [
      "Classification Report: \n",
      "               precision    recall  f1-score   support\n",
      "\n",
      "           0       0.98      0.99      0.99     17265\n",
      "           1       0.97      0.95      0.96      5527\n",
      "\n",
      "    accuracy                           0.98     22792\n",
      "   macro avg       0.98      0.97      0.97     22792\n",
      "weighted avg       0.98      0.98      0.98     22792\n",
      "\n"
     ]
    }
   ],
   "source": [
    "# predict for train data and calculate classification report\n",
    "y_pred_train_rfc = rfc.predict(X_train)\n",
    "print(\"Classification Report: \\n\", classification_report(y_train, y_pred_train_rfc))"
   ]
  },
  {
   "cell_type": "markdown",
   "id": "90a67aec",
   "metadata": {},
   "source": [
    "The classification report shows high precision, recall, and F1-score for both classes (0 and 1) on the train data. Based on the classification report on the test data, we can see that the precision, recall, and F1-score for class 1 are lower compared to class 0. This indicates that the model is not performing as well in predicting class 1 as it is in predicting class 0.\n",
    "\n",
    "Furthermore, the accuracy on the test data is lower than the accuracy on the train data, which could be an indication of overfitting. The weighted average F1-score on the test data is also lower than the weighted average F1-score on the train data, which further suggests that there might be overfitting.\n",
    "\n",
    "Therefore, based on the classification report on the test data, it is possible that there is overfitting in the RandomForest model. "
   ]
  },
  {
   "cell_type": "markdown",
   "id": "c525b005",
   "metadata": {},
   "source": [
    "### 3 AdaBoost Classifier - GridSearch"
   ]
  },
  {
   "cell_type": "markdown",
   "id": "a1ad1fc7",
   "metadata": {},
   "source": [
    "##### a) Use the AdaBoostClassifier along with the GridSearchCV tool. Run the GridSearchCV using the following:\n",
    "\n",
    "n_estimators: 100, 200, 300, 400\n",
    "learning_rate: 0.2,0.4,0.6,0.8,1, 1.2\n",
    "\n",
    "Use 5 cross-fold and for scoring use \"roc_auc\" "
   ]
  },
  {
   "cell_type": "code",
   "execution_count": 19,
   "id": "eabb98ff",
   "metadata": {},
   "outputs": [],
   "source": [
    "# create an AdaBoostClassifier with default parameters\n",
    "abc = AdaBoostClassifier()\n",
    "\n",
    "# define the parameter grid to search over\n",
    "param_grid = {'n_estimators': [100, 200, 300, 400],\n",
    "              'learning_rate': [0.2, 0.4, 0.6, 0.8, 1, 1.2]}"
   ]
  },
  {
   "cell_type": "markdown",
   "id": "a73c1dea",
   "metadata": {},
   "source": [
    "##### b) Use the best estimator from GridSearchCV to predict on test data. Use the .predict_proba() and the .predict() methods to get predicted probabilities as well as predicted classes"
   ]
  },
  {
   "cell_type": "code",
   "execution_count": 20,
   "id": "a2e3b741",
   "metadata": {},
   "outputs": [
    {
     "name": "stdout",
     "output_type": "stream",
     "text": [
      "Best parameters:  {'learning_rate': 1.2, 'n_estimators': 400}\n"
     ]
    }
   ],
   "source": [
    "# create a GridSearchCV object with 5 cross-fold and roc_auc as scoring metric\n",
    "grid_search = GridSearchCV(abc, param_grid, cv=5, scoring='roc_auc')\n",
    "\n",
    "# fit the GridSearchCV object to the training data\n",
    "grid_search.fit(X_train, y_train)\n",
    "\n",
    "# print the best parameters found by GridSearchCV\n",
    "print(\"Best parameters: \", grid_search.best_params_)"
   ]
  },
  {
   "cell_type": "code",
   "execution_count": 21,
   "id": "44144e78",
   "metadata": {},
   "outputs": [],
   "source": [
    "# get the best estimator found by GridSearchCV\n",
    "best_clf_abc = grid_search.best_estimator_\n",
    "\n",
    "# use the best estimator to predict on the test data\n",
    "y_pred_abc = best_clf_abc.predict(X_test) # predicted classes\n",
    "y_pred_proba_abc = best_clf_abc.predict_proba(X_test)[:, 1] # predicted probabilities"
   ]
  },
  {
   "cell_type": "markdown",
   "id": "0c6f98b9",
   "metadata": {},
   "source": [
    "##### c) Calculate the confusion matrix and classification report (both are in sklearn.metrics)"
   ]
  },
  {
   "cell_type": "code",
   "execution_count": 22,
   "id": "ab130f02",
   "metadata": {},
   "outputs": [
    {
     "name": "stdout",
     "output_type": "stream",
     "text": [
      "Confusion matrix:\n",
      "[[7008  447]\n",
      " [ 807 1507]]\n",
      "Classification report:\n",
      "              precision    recall  f1-score   support\n",
      "\n",
      "           0       0.90      0.94      0.92      7455\n",
      "           1       0.77      0.65      0.71      2314\n",
      "\n",
      "    accuracy                           0.87      9769\n",
      "   macro avg       0.83      0.80      0.81      9769\n",
      "weighted avg       0.87      0.87      0.87      9769\n",
      "\n"
     ]
    }
   ],
   "source": [
    "# calculate confusion matrix and classification report\n",
    "print(\"Confusion matrix:\")\n",
    "print(confusion_matrix(y_test, y_pred_abc))\n",
    "print(\"Classification report:\")\n",
    "print(classification_report(y_test, y_pred_abc))"
   ]
  },
  {
   "cell_type": "markdown",
   "id": "9244da1e",
   "metadata": {},
   "source": [
    "##### d) Calculate the AUC score"
   ]
  },
  {
   "cell_type": "code",
   "execution_count": 23,
   "id": "2dc07c13",
   "metadata": {},
   "outputs": [
    {
     "name": "stdout",
     "output_type": "stream",
     "text": [
      "AUC score: 0.9244122180504519\n"
     ]
    }
   ],
   "source": [
    "# calculate AUC score\n",
    "print(\"AUC score:\", roc_auc_score(y_test, y_pred_proba_abc))"
   ]
  },
  {
   "cell_type": "markdown",
   "id": "d82f6867",
   "metadata": {},
   "source": [
    "##### e) Identify the top 5 features. Feel free to print a list OR to make a plot."
   ]
  },
  {
   "cell_type": "code",
   "execution_count": 24,
   "id": "a85d1511",
   "metadata": {},
   "outputs": [
    {
     "name": "stdout",
     "output_type": "stream",
     "text": [
      "Top 5 important features of AdaBoost Classifier:  ['capital_gain' 'capital_loss' 'age' 'hours_per_week' 'education_num']\n"
     ]
    },
    {
     "data": {
      "image/png": "[encoded data removed]",
      "text/plain": [
       "<Figure size 640x480 with 1 Axes>"
      ]
     },
     "metadata": {},
     "output_type": "display_data"
    }
   ],
   "source": [
    "# identify top 5 features\n",
    "importances = best_clf_abc.feature_importances_\n",
    "indices = np.argsort(importances)[::-1][:5]\n",
    "print(\"Top 5 important features of AdaBoost Classifier: \", X_encoded.columns[indices].values)\n",
    "plt.figure()\n",
    "plt.title(\"Feature importances - AdaBoost Classifier\")\n",
    "plt.bar(range(5), importances[indices])\n",
    "plt.xticks(range(5), X_encoded.columns[indices], rotation=90)\n",
    "plt.show()"
   ]
  },
  {
   "cell_type": "markdown",
   "id": "c9a69745",
   "metadata": {},
   "source": [
    "##### f) Using the model from part (b), predict for the train data. Look at the classification report for the train data - is there overfitting for the best estimator?"
   ]
  },
  {
   "cell_type": "code",
   "execution_count": 25,
   "id": "57c2785d",
   "metadata": {},
   "outputs": [
    {
     "name": "stdout",
     "output_type": "stream",
     "text": [
      "Classification Report: \n",
      "               precision    recall  f1-score   support\n",
      "\n",
      "           0       0.90      0.94      0.92     17265\n",
      "           1       0.78      0.66      0.71      5527\n",
      "\n",
      "    accuracy                           0.87     22792\n",
      "   macro avg       0.84      0.80      0.82     22792\n",
      "weighted avg       0.87      0.87      0.87     22792\n",
      "\n"
     ]
    }
   ],
   "source": [
    "# predict for the train data using the best estimator and calculate classification report\n",
    "y_pred_train_abc = best_clf_abc.predict(X_train) \n",
    "print(\"Classification Report: \\n\", classification_report(y_train, y_pred_train_abc))"
   ]
  },
  {
   "cell_type": "markdown",
   "id": "4c8f4899",
   "metadata": {},
   "source": [
    "The difference in performance metrics between the train and test data is not significant, and the accuracy, macro avg, and weighted avg F1-score are similar for both datasets. This indicates that the best estimator in Adaboost is not overfitting the train data and is generalizing well to the test data."
   ]
  },
  {
   "cell_type": "markdown",
   "id": "da43a0a3",
   "metadata": {},
   "source": [
    "### 4 Gradient Boosting Classifier - GridSearch"
   ]
  },
  {
   "cell_type": "markdown",
   "id": "dd1482b4",
   "metadata": {},
   "source": [
    "##### a) Use GradientBoostingClassifier along with the GridSearchCV tool. Run the GridSearchCV using the following hyperparameters:\n",
    "\n",
    "n_estimators: 100,200, 300 & 400\n",
    "learning_rate: choose 3 learning rates of your choice\n",
    "max_depth: 1, 2 \n",
    "\n",
    "Use 5 cross-fold and for scoring use \"roc_auc\""
   ]
  },
  {
   "cell_type": "code",
   "execution_count": 26,
   "id": "199b9702",
   "metadata": {},
   "outputs": [],
   "source": [
    "# create a GradientBoostingClassifier object\n",
    "gbc = GradientBoostingClassifier()\n",
    "\n",
    "# define the parameter grid to search over\n",
    "param_grid = {'n_estimators': [100, 200, 300, 400],\n",
    "              'learning_rate': [0.05, 0.1, 0.2],\n",
    "              'max_depth': [1, 2]}"
   ]
  },
  {
   "cell_type": "markdown",
   "id": "cca4981e",
   "metadata": {},
   "source": [
    "##### b) Use the best estimator from GridSearchCV to predict on test data. Use the .predict_proba() and the .predict() methods to get predicted probabilities as well as predicted classes"
   ]
  },
  {
   "cell_type": "code",
   "execution_count": 28,
   "id": "99db7cf3",
   "metadata": {},
   "outputs": [
    {
     "name": "stdout",
     "output_type": "stream",
     "text": [
      "Best parameters:  {'learning_rate': 0.2, 'max_depth': 2, 'n_estimators': 400}\n"
     ]
    }
   ],
   "source": [
    "# create a GridSearchCV object with 5 cross-fold and roc_auc as scoring metric\n",
    "grid_search = GridSearchCV(gbc, param_grid, cv=5, scoring='roc_auc', n_jobs=-1)\n",
    "\n",
    "# fit the GridSearchCV object to the training data\n",
    "grid_search.fit(X_train, y_train)\n",
    "\n",
    "# print the best parameters found by GridSearchCV\n",
    "print(\"Best parameters: \", grid_search.best_params_)"
   ]
  },
  {
   "cell_type": "code",
   "execution_count": 29,
   "id": "bcdcb093",
   "metadata": {},
   "outputs": [],
   "source": [
    "# get the best estimator found by GridSearchCV\n",
    "best_clf_gbc = grid_search.best_estimator_\n",
    "\n",
    "# use the best estimator to predict on the test data\n",
    "y_pred_gbc = best_clf_gbc.predict(X_test) # predicted classes\n",
    "y_pred_proba_gbc = best_clf_gbc.predict_proba(X_test)[:, 1] # predicted probabilities\n"
   ]
  },
  {
   "cell_type": "markdown",
   "id": "e1c1406b",
   "metadata": {},
   "source": [
    "##### c) Calculate the confusion matrix and classification report (both are in sklearn.metrics)"
   ]
  },
  {
   "cell_type": "code",
   "execution_count": 30,
   "id": "ec1b42c6",
   "metadata": {},
   "outputs": [
    {
     "name": "stdout",
     "output_type": "stream",
     "text": [
      "Confusion matrix:\n",
      "[[7031  424]\n",
      " [ 814 1500]]\n",
      "Classification report:\n",
      "              precision    recall  f1-score   support\n",
      "\n",
      "           0       0.90      0.94      0.92      7455\n",
      "           1       0.78      0.65      0.71      2314\n",
      "\n",
      "    accuracy                           0.87      9769\n",
      "   macro avg       0.84      0.80      0.81      9769\n",
      "weighted avg       0.87      0.87      0.87      9769\n",
      "\n"
     ]
    }
   ],
   "source": [
    "# calculate confusion matrix and classification report\n",
    "print(\"Confusion matrix:\")\n",
    "print(confusion_matrix(y_test, y_pred_gbc))\n",
    "print(\"Classification report:\")\n",
    "print(classification_report(y_test, y_pred_gbc))"
   ]
  },
  {
   "cell_type": "markdown",
   "id": "e2c13dc0",
   "metadata": {},
   "source": [
    "##### d) Calculate the AUC score"
   ]
  },
  {
   "cell_type": "code",
   "execution_count": 31,
   "id": "97701471",
   "metadata": {},
   "outputs": [
    {
     "name": "stdout",
     "output_type": "stream",
     "text": [
      "AUC score: 0.9259972105754666\n"
     ]
    }
   ],
   "source": [
    "# calculate AUC score\n",
    "print(\"AUC score:\", roc_auc_score(y_test, y_pred_proba_gbc))"
   ]
  },
  {
   "cell_type": "markdown",
   "id": "c6a91c3d",
   "metadata": {},
   "source": [
    "##### e) Identify the top 5 features. Feel free to print a list OR to make a plot."
   ]
  },
  {
   "cell_type": "code",
   "execution_count": 32,
   "id": "969d9fdf",
   "metadata": {},
   "outputs": [
    {
     "name": "stdout",
     "output_type": "stream",
     "text": [
      "Top 5 important features of Gradient Boosting Classifier:  ['marital_status_Married-civ-spouse' 'capital_gain' 'education_num'\n",
      " 'capital_loss' 'age']\n"
     ]
    },
    {
     "data": {
      "image/png": "[encoded data removed]",
      "text/plain": [
       "<Figure size 640x480 with 1 Axes>"
      ]
     },
     "metadata": {},
     "output_type": "display_data"
    }
   ],
   "source": [
    "# identify top 5 features\n",
    "importances = best_clf_gbc.feature_importances_\n",
    "indices = np.argsort(importances)[::-1][:5]\n",
    "print(\"Top 5 important features of Gradient Boosting Classifier: \", X_encoded.columns[indices].values)\n",
    "plt.figure()\n",
    "plt.title(\"Feature importances - Gradient Boosting Classifier\")\n",
    "plt.bar(range(5), importances[indices])\n",
    "plt.xticks(range(5), X_encoded.columns[indices], rotation=90)\n",
    "plt.show()"
   ]
  },
  {
   "cell_type": "markdown",
   "id": "b2e2bba4",
   "metadata": {},
   "source": [
    "##### f) Using the model from part (b), predict for the train data. Look at the classification report for the train data - is there overfitting for the best estimator?"
   ]
  },
  {
   "cell_type": "code",
   "execution_count": 33,
   "id": "50e24963",
   "metadata": {},
   "outputs": [
    {
     "name": "stdout",
     "output_type": "stream",
     "text": [
      "Classification Report: \n",
      "               precision    recall  f1-score   support\n",
      "\n",
      "           0       0.90      0.95      0.92     17265\n",
      "           1       0.81      0.67      0.73      5527\n",
      "\n",
      "    accuracy                           0.88     22792\n",
      "   macro avg       0.85      0.81      0.83     22792\n",
      "weighted avg       0.88      0.88      0.88     22792\n",
      "\n"
     ]
    }
   ],
   "source": [
    "# predict for the train data using the best estimator and calculate classification report\n",
    "y_pred_train_gbc = best_clf_gbc.predict(X_train) \n",
    "print(\"Classification Report: \\n\", classification_report(y_train, y_pred_train_gbc))"
   ]
  },
  {
   "cell_type": "markdown",
   "id": "6414b9b8",
   "metadata": {},
   "source": [
    "Looking at the classification reports for the train and test data, we can see that the precision, recall, and F1-score for both classes (0 and 1) are slightly lower on the test data compared to the train data. However, the difference in performance metrics between the train and test data is not significant, and the accuracy, macro avg, and weighted avg F1-score are similar for both datasets. This indicates that the best estimator in Gradient Boosting with Gridsearch is not overfitting the train data and is generalizing well to the test data."
   ]
  },
  {
   "cell_type": "markdown",
   "id": "9c03849c",
   "metadata": {},
   "source": [
    "### 5 XGBoost - RandomizedSearchCV"
   ]
  },
  {
   "cell_type": "code",
   "execution_count": null,
   "id": "5971f6f0",
   "metadata": {},
   "outputs": [],
   "source": [
    "# create XGB classifier\n",
    "xgb_clf = xgb.XGBClassifier(n_jobs=os.cpu_count(),random_state=42)\n",
    "\n",
    "# define the parameter grid\n",
    "param_grid = {\n",
    "    'n_estimators': np.arange(100, 1050, 50),\n",
    "    'learning_rate': np.arange(0.1, 1.7, 0.1),\n",
    "    'max_depth': [1, 2],\n",
    "    'gamma': np.arange(0, 5.25, 0.25)\n",
    "}\n",
    "\n",
    "# create RandomizedSearchCV object\n",
    "rs_cv = RandomizedSearchCV(xgb_clf, param_distributions=param_grid, cv=5, n_iter=50, scoring='roc_auc', n_jobs=-1, random_state=42)\n",
    "\n",
    "# fit the model on the train data\n",
    "rs_cv.fit(X_train, y_train)"
   ]
  },
  {
   "cell_type": "code",
   "execution_count": null,
   "id": "ce711d61",
   "metadata": {},
   "outputs": [],
   "source": [
    "# print the best parameters found by RandomizedSearchCV\n",
    "print(\"Best parameters: \", rs_cv.best_params_)\n",
    "\n",
    "# get the best estimator\n",
    "xgb_best = rs_cv.best_estimator_\n",
    "\n",
    "# predict on the test data\n",
    "y_pred_xgb = xgb_best.predict(X_test)\n",
    "y_pred_proba_xgb = xgb_best.predict_proba(X_test)\n",
    "\n",
    "# calculate confusion matrix and classification report\n",
    "print(\"\\nConfusion matrix:\")\n",
    "print(confusion_matrix(y_test, y_pred_xgb))\n",
    "print(\"Classification report:\")\n",
    "print(classification_report(y_test, y_pred_xgb))\n",
    "\n",
    "# calculate AUC score\n",
    "print(\"\\nAUC score:\", roc_auc_score(y_test, y_pred_proba_xgb[:, 1]))\n",
    "\n",
    "# identify top 5 features\n",
    "importances = xgb_best.feature_importances_\n",
    "indices = np.argsort(importances)[::-1][:5]\n",
    "print(\"\\nTop 5 important features of XGBoost Classifier: \", X_encoded.columns[indices].values)\n",
    "plt.figure()\n",
    "plt.title(\"Feature importances - XGBoost Classifier\")\n",
    "plt.bar(range(5), importances[indices])\n",
    "plt.xticks(range(5), X_encoded.columns[indices], rotation=90)\n",
    "plt.show()"
   ]
  },
  {
   "cell_type": "code",
   "execution_count": null,
   "id": "6ecdf7aa",
   "metadata": {},
   "outputs": [],
   "source": [
    "# predict for the train data using the best estimator and calculate classification report\n",
    "y_pred_train_xgb = xgb_best.predict(X_train) \n",
    "print(\"Classification Report: \\n\", classification_report(y_train, y_pred_train_xgb))"
   ]
  },
  {
   "cell_type": "markdown",
   "id": "1698c4f4",
   "metadata": {},
   "source": [
    "Though we can see that the  model is performing slightly better on the train data compared to the test data, the difference in performance between the train and test data is not very large, which suggests that the overfitting is not severe."
   ]
  },
  {
   "cell_type": "markdown",
   "id": "40385639",
   "metadata": {},
   "source": [
    "### 6 Conceptual Problems\n"
   ]
  },
  {
   "cell_type": "markdown",
   "id": "407844dc",
   "metadata": {},
   "source": [
    "<i>a) The lecture notes describe the Gini Index which is the default criterion used for splitting in sklearn's version of RandomForestClassifier. How does the Gini Index work? (i.e. How is it used to build a top-performing model?). </i>\n",
    "\n",
    "The <b>Gini index</b> is a measure of impurity used in decision trees and random forests. It measures the degree or probability of a particular feature being wrongly classified when it is randomly chosen. The Gini index ranges from 0 to 1, where 0 indicates that all samples belong to the same class, and 1 indicates that the classes are equally distributed. In the context of decision trees and random forests, the Gini index is used to determine the best split at each node. When selecting a split point, the algorithm calculates the Gini index for each feature and selects the feature that results in the lowest Gini index. This means that the feature with the smallest Gini index is considered to be the most informative feature for splitting the data.\n",
    "\n",
    "<br>\n",
    "\n",
    "<i>b) Describe how Random Forest is different from bagging & why this difference can yield improved results.</i>\n",
    "\n",
    "<b>Random Forest</b> is an extension of bagging that introduces two modifications: feature randomness and subspace sampling. Feature randomness selects a random subset of features at each split of a decision tree, and subspace sampling selects a random subset of features for each tree. These modifications <b>increase the diversity of the ensemble and reduce correlation between the trees, which can lead to improved accuracy and stability of predictions.</b> Whereas, <b>Bagging</b> creates subsets of the training data and trains decision trees on each subset, but does not include feature randomness or subspace sampling.\n",
    "\n",
    "<br>\n",
    "\n",
    "<i>c) Describe the importance of the max_depth parameter in Random Forest. Do not just provide a definition, rather think through how bias-variance tradeoff might be impacted by the max_depth parameter.</i>\n",
    "\n",
    "The <b>max_depth parameter</b> in Random Forest is important for balancing the bias-variance tradeoff and can impact the performance of the model. Setting max_depth too high can lead to overfitting, as the trees can become too complex and memorize the noise in the training data, resulting in a model with high variance and low bias, which may perform well on the training data but poorly on unseen data. On the other hand, setting max_depth too low can lead to underfitting, as the trees may be too simple to capture the patterns in the data, resulting in a model with low variance and high bias, which may perform poorly on both the training and test data. The optimal max_depth value will depend on the specific dataset and problem at hand, and can be determined using techniques such as cross-validation or grid search. It is important to choose an appropriate value for max_depth to avoid overfitting or underfitting.\n",
    "\n",
    "<br>\n",
    "\n",
    "<i>d) What does the alpha parameter represent in AdaBoost? Please refer to chapter 7 of the Hands-On ML book if you are struggling.</i>\n",
    "\n",
    "In AdaBoost, <b>the alpha parameter</b> represents the contribution weight of each individual model in the ensemble based on its accuracy on the training data, i.e., how much influence each stump will have in the final classification. These alpha values are used to weigh the contribution of each stump in the ensemble when making predictions for new instances. \n",
    "\n",
    "The alpha value is calculated as follows:\n",
    "\n",
    "* The training error of the weak classifier is calculated as the sum of the weights of the incorrectly classified training examples divided by the total weight of all the training examples.\n",
    "\n",
    "* The alpha value is then calculated as a function of the training error. The formula for the alpha value is:  <b>alpha = 0.5 * ln((1 - training error) / training error),</b>  where ln is the natural logarithm.\n",
    "\n",
    "* The weight of each weak classifier is then updated based on its alpha value. The weight is multiplied by e^(alpha) if the classifier correctly classifies a training example, and by e^(-alpha) if the classifier incorrectly classifies a training example.\n",
    "\n",
    "Stumps with higher alpha values contribute more to the final prediction of the ensemble, while stumps with lower alpha values contribute less.\n",
    "\n",
    "<br>\n",
    "\n",
    "<i>e) In AdaBoost explain how the final predicted class is determined. Be sure to reference the alpha term in your explanation.</i>\n",
    "\n",
    "When making predictions, the final prediction of the AdaBoost ensemble is determined by <b>the weighted average of the predictions of all the individual models, with each model's contribution weighted by its alpha value.</b> The alpha values determine the contribution of each weak classifier to the final prediction. Models with higher alpha values have a greater influence on the final prediction, while models with lower alpha values have a smaller influence. The idea behind AdaBoost is that by assigning higher weights to the more accurate weak classifiers, they will have a larger influence on the final prediction, resulting in a better classification performance.\n",
    "\n",
    "<br>\n",
    "\n",
    "<i>f) In Gradient Boosting, what is the role of the max_depth parameter? Why is it important to tune on this parameter?</i>\n",
    "\n",
    "In Gradient Boosting, <b>the max_depth parameter</b> specifies the maximum depth of each decision tree in the ensemble. The max_depth parameter is important because it controls the complexity of the decision trees, which can have a significant impact on the performance of the model. Specifically, increasing the value of max_depth can lead to overfitting, where the model becomes too complex and fits the training data too closely, resulting in poor generalization to new, unseen data. On the other hand, setting max_depth too low can result in underfitting, where the model is too simple and fails to capture important patterns in the data.\n",
    "\n",
    "Therefore, it is important to tune the max_depth parameter to find the optimal value that balances between overfitting and underfitting. This can be done by evaluating the model's performance on a validation set or using cross-validation. By trying different values of max_depth and selecting the one that results in the best performance on the validation set, we can ensure that the model generalizes well to new data.\n",
    "\n",
    "<br>\n",
    "\n",
    "<i>g) In Part (e) of Steps 2-5 you determined the top 5 predictors across each model. Do any predictors show up in the top 5 predictors for all three models? If so, comment on if this predictor makes sense given what you are attempting to predict. (Note: If you don't have any predictors showing up across all 3 predictors, explain one that shows up in 2 of them).</i>\n",
    "\n",
    "We can notice that the <b>age, education_num and capital_gain</b> predictors show up in the top 5 predictors for most of our models and it definitely makes sense as these features help in predicting whether an individual has an income that exceeds $50K.\n",
    "\n",
    "<br>\n",
    "\n",
    "<i>h) From the models run in steps 2-5, which performs the best based on the Classification Report? Support your reasoning with evidence from your test data and be sure to share the optimal hyperparameters found from your grid search.</i>\n",
    "\n",
    "On comparing the Classification Report, we can see that Gradient Boosting and XGBoost have nearly the same results but we can conclude that the <b>Gradient Boosting model is the best</b> cus it has a higher AUC score. Also the optimal hyperparamters for XGBoost indicate that the model has a relatively small tree depth, a high learning rate, and a large number of trees to ensemble. This suggests that the model could be overfitting to the training data. However, for <b>Gradient Boosting</b>, the best hyperparameters are <b>learning_rate=0.2, max_depth=2, and n_estimators=400.</b> These hyperparameters suggest that the model has a moderate learning rate and tree depth, and a large number of trees to ensemble. This implies that the model may not be overfitting to the training data and may be more robust to unseen data.\n",
    "\n",
    "<b>Gradient Boosting</b> is be a better model due to its moderate hyperparameters that suggest a balance between overfitting and underfitting and the highest AUC score.\n",
    "\n",
    "<br>\n",
    "\n",
    "<i>i) For your best performing model, plot out a ROC curve using your test data. Feel free to use sklearn, matplotlib or any other method in python. Describe what the x-axis & y-axis of the ROC curve tell us about a classifier.</i>"
   ]
  },
  {
   "cell_type": "code",
   "execution_count": null,
   "id": "6f9b7b16",
   "metadata": {},
   "outputs": [],
   "source": [
    "import sklearn.metrics as metrics\n",
    "\n",
    "fpr, tpr, threshold = metrics.roc_curve(y_test, y_pred_proba_gbc)\n",
    "roc_auc = metrics.auc(fpr, tpr)\n",
    "\n",
    "# method I: plt\n",
    "import matplotlib.pyplot as plt\n",
    "plt.title('Gradient Boosting - Receiver Operating Characteristic Curve')\n",
    "plt.plot(fpr, tpr, 'b', label = 'AUC = %0.2f' % roc_auc)\n",
    "plt.legend(loc = 'lower right')\n",
    "plt.plot([0, 1], [0, 1],'r--')\n",
    "plt.xlim([0, 1])\n",
    "plt.ylim([0, 1])\n",
    "plt.ylabel('True Positive Rate')\n",
    "plt.xlabel('False Positive Rate')\n",
    "plt.show()"
   ]
  },
  {
   "cell_type": "markdown",
   "id": "1da77100",
   "metadata": {},
   "source": [
    "The <b>Receiver Operating Characteristic (ROC) curve</b> is a graphical representation of the performance of a binary classifier, which is a model that predicts the class of an instance as either positive or negative. The ROC curve is created by plotting the True Positive Rate (TPR) against the False Positive Rate (FPR) at various threshold settings.\n",
    "\n",
    "* The <b>x-axis</b> of the ROC curve represents the <b>False Positive Rate (FPR),</b> which is the proportion of negative instances that are incorrectly classified as positive by the classifier.\n",
    "* The <b>y-axis</b> of the ROC curve represents the <b>True Positive Rate (TPR),</b> which is the proportion of positive instances that are correctly classified as positive by the classifier.\n",
    "\n",
    "A good classifier is the one that has a high TPR and a low FPR, which means that it can accurately detect positive instances while avoiding false alarms. The optimal classifier would have a TPR of 1 (i.e., all positive instances are correctly classified) and an FPR of 0 (i.e., no negative instances are incorrectly classified as positive). The area under the curve (AUC) can be used as a summary measure of the classifier's performance, where a <b>higher AUC indicates a better classifier.</b>"
   ]
  },
  {
   "cell_type": "code",
   "execution_count": null,
   "id": "70332972",
   "metadata": {},
   "outputs": [],
   "source": []
  }
 ],
 "metadata": {
  "kernelspec": {
   "display_name": "Python 3 (ipykernel)",
   "language": "python",
   "name": "python3"
  },
  "language_info": {
   "codemirror_mode": {
    "name": "ipython",
    "version": 3
   },
   "file_extension": ".py",
   "mimetype": "text/x-python",
   "name": "python",
   "nbconvert_exporter": "python",
   "pygments_lexer": "ipython3",
   "version": "3.9.13"
  }
 },
 "nbformat": 4,
 "nbformat_minor": 5
}
