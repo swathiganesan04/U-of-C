{
 "cells": [
  {
   "cell_type": "code",
   "execution_count": 1,
   "id": "09f4eb80",
   "metadata": {},
   "outputs": [],
   "source": [
    "import pandas as pd\n",
    "import numpy as np\n",
    "import matplotlib.pyplot as plt\n",
    "plt.rcParams[\"figure.figsize\"] = (6,4)\n",
    "\n",
    "import seaborn as sns\n",
    "from scipy import stats\n",
    "from sklearn.model_selection import train_test_split\n",
    "\n",
    "from sklearn.metrics import mean_squared_error,r2_score,explained_variance_score\n",
    "\n",
    "\n",
    "import warnings\n",
    "warnings.simplefilter(action='ignore', category=FutureWarning)\n"
   ]
  },
  {
   "cell_type": "markdown",
   "id": "9bfb5843",
   "metadata": {},
   "source": [
    "### Part A: Data Cleaning"
   ]
  },
  {
   "cell_type": "markdown",
   "id": "3f2ab6f8",
   "metadata": {},
   "source": [
    "##### Import full data set using Pandas"
   ]
  },
  {
   "cell_type": "code",
   "execution_count": 2,
   "id": "7188d5bd",
   "metadata": {},
   "outputs": [
    {
     "data": {
      "text/html": [
       "<div>\n",
       "<style scoped>\n",
       "    .dataframe tbody tr th:only-of-type {\n",
       "        vertical-align: middle;\n",
       "    }\n",
       "\n",
       "    .dataframe tbody tr th {\n",
       "        vertical-align: top;\n",
       "    }\n",
       "\n",
       "    .dataframe thead th {\n",
       "        text-align: right;\n",
       "    }\n",
       "</style>\n",
       "<table border=\"1\" class=\"dataframe\">\n",
       "  <thead>\n",
       "    <tr style=\"text-align: right;\">\n",
       "      <th></th>\n",
       "      <th>Cst_Cnt</th>\n",
       "      <th>Btl_Cnt</th>\n",
       "      <th>Sta_ID</th>\n",
       "      <th>Depth_ID</th>\n",
       "      <th>Depthm</th>\n",
       "      <th>T_degC</th>\n",
       "      <th>Salnty</th>\n",
       "      <th>O2ml_L</th>\n",
       "      <th>STheta</th>\n",
       "      <th>O2Sat</th>\n",
       "      <th>...</th>\n",
       "      <th>R_PHAEO</th>\n",
       "      <th>R_PRES</th>\n",
       "      <th>R_SAMP</th>\n",
       "      <th>DIC1</th>\n",
       "      <th>DIC2</th>\n",
       "      <th>TA1</th>\n",
       "      <th>TA2</th>\n",
       "      <th>pH2</th>\n",
       "      <th>pH1</th>\n",
       "      <th>DIC Quality Comment</th>\n",
       "    </tr>\n",
       "  </thead>\n",
       "  <tbody>\n",
       "    <tr>\n",
       "      <th>0</th>\n",
       "      <td>1</td>\n",
       "      <td>1</td>\n",
       "      <td>054.0 056.0</td>\n",
       "      <td>19-4903CR-HY-060-0930-05400560-0000A-3</td>\n",
       "      <td>0</td>\n",
       "      <td>10.50000</td>\n",
       "      <td>33.44000</td>\n",
       "      <td>NaN</td>\n",
       "      <td>25.64900</td>\n",
       "      <td>NaN</td>\n",
       "      <td>...</td>\n",
       "      <td>NaN</td>\n",
       "      <td>0</td>\n",
       "      <td>NaN</td>\n",
       "      <td>NaN</td>\n",
       "      <td>NaN</td>\n",
       "      <td>NaN</td>\n",
       "      <td>NaN</td>\n",
       "      <td>NaN</td>\n",
       "      <td>NaN</td>\n",
       "      <td>NaN</td>\n",
       "    </tr>\n",
       "    <tr>\n",
       "      <th>1</th>\n",
       "      <td>1</td>\n",
       "      <td>2</td>\n",
       "      <td>054.0 056.0</td>\n",
       "      <td>19-4903CR-HY-060-0930-05400560-0008A-3</td>\n",
       "      <td>8</td>\n",
       "      <td>10.46000</td>\n",
       "      <td>33.44000</td>\n",
       "      <td>NaN</td>\n",
       "      <td>25.65600</td>\n",
       "      <td>NaN</td>\n",
       "      <td>...</td>\n",
       "      <td>NaN</td>\n",
       "      <td>8</td>\n",
       "      <td>NaN</td>\n",
       "      <td>NaN</td>\n",
       "      <td>NaN</td>\n",
       "      <td>NaN</td>\n",
       "      <td>NaN</td>\n",
       "      <td>NaN</td>\n",
       "      <td>NaN</td>\n",
       "      <td>NaN</td>\n",
       "    </tr>\n",
       "    <tr>\n",
       "      <th>2</th>\n",
       "      <td>1</td>\n",
       "      <td>3</td>\n",
       "      <td>054.0 056.0</td>\n",
       "      <td>19-4903CR-HY-060-0930-05400560-0010A-7</td>\n",
       "      <td>10</td>\n",
       "      <td>10.46000</td>\n",
       "      <td>33.43700</td>\n",
       "      <td>NaN</td>\n",
       "      <td>25.65400</td>\n",
       "      <td>NaN</td>\n",
       "      <td>...</td>\n",
       "      <td>NaN</td>\n",
       "      <td>10</td>\n",
       "      <td>NaN</td>\n",
       "      <td>NaN</td>\n",
       "      <td>NaN</td>\n",
       "      <td>NaN</td>\n",
       "      <td>NaN</td>\n",
       "      <td>NaN</td>\n",
       "      <td>NaN</td>\n",
       "      <td>NaN</td>\n",
       "    </tr>\n",
       "    <tr>\n",
       "      <th>3</th>\n",
       "      <td>1</td>\n",
       "      <td>4</td>\n",
       "      <td>054.0 056.0</td>\n",
       "      <td>19-4903CR-HY-060-0930-05400560-0019A-3</td>\n",
       "      <td>19</td>\n",
       "      <td>10.45000</td>\n",
       "      <td>33.42000</td>\n",
       "      <td>NaN</td>\n",
       "      <td>25.64300</td>\n",
       "      <td>NaN</td>\n",
       "      <td>...</td>\n",
       "      <td>NaN</td>\n",
       "      <td>19</td>\n",
       "      <td>NaN</td>\n",
       "      <td>NaN</td>\n",
       "      <td>NaN</td>\n",
       "      <td>NaN</td>\n",
       "      <td>NaN</td>\n",
       "      <td>NaN</td>\n",
       "      <td>NaN</td>\n",
       "      <td>NaN</td>\n",
       "    </tr>\n",
       "    <tr>\n",
       "      <th>4</th>\n",
       "      <td>1</td>\n",
       "      <td>5</td>\n",
       "      <td>054.0 056.0</td>\n",
       "      <td>19-4903CR-HY-060-0930-05400560-0020A-7</td>\n",
       "      <td>20</td>\n",
       "      <td>10.45000</td>\n",
       "      <td>33.42100</td>\n",
       "      <td>NaN</td>\n",
       "      <td>25.64300</td>\n",
       "      <td>NaN</td>\n",
       "      <td>...</td>\n",
       "      <td>NaN</td>\n",
       "      <td>20</td>\n",
       "      <td>NaN</td>\n",
       "      <td>NaN</td>\n",
       "      <td>NaN</td>\n",
       "      <td>NaN</td>\n",
       "      <td>NaN</td>\n",
       "      <td>NaN</td>\n",
       "      <td>NaN</td>\n",
       "      <td>NaN</td>\n",
       "    </tr>\n",
       "  </tbody>\n",
       "</table>\n",
       "<p>5 rows × 74 columns</p>\n",
       "</div>"
      ],
      "text/plain": [
       "  Cst_Cnt Btl_Cnt       Sta_ID                                Depth_ID Depthm  \\\n",
       "0       1       1  054.0 056.0  19-4903CR-HY-060-0930-05400560-0000A-3      0   \n",
       "1       1       2  054.0 056.0  19-4903CR-HY-060-0930-05400560-0008A-3      8   \n",
       "2       1       3  054.0 056.0  19-4903CR-HY-060-0930-05400560-0010A-7     10   \n",
       "3       1       4  054.0 056.0  19-4903CR-HY-060-0930-05400560-0019A-3     19   \n",
       "4       1       5  054.0 056.0  19-4903CR-HY-060-0930-05400560-0020A-7     20   \n",
       "\n",
       "     T_degC    Salnty O2ml_L    STheta O2Sat  ... R_PHAEO R_PRES R_SAMP DIC1  \\\n",
       "0  10.50000  33.44000    NaN  25.64900   NaN  ...     NaN      0    NaN  NaN   \n",
       "1  10.46000  33.44000    NaN  25.65600   NaN  ...     NaN      8    NaN  NaN   \n",
       "2  10.46000  33.43700    NaN  25.65400   NaN  ...     NaN     10    NaN  NaN   \n",
       "3  10.45000  33.42000    NaN  25.64300   NaN  ...     NaN     19    NaN  NaN   \n",
       "4  10.45000  33.42100    NaN  25.64300   NaN  ...     NaN     20    NaN  NaN   \n",
       "\n",
       "  DIC2  TA1  TA2  pH2  pH1 DIC Quality Comment  \n",
       "0  NaN  NaN  NaN  NaN  NaN                 NaN  \n",
       "1  NaN  NaN  NaN  NaN  NaN                 NaN  \n",
       "2  NaN  NaN  NaN  NaN  NaN                 NaN  \n",
       "3  NaN  NaN  NaN  NaN  NaN                 NaN  \n",
       "4  NaN  NaN  NaN  NaN  NaN                 NaN  \n",
       "\n",
       "[5 rows x 74 columns]"
      ]
     },
     "execution_count": 2,
     "metadata": {},
     "output_type": "execute_result"
    }
   ],
   "source": [
    "bottle_df = pd.read_csv(\"bottle.csv\", dtype='unicode', low_memory=False)\n",
    "bottle_df.head()"
   ]
  },
  {
   "cell_type": "code",
   "execution_count": 3,
   "id": "443c0eea",
   "metadata": {},
   "outputs": [
    {
     "data": {
      "text/plain": [
       "(864863, 74)"
      ]
     },
     "execution_count": 3,
     "metadata": {},
     "output_type": "execute_result"
    }
   ],
   "source": [
    "bottle_df.shape"
   ]
  },
  {
   "cell_type": "markdown",
   "id": "52618af7",
   "metadata": {},
   "source": [
    "##### 1. We will increase the complexity of our model slightly by increasing the number of features. Keep the following features:\n",
    "\n",
    "- T_degC (water temperature)\n",
    "- Salnty (salinity of water)\n",
    "- STheta (density of water)\n",
    "- O2ml_L (milliliters of dissolved oxygen per liter of water)\n",
    "- Depthm (depth in meters)"
   ]
  },
  {
   "cell_type": "code",
   "execution_count": 4,
   "id": "ddb12fa8",
   "metadata": {},
   "outputs": [
    {
     "data": {
      "text/plain": [
       "(864863, 5)"
      ]
     },
     "execution_count": 4,
     "metadata": {},
     "output_type": "execute_result"
    }
   ],
   "source": [
    "bottle_df = bottle_df[['T_degC', 'Salnty', 'STheta', 'O2ml_L', 'Depthm']]\n",
    "bottle_df.shape"
   ]
  },
  {
   "cell_type": "markdown",
   "id": "46a4f85b",
   "metadata": {},
   "source": [
    "##### 2. Remove NaN / NA values from dataset (prior to building train/test sets) (same as HW #1):\n",
    "Shape of your data should be: (661268, 5)"
   ]
  },
  {
   "cell_type": "code",
   "execution_count": 5,
   "id": "809ed70f",
   "metadata": {},
   "outputs": [
    {
     "data": {
      "text/plain": [
       "(661268, 5)"
      ]
     },
     "execution_count": 5,
     "metadata": {},
     "output_type": "execute_result"
    }
   ],
   "source": [
    "bottle_df = bottle_df.dropna()\n",
    "bottle_df = bottle_df.astype(float)\n",
    "bottle_df.shape"
   ]
  },
  {
   "cell_type": "code",
   "execution_count": 6,
   "id": "91c03d50",
   "metadata": {},
   "outputs": [
    {
     "data": {
      "text/html": [
       "<div>\n",
       "<style scoped>\n",
       "    .dataframe tbody tr th:only-of-type {\n",
       "        vertical-align: middle;\n",
       "    }\n",
       "\n",
       "    .dataframe tbody tr th {\n",
       "        vertical-align: top;\n",
       "    }\n",
       "\n",
       "    .dataframe thead th {\n",
       "        text-align: right;\n",
       "    }\n",
       "</style>\n",
       "<table border=\"1\" class=\"dataframe\">\n",
       "  <thead>\n",
       "    <tr style=\"text-align: right;\">\n",
       "      <th></th>\n",
       "      <th>T_degC</th>\n",
       "      <th>Salnty</th>\n",
       "      <th>STheta</th>\n",
       "      <th>O2ml_L</th>\n",
       "      <th>Depthm</th>\n",
       "    </tr>\n",
       "  </thead>\n",
       "  <tbody>\n",
       "    <tr>\n",
       "      <th>count</th>\n",
       "      <td>661268.000000</td>\n",
       "      <td>661268.000000</td>\n",
       "      <td>661268.000000</td>\n",
       "      <td>661268.000000</td>\n",
       "      <td>661268.00000</td>\n",
       "    </tr>\n",
       "    <tr>\n",
       "      <th>mean</th>\n",
       "      <td>10.917560</td>\n",
       "      <td>33.832800</td>\n",
       "      <td>25.797882</td>\n",
       "      <td>3.416076</td>\n",
       "      <td>219.73400</td>\n",
       "    </tr>\n",
       "    <tr>\n",
       "      <th>std</th>\n",
       "      <td>4.224529</td>\n",
       "      <td>0.460338</td>\n",
       "      <td>1.009609</td>\n",
       "      <td>2.068615</td>\n",
       "      <td>311.15039</td>\n",
       "    </tr>\n",
       "    <tr>\n",
       "      <th>min</th>\n",
       "      <td>1.440000</td>\n",
       "      <td>29.402000</td>\n",
       "      <td>20.996000</td>\n",
       "      <td>-0.010000</td>\n",
       "      <td>0.00000</td>\n",
       "    </tr>\n",
       "    <tr>\n",
       "      <th>25%</th>\n",
       "      <td>7.800000</td>\n",
       "      <td>33.480000</td>\n",
       "      <td>24.941000</td>\n",
       "      <td>1.400000</td>\n",
       "      <td>49.00000</td>\n",
       "    </tr>\n",
       "    <tr>\n",
       "      <th>50%</th>\n",
       "      <td>10.160000</td>\n",
       "      <td>33.854000</td>\n",
       "      <td>25.972000</td>\n",
       "      <td>3.470000</td>\n",
       "      <td>125.00000</td>\n",
       "    </tr>\n",
       "    <tr>\n",
       "      <th>75%</th>\n",
       "      <td>14.010000</td>\n",
       "      <td>34.184800</td>\n",
       "      <td>26.634000</td>\n",
       "      <td>5.510000</td>\n",
       "      <td>300.00000</td>\n",
       "    </tr>\n",
       "    <tr>\n",
       "      <th>max</th>\n",
       "      <td>31.140000</td>\n",
       "      <td>37.034000</td>\n",
       "      <td>28.083000</td>\n",
       "      <td>11.130000</td>\n",
       "      <td>5351.00000</td>\n",
       "    </tr>\n",
       "  </tbody>\n",
       "</table>\n",
       "</div>"
      ],
      "text/plain": [
       "              T_degC         Salnty         STheta         O2ml_L  \\\n",
       "count  661268.000000  661268.000000  661268.000000  661268.000000   \n",
       "mean       10.917560      33.832800      25.797882       3.416076   \n",
       "std         4.224529       0.460338       1.009609       2.068615   \n",
       "min         1.440000      29.402000      20.996000      -0.010000   \n",
       "25%         7.800000      33.480000      24.941000       1.400000   \n",
       "50%        10.160000      33.854000      25.972000       3.470000   \n",
       "75%        14.010000      34.184800      26.634000       5.510000   \n",
       "max        31.140000      37.034000      28.083000      11.130000   \n",
       "\n",
       "             Depthm  \n",
       "count  661268.00000  \n",
       "mean      219.73400  \n",
       "std       311.15039  \n",
       "min         0.00000  \n",
       "25%        49.00000  \n",
       "50%       125.00000  \n",
       "75%       300.00000  \n",
       "max      5351.00000  "
      ]
     },
     "execution_count": 6,
     "metadata": {},
     "output_type": "execute_result"
    }
   ],
   "source": [
    "bottle_df.describe()"
   ]
  },
  {
   "cell_type": "markdown",
   "id": "84efc444",
   "metadata": {},
   "source": [
    "##### 3) Remove any STheta outliers (same as HW #1). \n",
    "- Shape of your data should be: (661268, 5)\n",
    "- Note: Outliers for STheta might have been removed due to NAs in new features. Be sure to verify this on your own."
   ]
  },
  {
   "cell_type": "markdown",
   "id": "9efe173a",
   "metadata": {},
   "source": [
    "Scatter: STheta (density of water) vs T_degC"
   ]
  },
  {
   "cell_type": "code",
   "execution_count": 7,
   "id": "169e5f86",
   "metadata": {},
   "outputs": [
    {
     "data": {
      "image/png": "[encoded data removed]",
      "text/plain": [
       "<Figure size 600x400 with 1 Axes>"
      ]
     },
     "metadata": {},
     "output_type": "display_data"
    }
   ],
   "source": [
    "# Create a scatter plot\n",
    "plt.scatter(bottle_df['STheta'], bottle_df['T_degC'])\n",
    "\n",
    "# Add axis labels and a title\n",
    "plt.xlabel(\"STheta\")\n",
    "plt.ylabel(\"T_degC\")\n",
    "plt.title(\"STheta vs T_degC Scatter Plot\")\n",
    "\n",
    "# Display the plot\n",
    "plt.show()"
   ]
  },
  {
   "cell_type": "code",
   "execution_count": 8,
   "id": "6de75d97",
   "metadata": {},
   "outputs": [
    {
     "data": {
      "text/plain": [
       "(661268, 5)"
      ]
     },
     "execution_count": 8,
     "metadata": {},
     "output_type": "execute_result"
    }
   ],
   "source": [
    "bottle_df.shape"
   ]
  },
  {
   "cell_type": "markdown",
   "id": "b9cc3280",
   "metadata": {},
   "source": [
    "The scatter plot shows the relationship between two variables STheta and T_degC. We can clearly see that there are no outliers in STheta and hence we are good to proceed.\n"
   ]
  },
  {
   "cell_type": "markdown",
   "id": "74ee2375",
   "metadata": {},
   "source": [
    "### Part B: Train / Test Split & Scaling"
   ]
  },
  {
   "cell_type": "markdown",
   "id": "50f743e8",
   "metadata": {},
   "source": [
    "##### 1. Create X & y objects:\n",
    "\n",
    "- X object should be all 4 predictors. Shape should be: (661268, 4)\n",
    "\n",
    "- y object should be just your target variable (T_degC): Shape should be: (661268, 1)"
   ]
  },
  {
   "cell_type": "code",
   "execution_count": 9,
   "id": "f3ab5208",
   "metadata": {},
   "outputs": [],
   "source": [
    "#splitting into X,y\n",
    "X = bottle_df.drop('T_degC', axis=1)\n",
    "y = bottle_df['T_degC'].to_numpy()\n",
    "y = y.reshape(-1, 1)"
   ]
  },
  {
   "cell_type": "code",
   "execution_count": 10,
   "id": "b599b48f",
   "metadata": {},
   "outputs": [
    {
     "data": {
      "text/plain": [
       "(661268, 4)"
      ]
     },
     "execution_count": 10,
     "metadata": {},
     "output_type": "execute_result"
    }
   ],
   "source": [
    "X.shape"
   ]
  },
  {
   "cell_type": "code",
   "execution_count": 11,
   "id": "f868f175",
   "metadata": {},
   "outputs": [
    {
     "data": {
      "text/plain": [
       "(661268, 1)"
      ]
     },
     "execution_count": 11,
     "metadata": {},
     "output_type": "execute_result"
    }
   ],
   "source": [
    "y.shape"
   ]
  },
  {
   "cell_type": "markdown",
   "id": "428b9082",
   "metadata": {},
   "source": [
    "##### 2. Generate X_train, X_test, y_train & y_test. Use 80% for train & 20% for test."
   ]
  },
  {
   "cell_type": "code",
   "execution_count": 12,
   "id": "bb518d42",
   "metadata": {},
   "outputs": [],
   "source": [
    "#train test split\n",
    "X_train, X_test, y_train, y_test = train_test_split(X, y, test_size=0.2, random_state=42)"
   ]
  },
  {
   "cell_type": "markdown",
   "id": "55fdc17f",
   "metadata": {},
   "source": [
    "##### 3. Scale all features to improve convergence in Gradient Descent. It is highly encouraged that you review the appropriate method of handling scaling with train & test data."
   ]
  },
  {
   "cell_type": "code",
   "execution_count": 13,
   "id": "e72e39ac",
   "metadata": {},
   "outputs": [],
   "source": [
    "from sklearn.preprocessing import StandardScaler\n",
    "\n",
    "# creating a StandardScaler object\n",
    "scaler = StandardScaler()\n",
    "\n",
    "# fitting the scaler to the training data and transform the data\n",
    "X_train_scaled = scaler.fit_transform(X_train)\n",
    "\n",
    "# transforming the test data using the scaling parameters learned from the training data\n",
    "X_test_scaled = scaler.transform(X_test)\n"
   ]
  },
  {
   "cell_type": "code",
   "execution_count": 14,
   "id": "90b7bb97",
   "metadata": {},
   "outputs": [],
   "source": [
    "# Alternative\n",
    "# Normalize the input features\n",
    "## X_train_scaled = (X_train - X_train.mean()) / X_train.std()\n",
    "## X_test_scaled = (X_test - X_test.mean()) / X_test.std()"
   ]
  },
  {
   "cell_type": "markdown",
   "id": "97ad083d",
   "metadata": {},
   "source": [
    "We fit the scaler to the training data only, and then use the same scaler to transform both the training and test data. This ensures that the scaling parameters learned from the training data are applied consistently to the test data, and helps prevent overfitting to the training data."
   ]
  },
  {
   "cell_type": "markdown",
   "id": "d00d524d",
   "metadata": {},
   "source": [
    "### Part C: Linear Regression with sklearn\n",
    "\n"
   ]
  },
  {
   "cell_type": "markdown",
   "id": "629ced05",
   "metadata": {},
   "source": [
    "##### 1. Create an instance of the LinearRegression class called \"lin_reg\". Fit lin_reg using X_train_scaled & y_train."
   ]
  },
  {
   "cell_type": "code",
   "execution_count": 15,
   "id": "8f6577ef",
   "metadata": {},
   "outputs": [
    {
     "data": {
      "text/plain": [
       "LinearRegression()"
      ]
     },
     "execution_count": 15,
     "metadata": {},
     "output_type": "execute_result"
    }
   ],
   "source": [
    "from sklearn.linear_model import LinearRegression\n",
    "\n",
    "# Create an instance of the LinearRegression class\n",
    "lin_reg = LinearRegression()\n",
    "\n",
    "# Fit lin_reg using X_train and y_train\n",
    "lin_reg.fit(X_train_scaled, y_train)"
   ]
  },
  {
   "cell_type": "markdown",
   "id": "b4867db7",
   "metadata": {},
   "source": [
    "##### 2. Print out the coefficients (including the intercept)"
   ]
  },
  {
   "cell_type": "code",
   "execution_count": 16,
   "id": "e69c27b1",
   "metadata": {},
   "outputs": [
    {
     "name": "stdout",
     "output_type": "stream",
     "text": [
      "Intercept: [10.91541795]\n",
      "Coefficients: [[ 1.63046569 -4.6345913   0.3020677  -0.47495536]]\n"
     ]
    }
   ],
   "source": [
    "# Print out the coefficients\n",
    "print(\"Intercept:\", lin_reg.intercept_)\n",
    "print(\"Coefficients:\", lin_reg.coef_)"
   ]
  },
  {
   "cell_type": "markdown",
   "id": "bb601f4b",
   "metadata": {},
   "source": [
    "##### 3. Predict T_degC for the test data using lin_reg. Make sure to use X_test_scaled!\n",
    "\n",
    "Call predictions y_pred_sklearn"
   ]
  },
  {
   "cell_type": "code",
   "execution_count": 17,
   "id": "67fac7aa",
   "metadata": {},
   "outputs": [],
   "source": [
    "# Predict T_degC for the test data using the fitted values in lin_reg\n",
    "y_pred_sklearn = lin_reg.predict(X_test_scaled)"
   ]
  },
  {
   "cell_type": "markdown",
   "id": "3cb4b56d",
   "metadata": {},
   "source": [
    "##### 4. Calculate the following for the test data:\n",
    "\n",
    "- mean squared error\n",
    "- r-squared \n",
    "- explained variance"
   ]
  },
  {
   "cell_type": "code",
   "execution_count": 18,
   "id": "b07cee67",
   "metadata": {},
   "outputs": [
    {
     "name": "stdout",
     "output_type": "stream",
     "text": [
      "Mean squared error: 0.11101117205433632\n",
      "R-squared: 0.9937682503632342\n",
      "Explained variance: 0.9937684088237414\n"
     ]
    }
   ],
   "source": [
    "# Calculate mean squared error, r-squared, and explained variance for the test data\n",
    "mse_sklearn = mean_squared_error(y_test, y_pred_sklearn)\n",
    "r2_sklearn = r2_score(y_test, y_pred_sklearn)\n",
    "evs_sklearn = explained_variance_score(y_test, y_pred_sklearn)\n",
    "\n",
    "# Print the evaluation metrics\n",
    "print(\"Mean squared error:\", mse_sklearn)\n",
    "print(\"R-squared:\", r2_sklearn)\n",
    "print(\"Explained variance:\", evs_sklearn)"
   ]
  },
  {
   "cell_type": "markdown",
   "id": "7587c2a0",
   "metadata": {},
   "source": [
    "##### 5. Create a scatterplot that shows actual versus predicted values for the T_degC."
   ]
  },
  {
   "cell_type": "code",
   "execution_count": 19,
   "id": "9b92d1fc",
   "metadata": {},
   "outputs": [
    {
     "data": {
      "image/png": "[encoded data removed]",
      "text/plain": [
       "<Figure size 600x400 with 1 Axes>"
      ]
     },
     "metadata": {},
     "output_type": "display_data"
    }
   ],
   "source": [
    "# Create a scatterplot of actual versus predicted values\n",
    "plt.scatter(y_test, y_pred_sklearn)\n",
    "plt.xlabel(\"Actual T_degC\")\n",
    "plt.ylabel(\"Predicted T_degC\")\n",
    "plt.title(\"Actual versus predicted values (sklearn)\")\n",
    "plt.show()"
   ]
  },
  {
   "cell_type": "markdown",
   "id": "c59151b6",
   "metadata": {},
   "source": [
    "### Part D: Gradient Descent Mini-Batch\n"
   ]
  },
  {
   "cell_type": "code",
   "execution_count": 20,
   "id": "6fecc303",
   "metadata": {},
   "outputs": [
    {
     "name": "stdout",
     "output_type": "stream",
     "text": [
      "Mini-batch size: 50\n",
      "Evaluation metrics for Test :\n",
      "Mean squared error: 0.11849098415820998\n",
      "R-squared: 0.993348361846621\n",
      "Explained variance: 0.9934025353594004\n"
     ]
    },
    {
     "data": {
      "image/png": "[encoded data removed]",
      "text/plain": [
       "<Figure size 600x400 with 1 Axes>"
      ]
     },
     "metadata": {},
     "output_type": "display_data"
    },
    {
     "name": "stdout",
     "output_type": "stream",
     "text": [
      "Evaluation metrics for Train :\n",
      "Mean squared error: 0.11816655068263589\n",
      "R-squared: 0.9933818028460155\n",
      "Explained variance: 0.9934424032236259\n",
      "******************************************************************\n",
      "\n",
      "Mini-batch size: 250\n",
      "Evaluation metrics for Test :\n",
      "Mean squared error: 0.11258212760466281\n",
      "R-squared: 0.993680062827701\n",
      "Explained variance: 0.9936901617520404\n"
     ]
    },
    {
     "data": {
      "image/png": "[encoded data removed]",
      "text/plain": [
       "<Figure size 600x400 with 1 Axes>"
      ]
     },
     "metadata": {},
     "output_type": "display_data"
    },
    {
     "name": "stdout",
     "output_type": "stream",
     "text": [
      "Evaluation metrics for Train :\n",
      "Mean squared error: 0.11223316404030886\n",
      "R-squared: 0.993714116198338\n",
      "Explained variance: 0.9937269978268318\n",
      "******************************************************************\n",
      "\n",
      "Mini-batch size: 2000\n",
      "Evaluation metrics for Test :\n",
      "Mean squared error: 0.11108234889743424\n",
      "R-squared: 0.9937642547629905\n",
      "Explained variance: 0.9937642566494848\n"
     ]
    },
    {
     "data": {
      "image/png": "[encoded data removed]",
      "text/plain": [
       "<Figure size 600x400 with 1 Axes>"
      ]
     },
     "metadata": {},
     "output_type": "display_data"
    },
    {
     "name": "stdout",
     "output_type": "stream",
     "text": [
      "Evaluation metrics for Train :\n",
      "Mean squared error: 0.1107041812493561\n",
      "R-squared: 0.9937997504958369\n",
      "Explained variance: 0.9937999455871723\n",
      "******************************************************************\n",
      "\n"
     ]
    }
   ],
   "source": [
    "from sklearn.preprocessing import add_dummy_feature\n",
    "\n",
    "# Step 1: Adding a column of 1s to X_train_scaled and X_test_scaled \n",
    "X_train_scaled_mb = add_dummy_feature(X_train_scaled)  \n",
    "X_test_scaled_mb = add_dummy_feature(X_test_scaled) \n",
    "\n",
    "# Step 2: Setting the learning rate and epochs\n",
    "eta = 0.1\n",
    "epochs = 100\n",
    "\n",
    "# Step 3: Performing gradient descent with mini-batch sizes of 50, 250, and 2000 and MSE cost function\n",
    "batch_sizes = [50, 250, 2000]\n",
    "\n",
    "for batch_size in batch_sizes:\n",
    "    print(f\"Mini-batch size: {batch_size}\")\n",
    "    n_batches = int(np.ceil(X_train_scaled_mb.shape[0] / batch_size))\n",
    "    np.random.seed(42)\n",
    "    theta = np.random.randn(X_train_scaled_mb.shape[1],1)\n",
    "\n",
    "    for epoch in range(epochs):\n",
    "        shuffled_indices = np.random.permutation(X_train_scaled_mb.shape[0])\n",
    "        X_shuffled = X_train_scaled_mb[shuffled_indices]\n",
    "        y_shuffled = y_train[shuffled_indices]\n",
    "        for i in range(n_batches):\n",
    "            start_idx = i * batch_size\n",
    "            end_idx = start_idx + batch_size\n",
    "            X_batch = np.array(X_shuffled[start_idx:end_idx])\n",
    "            y_batch = np.array(y_shuffled[start_idx:end_idx])\n",
    "            \n",
    "            y_pred = np.dot(X_batch, theta)\n",
    "            error = y_pred - y_batch\n",
    "            gradient = (2 * np.dot(X_batch.T, error)) / batch_size\n",
    "            #gradient = 2 / batch_size * X_batch.T @ (X_batch @ theta - y_batch)\n",
    "            theta = theta - eta * gradient\n",
    "            \n",
    "    # Step 4: Calculate error metrics for test data\n",
    "    y_pred_test = np.dot(X_test_scaled_mb, theta)\n",
    "\n",
    "    sk_mse = mean_squared_error(y_test, y_pred_test)\n",
    "    sk_r_squared = r2_score(y_test, y_pred_test)\n",
    "    sk_explained_variance = explained_variance_score(y_test, y_pred_test)\n",
    "\n",
    "    # Print the evaluation metrics\n",
    "    print(\"Evaluation metrics for Test :\")\n",
    "    print(\"Mean squared error:\", sk_mse)\n",
    "    print(\"R-squared:\", sk_r_squared)\n",
    "    print(\"Explained variance:\", sk_explained_variance)\n",
    "    \n",
    "    # Step 5: Create scatterplot of actual versus predicted values for test data\n",
    "    plt.scatter(y_test, y_pred_test, alpha=0.2)\n",
    "    plt.xlabel(\"Actual T_degC\")\n",
    "    plt.ylabel(\"Predicted T_degC\")\n",
    "    plt.title(f\"Actual vs. Predicted T_degC (Mini-batch size {batch_size})\")\n",
    "    plt.show()\n",
    "\n",
    "    # Step 6: Calculate error metrics for training data\n",
    "    y_pred_train = np.dot(X_train_scaled_mb, theta)\n",
    "    \n",
    "    sk_mse_train = mean_squared_error(y_train, y_pred_train)\n",
    "    sk_r_squared_train = r2_score(y_train, y_pred_train)\n",
    "    sk_explained_variance_train = explained_variance_score(y_train, y_pred_train)\n",
    "    \n",
    "    # Print the evaluation metrics\n",
    "    print(\"Evaluation metrics for Train :\")\n",
    "    print(\"Mean squared error:\", sk_mse_train)\n",
    "    print(\"R-squared:\", sk_r_squared_train)\n",
    "    print(\"Explained variance:\", sk_explained_variance_train)\n",
    "    print(\"******************************************************************\\n\")\n"
   ]
  },
  {
   "cell_type": "markdown",
   "id": "f92b53d8",
   "metadata": {},
   "source": [
    "### Part E: Conceptual Questions\n"
   ]
  },
  {
   "cell_type": "markdown",
   "id": "ec57ff7c",
   "metadata": {},
   "source": [
    "<i>1. Describe how parameter estimation in Gradient Descent differs from using the normal equation.</i>\n",
    "\n",
    "Gradient Descent and the normal equation are two different approaches to <b>parameter estimation in linear regression</b>. \n",
    "\n",
    "<b>Gradient Descent</b> is an <b>iterative optimization algorithm</b> that updates the parameter values in small steps to minimize the cost function. It starts with an initial guess for the parameter values and updates them in the direction of the steepest descent of the cost function (direction of the negative gradient) until it converges to the optimal solution. Whereas <b>the normal equation</b> is a <b>closed-form solution</b> that directly computes the optimal parameter values by solving a system of linear equations.\n",
    "\n",
    "<br>\n",
    "\n",
    "<i>2. We used Mini-Batch Gradient descent here, but there are a variety of options for Gradient Descent. How is Mini-Batch Gradient Descent different from Stochastic Gradient Descent?</i>\n",
    "\n",
    "Differences between <b>Mini-Batch Gradient Descent and Stochastic Gradient Descent:</b>\n",
    "\n",
    "* <b>Number of examples:</b> In SGD, the algorithm updates the parameters for each example in the dataset, whereas in MBGD, the algorithm updates the parameters for a small batch of examples at each iteration.\n",
    "\n",
    "* <b>Noise:</b> SGD is known for its noisy gradients, which can cause oscillations in the cost function. MBGD reduces this noise by averaging the gradients over a small batch of examples.\n",
    "\n",
    "* <b>Convergence:</b> SGD can converge faster than MBGD because it takes smaller steps in the direction of the negative gradient. However, MBGD can be more stable and robust to noise because it takes an average of the gradients over a small batch of examples.\n",
    "\n",
    "* <b>Computational efficiency:</b> SGD is computationally efficient because it only requires one example to update the model parameters. MBGD is less efficient than SGD but is still more efficient than Batch Gradient Descent, which updates the model parameters using the entire training dataset.\n",
    "\n",
    "The choice between the two algorithms depends on the problem being solved, the size of the dataset, and the computational resources available.\n",
    "\n",
    "<br>\n",
    "\n",
    "<i>3. Identify your best-performing version of Gradient Descent and compare the error metrics for test data vs training data. Does this version of gradient descent show signs of overfitting? Explain.</i>\n",
    "\n",
    "Based on the evaluation metrics, the best-performing version of our mini-batch Gradient Descent is the one with a <b>mini-batch size of 2000.</b> This version has the lowest mean squared error for both test and training data and the highest R-squared and explained variance scores for both test and training data.\n",
    "\n",
    "When comparing the error metrics for the test and training data, we can see that there is no significant difference between the two sets, indicating that this version of Gradient Descent does not show signs of overfitting. Both sets have similar mean squared error, R-squared, and explained variance scores. This suggests that the model is generalizing well to new data, as the test set represents new, unseen data.\n",
    "\n",
    "In summary, the best-performing version of mini-batch Gradient Descent has a mini-batch size of 2000 and shows no signs of overfitting, as the error metrics for the test and training data are similar.\n",
    "\n",
    "<br>\n",
    "\n",
    "<i>4. Explain what the learning rate is for. Even though we did not, why might it be helpful to change the learning rate over time?</i>\n",
    "\n",
    "The <b>learning rate</b> is a hyperparameter that determines the size of the steps taken by the optimization algorithm when updating the parameters of a machine learning model. It controls the magnitude of the update to the parameters in each iteration, and therefore, it is an important hyperparameter to tune when training a model.\n",
    "\n",
    "Changing the learning rate over time, known as <b>learning rate scheduling</b>, can be helpful in certain cases to improve the performance of the optimization algorithm, such as reducing the risk of overshooting or slow convergence, and speeding up convergence by fine-tuning the model parameters.\n",
    "\n",
    "For example, a learning rate that is too high at the beginning of training can cause the optimization algorithm to oscillate around the minimum of the cost function and fail to converge. In such cases, it may be beneficial to reduce the learning rate gradually over time to help the optimization algorithm settle down and converge to the minimum. Similarly, learning rate scheduling can also be used to speed up convergence by starting with a high learning rate and gradually reducing it over time as the optimization algorithm gets closer to the minimum of the cost function.\n",
    "\n",
    "<br>\n",
    "\n",
    "<i>5. Why would a data scientist want to use early stopping in gradient descent?</i>\n",
    "\n",
    "<b>Early stopping</b> is a technique used in machine learning to prevent overfitting and improve the generalization performance of a model. In the context of gradient descent, early stopping involves monitoring the performance of the model on a validation set during training and stopping the training process when the validation performance stops improving.\n",
    "\n",
    "Here are some reasons why a data scientist might want to use early stopping in gradient descent:\n",
    "\n",
    "* <b>Prevent overfitting:</b> Overfitting occurs when a model learns to fit the training data too closely and does not generalize well to new, unseen data. By monitoring the performance of the model on a validation set during training and stopping the training process when the validation performance stops improving, early stopping can prevent overfitting and improve the generalization performance of the model.\n",
    "\n",
    "* <b>Save time and computational resources:</b> Training a machine learning model can be computationally expensive, especially when dealing with large datasets or complex models. Early stopping can save time and computational resources by stopping the training process when further training is unlikely to improve the performance of the model.\n",
    "\n",
    "* <b>Improve model interpretability:</b> Early stopping can also help improve the interpretability of a model by preventing it from learning complex, unnecessary features that may be specific to the training data and do not generalize well to new data. By stopping the training process early, the model is forced to focus on the most important features of the data, leading to a more interpretable model.\n",
    "\n",
    "* <b>Avoid over-tuning:</b> Sometimes, machine learning models can be tuned too aggressively, leading to overfitting and poor generalization performance. Early stopping can help prevent over-tuning by allowing the data scientist to stop the training process before the model becomes over-tuned to the training data.\n"
   ]
  },
  {
   "cell_type": "code",
   "execution_count": null,
   "id": "2bf3daec",
   "metadata": {},
   "outputs": [],
   "source": []
  }
 ],
 "metadata": {
  "kernelspec": {
   "display_name": "Python 3 (ipykernel)",
   "language": "python",
   "name": "python3"
  },
  "language_info": {
   "codemirror_mode": {
    "name": "ipython",
    "version": 3
   },
   "file_extension": ".py",
   "mimetype": "text/x-python",
   "name": "python",
   "nbconvert_exporter": "python",
   "pygments_lexer": "ipython3",
   "version": "3.9.13"
  }
 },
 "nbformat": 4,
 "nbformat_minor": 5
}
