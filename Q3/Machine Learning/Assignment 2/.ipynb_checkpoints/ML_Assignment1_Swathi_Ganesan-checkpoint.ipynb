{
 "cells": [
  {
   "cell_type": "code",
   "execution_count": 1,
   "id": "64c7eb4b",
   "metadata": {},
   "outputs": [],
   "source": [
    "import pandas as pd\n",
    "import numpy as np\n",
    "import matplotlib.pyplot as plt\n",
    "plt.rcParams[\"figure.figsize\"] = (5,3)\n",
    "\n",
    "import seaborn as sns\n",
    "from scipy import stats\n",
    "from sklearn.model_selection import train_test_split\n",
    "\n",
    "from sklearn.metrics import mean_squared_error\n",
    "from sklearn.metrics import r2_score\n",
    "from sklearn.metrics import explained_variance_score\n",
    "\n",
    "\n",
    "import warnings\n",
    "warnings.simplefilter(action='ignore', category=FutureWarning)\n"
   ]
  },
  {
   "cell_type": "markdown",
   "id": "a673d2c2",
   "metadata": {},
   "source": [
    "### Part A: Data Cleaning & Exploratory Analysis"
   ]
  },
  {
   "cell_type": "markdown",
   "id": "617af2e1",
   "metadata": {},
   "source": [
    "##### 1. Import full data set using Pandas"
   ]
  },
  {
   "cell_type": "code",
   "execution_count": 2,
   "id": "2c2779fe",
   "metadata": {},
   "outputs": [
    {
     "data": {
      "text/html": [
       "<div>\n",
       "<style scoped>\n",
       "    .dataframe tbody tr th:only-of-type {\n",
       "        vertical-align: middle;\n",
       "    }\n",
       "\n",
       "    .dataframe tbody tr th {\n",
       "        vertical-align: top;\n",
       "    }\n",
       "\n",
       "    .dataframe thead th {\n",
       "        text-align: right;\n",
       "    }\n",
       "</style>\n",
       "<table border=\"1\" class=\"dataframe\">\n",
       "  <thead>\n",
       "    <tr style=\"text-align: right;\">\n",
       "      <th></th>\n",
       "      <th>Cst_Cnt</th>\n",
       "      <th>Btl_Cnt</th>\n",
       "      <th>Sta_ID</th>\n",
       "      <th>Depth_ID</th>\n",
       "      <th>Depthm</th>\n",
       "      <th>T_degC</th>\n",
       "      <th>Salnty</th>\n",
       "      <th>O2ml_L</th>\n",
       "      <th>STheta</th>\n",
       "      <th>O2Sat</th>\n",
       "      <th>...</th>\n",
       "      <th>R_PHAEO</th>\n",
       "      <th>R_PRES</th>\n",
       "      <th>R_SAMP</th>\n",
       "      <th>DIC1</th>\n",
       "      <th>DIC2</th>\n",
       "      <th>TA1</th>\n",
       "      <th>TA2</th>\n",
       "      <th>pH2</th>\n",
       "      <th>pH1</th>\n",
       "      <th>DIC Quality Comment</th>\n",
       "    </tr>\n",
       "  </thead>\n",
       "  <tbody>\n",
       "    <tr>\n",
       "      <th>0</th>\n",
       "      <td>1</td>\n",
       "      <td>1</td>\n",
       "      <td>054.0 056.0</td>\n",
       "      <td>19-4903CR-HY-060-0930-05400560-0000A-3</td>\n",
       "      <td>0</td>\n",
       "      <td>10.50000</td>\n",
       "      <td>33.44000</td>\n",
       "      <td>NaN</td>\n",
       "      <td>25.64900</td>\n",
       "      <td>NaN</td>\n",
       "      <td>...</td>\n",
       "      <td>NaN</td>\n",
       "      <td>0</td>\n",
       "      <td>NaN</td>\n",
       "      <td>NaN</td>\n",
       "      <td>NaN</td>\n",
       "      <td>NaN</td>\n",
       "      <td>NaN</td>\n",
       "      <td>NaN</td>\n",
       "      <td>NaN</td>\n",
       "      <td>NaN</td>\n",
       "    </tr>\n",
       "    <tr>\n",
       "      <th>1</th>\n",
       "      <td>1</td>\n",
       "      <td>2</td>\n",
       "      <td>054.0 056.0</td>\n",
       "      <td>19-4903CR-HY-060-0930-05400560-0008A-3</td>\n",
       "      <td>8</td>\n",
       "      <td>10.46000</td>\n",
       "      <td>33.44000</td>\n",
       "      <td>NaN</td>\n",
       "      <td>25.65600</td>\n",
       "      <td>NaN</td>\n",
       "      <td>...</td>\n",
       "      <td>NaN</td>\n",
       "      <td>8</td>\n",
       "      <td>NaN</td>\n",
       "      <td>NaN</td>\n",
       "      <td>NaN</td>\n",
       "      <td>NaN</td>\n",
       "      <td>NaN</td>\n",
       "      <td>NaN</td>\n",
       "      <td>NaN</td>\n",
       "      <td>NaN</td>\n",
       "    </tr>\n",
       "    <tr>\n",
       "      <th>2</th>\n",
       "      <td>1</td>\n",
       "      <td>3</td>\n",
       "      <td>054.0 056.0</td>\n",
       "      <td>19-4903CR-HY-060-0930-05400560-0010A-7</td>\n",
       "      <td>10</td>\n",
       "      <td>10.46000</td>\n",
       "      <td>33.43700</td>\n",
       "      <td>NaN</td>\n",
       "      <td>25.65400</td>\n",
       "      <td>NaN</td>\n",
       "      <td>...</td>\n",
       "      <td>NaN</td>\n",
       "      <td>10</td>\n",
       "      <td>NaN</td>\n",
       "      <td>NaN</td>\n",
       "      <td>NaN</td>\n",
       "      <td>NaN</td>\n",
       "      <td>NaN</td>\n",
       "      <td>NaN</td>\n",
       "      <td>NaN</td>\n",
       "      <td>NaN</td>\n",
       "    </tr>\n",
       "    <tr>\n",
       "      <th>3</th>\n",
       "      <td>1</td>\n",
       "      <td>4</td>\n",
       "      <td>054.0 056.0</td>\n",
       "      <td>19-4903CR-HY-060-0930-05400560-0019A-3</td>\n",
       "      <td>19</td>\n",
       "      <td>10.45000</td>\n",
       "      <td>33.42000</td>\n",
       "      <td>NaN</td>\n",
       "      <td>25.64300</td>\n",
       "      <td>NaN</td>\n",
       "      <td>...</td>\n",
       "      <td>NaN</td>\n",
       "      <td>19</td>\n",
       "      <td>NaN</td>\n",
       "      <td>NaN</td>\n",
       "      <td>NaN</td>\n",
       "      <td>NaN</td>\n",
       "      <td>NaN</td>\n",
       "      <td>NaN</td>\n",
       "      <td>NaN</td>\n",
       "      <td>NaN</td>\n",
       "    </tr>\n",
       "    <tr>\n",
       "      <th>4</th>\n",
       "      <td>1</td>\n",
       "      <td>5</td>\n",
       "      <td>054.0 056.0</td>\n",
       "      <td>19-4903CR-HY-060-0930-05400560-0020A-7</td>\n",
       "      <td>20</td>\n",
       "      <td>10.45000</td>\n",
       "      <td>33.42100</td>\n",
       "      <td>NaN</td>\n",
       "      <td>25.64300</td>\n",
       "      <td>NaN</td>\n",
       "      <td>...</td>\n",
       "      <td>NaN</td>\n",
       "      <td>20</td>\n",
       "      <td>NaN</td>\n",
       "      <td>NaN</td>\n",
       "      <td>NaN</td>\n",
       "      <td>NaN</td>\n",
       "      <td>NaN</td>\n",
       "      <td>NaN</td>\n",
       "      <td>NaN</td>\n",
       "      <td>NaN</td>\n",
       "    </tr>\n",
       "  </tbody>\n",
       "</table>\n",
       "<p>5 rows × 74 columns</p>\n",
       "</div>"
      ],
      "text/plain": [
       "  Cst_Cnt Btl_Cnt       Sta_ID                                Depth_ID Depthm  \\\n",
       "0       1       1  054.0 056.0  19-4903CR-HY-060-0930-05400560-0000A-3      0   \n",
       "1       1       2  054.0 056.0  19-4903CR-HY-060-0930-05400560-0008A-3      8   \n",
       "2       1       3  054.0 056.0  19-4903CR-HY-060-0930-05400560-0010A-7     10   \n",
       "3       1       4  054.0 056.0  19-4903CR-HY-060-0930-05400560-0019A-3     19   \n",
       "4       1       5  054.0 056.0  19-4903CR-HY-060-0930-05400560-0020A-7     20   \n",
       "\n",
       "     T_degC    Salnty O2ml_L    STheta O2Sat  ... R_PHAEO R_PRES R_SAMP DIC1  \\\n",
       "0  10.50000  33.44000    NaN  25.64900   NaN  ...     NaN      0    NaN  NaN   \n",
       "1  10.46000  33.44000    NaN  25.65600   NaN  ...     NaN      8    NaN  NaN   \n",
       "2  10.46000  33.43700    NaN  25.65400   NaN  ...     NaN     10    NaN  NaN   \n",
       "3  10.45000  33.42000    NaN  25.64300   NaN  ...     NaN     19    NaN  NaN   \n",
       "4  10.45000  33.42100    NaN  25.64300   NaN  ...     NaN     20    NaN  NaN   \n",
       "\n",
       "  DIC2  TA1  TA2  pH2  pH1 DIC Quality Comment  \n",
       "0  NaN  NaN  NaN  NaN  NaN                 NaN  \n",
       "1  NaN  NaN  NaN  NaN  NaN                 NaN  \n",
       "2  NaN  NaN  NaN  NaN  NaN                 NaN  \n",
       "3  NaN  NaN  NaN  NaN  NaN                 NaN  \n",
       "4  NaN  NaN  NaN  NaN  NaN                 NaN  \n",
       "\n",
       "[5 rows x 74 columns]"
      ]
     },
     "execution_count": 2,
     "metadata": {},
     "output_type": "execute_result"
    }
   ],
   "source": [
    "bottle_df = pd.read_csv(\"bottle.csv\", dtype='unicode', low_memory=False)\n",
    "bottle_df.head()"
   ]
  },
  {
   "cell_type": "code",
   "execution_count": 3,
   "id": "b8d92663",
   "metadata": {},
   "outputs": [
    {
     "data": {
      "text/plain": [
       "(864863, 74)"
      ]
     },
     "execution_count": 3,
     "metadata": {},
     "output_type": "execute_result"
    }
   ],
   "source": [
    "bottle_df.shape"
   ]
  },
  {
   "cell_type": "markdown",
   "id": "78740a4e",
   "metadata": {},
   "source": [
    "##### 2. Limit the dataset to the following columns: [T_degC, Salnty, STheta] and then remove all NaN and NA values"
   ]
  },
  {
   "cell_type": "code",
   "execution_count": 4,
   "id": "a98fc72b",
   "metadata": {},
   "outputs": [
    {
     "data": {
      "text/plain": [
       "(812174, 3)"
      ]
     },
     "execution_count": 4,
     "metadata": {},
     "output_type": "execute_result"
    }
   ],
   "source": [
    "bottle_df = bottle_df[['T_degC', 'Salnty', 'STheta']]\n",
    "bottle_df = bottle_df.dropna()\n",
    "bottle_df.shape"
   ]
  },
  {
   "cell_type": "code",
   "execution_count": 5,
   "id": "e6123ab8",
   "metadata": {},
   "outputs": [],
   "source": [
    "bottle_df = bottle_df.astype(float)"
   ]
  },
  {
   "cell_type": "code",
   "execution_count": 6,
   "id": "ece83e23",
   "metadata": {},
   "outputs": [
    {
     "data": {
      "text/html": [
       "<div>\n",
       "<style scoped>\n",
       "    .dataframe tbody tr th:only-of-type {\n",
       "        vertical-align: middle;\n",
       "    }\n",
       "\n",
       "    .dataframe tbody tr th {\n",
       "        vertical-align: top;\n",
       "    }\n",
       "\n",
       "    .dataframe thead th {\n",
       "        text-align: right;\n",
       "    }\n",
       "</style>\n",
       "<table border=\"1\" class=\"dataframe\">\n",
       "  <thead>\n",
       "    <tr style=\"text-align: right;\">\n",
       "      <th></th>\n",
       "      <th>T_degC</th>\n",
       "      <th>Salnty</th>\n",
       "      <th>STheta</th>\n",
       "    </tr>\n",
       "  </thead>\n",
       "  <tbody>\n",
       "    <tr>\n",
       "      <th>count</th>\n",
       "      <td>812174.000000</td>\n",
       "      <td>812174.000000</td>\n",
       "      <td>812174.000000</td>\n",
       "    </tr>\n",
       "    <tr>\n",
       "      <th>mean</th>\n",
       "      <td>10.847904</td>\n",
       "      <td>33.842424</td>\n",
       "      <td>25.819394</td>\n",
       "    </tr>\n",
       "    <tr>\n",
       "      <th>std</th>\n",
       "      <td>4.221005</td>\n",
       "      <td>0.461567</td>\n",
       "      <td>1.167787</td>\n",
       "    </tr>\n",
       "    <tr>\n",
       "      <th>min</th>\n",
       "      <td>1.440000</td>\n",
       "      <td>28.431000</td>\n",
       "      <td>20.934000</td>\n",
       "    </tr>\n",
       "    <tr>\n",
       "      <th>25%</th>\n",
       "      <td>7.750000</td>\n",
       "      <td>33.490000</td>\n",
       "      <td>24.965000</td>\n",
       "    </tr>\n",
       "    <tr>\n",
       "      <th>50%</th>\n",
       "      <td>10.100000</td>\n",
       "      <td>33.869200</td>\n",
       "      <td>25.996000</td>\n",
       "    </tr>\n",
       "    <tr>\n",
       "      <th>75%</th>\n",
       "      <td>13.910000</td>\n",
       "      <td>34.198000</td>\n",
       "      <td>26.646000</td>\n",
       "    </tr>\n",
       "    <tr>\n",
       "      <th>max</th>\n",
       "      <td>31.140000</td>\n",
       "      <td>37.034000</td>\n",
       "      <td>250.784000</td>\n",
       "    </tr>\n",
       "  </tbody>\n",
       "</table>\n",
       "</div>"
      ],
      "text/plain": [
       "              T_degC         Salnty         STheta\n",
       "count  812174.000000  812174.000000  812174.000000\n",
       "mean       10.847904      33.842424      25.819394\n",
       "std         4.221005       0.461567       1.167787\n",
       "min         1.440000      28.431000      20.934000\n",
       "25%         7.750000      33.490000      24.965000\n",
       "50%        10.100000      33.869200      25.996000\n",
       "75%        13.910000      34.198000      26.646000\n",
       "max        31.140000      37.034000     250.784000"
      ]
     },
     "execution_count": 6,
     "metadata": {},
     "output_type": "execute_result"
    }
   ],
   "source": [
    "bottle_df.describe()"
   ]
  },
  {
   "cell_type": "code",
   "execution_count": 7,
   "id": "63713c8a",
   "metadata": {},
   "outputs": [
    {
     "data": {
      "text/plain": [
       "<AxesSubplot:>"
      ]
     },
     "execution_count": 7,
     "metadata": {},
     "output_type": "execute_result"
    },
    {
     "data": {
      "image/png": "[encoded data removed]",
      "text/plain": [
       "<Figure size 500x300 with 2 Axes>"
      ]
     },
     "metadata": {},
     "output_type": "display_data"
    }
   ],
   "source": [
    "# Create the heatmap using Seaborn for our correlation matrix\n",
    "sns.heatmap(bottle_df.corr(), annot=True)"
   ]
  },
  {
   "cell_type": "markdown",
   "id": "f0508ffb",
   "metadata": {},
   "source": [
    "##### 3. Build the following plots using matplotlib\n",
    "    \n",
    "a. Scatter: Salnty (salinity of water) vs T_degC\n"
   ]
  },
  {
   "cell_type": "code",
   "execution_count": 8,
   "id": "dc287d9a",
   "metadata": {},
   "outputs": [
    {
     "data": {
      "image/png": "[encoded data removed]",
      "text/plain": [
       "<Figure size 500x300 with 1 Axes>"
      ]
     },
     "metadata": {},
     "output_type": "display_data"
    }
   ],
   "source": [
    "# Create a scatter plot\n",
    "plt.scatter(bottle_df['Salnty'], bottle_df['T_degC'])\n",
    "\n",
    "# Add axis labels and a title\n",
    "plt.xlabel(\"Salnty\")\n",
    "plt.ylabel(\"T_degC\")\n",
    "plt.title(\"Salnty vs T_degC Scatter Plot\")\n",
    "\n",
    "# Display the plot\n",
    "plt.show()"
   ]
  },
  {
   "cell_type": "markdown",
   "id": "0f3d22ce",
   "metadata": {},
   "source": [
    "b. Scatter: STheta (density of water) vs T_degC"
   ]
  },
  {
   "cell_type": "code",
   "execution_count": 9,
   "id": "0351e120",
   "metadata": {},
   "outputs": [
    {
     "data": {
      "image/png": "[encoded data removed]",
      "text/plain": [
       "<Figure size 500x300 with 1 Axes>"
      ]
     },
     "metadata": {},
     "output_type": "display_data"
    }
   ],
   "source": [
    "# Create a scatter plot\n",
    "plt.scatter(bottle_df['STheta'], bottle_df['T_degC'])\n",
    "\n",
    "# Add axis labels and a title\n",
    "plt.xlabel(\"STheta\")\n",
    "plt.ylabel(\"T_degC\")\n",
    "plt.title(\"STheta vs T_degC Scatter Plot\")\n",
    "\n",
    "# Display the plot\n",
    "plt.show()"
   ]
  },
  {
   "cell_type": "markdown",
   "id": "1d5f6c4b",
   "metadata": {},
   "source": [
    "##### 4. Build the following plot using seaborn\n",
    "\n",
    "a. Distribution of T_degC "
   ]
  },
  {
   "cell_type": "code",
   "execution_count": 10,
   "id": "4d99462b",
   "metadata": {
    "scrolled": true
   },
   "outputs": [
    {
     "data": {
      "image/png": "[encoded data removed]",
      "text/plain": [
       "<Figure size 500x300 with 1 Axes>"
      ]
     },
     "metadata": {},
     "output_type": "display_data"
    }
   ],
   "source": [
    "# create the distribution plot using seaborn\n",
    "sns.distplot(bottle_df['T_degC'])\n",
    "\n",
    "# set the title and axis labels\n",
    "plt.title('Distribution of T_degC')\n",
    "plt.xlabel('Temperature (°C)')\n",
    "plt.ylabel('Density')\n",
    "\n",
    "# display the plot\n",
    "plt.show()"
   ]
  },
  {
   "cell_type": "markdown",
   "id": "b28a0d11",
   "metadata": {},
   "source": [
    "##### 5. Remove obvious outliers from step 3b : STheta\n",
    "Shape for clean data will be: (812168, 3)\n"
   ]
  },
  {
   "cell_type": "code",
   "execution_count": 11,
   "id": "b07d9b1e",
   "metadata": {},
   "outputs": [
    {
     "data": {
      "image/png": "[encoded data removed]",
      "text/plain": [
       "<Figure size 500x300 with 1 Axes>"
      ]
     },
     "metadata": {},
     "output_type": "display_data"
    }
   ],
   "source": [
    "# Create a boxplot of the column 'STheta'\n",
    "plt.boxplot(bottle_df['STheta'])\n",
    "\n",
    "# Display the plot\n",
    "plt.show()"
   ]
  },
  {
   "cell_type": "code",
   "execution_count": 12,
   "id": "d57f91b8",
   "metadata": {},
   "outputs": [
    {
     "data": {
      "text/html": [
       "<div>\n",
       "<style scoped>\n",
       "    .dataframe tbody tr th:only-of-type {\n",
       "        vertical-align: middle;\n",
       "    }\n",
       "\n",
       "    .dataframe tbody tr th {\n",
       "        vertical-align: top;\n",
       "    }\n",
       "\n",
       "    .dataframe thead th {\n",
       "        text-align: right;\n",
       "    }\n",
       "</style>\n",
       "<table border=\"1\" class=\"dataframe\">\n",
       "  <thead>\n",
       "    <tr style=\"text-align: right;\">\n",
       "      <th></th>\n",
       "      <th>T_degC</th>\n",
       "      <th>Salnty</th>\n",
       "      <th>STheta</th>\n",
       "    </tr>\n",
       "  </thead>\n",
       "  <tbody>\n",
       "    <tr>\n",
       "      <th>852222</th>\n",
       "      <td>16.642</td>\n",
       "      <td>33.1288</td>\n",
       "      <td>250.7840</td>\n",
       "    </tr>\n",
       "    <tr>\n",
       "      <th>852224</th>\n",
       "      <td>16.642</td>\n",
       "      <td>33.1288</td>\n",
       "      <td>250.7840</td>\n",
       "    </tr>\n",
       "    <tr>\n",
       "      <th>852223</th>\n",
       "      <td>16.642</td>\n",
       "      <td>33.1288</td>\n",
       "      <td>250.7840</td>\n",
       "    </tr>\n",
       "    <tr>\n",
       "      <th>852221</th>\n",
       "      <td>16.642</td>\n",
       "      <td>33.1288</td>\n",
       "      <td>250.7840</td>\n",
       "    </tr>\n",
       "    <tr>\n",
       "      <th>847558</th>\n",
       "      <td>15.556</td>\n",
       "      <td>33.0599</td>\n",
       "      <td>237.1793</td>\n",
       "    </tr>\n",
       "    <tr>\n",
       "      <th>847549</th>\n",
       "      <td>18.893</td>\n",
       "      <td>33.0359</td>\n",
       "      <td>216.5753</td>\n",
       "    </tr>\n",
       "    <tr>\n",
       "      <th>809349</th>\n",
       "      <td>4.210</td>\n",
       "      <td>35.4620</td>\n",
       "      <td>28.1390</td>\n",
       "    </tr>\n",
       "    <tr>\n",
       "      <th>9204</th>\n",
       "      <td>3.100</td>\n",
       "      <td>35.2500</td>\n",
       "      <td>28.0830</td>\n",
       "    </tr>\n",
       "    <tr>\n",
       "      <th>62528</th>\n",
       "      <td>3.690</td>\n",
       "      <td>35.2800</td>\n",
       "      <td>28.0490</td>\n",
       "    </tr>\n",
       "    <tr>\n",
       "      <th>564387</th>\n",
       "      <td>13.080</td>\n",
       "      <td>37.0340</td>\n",
       "      <td>27.9540</td>\n",
       "    </tr>\n",
       "  </tbody>\n",
       "</table>\n",
       "</div>"
      ],
      "text/plain": [
       "        T_degC   Salnty    STheta\n",
       "852222  16.642  33.1288  250.7840\n",
       "852224  16.642  33.1288  250.7840\n",
       "852223  16.642  33.1288  250.7840\n",
       "852221  16.642  33.1288  250.7840\n",
       "847558  15.556  33.0599  237.1793\n",
       "847549  18.893  33.0359  216.5753\n",
       "809349   4.210  35.4620   28.1390\n",
       "9204     3.100  35.2500   28.0830\n",
       "62528    3.690  35.2800   28.0490\n",
       "564387  13.080  37.0340   27.9540"
      ]
     },
     "execution_count": 12,
     "metadata": {},
     "output_type": "execute_result"
    }
   ],
   "source": [
    "bottle_df.sort_values(by='STheta',ascending=False).head(10)"
   ]
  },
  {
   "cell_type": "code",
   "execution_count": 13,
   "id": "2f4a3f8d",
   "metadata": {},
   "outputs": [
    {
     "data": {
      "text/plain": [
       "(812168, 3)"
      ]
     },
     "execution_count": 13,
     "metadata": {},
     "output_type": "execute_result"
    }
   ],
   "source": [
    "bottle_new_df = bottle_df[bottle_df['STheta']<200]\n",
    "bottle_new_df.shape"
   ]
  },
  {
   "cell_type": "markdown",
   "id": "c68eb2b3",
   "metadata": {},
   "source": [
    "##### 6. Plot 3b again – does it look better? Explain!"
   ]
  },
  {
   "cell_type": "code",
   "execution_count": 14,
   "id": "2a91bc39",
   "metadata": {
    "scrolled": true
   },
   "outputs": [
    {
     "data": {
      "image/png": "[encoded data removed]",
      "text/plain": [
       "<Figure size 500x300 with 1 Axes>"
      ]
     },
     "metadata": {},
     "output_type": "display_data"
    }
   ],
   "source": [
    "# Create a scatter plot\n",
    "plt.scatter(bottle_new_df['STheta'], bottle_new_df['T_degC'])\n",
    "\n",
    "# Add axis labels and a title\n",
    "plt.xlabel(\"STheta\")\n",
    "plt.ylabel(\"T_degC\")\n",
    "plt.title(\"STheta vs T_degC Scatter Plot\")\n",
    "\n",
    "# Display the plot\n",
    "plt.show()"
   ]
  },
  {
   "cell_type": "markdown",
   "id": "79759b5d",
   "metadata": {},
   "source": [
    "The scatter plot shows the relationship between two variables Stheta and T_degC. \n",
    "\n",
    "Yes, post removing the outliers our scatter plot looks better and is ready for Linear Regression.\n",
    "\n",
    "Before performing linear regression, the scatter plot helps us visually inspect the relationship between the two variables and determine if there is a linear or nonlinear relationship between them.\n",
    "\n",
    "The scatter plot now shows a clear linear pattern, linear regression is appropriate for modeling the relationship between the two variables as Linear regression tries to model the relationship between two variables by fitting a straight line through the data points."
   ]
  },
  {
   "cell_type": "markdown",
   "id": "bce74623",
   "metadata": {},
   "source": [
    "### Part B: Train & Test Split"
   ]
  },
  {
   "cell_type": "code",
   "execution_count": 15,
   "id": "70d4b01d",
   "metadata": {},
   "outputs": [],
   "source": [
    "#splitting into X,y\n",
    "X = bottle_new_df.drop('T_degC', axis=1)\n",
    "y = bottle_new_df['T_degC']\n",
    "\n",
    "#train test split\n",
    "X_train, X_test, y_train, y_test = train_test_split(X, y, test_size=0.2, random_state=42)"
   ]
  },
  {
   "cell_type": "code",
   "execution_count": 16,
   "id": "791cbaca",
   "metadata": {},
   "outputs": [
    {
     "data": {
      "text/plain": [
       "(649734, 2)"
      ]
     },
     "execution_count": 16,
     "metadata": {},
     "output_type": "execute_result"
    }
   ],
   "source": [
    "X_train.shape"
   ]
  },
  {
   "cell_type": "markdown",
   "id": "653790a5",
   "metadata": {},
   "source": [
    "### Part C: Linear Regression Using Normal Equation - Coded In Python\n",
    "\n"
   ]
  },
  {
   "cell_type": "code",
   "execution_count": 17,
   "id": "65d6c74f",
   "metadata": {},
   "outputs": [
    {
     "data": {
      "text/plain": [
       "(649734, 3)"
      ]
     },
     "execution_count": 17,
     "metadata": {},
     "output_type": "execute_result"
    }
   ],
   "source": [
    "#Add a column of ones to the X_train matrix to represent the intercept term\n",
    "X_train = np.hstack((np.ones((X_train.shape[0], 1)), X_train))\n",
    "X_train.shape"
   ]
  },
  {
   "cell_type": "code",
   "execution_count": 18,
   "id": "d75d8e11",
   "metadata": {},
   "outputs": [
    {
     "name": "stdout",
     "output_type": "stream",
     "text": [
      "[35.64451188  3.11151204 -5.03907257]\n"
     ]
    }
   ],
   "source": [
    "#Calculate the coefficients using the normal equation\n",
    "coeffs = np.linalg.inv(X_train.T.dot(X_train)).dot(X_train.T).dot(y_train)\n",
    "\n",
    "print(coeffs)\n"
   ]
  },
  {
   "cell_type": "code",
   "execution_count": 19,
   "id": "67e15b1c",
   "metadata": {},
   "outputs": [
    {
     "data": {
      "text/plain": [
       "array([ 7.88437556,  7.14969722,  5.22668207, ...,  7.14752462,\n",
       "       16.11974133, 15.64019849])"
      ]
     },
     "execution_count": 19,
     "metadata": {},
     "output_type": "execute_result"
    }
   ],
   "source": [
    "#Add a column of ones to the X_test matrix to represent the intercept term\n",
    "X_test = np.hstack((np.ones((X_test.shape[0], 1)), X_test))\n",
    "\n",
    "#Make predictions on new data\n",
    "y_pred = X_test.dot(coeffs)\n",
    "y_pred"
   ]
  },
  {
   "cell_type": "code",
   "execution_count": 20,
   "id": "0eb5bf38",
   "metadata": {},
   "outputs": [
    {
     "name": "stdout",
     "output_type": "stream",
     "text": [
      "0.23378301431802537 0.9886986688263295 0.9868919614560818\n"
     ]
    }
   ],
   "source": [
    "### reference code for computing metrics without sklearn library\n",
    "\n",
    "#Calculate mean squared error\n",
    "mse = np.mean((y_test - y_pred)**2)\n",
    "\n",
    "#Calculate r-squared\n",
    "ssr = np.sum((y_pred - y_test.mean())**2)\n",
    "sst = np.sum((y_test - y_test.mean())**2)\n",
    "r_squared = ssr / sst\n",
    "\n",
    "#Calculate explained variance\n",
    "explained_variance = 1 - (np.var(y_test - y_pred) / np.var(y_test))\n",
    "\n",
    "print(mse, r_squared, explained_variance)\n"
   ]
  },
  {
   "cell_type": "code",
   "execution_count": 21,
   "id": "a7a0f67f",
   "metadata": {},
   "outputs": [
    {
     "name": "stdout",
     "output_type": "stream",
     "text": [
      "Mean squared error: 0.2337830143180255\n",
      "R-squared: 0.9868919565634323\n",
      "Explained variance: 0.9868919614560818\n"
     ]
    }
   ],
   "source": [
    "#calculate evaluation metrics\n",
    "sk_mse = mean_squared_error(y_test, y_pred)\n",
    "sk_r_squared = r2_score(y_test, y_pred)\n",
    "sk_explained_variance = explained_variance_score(y_test, y_pred)\n",
    "\n",
    "# Print the evaluation metrics\n",
    "print(\"Mean squared error:\", sk_mse)\n",
    "print(\"R-squared:\", sk_r_squared)\n",
    "print(\"Explained variance:\", sk_explained_variance)"
   ]
  },
  {
   "cell_type": "code",
   "execution_count": 22,
   "id": "01600d83",
   "metadata": {},
   "outputs": [
    {
     "data": {
      "image/png": "[encoded data removed]",
      "text/plain": [
       "<Figure size 500x300 with 1 Axes>"
      ]
     },
     "metadata": {},
     "output_type": "display_data"
    }
   ],
   "source": [
    "#Create a scatterplot of actual versus predicted values\n",
    "plt.scatter(y_test, y_pred)\n",
    "plt.xlabel(\"Actual T_degC\")\n",
    "plt.ylabel(\"Predicted T_degC\")\n",
    "plt.title(\"Actual versus predicted values (normal equation)\")\n",
    "plt.show()\n",
    "plt.show()\n"
   ]
  },
  {
   "cell_type": "markdown",
   "id": "3d60c516",
   "metadata": {},
   "source": [
    "### Part D: Using sklearn API\n"
   ]
  },
  {
   "cell_type": "code",
   "execution_count": 23,
   "id": "2e765061",
   "metadata": {},
   "outputs": [
    {
     "name": "stdout",
     "output_type": "stream",
     "text": [
      "Intecept: 35.644511878050054\n",
      "Coefficients: [ 0.          3.11151204 -5.03907257]\n"
     ]
    }
   ],
   "source": [
    "from sklearn.linear_model import LinearRegression\n",
    "\n",
    "# Create an instance of the LinearRegression class\n",
    "lin_reg = LinearRegression()\n",
    "\n",
    "# Fit lin_reg using X_train and y_train\n",
    "lin_reg.fit(X_train, y_train)\n",
    "\n",
    "# Print out the coefficients\n",
    "print(\"Intecept:\", lin_reg.intercept_)\n",
    "print(\"Coefficients:\", lin_reg.coef_)\n"
   ]
  },
  {
   "cell_type": "code",
   "execution_count": 24,
   "id": "21f3781b",
   "metadata": {},
   "outputs": [
    {
     "name": "stdout",
     "output_type": "stream",
     "text": [
      "Mean squared error: 0.2337830143181185\n",
      "R-squared: 0.9868919565634271\n",
      "Explained variance: 0.9868919614560767\n"
     ]
    }
   ],
   "source": [
    "# Predict T_degC for the test data using the fitted values in lin_reg\n",
    "y_pred_sklearn = lin_reg.predict(X_test)\n",
    "\n",
    "# Calculate mean squared error, r-squared, and explained variance for the test data\n",
    "mse_sklearn = mean_squared_error(y_test, y_pred_sklearn)\n",
    "r2_sklearn = r2_score(y_test, y_pred_sklearn)\n",
    "evs_sklearn = explained_variance_score(y_test, y_pred_sklearn)\n",
    "\n",
    "# Print the evaluation metrics\n",
    "print(\"Mean squared error:\", mse_sklearn)\n",
    "print(\"R-squared:\", r2_sklearn)\n",
    "print(\"Explained variance:\", evs_sklearn)\n"
   ]
  },
  {
   "cell_type": "code",
   "execution_count": 25,
   "id": "fd233381",
   "metadata": {},
   "outputs": [
    {
     "data": {
      "image/png": "[encoded data removed]",
      "text/plain": [
       "<Figure size 500x300 with 1 Axes>"
      ]
     },
     "metadata": {},
     "output_type": "display_data"
    }
   ],
   "source": [
    "# Create a scatterplot of actual versus predicted values\n",
    "plt.scatter(y_test, y_pred_sklearn)\n",
    "plt.xlabel(\"Actual T_degC\")\n",
    "plt.ylabel(\"Predicted T_degC\")\n",
    "plt.title(\"Actual versus predicted values (sklearn)\")\n",
    "plt.show()"
   ]
  },
  {
   "cell_type": "markdown",
   "id": "41dbaf68",
   "metadata": {},
   "source": [
    "Both the normal equation and the LinearRegression model class in sklearn library produce the same results. This can be observed via the visualisation and the evaluation metrics of both the methods."
   ]
  },
  {
   "cell_type": "markdown",
   "id": "13acf1ef",
   "metadata": {},
   "source": [
    "### Part E: Conceptual Questions\n"
   ]
  },
  {
   "cell_type": "markdown",
   "id": "63a6e44f",
   "metadata": {},
   "source": [
    "<i>1. Why is it important to have a test set?</i>\n",
    "\n",
    "The <b>test set</b> allows us to evaluate how well our model generalizes to new, unseen data. It is used to <b>assess the performance of the model.</b> By evaluating the model on the test set, we can get an estimate of its performance on new data and can identify any issues with overfitting.\n",
    "\n",
    "<br>\n",
    "\n",
    "<i>2. If the normal equation always provides a solution, when would we not want to use it?</i>\n",
    "\n",
    "* <b>Large dataset:</b> The normal equation involves computing the inverse of a matrix, which can be computationally expensive and time-consuming for large datasets.\n",
    "\n",
    "\n",
    "* <b>Non-linear relationships:</b> The normal equation assumes a linear relationship between the input variables and the target variable. If the relationship is non-linear, then the normal equation will not provide an accurate model.\n",
    "\n",
    "\n",
    "* <b>Online learning:</b> The normal equation requires access to the entire training dataset to compute the optimal coefficients. If new data is constantly being added, then the normal equation is not a suitable method.\n",
    "\n",
    "<br>\n",
    "\n",
    "<i>3. How might we improve the fit of our models from Part C & D?</i>\n",
    "\n",
    "* <b>Standardize variables:</b> Standardizing variables can help to reduce the impact of variables with different scales on the fit of our linear regression model. This can be especially important because variables (['T_degC', 'Salnty', 'STheta']) have very different units of measurement.\n",
    "\n",
    "* <b>Regularize the model:</b> Regularization techniques, such as Ridge regression and Lasso regression, can help to improve the fit of a linear regression model by reducing the impact of multicollinearity and overfitting.\n",
    "\n",
    "<br>\n",
    "\n",
    "<i>4. As we move further into Machine Learning, we will need to continually consider the bias-variance tradeoff. Explain what bias is and what variance is in regards to the bias-variance tradeoff. </i>\n",
    "\n",
    "The <b>bias-variance tradeoff</b> involves finding the right balance between these two types of errors: bias and variance. It describes the relationship between the complexity of a model and its ability to generalize to new data. \n",
    "\n",
    "<b>Bias error</b> arises when the model is too simple and unable to capture the underlying patterns in the data. Models with high bias tend to be overly simplistic and may underfit the training data, resulting in poor performance on both the training and test data.\n",
    "\n",
    "<b>Variance,</b> on the other hand, refers to the error that is introduced by a model that is too complex and overfits the training data. This error arises when the model is too sensitive to the noise in the training data and fails to generalize to new, unseen data. Models with high variance tend to fit the training data too well and may fail to generalize to new data.\n",
    "\n",
    "As we increase the complexity of a model, we typically reduce bias but increase variance. Conversely, as we decrease the complexity of a model, we typically increase bias but reduce variance. <b>The goal is to find the sweet spot in the middle where the model has enough complexity to capture the underlying patterns in the data but not so much complexity that it overfits the training data.</b>\n",
    "\n",
    "<br>\n",
    "\n",
    "<i>5. In a linear regression model, how might we reduce bias?</i>\n",
    "\n",
    "In a linear regression model, <b>bias</b> can be reduced by <b>increasing the complexity of the model.</b> This can be achieved by <b>adding more features to the model</b> or by <b>increasing the order of the polynomial used to fit the data.</b>\n",
    "\n",
    "It's worth noting that while reducing bias can improve the accuracy of the model, it can also increase its variance. Therefore, it's important to strike a balance between bias and variance when building a linear regression model.\n",
    "\n",
    "<br>\n",
    "\n",
    "<i>6. In a linear regression model, how might we reduce variance?</i>\n",
    "\n",
    "\n",
    "In a linear regression model, <b>variance</b> can be reduced by <b>simplifying the model and reducing its complexity.</b> This can be achieved by <b>using regularization techniques, reducing the number of features or samples, or simplifying the model architecture.</b>\n",
    "\n",
    "It's important to note that reducing variance can often come at the cost of increased bias. Therefore, it's important to find the right balance between bias and variance when building a linear regression model.\n",
    "\n"
   ]
  }
 ],
 "metadata": {
  "kernelspec": {
   "display_name": "Python 3 (ipykernel)",
   "language": "python",
   "name": "python3"
  },
  "language_info": {
   "codemirror_mode": {
    "name": "ipython",
    "version": 3
   },
   "file_extension": ".py",
   "mimetype": "text/x-python",
   "name": "python",
   "nbconvert_exporter": "python",
   "pygments_lexer": "ipython3",
   "version": "3.9.13"
  }
 },
 "nbformat": 4,
 "nbformat_minor": 5
}
